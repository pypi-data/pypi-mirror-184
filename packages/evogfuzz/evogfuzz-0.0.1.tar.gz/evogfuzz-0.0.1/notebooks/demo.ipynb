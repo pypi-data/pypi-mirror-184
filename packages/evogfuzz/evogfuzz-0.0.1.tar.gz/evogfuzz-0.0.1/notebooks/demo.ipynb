{
 "cells": [
  {
   "cell_type": "markdown",
   "metadata": {},
   "source": [
    "# EvoGFuzz++"
   ]
  },
  {
   "cell_type": "code",
   "execution_count": 1,
   "metadata": {},
   "outputs": [],
   "source": [
    "import string\n",
    "import math\n",
    "from fuzzingbook.Grammars import Grammar\n",
    "\n",
    "GRAMMAR: Grammar = {\n",
    "    \"<start>\": [\"<arith_expr>\"],\n",
    "    \"<arith_expr>\": [\"<function>(<number>)\"],\n",
    "    \"<function>\": [\"sqrt\", \"sin\", \"cos\", \"tan\"],\n",
    "    \"<number>\": [\"<maybe_minus><onenine><maybe_digits><maybe_frac>\"],\n",
    "    \"<maybe_minus>\": [\"\", \"-\"],\n",
    "    \"<onenine>\": [str(num) for num in range(1, 10)],\n",
    "    \"<digit>\": list(string.digits),\n",
    "    \"<maybe_digits>\": [\"\", \"<digits>\"],\n",
    "    \"<digits>\": [\"<digit>\", \"<digit><digits>\"],\n",
    "    \"<maybe_frac>\": [\"\", \".<digits>\"]\n",
    "}\n",
    "\n",
    "INITIAL_INPUTS = ['cos(10)', 'sqrt(28367)', 'tan(-12)', 'sqrt(3)']"
   ]
  },
  {
   "cell_type": "markdown",
   "metadata": {},
   "source": [
    "Let's parse the initial input files an observe if they are valid according to the grammar"
   ]
  },
  {
   "cell_type": "code",
   "execution_count": 2,
   "metadata": {},
   "outputs": [],
   "source": [
    "from fuzzingbook.Parser import EarleyParser, tree_to_string, DerivationTree\n",
    "\n",
    "p = EarleyParser(GRAMMAR)\n",
    "\n",
    "for inp in INITIAL_INPUTS:\n",
    "    for tree in p.parse(inp):\n",
    "        assert tree_to_string(tree) == inp, f\"{tree} != {inp}\""
   ]
  },
  {
   "cell_type": "code",
   "execution_count": 3,
   "metadata": {},
   "outputs": [],
   "source": [
    "def arith_eval(inp: DerivationTree) -> float:\n",
    "    return eval(str(inp), {\"sqrt\": math.sqrt, \"sin\": math.sin, \"cos\": math.cos, \"tan\": math.tan})\n",
    "\n",
    "# Returns true if a Error is found\n",
    "def prop(inp: DerivationTree) -> bool:\n",
    "    try:\n",
    "        arith_eval(inp)\n",
    "        return False\n",
    "    except ValueError:\n",
    "        return True\n"
   ]
  },
  {
   "cell_type": "code",
   "execution_count": 4,
   "metadata": {},
   "outputs": [
    {
     "name": "stdout",
     "output_type": "stream",
     "text": [
      "[('cos(10)', False), ('sqrt(28367)', False), ('tan(-12)', False), ('sqrt(3)', False)]\n"
     ]
    }
   ],
   "source": [
    "print([(x, prop(x)) for x in INITIAL_INPUTS])"
   ]
  },
  {
   "cell_type": "code",
   "execution_count": 5,
   "metadata": {},
   "outputs": [],
   "source": [
    "from importlib import reload  # Not needed in Python 2\n",
    "import logging\n",
    "reload(logging)\n",
    "logging.basicConfig(\n",
    "    level=logging.DEBUG,\n",
    "    format=\"%(asctime)s:  %(message)s\"\n",
    ")"
   ]
  },
  {
   "cell_type": "code",
   "execution_count": 6,
   "outputs": [],
   "source": [
    "from typing import Tuple, Set\n",
    "\n",
    "def fitness_function(data: Set[Tuple[DerivationTree, bool]]) -> Set[Tuple[DerivationTree, bool, float]]:\n",
    "    fitness_data = set()\n",
    "    for inp in data:\n",
    "        fitness = get_fitness(inp)\n",
    "        fitness_data.add((inp[0], inp[1], fitness))\n",
    "\n",
    "    return fitness_data\n",
    "\n",
    "def get_fitness(inp: Tuple[DerivationTree, bool]) -> int:\n",
    "    if inp[1]:\n",
    "        return 1\n",
    "    else:\n",
    "        return 0"
   ],
   "metadata": {
    "collapsed": false
   }
  },
  {
   "cell_type": "code",
   "execution_count": 7,
   "metadata": {},
   "outputs": [],
   "source": [
    "from evogfuzz.evogfuzz_class import EvoGFuzz\n",
    "epp = EvoGFuzz(GRAMMAR,\n",
    "               prop,\n",
    "               INITIAL_INPUTS,\n",
    "               fitness_function=fitness_function,\n",
    "               working_dir=None\n",
    "               )"
   ]
  },
  {
   "cell_type": "code",
   "execution_count": 8,
   "metadata": {},
   "outputs": [
    {
     "name": "stderr",
     "output_type": "stream",
     "text": [
      "2023-01-07 14:20:47,285:  Executing EvoGFuzz\n",
      "2023-01-07 14:20:47,287:  Executing input files\n",
      "2023-01-07 14:20:47,289:  Learned probabilistic grammar:\n",
      "2023-01-07 14:20:47,290:  <start>                                 [('<arith_expr>', {'prob': None})]\n",
      "2023-01-07 14:20:47,291:  <arith_expr>                            [('<function>(<number>)', {'prob': None})]\n",
      "2023-01-07 14:20:47,292:  <function>                              [('sqrt', {'prob': None}), ('sin', {'prob': None}), ('cos', {'prob': None}), ('tan', {'prob': None})]\n",
      "2023-01-07 14:20:47,292:  <number>                                [('<maybe_minus><onenine><maybe_digits><maybe_frac>', {'prob': None})]\n",
      "2023-01-07 14:20:47,293:  <maybe_minus>                           [('', {'prob': None}), ('-', {'prob': None})]\n",
      "2023-01-07 14:20:47,294:  <onenine>                               [('1', {'prob': None}), ('2', {'prob': None}), ('3', {'prob': None}), ('4', {'prob': None}), ('5', {'prob': None}), ('6', {'prob': None}), ('7', {'prob': None}), ('8', {'prob': None}), ('9', {'prob': None})]\n",
      "2023-01-07 14:20:47,295:  <digit>                                 [('0', {'prob': None}), ('1', {'prob': None}), ('2', {'prob': None}), ('3', {'prob': None}), ('4', {'prob': None}), ('5', {'prob': None}), ('6', {'prob': None}), ('7', {'prob': None}), ('8', {'prob': None}), ('9', {'prob': None})]\n",
      "2023-01-07 14:20:47,296:  <maybe_digits>                          [('', {'prob': None}), ('<digits>', {'prob': None})]\n",
      "2023-01-07 14:20:47,297:  <digits>                                [('<digit>', {'prob': None}), ('<digit><digits>', {'prob': None})]\n",
      "2023-01-07 14:20:47,298:  <maybe_frac>                            [('', {'prob': None}), ('.<digits>', {'prob': None})]\n",
      "2023-01-07 14:20:47,299:  Starting iteration 0\n",
      "2023-01-07 14:20:47,384:  Generated 97 unique inputs\n",
      "2023-01-07 14:20:47,384:  Executing input files\n",
      "2023-01-07 14:20:47,386:  Learning new Grammar\n",
      "2023-01-07 14:20:47,396:  Mutating new Grammar\n",
      "2023-01-07 14:20:47,397:  Starting iteration 1\n",
      "2023-01-07 14:20:47,512:  Generated 100 unique inputs\n",
      "2023-01-07 14:20:47,513:  Executing input files\n",
      "2023-01-07 14:20:47,514:  Learning new Grammar\n",
      "2023-01-07 14:20:47,528:  Mutating new Grammar\n",
      "2023-01-07 14:20:47,529:  Starting iteration 2\n",
      "2023-01-07 14:20:47,641:  Generated 98 unique inputs\n",
      "2023-01-07 14:20:47,642:  Executing input files\n",
      "2023-01-07 14:20:47,643:  Learning new Grammar\n",
      "2023-01-07 14:20:47,662:  Mutating new Grammar\n",
      "2023-01-07 14:20:47,663:  Starting iteration 3\n",
      "2023-01-07 14:20:47,802:  Generated 99 unique inputs\n",
      "2023-01-07 14:20:47,803:  Executing input files\n",
      "2023-01-07 14:20:47,805:  Learning new Grammar\n",
      "2023-01-07 14:20:47,820:  Mutating new Grammar\n",
      "2023-01-07 14:20:47,820:  Starting iteration 4\n",
      "2023-01-07 14:20:47,937:  Generated 100 unique inputs\n",
      "2023-01-07 14:20:47,938:  Executing input files\n",
      "2023-01-07 14:20:47,940:  Learning new Grammar\n",
      "2023-01-07 14:20:47,954:  Mutating new Grammar\n",
      "2023-01-07 14:20:47,955:  Starting iteration 5\n",
      "2023-01-07 14:20:48,093:  Generated 99 unique inputs\n",
      "2023-01-07 14:20:48,094:  Executing input files\n",
      "2023-01-07 14:20:48,095:  Learning new Grammar\n",
      "2023-01-07 14:20:48,111:  Mutating new Grammar\n",
      "2023-01-07 14:20:48,112:  Starting iteration 6\n",
      "2023-01-07 14:20:48,236:  Generated 100 unique inputs\n",
      "2023-01-07 14:20:48,237:  Executing input files\n",
      "2023-01-07 14:20:48,239:  Learning new Grammar\n",
      "2023-01-07 14:20:48,255:  Mutating new Grammar\n",
      "2023-01-07 14:20:48,256:  Starting iteration 7\n",
      "2023-01-07 14:20:48,370:  Generated 99 unique inputs\n",
      "2023-01-07 14:20:48,371:  Executing input files\n",
      "2023-01-07 14:20:48,373:  Learning new Grammar\n",
      "2023-01-07 14:20:48,388:  Mutating new Grammar\n",
      "2023-01-07 14:20:48,389:  Starting iteration 8\n",
      "2023-01-07 14:20:48,511:  Generated 100 unique inputs\n",
      "2023-01-07 14:20:48,512:  Executing input files\n",
      "2023-01-07 14:20:48,513:  Learning new Grammar\n",
      "2023-01-07 14:20:48,526:  Mutating new Grammar\n",
      "2023-01-07 14:20:48,527:  Starting iteration 9\n",
      "2023-01-07 14:20:48,653:  Generated 97 unique inputs\n",
      "2023-01-07 14:20:48,655:  Executing input files\n",
      "2023-01-07 14:20:48,657:  Learning new Grammar\n",
      "2023-01-07 14:20:48,673:  Mutating new Grammar\n",
      "2023-01-07 14:20:48,674:  Terminate due to maximal iterations reached\n",
      "2023-01-07 14:20:48,675:  Exiting EvoGFuzz!\n",
      "2023-01-07 14:20:48,676:  Final Grammar:\n",
      "2023-01-07 14:20:48,676:  <start>                       [('<arith_expr>', {'prob': None})]\n",
      "2023-01-07 14:20:48,677:  <arith_expr>                  [('<function>(<number>)', {'prob': None})]\n",
      "2023-01-07 14:20:48,678:  <function>                    [('sqrt', {'prob': 0.89}), ('sin', {'prob': 0.04}), ('cos', {'prob': 0.06}), ('tan', {'prob': 0.01})]\n",
      "2023-01-07 14:20:48,679:  <number>                      [('<maybe_minus><onenine><maybe_digits><maybe_frac>', {'prob': None})]\n",
      "2023-01-07 14:20:48,680:  <maybe_minus>                 [('', {'prob': 0.0}), ('-', {'prob': 1.0})]\n",
      "2023-01-07 14:20:48,681:  <onenine>                     [('1', {'prob': 0.0}), ('2', {'prob': 0.05}), ('3', {'prob': 0.16}), ('4', {'prob': 0.49}), ('5', {'prob': 0.0}), ('6', {'prob': 0.0}), ('7', {'prob': 0.04}), ('8', {'prob': 0.19}), ('9', {'prob': 0.07})]\n",
      "2023-01-07 14:20:48,682:  <digit>                       [('0', {'prob': 0.16911764705882354}), ('1', {'prob': 0.2107843137254902}), ('2', {'prob': 0.049019607843137254}), ('3', {'prob': 0.01715686274509804}), ('4', {'prob': 0.04656862745098039}), ('5', {'prob': 0.03676470588235294}), ('6', {'prob': 0.15441176470588236}), ('7', {'prob': 0.0}), ('8', {'prob': 0.15931372549019607}), ('9', {'prob': 0.1568627450980392})]\n",
      "2023-01-07 14:20:48,683:  <maybe_digits>                [('', {'prob': 0.0}), ('<digits>', {'prob': 1.0})]\n",
      "2023-01-07 14:20:48,684:  <digits>                      [('<digit>', {'prob': 0.47549019607843135}), ('<digit><digits>', {'prob': 0.5245098039215687})]\n",
      "2023-01-07 14:20:48,685:  <maybe_frac>                  [('', {'prob': 0.0}), ('.<digits>', {'prob': 1.0})]\n"
     ]
    }
   ],
   "source": [
    "epp.execute()"
   ]
  },
  {
   "cell_type": "code",
   "execution_count": 8,
   "outputs": [],
   "source": [],
   "metadata": {
    "collapsed": false
   }
  }
 ],
 "metadata": {
  "kernelspec": {
   "display_name": "Python 3 (ipykernel)",
   "language": "python",
   "name": "python3"
  },
  "language_info": {
   "codemirror_mode": {
    "name": "ipython",
    "version": 3
   },
   "file_extension": ".py",
   "mimetype": "text/x-python",
   "name": "python",
   "nbconvert_exporter": "python",
   "pygments_lexer": "ipython3",
   "version": "3.10.6"
  }
 },
 "nbformat": 4,
 "nbformat_minor": 1
}
