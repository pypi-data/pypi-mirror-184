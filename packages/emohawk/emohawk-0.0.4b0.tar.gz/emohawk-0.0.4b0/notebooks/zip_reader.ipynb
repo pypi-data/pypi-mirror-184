{
 "cells": [
  {
   "cell_type": "code",
   "execution_count": null,
   "metadata": {},
   "outputs": [],
   "source": [
    "import emohawk\n",
    "import numpy as np\n",
    "SINGLE_NETCDF_ZIP_FILE = '../notebooks/data/ERA5_t2m_UK_single_netcdf.zip'\n",
    "MULTI_NETCDF_ZIP_FILE = '../notebooks/data/ERA5_t2m_UK_multi_netcdf.zip'\n",
    "MIXED_MULTI_NETCDF_ZIP_FILE = '../notebooks/data/ERA5_UK_mixed_multi_netcdf.zip'\n",
    "MIXED_MULTI_NETCDF_NO_TIME_ZIP_FILE = '../notebooks/data/ERA5_t2m_UK_multi_netcdf_no_time_dim.zip'\n",
    "SINGLE_GRIB_ZIP_FILE = '../notebooks/data/ERA5_t2m_UK_single_grib.zip'\n",
    "MULTI_CSV_ZIP_FILE = '../notebooks/data/ERA5_t2m_UK_multi_csv.zip'\n",
    "SINGLE_CSV_ZIP_FILE = '../notebooks/data/ERA5_t2m_UK_single_csv.zip'\n",
    "MULTI_GRIB_ZIP_FILE = '../notebooks/data/ERA5_t2m_UK_multi_grib.zip'"
   ]
  },
  {
   "cell_type": "code",
   "execution_count": null,
   "metadata": {},
   "outputs": [],
   "source": [
    "data = emohawk.open(SINGLE_NETCDF_ZIP_FILE)\n",
    "data.to_xarray()"
   ]
  },
  {
   "cell_type": "code",
   "execution_count": null,
   "metadata": {},
   "outputs": [],
   "source": [
    "data = emohawk.open(MULTI_NETCDF_ZIP_FILE)\n",
    "data.to_xarray()"
   ]
  },
  {
   "cell_type": "code",
   "execution_count": null,
   "metadata": {},
   "outputs": [],
   "source": [
    "data = emohawk.open(MIXED_MULTI_NETCDF_NO_TIME_ZIP_FILE)\n",
    "data.to_xarray(\n",
    "    xarray_open_mfdataset_kwargs={'combine':'nested','concat_dim': 'time'}\n",
    ")"
   ]
  },
  {
   "cell_type": "code",
   "execution_count": null,
   "metadata": {},
   "outputs": [],
   "source": [
    "data = emohawk.open(MIXED_MULTI_NETCDF_ZIP_FILE)\n",
    "# data._content\n",
    "ds = data.to_xarray(concat=True)\n",
    "ds"
   ]
  },
  {
   "cell_type": "code",
   "execution_count": null,
   "metadata": {},
   "outputs": [],
   "source": [
    "data = emohawk.open(SINGLE_CSV_ZIP_FILE)\n",
    "data.to_pandas()"
   ]
  },
  {
   "cell_type": "code",
   "execution_count": null,
   "metadata": {},
   "outputs": [],
   "source": [
    "# NOT YET IMPLEMENTED\n",
    "# data = emohawk.open(MULTI_CSV_ZIP_FILE)\n",
    "# data.to_pandas()"
   ]
  },
  {
   "cell_type": "code",
   "execution_count": null,
   "metadata": {},
   "outputs": [],
   "source": [
    "# NOT YET IMPLEMENTED\n",
    "# data = emohawk.open(SINGLE_GRIB_ZIP_FILE)\n",
    "# data.to_xarray()"
   ]
  },
  {
   "cell_type": "code",
   "execution_count": null,
   "metadata": {},
   "outputs": [],
   "source": [
    "# NOT YET IMPLEMENTED\n",
    "# data = emohawk.open(MULTI_GRIB_ZIP_FILE, filter='*.grib')\n",
    "# data.to_xarray(xarray_open_mfdataset_kwargs=dict(combine='nested', concat_dim='time'))"
   ]
  }
 ],
 "metadata": {
  "kernelspec": {
   "display_name": "CDS",
   "language": "python",
   "name": "python3"
  },
  "language_info": {
   "codemirror_mode": {
    "name": "ipython",
    "version": 3
   },
   "file_extension": ".py",
   "mimetype": "text/x-python",
   "name": "python",
   "nbconvert_exporter": "python",
   "pygments_lexer": "ipython3",
   "version": "3.10.8"
  },
  "orig_nbformat": 4,
  "vscode": {
   "interpreter": {
    "hash": "37b82f8ff5f0faa38a243e0fb173ead2f707fed8df0c73156a7aef41e0d29f76"
   }
  }
 },
 "nbformat": 4,
 "nbformat_minor": 2
}
