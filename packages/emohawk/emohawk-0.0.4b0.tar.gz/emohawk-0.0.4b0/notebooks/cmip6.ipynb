{
 "cells": [
  {
   "cell_type": "code",
   "execution_count": null,
   "metadata": {},
   "outputs": [],
   "source": [
    "import emohawk\n",
    "import cdsapi\n",
    "import os\n",
    "\n",
    "c = cdsapi.Client()\n",
    "remote = c.retrieve(\n",
    "    'projections-cmip6',\n",
    "    {\n",
    "        'format': 'zip',\n",
    "        'temporal_resolution': 'monthly',\n",
    "        'experiment': 'historical',\n",
    "        'variable': 'air_temperature',\n",
    "        'level': '1',\n",
    "        'model': 'access_cm2',\n",
    "        'year': '1850',\n",
    "        'month': '01',\n",
    "    },\n",
    ")\n",
    "download_file = f'data/temp_data/{os.path.basename(remote.location)}'\n",
    "if not os.path.isfile(download_file):\n",
    "    remote.download(download_file)\n",
    "data = emohawk.open(download_file, include=\"*.nc\")"
   ]
  },
  {
   "cell_type": "code",
   "execution_count": null,
   "metadata": {},
   "outputs": [],
   "source": [
    "data.to_xarray()\n"
   ]
  },
  {
   "cell_type": "code",
   "execution_count": null,
   "metadata": {},
   "outputs": [],
   "source": []
  }
 ],
 "metadata": {
  "kernelspec": {
   "display_name": "CDS",
   "language": "python",
   "name": "python3"
  },
  "language_info": {
   "codemirror_mode": {
    "name": "ipython",
    "version": 3
   },
   "file_extension": ".py",
   "mimetype": "text/x-python",
   "name": "python",
   "nbconvert_exporter": "python",
   "pygments_lexer": "ipython3",
   "version": "3.10.8"
  },
  "orig_nbformat": 4,
  "vscode": {
   "interpreter": {
    "hash": "37b82f8ff5f0faa38a243e0fb173ead2f707fed8df0c73156a7aef41e0d29f76"
   }
  }
 },
 "nbformat": 4,
 "nbformat_minor": 2
}
