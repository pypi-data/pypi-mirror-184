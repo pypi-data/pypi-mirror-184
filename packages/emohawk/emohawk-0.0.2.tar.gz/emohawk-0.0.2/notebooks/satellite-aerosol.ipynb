{
 "cells": [
  {
   "cell_type": "code",
   "execution_count": null,
   "metadata": {},
   "outputs": [],
   "source": [
    "import os\n",
    "import cdsapi\n",
    "import emohawk\n",
    "c = cdsapi.Client()\n",
    "remote = c.retrieve(\n",
    "    'satellite-aerosol-properties',\n",
    "    {\n",
    "        'format': 'zip',\n",
    "        'time_aggregation': 'monthly_average',\n",
    "        'sensor_on_satellite': 'aatsr_on_envisat',\n",
    "        'algorithm': 'adv',\n",
    "        'year': '2002',\n",
    "        'month': ['07', '08'],\n",
    "        'version': 'v3.11',\n",
    "        'variable': 'aerosol_optical_depth',\n",
    "    },\n",
    ")\n",
    "download_file = f'data/temp_data/{os.path.basename(remote.location)}'\n",
    "if not os.path.isfile(download_file):\n",
    "    remote.download(download_file)\n",
    "emohawk.open(download_file).to_xarray(xarray_open_mfdataset_kwargs={\"combine\": \"nested\", \"concat_dim\": \"time\"})"
   ]
  },
  {
   "cell_type": "code",
   "execution_count": null,
   "metadata": {},
   "outputs": [],
   "source": [
    "c = cdsapi.Client()\n",
    "remote = c.retrieve(\n",
    "    'satellite-aerosol-properties',\n",
    "    {\n",
    "        'format': 'zip',\n",
    "        'time_aggregation': 'monthly_average',\n",
    "        'sensor_on_satellite': 'aatsr_on_envisat',\n",
    "        'algorithm': 'adv',\n",
    "        'year': '2002',\n",
    "        'month': '07',\n",
    "        'version': 'v3.11',\n",
    "        'variable': 'aerosol_optical_depth',\n",
    "    })\n",
    "download_file = f'data/temp_data/{os.path.basename(remote.location)}'\n",
    "print(download_file)\n",
    "if not os.path.isfile(download_file):\n",
    "    remote.download(download_file)\n",
    "data = emohawk.open(download_file)\n",
    "print(data)\n",
    "data.to_xarray(xarray_open_mfdataset_kwargs={\"combine\": \"nested\", \"concat_dim\": \"time\"})\n"
   ]
  },
  {
   "cell_type": "code",
   "execution_count": null,
   "metadata": {},
   "outputs": [],
   "source": []
  }
 ],
 "metadata": {
  "kernelspec": {
   "display_name": "CDS",
   "language": "python",
   "name": "python3"
  },
  "language_info": {
   "codemirror_mode": {
    "name": "ipython",
    "version": 3
   },
   "file_extension": ".py",
   "mimetype": "text/x-python",
   "name": "python",
   "nbconvert_exporter": "python",
   "pygments_lexer": "ipython3",
   "version": "3.10.8"
  },
  "orig_nbformat": 4,
  "vscode": {
   "interpreter": {
    "hash": "37b82f8ff5f0faa38a243e0fb173ead2f707fed8df0c73156a7aef41e0d29f76"
   }
  }
 },
 "nbformat": 4,
 "nbformat_minor": 2
}
