{
 "cells": [
  {
   "cell_type": "code",
   "execution_count": null,
   "metadata": {},
   "outputs": [],
   "source": [
    "# Get data from CDS\n",
    "import cdsapi\n",
    "import os\n",
    "\n",
    "c = cdsapi.Client()\n",
    "remote = c.retrieve(\n",
    "    'satellite-surface-radiation-budget',\n",
    "    {\n",
    "        'product_family': 'cci',\n",
    "        'origin': 'c3s',\n",
    "        'variable': 'all_variables',\n",
    "        'climate_data_record_type': 'interim_climate_data_record',\n",
    "        'sensor_on_satellite': 'slstr_on_sentinel_3a_is_under_investigation',\n",
    "        'time_aggregation': 'monthly_mean',\n",
    "        'year': '2021',\n",
    "        'month': [\n",
    "            '01', # '02', '03',\n",
    "            # '04', '05', '06',\n",
    "            # '07', '08', '09',\n",
    "            # '10', '11', '12',\n",
    "        ],\n",
    "        'format': 'zip',\n",
    "    }\n",
    ")\n",
    "download_file = f'data/temp_data/{os.path.basename(remote.location)}'\n",
    "if not os.path.isfile(download_file):\n",
    "    remote.download(download_file)"
   ]
  },
  {
   "cell_type": "code",
   "execution_count": null,
   "metadata": {},
   "outputs": [],
   "source": [
    "import emohawk\n",
    "data = emohawk.open(download_file, harmonise=True)\n",
    "data.to_xarray()"
   ]
  },
  {
   "cell_type": "code",
   "execution_count": null,
   "metadata": {},
   "outputs": [],
   "source": []
  }
 ],
 "metadata": {
  "kernelspec": {
   "display_name": "CDS",
   "language": "python",
   "name": "python3"
  },
  "language_info": {
   "codemirror_mode": {
    "name": "ipython",
    "version": 3
   },
   "file_extension": ".py",
   "mimetype": "text/x-python",
   "name": "python",
   "nbconvert_exporter": "python",
   "pygments_lexer": "ipython3",
   "version": "3.10.8"
  },
  "orig_nbformat": 4,
  "vscode": {
   "interpreter": {
    "hash": "37b82f8ff5f0faa38a243e0fb173ead2f707fed8df0c73156a7aef41e0d29f76"
   }
  }
 },
 "nbformat": 4,
 "nbformat_minor": 2
}
