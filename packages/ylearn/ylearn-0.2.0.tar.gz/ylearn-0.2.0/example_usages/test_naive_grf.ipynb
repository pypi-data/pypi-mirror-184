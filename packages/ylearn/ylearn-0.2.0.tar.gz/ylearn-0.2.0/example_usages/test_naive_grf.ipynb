{
 "cells": [
  {
   "cell_type": "code",
   "execution_count": 1,
   "metadata": {},
   "outputs": [],
   "source": [
    "import sys\n",
    "import os\n",
    "sys.path.append(os.path.dirname(os.path.dirname(os.path.abspath('./test_score.ipynb'))))"
   ]
  },
  {
   "cell_type": "code",
   "execution_count": 2,
   "metadata": {},
   "outputs": [],
   "source": [
    "import numpy as np\n",
    "import pandas as pd\n",
    "\n",
    "from ylearn.estimator_model._naive_forest import _GrfTree, NaiveGrf\n",
    "from ylearn.estimator_model import CausalTree\n",
    "from ylearn.exp_dataset.exp_data import sq_data\n",
    "from ylearn.utils._common import to_df\n",
    "from ylearn.estimator_model._naive_forest.utils import grad, grad_coef, inverse_grad\n",
    "\n",
    "from numpy.linalg import lstsq, inv"
   ]
  },
  {
   "cell_type": "code",
   "execution_count": 3,
   "metadata": {},
   "outputs": [],
   "source": [
    "from copy import deepcopy\n",
    "\n",
    "\n",
    "n = 2000\n",
    "d = 10     \n",
    "n_x = 1\n",
    "y, x, v = sq_data(n, d, n_x)\n",
    "\n",
    "true_te = lambda X: np.hstack([X[:, [0]]**2 + 1, np.ones((X.shape[0], n_x - 1))])\n",
    "w = deepcopy(v)\n",
    "v_test = v[:min(100, n)].copy()\n",
    "v_test[:, 0] = np.linspace(np.percentile(v[:, 0], 1), np.percentile(v[:, 0], 99), min(100, n))"
   ]
  },
  {
   "cell_type": "code",
   "execution_count": 4,
   "metadata": {},
   "outputs": [],
   "source": [
    "data = to_df(treatment=x, outcome=y, v=v)\n",
    "test_data = to_df(v=v_test)\n",
    "\n",
    "outcome = 'outcome'\n",
    "treatment = 'treatment'\n",
    "adjustment = data.columns[2:]"
   ]
  },
  {
   "cell_type": "code",
   "execution_count": 5,
   "metadata": {},
   "outputs": [],
   "source": [
    "from sklearn.preprocessing import OneHotEncoder\n",
    "# oh = OneHotEncoder()\n",
    "# x = oh.fit_transform(x).toarray()"
   ]
  },
  {
   "cell_type": "code",
   "execution_count": 6,
   "metadata": {},
   "outputs": [
    {
     "name": "stdout",
     "output_type": "stream",
     "text": [
      "building 2-th tree\n"
     ]
    },
    {
     "data": {
      "text/plain": [
       "<ylearn.estimator_model._naive_forest._grf_tree._GrfTree at 0x7fe537e7a7c0>"
      ]
     },
     "execution_count": 6,
     "metadata": {},
     "output_type": "execute_result"
    }
   ],
   "source": [
    "gt = _GrfTree()\n",
    "gt._fit_with_array(x=x, y=y.squeeze(), w=w, v=v, i=1)"
   ]
  },
  {
   "cell_type": "code",
   "execution_count": 7,
   "metadata": {},
   "outputs": [],
   "source": [
    "grf = NaiveGrf(n_jobs=1, n_estimators=100)\n",
    "grf.verbose = 1"
   ]
  },
  {
   "cell_type": "code",
   "execution_count": 8,
   "metadata": {},
   "outputs": [
    {
     "name": "stderr",
     "output_type": "stream",
     "text": [
      "[Parallel(n_jobs=1)]: Using backend SequentialBackend with 1 concurrent workers.\n"
     ]
    },
    {
     "name": "stdout",
     "output_type": "stream",
     "text": [
      "building 1-th tree\n",
      "building 2-th tree\n",
      "building 3-th tree\n",
      "building 4-th tree\n",
      "building 5-th tree\n",
      "building 6-th tree\n",
      "building 7-th tree\n",
      "building 8-th tree\n",
      "building 9-th tree\n",
      "building 10-th tree\n",
      "building 11-th tree\n",
      "building 12-th tree\n",
      "building 13-th tree\n",
      "building 14-th tree\n",
      "building 15-th tree\n",
      "building 16-th tree\n",
      "building 17-th tree\n",
      "building 18-th tree\n",
      "building 19-th tree\n",
      "building 20-th tree\n",
      "building 21-th tree\n",
      "building 22-th tree\n",
      "building 23-th tree\n",
      "building 24-th tree\n",
      "building 25-th tree\n",
      "building 26-th tree\n",
      "building 27-th tree\n",
      "building 28-th tree\n",
      "building 29-th tree\n",
      "building 30-th tree\n",
      "building 31-th tree\n",
      "building 32-th tree\n",
      "building 33-th tree\n",
      "building 34-th tree\n",
      "building 35-th tree\n",
      "building 36-th tree\n",
      "building 37-th tree\n",
      "building 38-th tree\n",
      "building 39-th tree\n",
      "building 40-th tree\n",
      "building 41-th tree\n",
      "building 42-th tree\n",
      "building 43-th tree\n",
      "building 44-th tree\n",
      "building 45-th tree\n",
      "building 46-th tree\n",
      "building 47-th tree\n",
      "building 48-th tree\n",
      "building 49-th tree\n",
      "building 50-th tree\n",
      "building 51-th tree\n",
      "building 52-th tree\n",
      "building 53-th tree\n",
      "building 54-th tree\n",
      "building 55-th tree\n",
      "building 56-th tree\n",
      "building 57-th tree\n",
      "building 58-th tree\n",
      "building 59-th tree\n",
      "building 60-th tree\n",
      "building 61-th tree\n",
      "building 62-th tree\n",
      "building 63-th tree\n",
      "building 64-th tree\n",
      "building 65-th tree\n",
      "building 66-th tree\n",
      "building 67-th tree\n",
      "building 68-th tree\n",
      "building 69-th tree\n",
      "building 70-th tree\n",
      "building 71-th tree\n",
      "building 72-th tree\n",
      "building 73-th tree\n",
      "building 74-th tree\n",
      "building 75-th tree\n",
      "building 76-th tree\n",
      "building 77-th tree\n",
      "building 78-th tree\n",
      "building 79-th tree\n",
      "building 80-th tree\n",
      "building 81-th tree\n",
      "building 82-th tree\n",
      "building 83-th tree\n",
      "building 84-th tree\n",
      "building 85-th tree\n",
      "building 86-th tree\n",
      "building 87-th tree\n",
      "building 88-th tree\n",
      "building 89-th tree\n",
      "building 90-th tree\n",
      "building 91-th tree\n",
      "building 92-th tree\n",
      "building 93-th tree\n",
      "building 94-th tree\n",
      "building 95-th tree\n",
      "building 96-th tree\n",
      "building 97-th tree\n",
      "building 98-th tree\n",
      "building 99-th tree\n",
      "building 100-th tree\n"
     ]
    },
    {
     "name": "stderr",
     "output_type": "stream",
     "text": [
      "[Parallel(n_jobs=1)]: Done 100 out of 100 | elapsed:  5.6min finished\n"
     ]
    }
   ],
   "source": [
    "grf.fit(\n",
    "    data=data, outcome=outcome, treatment=treatment, adjustment=adjustment, covariate=adjustment\n",
    ")"
   ]
  },
  {
   "cell_type": "code",
   "execution_count": 9,
   "metadata": {},
   "outputs": [
    {
     "name": "stderr",
     "output_type": "stream",
     "text": [
      "[Parallel(n_jobs=1)]: Using backend SequentialBackend with 1 concurrent workers.\n",
      "[Parallel(n_jobs=1)]: Done 100 out of 100 | elapsed:    2.4s finished\n"
     ]
    }
   ],
   "source": [
    "effect = grf._prepare4est(test_data)"
   ]
  },
  {
   "cell_type": "code",
   "execution_count": 10,
   "metadata": {},
   "outputs": [
    {
     "data": {
      "image/png": "[encoded data removed]",
      "text/plain": [
       "<Figure size 432x288 with 1 Axes>"
      ]
     },
     "metadata": {
      "needs_background": "light"
     },
     "output_type": "display_data"
    }
   ],
   "source": [
    "import matplotlib.pyplot as plt\n",
    "\n",
    "true_te = lambda X: np.hstack([X[:, [0]]**2 + 1, np.ones((X.shape[0], n_x - 1))])\n",
    "\n",
    "for t in range(n_x):\n",
    "    plt.plot(v_test[:, 0], effect[:, t])\n",
    "    plt.plot(v_test[:, 0], true_te(v_test)[:, t])\n",
    "plt.show()"
   ]
  }
 ],
 "metadata": {
  "kernelspec": {
   "display_name": "Python 3.8.13 ('causal')",
   "language": "python",
   "name": "python3"
  },
  "language_info": {
   "codemirror_mode": {
    "name": "ipython",
    "version": 3
   },
   "file_extension": ".py",
   "mimetype": "text/x-python",
   "name": "python",
   "nbconvert_exporter": "python",
   "pygments_lexer": "ipython3",
   "version": "3.8.13"
  },
  "orig_nbformat": 4,
  "vscode": {
   "interpreter": {
    "hash": "e0ecfad75f99b8578830c76494b15e8b8f0ed30d484e3d7b0b2aac43eb800e14"
   }
  }
 },
 "nbformat": 4,
 "nbformat_minor": 2
}
