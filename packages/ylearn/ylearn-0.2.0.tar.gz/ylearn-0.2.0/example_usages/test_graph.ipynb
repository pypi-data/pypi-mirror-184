{
 "cells": [
  {
   "cell_type": "code",
   "execution_count": 2,
   "metadata": {},
   "outputs": [],
   "source": [
    "import sys\n",
    "import os\n",
    "sys.path.append(os.path.dirname(os.path.dirname(os.path.abspath('./introduction.ipynb'))))"
   ]
  },
  {
   "cell_type": "code",
   "execution_count": 2,
   "metadata": {},
   "outputs": [],
   "source": [
    "from ylearn.causal_model import graph\n",
    "import networkx as nx\n",
    "from collections import defaultdict"
   ]
  },
  {
   "cell_type": "code",
   "execution_count": 8,
   "metadata": {},
   "outputs": [
    {
     "data": {
      "text/latex": [
       "$\\sum_{w}P(v|y)\\left[P(u)\\right]\\left[P(w|z)\\right]\\left[P(x|y)\\right]$"
      ],
      "text/plain": [
       "<IPython.core.display.Latex object>"
      ]
     },
     "execution_count": 8,
     "metadata": {},
     "output_type": "execute_result"
    }
   ],
   "source": [
    "from ylearn.causal_model.prob import Prob\n",
    "var = {'v'}\n",
    "conditional = {'y'}\n",
    "marginal = {'w'}\n",
    "p1 = Prob(variables={'w'}, conditional={'z'})\n",
    "p2 = Prob(variables={'x'}, conditional={'y'})\n",
    "p3 = Prob(variables={'u'})\n",
    "product = {p1, p2, p3}\n",
    "P = Prob(variables=var, conditional=conditional, marginal=marginal, product=product)\n",
    "P.show_latex_expression()"
   ]
  },
  {
   "cell_type": "code",
   "execution_count": 9,
   "metadata": {},
   "outputs": [
    {
     "data": {
      "text/plain": [
       "'\\\\sum_{w}P(v|y)\\\\left[P(u)\\\\right]\\\\left[P(w|z)\\\\right]\\\\left[P(x|y)\\\\right]'"
      ]
     },
     "execution_count": 9,
     "metadata": {},
     "output_type": "execute_result"
    }
   ],
   "source": [
    "P.parse()"
   ]
  },
  {
   "cell_type": "markdown",
   "metadata": {},
   "source": [
    "We first test the initialization. All attributes should be constructed properly."
   ]
  },
  {
   "cell_type": "code",
   "execution_count": 33,
   "metadata": {},
   "outputs": [],
   "source": [
    "causation = defaultdict(list)\n",
    "causation['X'] = ['Z2']\n",
    "causation['Z1'] = ['X', 'Z2']\n",
    "causation['Y'] = ['Z1', 'Z3']\n",
    "causation['Z3'] = ['Z2']\n",
    "causation['Z2'] = []\n",
    "arc = [('X', 'Z2'), ('X', 'Z3'), ('X', 'Y'), ('Z2', 'Y')]\n",
    "cg = graph.CausalGraph(causation=causation, latent_confounding_arcs=arc)\n",
    "# cg = graph.CausalGraph(causation=causation)"
   ]
  },
  {
   "cell_type": "code",
   "execution_count": 4,
   "metadata": {},
   "outputs": [
    {
     "data": {
      "text/plain": [
       "defaultdict(list,\n",
       "            {'X': ['Z2'],\n",
       "             'Z1': ['X', 'Z2'],\n",
       "             'Y': ['Z1', 'Z3'],\n",
       "             'Z3': ['Z2'],\n",
       "             'Z2': []})"
      ]
     },
     "execution_count": 4,
     "metadata": {},
     "output_type": "execute_result"
    }
   ],
   "source": [
    "cg.causation"
   ]
  },
  {
   "cell_type": "code",
   "execution_count": 34,
   "metadata": {},
   "outputs": [
    {
     "data": {
      "text/plain": [
       "['Z2', 'Z3', 'Y']"
      ]
     },
     "execution_count": 34,
     "metadata": {},
     "output_type": "execute_result"
    }
   ],
   "source": [
    "list(cg.dag.predecessors('X'))"
   ]
  },
  {
   "cell_type": "code",
   "execution_count": 6,
   "metadata": {},
   "outputs": [
    {
     "data": {
      "text/plain": [
       "<ylearn.causal_model.prob.Prob at 0x7f93626317c0>"
      ]
     },
     "execution_count": 6,
     "metadata": {},
     "output_type": "execute_result"
    }
   ],
   "source": [
    "cg.prob"
   ]
  },
  {
   "cell_type": "code",
   "execution_count": 8,
   "metadata": {},
   "outputs": [
    {
     "data": {
      "text/plain": [
       "[('Z2', 'X'), ('Z2', 'Y'), ('X', 'Y'), ('X', 'Z3')]"
      ]
     },
     "execution_count": 8,
     "metadata": {},
     "output_type": "execute_result"
    }
   ],
   "source": [
    "cg.latent_confounding_arcs"
   ]
  },
  {
   "cell_type": "code",
   "execution_count": 9,
   "metadata": {},
   "outputs": [
    {
     "data": {
      "text/plain": [
       "True"
      ]
     },
     "execution_count": 9,
     "metadata": {},
     "output_type": "execute_result"
    }
   ],
   "source": [
    "cg.is_dag"
   ]
  },
  {
   "cell_type": "code",
   "execution_count": 6,
   "metadata": {},
   "outputs": [
    {
     "data": {
      "text/plain": [
       "[{'X', 'Y', 'Z2', 'Z3'}, {'Z1'}]"
      ]
     },
     "execution_count": 6,
     "metadata": {},
     "output_type": "execute_result"
    }
   ],
   "source": [
    "list(cg.c_components)"
   ]
  },
  {
   "cell_type": "code",
   "execution_count": 11,
   "metadata": {},
   "outputs": [
    {
     "data": {
      "text/plain": [
       "OutMultiEdgeView([('Z2', 'X', 0), ('Z2', 'Z1', 0), ('Z2', 'Z3', 0), ('X', 'Z1', 0), ('Z1', 'Y', 0), ('Z3', 'Y', 0)])"
      ]
     },
     "execution_count": 11,
     "metadata": {},
     "output_type": "execute_result"
    }
   ],
   "source": [
    "cg.observed_dag.edges"
   ]
  },
  {
   "cell_type": "code",
   "execution_count": 12,
   "metadata": {},
   "outputs": [
    {
     "data": {
      "text/plain": [
       "['Z2', 'X', 'Z3', 'Z1', 'Y']"
      ]
     },
     "execution_count": 12,
     "metadata": {},
     "output_type": "execute_result"
    }
   ],
   "source": [
    "list(cg.topo_order)"
   ]
  },
  {
   "cell_type": "markdown",
   "metadata": {},
   "source": [
    "We now test the methods."
   ]
  },
  {
   "cell_type": "code",
   "execution_count": 13,
   "metadata": {},
   "outputs": [
    {
     "data": {
      "text/plain": [
       "matrix([[0., 2., 1., 1., 1.],\n",
       "        [1., 0., 1., 1., 1.],\n",
       "        [0., 0., 0., 1., 0.],\n",
       "        [1., 1., 0., 0., 0.],\n",
       "        [0., 1., 0., 1., 0.]])"
      ]
     },
     "execution_count": 13,
     "metadata": {},
     "output_type": "execute_result"
    }
   ],
   "source": [
    "cg.to_adj_matrix()"
   ]
  },
  {
   "cell_type": "code",
   "execution_count": 14,
   "metadata": {},
   "outputs": [
    {
     "data": {
      "text/plain": [
       "{'X', 'Z2', 'Z3'}"
      ]
     },
     "execution_count": 14,
     "metadata": {},
     "output_type": "execute_result"
    }
   ],
   "source": [
    "cg.ancestors({'X', 'Z2', 'Z3'})"
   ]
  },
  {
   "cell_type": "code",
   "execution_count": 15,
   "metadata": {},
   "outputs": [
    {
     "data": {
      "text/plain": [
       "defaultdict(list,\n",
       "            {'X': ['Z2'],\n",
       "             'Z1': ['X', 'Z2'],\n",
       "             'Y': ['Z1', 'Z3'],\n",
       "             'Z3': ['Z2'],\n",
       "             'Z2': []})"
      ]
     },
     "execution_count": 15,
     "metadata": {},
     "output_type": "execute_result"
    }
   ],
   "source": [
    "# Add an existed node to the CausalGraph.\n",
    "cg.add_nodes(['X'])\n",
    "cg.causation"
   ]
  },
  {
   "cell_type": "code",
   "execution_count": 16,
   "metadata": {},
   "outputs": [],
   "source": [
    "# Remove an edge\n",
    "cg.remove_edges_from([('Z2', 'X')])"
   ]
  },
  {
   "cell_type": "code",
   "execution_count": 17,
   "metadata": {},
   "outputs": [
    {
     "data": {
      "text/plain": [
       "defaultdict(list,\n",
       "            {'X': [],\n",
       "             'Z1': ['X', 'Z2'],\n",
       "             'Y': ['Z1', 'Z3'],\n",
       "             'Z3': ['Z2'],\n",
       "             'Z2': []})"
      ]
     },
     "execution_count": 17,
     "metadata": {},
     "output_type": "execute_result"
    }
   ],
   "source": [
    "# The causation should also be changed accordingly.\n",
    "cg.causation"
   ]
  },
  {
   "cell_type": "code",
   "execution_count": 18,
   "metadata": {},
   "outputs": [
    {
     "data": {
      "text/plain": [
       "defaultdict(list,\n",
       "            {'X': ['Z2'],\n",
       "             'Z1': ['X', 'Z2'],\n",
       "             'Y': ['Z1', 'Z3'],\n",
       "             'Z3': ['Z2'],\n",
       "             'Z2': []})"
      ]
     },
     "execution_count": 18,
     "metadata": {},
     "output_type": "execute_result"
    }
   ],
   "source": [
    "# Add an edge.\n",
    "cg.add_edges_from([('Z2', 'X')])\n",
    "cg.causation"
   ]
  },
  {
   "cell_type": "code",
   "execution_count": 19,
   "metadata": {},
   "outputs": [
    {
     "data": {
      "text/plain": [
       "OutMultiEdgeView([('Z2', 'X', 'n'), ('Z2', 'X', 0), ('Z2', 'Z1', 0), ('Z2', 'Z3', 0), ('Z2', 'Y', 'n'), ('X', 'Z1', 0), ('X', 'Z2', 'n'), ('X', 'Z3', 'n'), ('X', 'Y', 'n'), ('Z1', 'Y', 0), ('Y', 'X', 'n'), ('Y', 'Z2', 'n'), ('Z3', 'Y', 0), ('Z3', 'X', 'n')])"
      ]
     },
     "execution_count": 19,
     "metadata": {},
     "output_type": "execute_result"
    }
   ],
   "source": [
    "# View all edges, including the observed and unobserved ones.\n",
    "cg.dag.edges"
   ]
  },
  {
   "cell_type": "code",
   "execution_count": 20,
   "metadata": {},
   "outputs": [
    {
     "data": {
      "text/plain": [
       "defaultdict(list, {'X': ['Z2'], 'Z1': ['X', 'Z2'], 'Z3': ['Z2'], 'Z2': []})"
      ]
     },
     "execution_count": 20,
     "metadata": {},
     "output_type": "execute_result"
    }
   ],
   "source": [
    "# Remove a node. The causation should be changed accordingly.\n",
    "cg.remove_nodes(['Y'])\n",
    "cg.causation"
   ]
  },
  {
   "cell_type": "code",
   "execution_count": 21,
   "metadata": {},
   "outputs": [],
   "source": [
    "cg.add_edges_from([('Z1', 'Y'), ('Z3', 'Y')])"
   ]
  },
  {
   "cell_type": "code",
   "execution_count": 22,
   "metadata": {},
   "outputs": [
    {
     "data": {
      "text/plain": [
       "defaultdict(list,\n",
       "            {'X': ['Z2'],\n",
       "             'Z1': ['X', 'Z2'],\n",
       "             'Z3': ['Z2'],\n",
       "             'Z2': [],\n",
       "             'Y': ['Z1', 'Z3']})"
      ]
     },
     "execution_count": 22,
     "metadata": {},
     "output_type": "execute_result"
    }
   ],
   "source": [
    "cg.causation"
   ]
  },
  {
   "cell_type": "code",
   "execution_count": 23,
   "metadata": {},
   "outputs": [],
   "source": [
    "# Create a new CausalGraph and remove the node in it.\n",
    "cg1 = cg.remove_nodes(['X'], new=True)"
   ]
  },
  {
   "cell_type": "code",
   "execution_count": 24,
   "metadata": {},
   "outputs": [
    {
     "data": {
      "text/plain": [
       "NodeView(('Z2', 'Z1', 'Z3', 'Y'))"
      ]
     },
     "execution_count": 24,
     "metadata": {},
     "output_type": "execute_result"
    }
   ],
   "source": [
    "cg1.dag.nodes"
   ]
  },
  {
   "cell_type": "code",
   "execution_count": 25,
   "metadata": {},
   "outputs": [],
   "source": [
    "# Build a subgraph with nodes in the subset.\n",
    "cg2 = cg.build_sub_graph(['X', 'Y', 'Z2'])"
   ]
  },
  {
   "cell_type": "code",
   "execution_count": 26,
   "metadata": {},
   "outputs": [
    {
     "data": {
      "text/plain": [
       "NodeView(('Z2', 'X', 'Y'))"
      ]
     },
     "execution_count": 26,
     "metadata": {},
     "output_type": "execute_result"
    }
   ],
   "source": [
    "cg2.dag.nodes"
   ]
  },
  {
   "cell_type": "code",
   "execution_count": 27,
   "metadata": {},
   "outputs": [
    {
     "data": {
      "text/plain": [
       "OutMultiEdgeView([('Z2', 'X', 'n'), ('Z2', 'X', 0), ('X', 'Z2', 'n')])"
      ]
     },
     "execution_count": 27,
     "metadata": {},
     "output_type": "execute_result"
    }
   ],
   "source": [
    "cg2.dag.edges"
   ]
  },
  {
   "cell_type": "code",
   "execution_count": 28,
   "metadata": {},
   "outputs": [],
   "source": [
    "# Remove all edges going in to the given set.\n",
    "# Here all edges with arrow into 'X' should be removed,\n",
    "# including thoes unobserved confounding arcs.\n",
    "cg.remove_incoming_edges(['X'])"
   ]
  },
  {
   "cell_type": "code",
   "execution_count": 29,
   "metadata": {},
   "outputs": [
    {
     "data": {
      "text/plain": [
       "OutMultiEdgeView([('Z2', 'Z1', 0), ('Z2', 'Z3', 0), ('X', 'Z1', 0), ('Z1', 'Y', 0), ('Z3', 'Y', 0)])"
      ]
     },
     "execution_count": 29,
     "metadata": {},
     "output_type": "execute_result"
    }
   ],
   "source": [
    "cg.dag.edges"
   ]
  },
  {
   "cell_type": "code",
   "execution_count": 30,
   "metadata": {},
   "outputs": [
    {
     "data": {
      "text/plain": [
       "InMultiEdgeDataView([])"
      ]
     },
     "execution_count": 30,
     "metadata": {},
     "output_type": "execute_result"
    }
   ],
   "source": [
    "# See if all incoming edges of 'X' have been removed.\n",
    "cg.dag.in_edges(['X'], keys=True)"
   ]
  },
  {
   "cell_type": "code",
   "execution_count": 31,
   "metadata": {},
   "outputs": [
    {
     "data": {
      "text/plain": [
       "defaultdict(list,\n",
       "            {'X': [],\n",
       "             'Z1': ['X', 'Z2'],\n",
       "             'Z3': ['Z2'],\n",
       "             'Z2': [],\n",
       "             'Y': ['Z1', 'Z3']})"
      ]
     },
     "execution_count": 31,
     "metadata": {},
     "output_type": "execute_result"
    }
   ],
   "source": [
    "# The causation should be changed accordingly.\n",
    "cg.causation"
   ]
  }
 ],
 "metadata": {
  "interpreter": {
   "hash": "e0ecfad75f99b8578830c76494b15e8b8f0ed30d484e3d7b0b2aac43eb800e14"
  },
  "kernelspec": {
   "display_name": "Python 3.8.12 ('causal')",
   "language": "python",
   "name": "python3"
  },
  "language_info": {
   "codemirror_mode": {
    "name": "ipython",
    "version": 3
   },
   "file_extension": ".py",
   "mimetype": "text/x-python",
   "name": "python",
   "nbconvert_exporter": "python",
   "pygments_lexer": "ipython3",
   "version": "3.8.12"
  },
  "orig_nbformat": 4
 },
 "nbformat": 4,
 "nbformat_minor": 2
}
