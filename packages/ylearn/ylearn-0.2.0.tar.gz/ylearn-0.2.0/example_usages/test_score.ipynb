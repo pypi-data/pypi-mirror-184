{
 "cells": [
  {
   "cell_type": "code",
   "execution_count": 1,
   "metadata": {},
   "outputs": [],
   "source": [
    "import sys\n",
    "import os\n",
    "sys.path.append(os.path.dirname(os.path.dirname(os.path.abspath('./test_score.ipynb'))))"
   ]
  },
  {
   "cell_type": "code",
   "execution_count": 2,
   "metadata": {},
   "outputs": [],
   "source": [
    "import pandas as pd\n",
    "import numpy as np\n",
    "\n",
    "from sklearn.ensemble import RandomForestClassifier, RandomForestRegressor\n",
    "\n",
    "from ylearn.estimator_model import RLoss\n",
    "from ylearn.estimator_model import meta_learner, double_ml, doubly_robust, causal_tree\n",
    "from ylearn.exp_dataset.exp_data import single_binary_treatment"
   ]
  },
  {
   "cell_type": "markdown",
   "metadata": {},
   "source": [
    "## Single binary treatment"
   ]
  },
  {
   "cell_type": "code",
   "execution_count": 3,
   "metadata": {},
   "outputs": [],
   "source": [
    "train1, val1, treatment_effect1 = single_binary_treatment()\n",
    "def exp_te(x): return np.exp(2*x[0])\n",
    "n = 1000\n",
    "n_x = 4\n",
    "X_test1 = np.random.uniform(0, 1, size=(n, n_x))\n",
    "X_test1[:, 0] = np.linspace(0, 1, n)\n",
    "data_test_dict = {\n",
    "    'c_0': X_test1[:, 0],\n",
    "    'c_1': X_test1[:, 1],\n",
    "    'c_2': X_test1[:, 2],\n",
    "    'c_3': X_test1[:, 3],\n",
    "}\n",
    "data_test1 = pd.DataFrame(data_test_dict)\n",
    "true_te = np.array([exp_te(x_i) for x_i in X_test1])"
   ]
  },
  {
   "cell_type": "code",
   "execution_count": 4,
   "metadata": {},
   "outputs": [
    {
     "data": {
      "text/html": [
       "<div>\n",
       "<style scoped>\n",
       "    .dataframe tbody tr th:only-of-type {\n",
       "        vertical-align: middle;\n",
       "    }\n",
       "\n",
       "    .dataframe tbody tr th {\n",
       "        vertical-align: top;\n",
       "    }\n",
       "\n",
       "    .dataframe thead th {\n",
       "        text-align: right;\n",
       "    }\n",
       "</style>\n",
       "<table border=\"1\" class=\"dataframe\">\n",
       "  <thead>\n",
       "    <tr style=\"text-align: right;\">\n",
       "      <th></th>\n",
       "      <th>w_0</th>\n",
       "      <th>w_1</th>\n",
       "      <th>w_2</th>\n",
       "      <th>w_3</th>\n",
       "      <th>w_4</th>\n",
       "      <th>w_5</th>\n",
       "      <th>w_6</th>\n",
       "      <th>w_7</th>\n",
       "      <th>w_8</th>\n",
       "      <th>w_9</th>\n",
       "      <th>...</th>\n",
       "      <th>w_27</th>\n",
       "      <th>w_28</th>\n",
       "      <th>w_29</th>\n",
       "      <th>c_0</th>\n",
       "      <th>c_1</th>\n",
       "      <th>c_2</th>\n",
       "      <th>c_3</th>\n",
       "      <th>treatment</th>\n",
       "      <th>outcome</th>\n",
       "      <th>TE</th>\n",
       "    </tr>\n",
       "  </thead>\n",
       "  <tbody>\n",
       "    <tr>\n",
       "      <th>226</th>\n",
       "      <td>0.840690</td>\n",
       "      <td>-0.897341</td>\n",
       "      <td>-1.691907</td>\n",
       "      <td>-0.228597</td>\n",
       "      <td>0.219336</td>\n",
       "      <td>0.358384</td>\n",
       "      <td>0.358747</td>\n",
       "      <td>-0.620275</td>\n",
       "      <td>-1.281643</td>\n",
       "      <td>1.092314</td>\n",
       "      <td>...</td>\n",
       "      <td>-1.313111</td>\n",
       "      <td>-0.302470</td>\n",
       "      <td>-2.097424</td>\n",
       "      <td>0.542969</td>\n",
       "      <td>0.053986</td>\n",
       "      <td>0.802841</td>\n",
       "      <td>0.599849</td>\n",
       "      <td>1</td>\n",
       "      <td>3.519415</td>\n",
       "      <td>2.962217</td>\n",
       "    </tr>\n",
       "    <tr>\n",
       "      <th>159</th>\n",
       "      <td>2.444159</td>\n",
       "      <td>-0.007502</td>\n",
       "      <td>-0.034569</td>\n",
       "      <td>0.072856</td>\n",
       "      <td>-0.156477</td>\n",
       "      <td>-0.024344</td>\n",
       "      <td>-0.059101</td>\n",
       "      <td>-0.243882</td>\n",
       "      <td>0.944915</td>\n",
       "      <td>1.292537</td>\n",
       "      <td>...</td>\n",
       "      <td>-0.674241</td>\n",
       "      <td>0.964401</td>\n",
       "      <td>1.060411</td>\n",
       "      <td>0.747179</td>\n",
       "      <td>0.536196</td>\n",
       "      <td>0.818296</td>\n",
       "      <td>0.179472</td>\n",
       "      <td>0</td>\n",
       "      <td>-0.908731</td>\n",
       "      <td>4.456470</td>\n",
       "    </tr>\n",
       "    <tr>\n",
       "      <th>579</th>\n",
       "      <td>1.707901</td>\n",
       "      <td>-0.744127</td>\n",
       "      <td>-0.541328</td>\n",
       "      <td>-1.260657</td>\n",
       "      <td>-0.031214</td>\n",
       "      <td>1.717055</td>\n",
       "      <td>0.087732</td>\n",
       "      <td>-0.061014</td>\n",
       "      <td>-1.358938</td>\n",
       "      <td>-0.630703</td>\n",
       "      <td>...</td>\n",
       "      <td>-1.568256</td>\n",
       "      <td>0.916513</td>\n",
       "      <td>-1.188164</td>\n",
       "      <td>0.292859</td>\n",
       "      <td>0.465193</td>\n",
       "      <td>0.285123</td>\n",
       "      <td>0.998249</td>\n",
       "      <td>1</td>\n",
       "      <td>2.668287</td>\n",
       "      <td>1.796279</td>\n",
       "    </tr>\n",
       "    <tr>\n",
       "      <th>631</th>\n",
       "      <td>-0.876409</td>\n",
       "      <td>1.180617</td>\n",
       "      <td>1.782721</td>\n",
       "      <td>0.635121</td>\n",
       "      <td>-0.381472</td>\n",
       "      <td>-1.067087</td>\n",
       "      <td>-1.303075</td>\n",
       "      <td>1.717317</td>\n",
       "      <td>-1.436160</td>\n",
       "      <td>0.058888</td>\n",
       "      <td>...</td>\n",
       "      <td>-0.939212</td>\n",
       "      <td>-0.097768</td>\n",
       "      <td>0.286155</td>\n",
       "      <td>0.059515</td>\n",
       "      <td>0.685887</td>\n",
       "      <td>0.186069</td>\n",
       "      <td>0.102843</td>\n",
       "      <td>1</td>\n",
       "      <td>0.387580</td>\n",
       "      <td>1.126405</td>\n",
       "    </tr>\n",
       "    <tr>\n",
       "      <th>578</th>\n",
       "      <td>0.928512</td>\n",
       "      <td>0.973593</td>\n",
       "      <td>1.896839</td>\n",
       "      <td>-1.617485</td>\n",
       "      <td>0.744122</td>\n",
       "      <td>0.089856</td>\n",
       "      <td>0.714048</td>\n",
       "      <td>0.052563</td>\n",
       "      <td>0.512447</td>\n",
       "      <td>0.939993</td>\n",
       "      <td>...</td>\n",
       "      <td>-0.534567</td>\n",
       "      <td>-1.139242</td>\n",
       "      <td>-0.210185</td>\n",
       "      <td>0.528878</td>\n",
       "      <td>0.129880</td>\n",
       "      <td>0.990413</td>\n",
       "      <td>0.514765</td>\n",
       "      <td>1</td>\n",
       "      <td>4.464414</td>\n",
       "      <td>2.879903</td>\n",
       "    </tr>\n",
       "  </tbody>\n",
       "</table>\n",
       "<p>5 rows × 37 columns</p>\n",
       "</div>"
      ],
      "text/plain": [
       "          w_0       w_1       w_2       w_3       w_4       w_5       w_6  \\\n",
       "226  0.840690 -0.897341 -1.691907 -0.228597  0.219336  0.358384  0.358747   \n",
       "159  2.444159 -0.007502 -0.034569  0.072856 -0.156477 -0.024344 -0.059101   \n",
       "579  1.707901 -0.744127 -0.541328 -1.260657 -0.031214  1.717055  0.087732   \n",
       "631 -0.876409  1.180617  1.782721  0.635121 -0.381472 -1.067087 -1.303075   \n",
       "578  0.928512  0.973593  1.896839 -1.617485  0.744122  0.089856  0.714048   \n",
       "\n",
       "          w_7       w_8       w_9  ...      w_27      w_28      w_29  \\\n",
       "226 -0.620275 -1.281643  1.092314  ... -1.313111 -0.302470 -2.097424   \n",
       "159 -0.243882  0.944915  1.292537  ... -0.674241  0.964401  1.060411   \n",
       "579 -0.061014 -1.358938 -0.630703  ... -1.568256  0.916513 -1.188164   \n",
       "631  1.717317 -1.436160  0.058888  ... -0.939212 -0.097768  0.286155   \n",
       "578  0.052563  0.512447  0.939993  ... -0.534567 -1.139242 -0.210185   \n",
       "\n",
       "          c_0       c_1       c_2       c_3  treatment   outcome        TE  \n",
       "226  0.542969  0.053986  0.802841  0.599849          1  3.519415  2.962217  \n",
       "159  0.747179  0.536196  0.818296  0.179472          0 -0.908731  4.456470  \n",
       "579  0.292859  0.465193  0.285123  0.998249          1  2.668287  1.796279  \n",
       "631  0.059515  0.685887  0.186069  0.102843          1  0.387580  1.126405  \n",
       "578  0.528878  0.129880  0.990413  0.514765          1  4.464414  2.879903  \n",
       "\n",
       "[5 rows x 37 columns]"
      ]
     },
     "execution_count": 4,
     "metadata": {},
     "output_type": "execute_result"
    }
   ],
   "source": [
    "adjustment = train1.columns[:-7]\n",
    "covariate = train1.columns[-7:-3]\n",
    "# t_effect1 = train1['t_effect']\n",
    "treatment = 'treatment'\n",
    "outcome = 'outcome'\n",
    "train1.head()"
   ]
  },
  {
   "cell_type": "code",
   "execution_count": 5,
   "metadata": {},
   "outputs": [
    {
     "name": "stdout",
     "output_type": "stream",
     "text": [
      "06-23 11:20:01 I ylearn.e.double_ml.py 684 - _fit_1st_stage: fitting x_model RandomForestClassifier\n",
      "06-23 11:20:01 I ylearn.e.double_ml.py 690 - _fit_1st_stage: fitting y_model RandomForestRegressor\n"
     ]
    },
    {
     "data": {
      "text/plain": [
       "RLoss"
      ]
     },
     "execution_count": 5,
     "metadata": {},
     "output_type": "execute_result"
    }
   ],
   "source": [
    "rloss = RLoss(\n",
    "    x_model=RandomForestClassifier(),\n",
    "    y_model=RandomForestRegressor(),\n",
    "    cf_fold=1,\n",
    "    is_discrete_treatment=True\n",
    ")\n",
    "rloss.fit(\n",
    "    data=val1,\n",
    "    outcome=outcome,\n",
    "    treatment=treatment,\n",
    "    adjustment=adjustment,\n",
    "    covariate=covariate,\n",
    ")"
   ]
  },
  {
   "cell_type": "code",
   "execution_count": 6,
   "metadata": {},
   "outputs": [],
   "source": [
    "dml = double_ml.DoubleML(\n",
    "    x_model=RandomForestClassifier(),\n",
    "    y_model=RandomForestRegressor(),\n",
    "    cf_fold=1,\n",
    "    is_discrete_treatment=True\n",
    ")\n",
    "slearner = meta_learner.SLearner(\n",
    "    model=RandomForestRegressor(),\n",
    ")\n",
    "tlearner = meta_learner.TLearner(\n",
    "    model=RandomForestRegressor()\n",
    ")\n",
    "xlearner = meta_learner.XLearner(\n",
    "    model=RandomForestRegressor()\n",
    ")\n",
    "dr = doubly_robust.DoublyRobust(\n",
    "    x_model=RandomForestClassifier(),\n",
    "    y_model=RandomForestRegressor(),\n",
    "    yx_model=RandomForestRegressor(),\n",
    ")\n",
    "ct = causal_tree.CausalTree()\n",
    "models = [dml, slearner, tlearner, xlearner, ct, dr]"
   ]
  },
  {
   "cell_type": "code",
   "execution_count": 7,
   "metadata": {},
   "outputs": [
    {
     "name": "stdout",
     "output_type": "stream",
     "text": [
      "06-23 11:20:01 I ylearn.e.double_ml.py 684 - _fit_1st_stage: fitting x_model RandomForestClassifier\n",
      "06-23 11:20:02 I ylearn.e.double_ml.py 690 - _fit_1st_stage: fitting y_model RandomForestRegressor\n",
      "06-23 11:20:03 I ylearn.e.double_ml.py 716 - _fit_2nd_stage: fitting yx_model LinearRegression\n",
      "06-23 11:20:06 I ylearn.e.causal_tree.py 561 - Start building the causal tree with criterion HonestCMSE\n",
      "06-23 11:20:06 I ylearn.e.causal_tree.py 577 - Building the causal tree with splitter BestSplitter\n",
      "06-23 11:20:06 I ylearn.e.causal_tree.py 620 - Building the causal tree with builder DepthFirstTreeBuilder\n"
     ]
    }
   ],
   "source": [
    "for model in models:\n",
    "    model.fit(\n",
    "    data=train1,\n",
    "    treatment=treatment,\n",
    "    outcome=outcome,\n",
    "    adjustment=adjustment,\n",
    "    covariate=covariate\n",
    ")\n"
   ]
  },
  {
   "cell_type": "code",
   "execution_count": 8,
   "metadata": {},
   "outputs": [
    {
     "name": "stdout",
     "output_type": "stream",
     "text": [
      "06-23 11:20:07 I ylearn.e.effect_score.py 374 - Calculating the score: DoubleML(x_model=RandomForestClassifier(), y_model=RandomForestRegressor(), yx_model=LinearRegression(), is_discrete_treatment=True) finished estimating.\n",
      "06-23 11:20:07 I ylearn.e.effect_score.py 378 - using combined treat technique for discrete treatment.\n",
      "The score of DoubleML(x_model=RandomForestClassifier(), y_model=RandomForestRegressor(), yx_model=LinearRegression(), is_discrete_treatment=True) is [0.19140699]\n",
      "06-23 11:20:07 I ylearn.e.effect_score.py 374 - Calculating the score: SLearner(model=RandomForestRegressor(), args=None, kwargs=None) finished estimating.\n",
      "06-23 11:20:07 I ylearn.e.effect_score.py 378 - using combined treat technique for discrete treatment.\n",
      "The score of SLearner(model=RandomForestRegressor(), args=None, kwargs=None) is [0.20676972]\n",
      "06-23 11:20:07 I ylearn.e.effect_score.py 374 - Calculating the score: TLearner(model=None, kwargs=None) finished estimating.\n",
      "06-23 11:20:07 I ylearn.e.effect_score.py 378 - using combined treat technique for discrete treatment.\n",
      "The score of TLearner(model=None, kwargs=None) is [0.20526961]\n",
      "06-23 11:20:07 I ylearn.e.effect_score.py 374 - Calculating the score: XLearner(model=None, kwargs=None) finished estimating.\n",
      "06-23 11:20:07 I ylearn.e.effect_score.py 378 - using combined treat technique for discrete treatment.\n",
      "The score of XLearner(model=None, kwargs=None) is [0.18615191]\n",
      "06-23 11:20:07 I ylearn.e.causal_tree.py 654 - Start estimating the causal effect with the type of None.\n",
      "06-23 11:20:07 I ylearn.e.effect_score.py 374 - Calculating the score: CausalTree() finished estimating.\n",
      "06-23 11:20:07 I ylearn.e.effect_score.py 378 - using combined treat technique for discrete treatment.\n",
      "The score of CausalTree() is [0.4761354]\n",
      "06-23 11:20:07 I ylearn.e.effect_score.py 374 - Calculating the score: DoublyRobust(x_model=RandomForestClassifier(), y_model=RandomForestRegressor(), yx_model=RandomForestRegressor()) finished estimating.\n",
      "06-23 11:20:07 I ylearn.e.effect_score.py 378 - using combined treat technique for discrete treatment.\n",
      "The score of DoublyRobust(x_model=RandomForestClassifier(), y_model=RandomForestRegressor(), yx_model=RandomForestRegressor()) is [0.23755393]\n"
     ]
    }
   ],
   "source": [
    "for model in models:\n",
    "    print(f'The score of {model.__repr__()} is {rloss.score(model)}')"
   ]
  }
 ],
 "metadata": {
  "kernelspec": {
   "display_name": "Python 3.8.13 ('ylearn_test')",
   "language": "python",
   "name": "python3"
  },
  "language_info": {
   "codemirror_mode": {
    "name": "ipython",
    "version": 3
   },
   "file_extension": ".py",
   "mimetype": "text/x-python",
   "name": "python",
   "nbconvert_exporter": "python",
   "pygments_lexer": "ipython3",
   "version": "3.8.13"
  },
  "orig_nbformat": 4,
  "vscode": {
   "interpreter": {
    "hash": "e8581d1eecfa97f28a0c41513ba1ff519bf462b808573b2f3a58298c51aea96c"
   }
  }
 },
 "nbformat": 4,
 "nbformat_minor": 2
}
