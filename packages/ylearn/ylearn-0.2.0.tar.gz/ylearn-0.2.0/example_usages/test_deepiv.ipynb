{
 "cells": [
  {
   "cell_type": "code",
   "execution_count": 4,
   "metadata": {},
   "outputs": [],
   "source": [
    "import sys\n",
    "import os\n",
    "sys.path.append(os.path.dirname(os.path.dirname(os.path.abspath('./introduction.ipynb'))))"
   ]
  },
  {
   "cell_type": "code",
   "execution_count": 5,
   "metadata": {},
   "outputs": [],
   "source": [
    "import pandas as pd\n",
    "import numpy as np\n",
    "\n",
    "import torch\n",
    "import torch.nn as nn\n",
    "import torch.nn.functional as F\n",
    "import torch.optim as optim\n",
    "from torch.utils.data import DataLoader\n",
    "\n",
    "\n",
    "from ylearn.estimator_model.deepiv import Net, NetWrapper, DeepIV, MixtureDensityNetwork, MDNWrapper\n",
    "from ylearn.estimator_model.utils import BatchData, DiscreteOBatchData"
   ]
  },
  {
   "cell_type": "markdown",
   "metadata": {},
   "source": [
    "## We divide this notebook into 3 sections, where we\n",
    "1. ### test Net and NetWrapper in the first section\n",
    "2. ### test MDN and MDNWrapper in the second section\n",
    "3. ### test deepiv in the final section."
   ]
  },
  {
   "cell_type": "markdown",
   "metadata": {},
   "source": [
    "### Section 1\n",
    "\n",
    "- continuous input, continuous output"
   ]
  },
  {
   "cell_type": "code",
   "execution_count": 6,
   "metadata": {},
   "outputs": [
    {
     "name": "stdout",
     "output_type": "stream",
     "text": [
      "Finished 1/10 epochs | current loss 1.1490228176116943\n",
      "Finished 2/10 epochs | current loss 15.744211196899414\n",
      "Finished 3/10 epochs | current loss 6.872530460357666\n",
      "Finished 4/10 epochs | current loss 2.657524585723877\n",
      "Finished 5/10 epochs | current loss 1.2404028177261353\n",
      "Finished 6/10 epochs | current loss 0.8437754511833191\n",
      "Finished 7/10 epochs | current loss 0.5878767967224121\n",
      "Finished 8/10 epochs | current loss 0.3969469964504242\n",
      "Finished 9/10 epochs | current loss 0.22653374075889587\n",
      "Finished 10/10 epochs | current loss 0.1628408133983612\n"
     ]
    },
    {
     "data": {
      "text/plain": [
       "tensor([0.0410], grad_fn=<MeanBackward1>)"
      ]
     },
     "execution_count": 6,
     "metadata": {},
     "output_type": "execute_result"
    }
   ],
   "source": [
    "net = Net(x_d=1, w_d=1, out_d=1)\n",
    "net_wrapped = NetWrapper(net, is_y_net=False)\n",
    "x = torch.normal(0, 1, size=(1000, 1))\n",
    "w = torch.ones(1000, 1)\n",
    "\n",
    "def f(x, w):\n",
    "    return x * x + torch.exp(x) + 3 * w\n",
    "\n",
    "target = f(x, w)\n",
    "\n",
    "net_wrapped.fit(\n",
    "    x=x,\n",
    "    w=w,\n",
    "    target=target,\n",
    "    device='cpu',\n",
    "    epoch=10,\n",
    ")\n",
    "((net_wrapped.predict(x, w) - f(x, w)) / f(x, w)).mean(dim=0)"
   ]
  },
  {
   "cell_type": "markdown",
   "metadata": {},
   "source": [
    "- contiuous input, discrete output"
   ]
  },
  {
   "cell_type": "code",
   "execution_count": 7,
   "metadata": {},
   "outputs": [],
   "source": [
    "out_d = 5\n",
    "net = Net(x_d=1, w_d=1, out_d=out_d, is_discrete_output=True)\n",
    "sm = nn.Softmax(dim=1)\n",
    "loss = nn.CrossEntropyLoss()\n",
    "result = sm(net(torch.ones(5, 1), torch.randn(5, 1)))\n",
    "l = loss(result, torch.eye(5, 5))\n",
    "l.backward()"
   ]
  },
  {
   "cell_type": "code",
   "execution_count": 8,
   "metadata": {},
   "outputs": [
    {
     "name": "stdout",
     "output_type": "stream",
     "text": [
      "Finished 1/20 epochs | current loss 0.6185480356216431\n",
      "Finished 2/20 epochs | current loss 0.5569645166397095\n",
      "Finished 3/20 epochs | current loss 0.4982230067253113\n",
      "Finished 4/20 epochs | current loss 0.4404600262641907\n",
      "Finished 5/20 epochs | current loss 0.38612106442451477\n",
      "Finished 6/20 epochs | current loss 0.33785948157310486\n",
      "Finished 7/20 epochs | current loss 0.29677343368530273\n",
      "Finished 8/20 epochs | current loss 0.26279646158218384\n",
      "Finished 9/20 epochs | current loss 0.23488207161426544\n",
      "Finished 10/20 epochs | current loss 0.21192960441112518\n",
      "Finished 11/20 epochs | current loss 0.1928677260875702\n",
      "Finished 12/20 epochs | current loss 0.17686057090759277\n",
      "Finished 13/20 epochs | current loss 0.16326101124286652\n",
      "Finished 14/20 epochs | current loss 0.15161752700805664\n",
      "Finished 15/20 epochs | current loss 0.14155998826026917\n",
      "Finished 16/20 epochs | current loss 0.1328149139881134\n",
      "Finished 17/20 epochs | current loss 0.12516091763973236\n",
      "Finished 18/20 epochs | current loss 0.11841733753681183\n",
      "Finished 19/20 epochs | current loss 0.11242369562387466\n",
      "Finished 20/20 epochs | current loss 0.10706336796283722\n"
     ]
    },
    {
     "data": {
      "text/plain": [
       "tensor(1.3199, grad_fn=<NllLossBackward0>)"
      ]
     },
     "execution_count": 8,
     "metadata": {},
     "output_type": "execute_result"
    }
   ],
   "source": [
    "x = torch.normal(0, 1, size=(1000, 1))\n",
    "w = torch.normal(1, 2, size=(1000, 1))\n",
    "\n",
    "def f(x, w):\n",
    "    xw = torch.cat((x, w), dim=1)\n",
    "    weight = torch.normal(0, 1, size=(xw.shape[1], 1))\n",
    "    label_sign = torch.einsum('nd,dc->nc', [xw, weight])\n",
    "    label = (label_sign > 0).to(int).squeeze()\n",
    "    return F.one_hot(label)\n",
    "\n",
    "target = f(x, w)\n",
    "\n",
    "net = Net(1, 1, 2, is_discrete_output=True)\n",
    "net_wrapped = NetWrapper(net=net, is_y_net=False)\n",
    "net_wrapped.fit(x, w, target=target, device='cpu', epoch=20)\n",
    "# training loss\n",
    "nn.NLLLoss()(torch.log(net_wrapped.predict_proba(x, w)), torch.argmax(f(x, w), dim=1))"
   ]
  },
  {
   "cell_type": "markdown",
   "metadata": {},
   "source": [
    "- discrete input, discret output"
   ]
  },
  {
   "cell_type": "code",
   "execution_count": 9,
   "metadata": {},
   "outputs": [],
   "source": [
    "net = Net(x_d=3, w_d=1, out_d=5, is_discrete_input=True, is_discrete_output=True)\n",
    "sm = nn.Softmax(dim=1)\n",
    "loss = nn.CrossEntropyLoss()\n",
    "x_input = torch.randint(0, 3, size=(5,)).squeeze()\n",
    "w_input = torch.ones(5, 1)\n",
    "result = sm(net(x_input, w_input))\n",
    "l = loss(result, torch.eye(5, 5))\n",
    "l.backward()"
   ]
  },
  {
   "cell_type": "code",
   "execution_count": 10,
   "metadata": {},
   "outputs": [
    {
     "name": "stdout",
     "output_type": "stream",
     "text": [
      "Finished 1/10 epochs | current loss 0.6753654479980469\n",
      "Finished 2/10 epochs | current loss 0.6415324211120605\n",
      "Finished 3/10 epochs | current loss 0.6133870482444763\n",
      "Finished 4/10 epochs | current loss 0.5869672894477844\n",
      "Finished 5/10 epochs | current loss 0.5602049231529236\n",
      "Finished 6/10 epochs | current loss 0.5325422883033752\n",
      "Finished 7/10 epochs | current loss 0.5041666030883789\n",
      "Finished 8/10 epochs | current loss 0.4754180908203125\n",
      "Finished 9/10 epochs | current loss 0.44665318727493286\n",
      "Finished 10/10 epochs | current loss 0.41864675283432007\n"
     ]
    },
    {
     "data": {
      "text/plain": [
       "tensor(0.7747, grad_fn=<NllLossBackward0>)"
      ]
     },
     "execution_count": 10,
     "metadata": {},
     "output_type": "execute_result"
    }
   ],
   "source": [
    "x = torch.eye(1000, 5).index_select(dim=0, index=torch.randint(0, 5, size=(1000,)))\n",
    "w = torch.normal(0, 1, size=(1000, 1))\n",
    "\n",
    "def f(x, w):\n",
    "    xw = torch.cat((x, w), dim=1)\n",
    "    weight = torch.normal(0, 1, size=(xw.shape[1], 1))\n",
    "    label_sign = torch.einsum('nd,dc->nc', [xw, weight])\n",
    "    label = (label_sign > 0).to(int).squeeze()\n",
    "    return F.one_hot(label)\n",
    "\n",
    "target = f(x, w)\n",
    "\n",
    "net = Net(x_d=5, w_d=1, out_d=2, is_discrete_output=True, is_discrete_input=True)\n",
    "net_wrapped = NetWrapper(net)\n",
    "net_wrapped.fit(x, w, target=target, device='cpu', epoch=10)\n",
    "nn.NLLLoss()(torch.log(net_wrapped.predict_proba(x, w)), torch.argmax(f(x, w), dim=1))"
   ]
  },
  {
   "cell_type": "markdown",
   "metadata": {},
   "source": [
    "- discrete input, continuous output"
   ]
  },
  {
   "cell_type": "code",
   "execution_count": 11,
   "metadata": {},
   "outputs": [],
   "source": [
    "net = Net(x_d=3, w_d=1, out_d=1, is_discrete_input=True, is_discrete_output=False)\n",
    "sm = nn.Softmax(dim=1)\n",
    "loss = nn.MSELoss()\n",
    "x_input = torch.randint(0, 3, size=(5,)).squeeze()\n",
    "w_input = torch.ones(5, 1)\n",
    "result = sm(net(x_input, w_input))\n",
    "l = loss(result, torch.ones(5, 1))\n",
    "l.backward()"
   ]
  },
  {
   "cell_type": "code",
   "execution_count": 12,
   "metadata": {},
   "outputs": [
    {
     "name": "stdout",
     "output_type": "stream",
     "text": [
      "Finished 1/10 epochs | current loss 0.7072611451148987\n",
      "Finished 2/10 epochs | current loss 0.5320978164672852\n",
      "Finished 3/10 epochs | current loss 0.3390869200229645\n",
      "Finished 4/10 epochs | current loss 0.19885483384132385\n",
      "Finished 5/10 epochs | current loss 0.1260235607624054\n",
      "Finished 6/10 epochs | current loss 0.0838807076215744\n",
      "Finished 7/10 epochs | current loss 0.05417945235967636\n",
      "Finished 8/10 epochs | current loss 0.03354189544916153\n",
      "Finished 9/10 epochs | current loss 0.020244739949703217\n",
      "Finished 10/10 epochs | current loss 0.01225254312157631\n"
     ]
    },
    {
     "data": {
      "text/plain": [
       "tensor(0.0161, grad_fn=<MseLossBackward0>)"
      ]
     },
     "execution_count": 12,
     "metadata": {},
     "output_type": "execute_result"
    }
   ],
   "source": [
    "x = torch.eye(1000, 5).index_select(dim=0, index=torch.randint(0, 5, size=(1000,)))\n",
    "w = torch.normal(0, 2, size=(1000, 1))\n",
    "\n",
    "def f(x, w):\n",
    "    weight = torch.normal(0, 1, size=(6, 1))\n",
    "    xw = torch.cat((x, w), dim=1)\n",
    "    target = torch.einsum('nd,dc->nc', [xw, weight])\n",
    "    return target\n",
    "\n",
    "target = f(x, w)\n",
    "\n",
    "net = Net(x_d=5, w_d=1, out_d=1, is_discrete_input=True)\n",
    "net_wrapped = NetWrapper(net)\n",
    "net_wrapped.fit(x=x, w=w, target=target, device='cpu', epoch=10)\n",
    "nn.MSELoss()(net_wrapped.predict(x=x, w=w), target)"
   ]
  },
  {
   "cell_type": "markdown",
   "metadata": {},
   "source": [
    "### Section 2\n",
    "\n",
    "Test the MDN and MDNWrapper"
   ]
  },
  {
   "cell_type": "code",
   "execution_count": 13,
   "metadata": {},
   "outputs": [],
   "source": [
    "z_d = 3\n",
    "w_d = 2\n",
    "out_d = 1\n",
    "num_gaussian = 10\n",
    "mdn = MixtureDensityNetwork(\n",
    "    z_d=z_d,\n",
    "    w_d=w_d,\n",
    "    out_d=out_d,\n",
    "    num_gaussian=num_gaussian,\n",
    "    is_discrete_input=False,\n",
    ")\n",
    "mdn_wrapped = MDNWrapper(mdn=mdn)"
   ]
  },
  {
   "cell_type": "code",
   "execution_count": 14,
   "metadata": {},
   "outputs": [],
   "source": [
    "n = 200\n",
    "z = torch.normal(1, 2, size=(n, z_d))\n",
    "w = torch.normal(0, 1, size=(n, w_d))\n",
    "zw = torch.cat((z, w), dim=1)\n",
    "weight = torch.normal(1, 2, size=(zw.shape[1], 1))\n",
    "target = torch.distributions.Poisson(torch.exp(zw.matmul(weight))).sample()"
   ]
  },
  {
   "cell_type": "code",
   "execution_count": 15,
   "metadata": {},
   "outputs": [],
   "source": [
    "# mdn_wrapped.fit(\n",
    "#     z=z,\n",
    "#     w=w,\n",
    "#     target=target,\n",
    "#     device='cpu',\n",
    "#     lr=0.2,\n",
    "#     batch_size=20,\n",
    "#     epoch=2,\n",
    "# )"
   ]
  },
  {
   "cell_type": "code",
   "execution_count": 16,
   "metadata": {},
   "outputs": [],
   "source": [
    "import numpy as np\n",
    "import matplotlib.pyplot as plt\n",
    "\n",
    "n = 5000\n",
    "\n",
    "# Initialize exogenous variables; normal errors, uniformly distributed covariates and instruments\n",
    "e = np.random.normal(size=(n, 1))\n",
    "w = np.random.uniform(low=0.0, high=10.0, size=(n, 1))\n",
    "z = np.random.uniform(low=0.0, high=10.0, size=(n, 1))\n",
    "\n",
    "e, w, z = torch.tensor(e), torch.tensor(w), torch.tensor(z)\n",
    "weight_w = torch.randn(1)\n",
    "weight_z = torch.randn(1)\n",
    "\n",
    "def treatment(w, z, e):\n",
    "    x = torch.sqrt(w) * weight_w + torch.sqrt(z) * weight_z + e\n",
    "    x = (torch.sign(x) + 1) /  2\n",
    "    return F.one_hot(x.reshape(-1).to(int))"
   ]
  },
  {
   "cell_type": "code",
   "execution_count": 17,
   "metadata": {},
   "outputs": [],
   "source": [
    "# Outcome equation \n",
    "weight_x = torch.randn(2, 1)\n",
    "weight_wx = torch.randn(2, 1)\n",
    "def outcome(w, e, treatment):\n",
    "    wx = torch.mm(treatment.to(torch.float32), weight_x)\n",
    "    wx1 = (w * treatment.to(torch.float32)).to(torch.float32).matmul(weight_wx.to(torch.float32))\n",
    "    # wx1 = w\n",
    "    return (wx**2) * 10 - wx1 + e / 2\n",
    "treatment = treatment(w, z, e)\n",
    "y = outcome(w, e, treatment)"
   ]
  },
  {
   "cell_type": "code",
   "execution_count": 18,
   "metadata": {},
   "outputs": [
    {
     "data": {
      "text/html": [
       "<div>\n",
       "<style scoped>\n",
       "    .dataframe tbody tr th:only-of-type {\n",
       "        vertical-align: middle;\n",
       "    }\n",
       "\n",
       "    .dataframe tbody tr th {\n",
       "        vertical-align: top;\n",
       "    }\n",
       "\n",
       "    .dataframe thead th {\n",
       "        text-align: right;\n",
       "    }\n",
       "</style>\n",
       "<table border=\"1\" class=\"dataframe\">\n",
       "  <thead>\n",
       "    <tr style=\"text-align: right;\">\n",
       "      <th></th>\n",
       "      <th>z</th>\n",
       "      <th>w</th>\n",
       "      <th>x</th>\n",
       "      <th>y</th>\n",
       "    </tr>\n",
       "  </thead>\n",
       "  <tbody>\n",
       "    <tr>\n",
       "      <th>0</th>\n",
       "      <td>9.031077</td>\n",
       "      <td>2.548808</td>\n",
       "      <td>1</td>\n",
       "      <td>-1.377479</td>\n",
       "    </tr>\n",
       "    <tr>\n",
       "      <th>1</th>\n",
       "      <td>9.977634</td>\n",
       "      <td>8.046273</td>\n",
       "      <td>1</td>\n",
       "      <td>-3.652838</td>\n",
       "    </tr>\n",
       "    <tr>\n",
       "      <th>2</th>\n",
       "      <td>9.504388</td>\n",
       "      <td>1.717688</td>\n",
       "      <td>1</td>\n",
       "      <td>-0.477126</td>\n",
       "    </tr>\n",
       "    <tr>\n",
       "      <th>3</th>\n",
       "      <td>4.665078</td>\n",
       "      <td>8.029205</td>\n",
       "      <td>1</td>\n",
       "      <td>-2.742580</td>\n",
       "    </tr>\n",
       "    <tr>\n",
       "      <th>4</th>\n",
       "      <td>0.902471</td>\n",
       "      <td>8.064174</td>\n",
       "      <td>1</td>\n",
       "      <td>-3.817532</td>\n",
       "    </tr>\n",
       "  </tbody>\n",
       "</table>\n",
       "</div>"
      ],
      "text/plain": [
       "          z         w  x         y\n",
       "0  9.031077  2.548808  1 -1.377479\n",
       "1  9.977634  8.046273  1 -3.652838\n",
       "2  9.504388  1.717688  1 -0.477126\n",
       "3  4.665078  8.029205  1 -2.742580\n",
       "4  0.902471  8.064174  1 -3.817532"
      ]
     },
     "execution_count": 18,
     "metadata": {},
     "output_type": "execute_result"
    }
   ],
   "source": [
    "data_dict = {\n",
    "    'z': z.squeeze().to(torch.float32),\n",
    "    'w': w.squeeze().to(torch.float32),\n",
    "    'x': torch.argmax(treatment, dim=1),\n",
    "    'y': y.squeeze().to(torch.float32)\n",
    "}\n",
    "data = pd.DataFrame(data_dict)\n",
    "data.head()"
   ]
  },
  {
   "cell_type": "code",
   "execution_count": 19,
   "metadata": {},
   "outputs": [
    {
     "name": "stdout",
     "output_type": "stream",
     "text": [
      "Finished 1/1 epochs | current loss 0.008736844174563885\n",
      "Finished 1/1 epochs | current loss 32854.04296875\n"
     ]
    }
   ],
   "source": [
    "iv = DeepIV(is_discrete_treatment=True)\n",
    "iv.fit(\n",
    "    data=data,\n",
    "    outcome='y',\n",
    "    treatment='x',\n",
    "    instrument='z',\n",
    "    adjustment='w',\n",
    "    device='cpu',\n",
    "    batch_size=2500,\n",
    "    lr=0.5,\n",
    "    epoch=1,\n",
    ")"
   ]
  },
  {
   "cell_type": "code",
   "execution_count": 20,
   "metadata": {},
   "outputs": [
    {
     "data": {
      "text/plain": [
       "tensor([1.1977e+13], grad_fn=<MeanBackward1>)"
      ]
     },
     "execution_count": 20,
     "metadata": {},
     "output_type": "execute_result"
    }
   ],
   "source": [
    "iv.estimate()"
   ]
  },
  {
   "cell_type": "code",
   "execution_count": 21,
   "metadata": {},
   "outputs": [
    {
     "data": {
      "image/png": "[encoded data removed]",
      "text/plain": [
       "<Figure size 432x288 with 1 Axes>"
      ]
     },
     "metadata": {
      "needs_background": "light"
     },
     "output_type": "display_data"
    },
    {
     "data": {
      "image/png": "[encoded data removed]",
      "text/plain": [
       "<Figure size 432x288 with 1 Axes>"
      ]
     },
     "metadata": {
      "needs_background": "light"
     },
     "output_type": "display_data"
    },
    {
     "data": {
      "image/png": "[encoded data removed]",
      "text/plain": [
       "<Figure size 432x288 with 1 Axes>"
      ]
     },
     "metadata": {
      "needs_background": "light"
     },
     "output_type": "display_data"
    }
   ],
   "source": [
    "n = 5000\n",
    "\n",
    "# Initialize exogenous variables; normal errors, uniformly distributed covariates and instruments\n",
    "e = np.random.normal(size=(n,))\n",
    "x = np.random.uniform(low=0.0, high=10.0, size=(n,))\n",
    "z = np.random.uniform(low=0.0, high=10.0, size=(n,))\n",
    "\n",
    "# Initialize treatment variable\n",
    "t = np.sqrt((x+2) * z) + e\n",
    "\n",
    "# Show the marginal distribution of t\n",
    "plt.hist(t)\n",
    "plt.xlabel(\"t\")\n",
    "plt.show()\n",
    "\n",
    "plt.scatter(z[x < 1], t[x < 1], label='low X')\n",
    "plt.scatter(z[(x > 4.5) * (x < 5.5)], t[(x > 4.5) * (x < 5.5)], label='moderate X')\n",
    "plt.scatter(z[x > 9], t[x > 9], label='high X')\n",
    "plt.legend()\n",
    "plt.xlabel(\"z\")\n",
    "plt.ylabel(\"t\")\n",
    "plt.show()\n",
    "\n",
    "# Outcome equation \n",
    "y = t*t / 10 - x*t / 10 + e\n",
    "\n",
    "# The endogeneity problem is clear, the latent error enters both treatment and outcome equally\n",
    "plt.scatter(t,z, label ='raw data')\n",
    "tticks = np.arange(-2,12)\n",
    "yticks2 = tticks*tticks/10 - 0.2 * tticks\n",
    "yticks5 = tticks*tticks/10 - 0.5 * tticks\n",
    "yticks8 = tticks*tticks/10 - 0.8 * tticks\n",
    "plt.plot(tticks,yticks2, 'r--', label = 'truth, x=2')\n",
    "plt.plot(tticks,yticks5, 'g--', label = 'truth, x=5')\n",
    "plt.plot(tticks,yticks8, 'y--', label = 'truth, x=8')\n",
    "plt.xlabel(\"t\")\n",
    "plt.ylabel(\"y\")\n",
    "plt.legend()\n",
    "plt.show()"
   ]
  },
  {
   "cell_type": "code",
   "execution_count": 23,
   "metadata": {},
   "outputs": [],
   "source": [
    "import pandas as pd\n",
    "from ylearn.estimator_model.utils import convert2tensor\n",
    "z, w, x, y = convert2tensor(z, x, t, y)\n",
    "z = z.squeeze().to(torch.float32)\n",
    "w = w.squeeze().to(torch.float32)\n",
    "x = x.squeeze().to(torch.float32)\n",
    "y = y.squeeze().to(torch.float32)\n",
    "\n",
    "data_dict = {\n",
    "    'z': z,\n",
    "    'w': x,\n",
    "    'x': t,\n",
    "    'y': y\n",
    "}\n",
    "data = pd.DataFrame(data_dict)"
   ]
  },
  {
   "cell_type": "code",
   "execution_count": 24,
   "metadata": {},
   "outputs": [
    {
     "name": "stdout",
     "output_type": "stream",
     "text": [
      "Finished 1/1 epochs | current loss -4.830622416434856\n",
      "Finished 1/1 epochs | current loss 3.792553104354691e+32\n"
     ]
    }
   ],
   "source": [
    "iv = DeepIV(num_gaussian=10)\n",
    "iv.fit(\n",
    "    data=data,\n",
    "    outcome='y',\n",
    "    treatment='x',\n",
    "    instrument='z',\n",
    "    adjustment='w',\n",
    "    sample_n=2,\n",
    "    lr=0.5,\n",
    "    epoch=1,\n",
    "    device='cpu',\n",
    "    batch_size=5000\n",
    ")"
   ]
  },
  {
   "cell_type": "code",
   "execution_count": 25,
   "metadata": {},
   "outputs": [
    {
     "data": {
      "text/plain": [
       "tensor([nan], grad_fn=<MeanBackward1>)"
      ]
     },
     "execution_count": 25,
     "metadata": {},
     "output_type": "execute_result"
    }
   ],
   "source": [
    "iv.estimate()"
   ]
  }
 ],
 "metadata": {
  "interpreter": {
   "hash": "e0ecfad75f99b8578830c76494b15e8b8f0ed30d484e3d7b0b2aac43eb800e14"
  },
  "kernelspec": {
   "display_name": "Python 3.8.12 64-bit ('causal': conda)",
   "language": "python",
   "name": "python3"
  },
  "language_info": {
   "codemirror_mode": {
    "name": "ipython",
    "version": 3
   },
   "file_extension": ".py",
   "mimetype": "text/x-python",
   "name": "python",
   "nbconvert_exporter": "python",
   "pygments_lexer": "ipython3",
   "version": "3.8.12"
  },
  "orig_nbformat": 4
 },
 "nbformat": 4,
 "nbformat_minor": 2
}
