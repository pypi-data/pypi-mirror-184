{
 "cells": [
  {
   "cell_type": "code",
   "execution_count": 1,
   "metadata": {},
   "outputs": [],
   "source": [
    "import sys\n",
    "import os\n",
    "sys.path.append(os.path.dirname(os.path.dirname(os.path.abspath('./introduction.ipynb'))))"
   ]
  },
  {
   "cell_type": "code",
   "execution_count": 2,
   "metadata": {},
   "outputs": [],
   "source": [
    "import numpy as np\n",
    "\n",
    "from ylearn.estimator_model.approximation_bound import ApproxBound\n",
    "from ylearn.exp_dataset.exp_data import meaningless_discrete_dataset_"
   ]
  },
  {
   "cell_type": "code",
   "execution_count": 3,
   "metadata": {},
   "outputs": [],
   "source": [
    "num = 1000\n",
    "np.random.seed(2022)"
   ]
  },
  {
   "cell_type": "code",
   "execution_count": 4,
   "metadata": {},
   "outputs": [
    {
     "data": {
      "text/html": [
       "<div>\n",
       "<style scoped>\n",
       "    .dataframe tbody tr th:only-of-type {\n",
       "        vertical-align: middle;\n",
       "    }\n",
       "\n",
       "    .dataframe tbody tr th {\n",
       "        vertical-align: top;\n",
       "    }\n",
       "\n",
       "    .dataframe thead th {\n",
       "        text-align: right;\n",
       "    }\n",
       "</style>\n",
       "<table border=\"1\" class=\"dataframe\">\n",
       "  <thead>\n",
       "    <tr style=\"text-align: right;\">\n",
       "      <th></th>\n",
       "      <th>treatment</th>\n",
       "      <th>w_0</th>\n",
       "      <th>w_1</th>\n",
       "      <th>w_2</th>\n",
       "      <th>outcome</th>\n",
       "    </tr>\n",
       "  </thead>\n",
       "  <tbody>\n",
       "    <tr>\n",
       "      <th>0</th>\n",
       "      <td>1</td>\n",
       "      <td>2.034978</td>\n",
       "      <td>-0.308326</td>\n",
       "      <td>-1.752033</td>\n",
       "      <td>2.934636</td>\n",
       "    </tr>\n",
       "    <tr>\n",
       "      <th>1</th>\n",
       "      <td>1</td>\n",
       "      <td>4.261300</td>\n",
       "      <td>-0.096214</td>\n",
       "      <td>-2.716450</td>\n",
       "      <td>1.434828</td>\n",
       "    </tr>\n",
       "    <tr>\n",
       "      <th>2</th>\n",
       "      <td>0</td>\n",
       "      <td>-6.224446</td>\n",
       "      <td>0.149369</td>\n",
       "      <td>-1.432466</td>\n",
       "      <td>0.582026</td>\n",
       "    </tr>\n",
       "    <tr>\n",
       "      <th>3</th>\n",
       "      <td>1</td>\n",
       "      <td>3.659339</td>\n",
       "      <td>0.239779</td>\n",
       "      <td>-0.321641</td>\n",
       "      <td>4.163927</td>\n",
       "    </tr>\n",
       "    <tr>\n",
       "      <th>4</th>\n",
       "      <td>2</td>\n",
       "      <td>-2.312492</td>\n",
       "      <td>-0.113462</td>\n",
       "      <td>-1.492318</td>\n",
       "      <td>-9.578131</td>\n",
       "    </tr>\n",
       "  </tbody>\n",
       "</table>\n",
       "</div>"
      ],
      "text/plain": [
       "   treatment       w_0       w_1       w_2   outcome\n",
       "0          1  2.034978 -0.308326 -1.752033  2.934636\n",
       "1          1  4.261300 -0.096214 -2.716450  1.434828\n",
       "2          0 -6.224446  0.149369 -1.432466  0.582026\n",
       "3          1  3.659339  0.239779 -0.321641  4.163927\n",
       "4          2 -2.312492 -0.113462 -1.492318 -9.578131"
      ]
     },
     "execution_count": 4,
     "metadata": {},
     "output_type": "execute_result"
    }
   ],
   "source": [
    "data = meaningless_discrete_dataset_(num=num,\n",
    "                                    confounder_n=3,\n",
    "                                    treatment_effct=[2, 5, -8],\n",
    "                                    random_seed=0)\n",
    "data.head()"
   ]
  },
  {
   "cell_type": "code",
   "execution_count": 5,
   "metadata": {},
   "outputs": [
    {
     "data": {
      "text/plain": [
       "1    464\n",
       "0    401\n",
       "2    135\n",
       "Name: treatment, dtype: int64"
      ]
     },
     "execution_count": 5,
     "metadata": {},
     "output_type": "execute_result"
    }
   ],
   "source": [
    "treatment = 'treatment'\n",
    "w = ['w_0', 'w_1', 'w_2']\n",
    "outcome = 'outcome'\n",
    "data[treatment].value_counts()"
   ]
  },
  {
   "cell_type": "code",
   "execution_count": 6,
   "metadata": {},
   "outputs": [],
   "source": [
    "from sklearn.linear_model import LinearRegression\n",
    "y_model = LinearRegression()\n",
    "bound = ApproxBound(y_model=y_model)"
   ]
  },
  {
   "cell_type": "code",
   "execution_count": 7,
   "metadata": {},
   "outputs": [
    {
     "data": {
      "text/plain": [
       "ApproxBound(y_model=LinearRegression(), x_prob=array([[0.401, 0.464, 0.135]]))"
      ]
     },
     "execution_count": 7,
     "metadata": {},
     "output_type": "execute_result"
    }
   ],
   "source": [
    "bound.fit(\n",
    "    data=data,\n",
    "    treatment=treatment,\n",
    "    outcome=outcome,\n",
    "    # covariate=w,\n",
    ")"
   ]
  },
  {
   "cell_type": "code",
   "execution_count": 8,
   "metadata": {},
   "outputs": [
    {
     "data": {
      "text/plain": [
       "array([0.2, 0.4])"
      ]
     },
     "execution_count": 8,
     "metadata": {},
     "output_type": "execute_result"
    }
   ],
   "source": [
    "np.unique(np.array([4, 3, 4]), return_counts=True)[1] / 5"
   ]
  },
  {
   "cell_type": "code",
   "execution_count": 9,
   "metadata": {},
   "outputs": [
    {
     "data": {
      "text/plain": [
       "(array([-7.08702912]), array([9.01130148]))"
      ]
     },
     "execution_count": 9,
     "metadata": {},
     "output_type": "execute_result"
    }
   ],
   "source": [
    "bound.estimate()"
   ]
  },
  {
   "cell_type": "code",
   "execution_count": 10,
   "metadata": {},
   "outputs": [
    {
     "data": {
      "text/plain": [
       "ApproxBound(y_model=RandomForestRegressor(), x_prob=array([[0.  , 0.99, 0.01],\n",
       "       [0.  , 0.99, 0.01],\n",
       "       [1.  , 0.  , 0.  ],\n",
       "       ...,\n",
       "       [0.  , 1.  , 0.  ],\n",
       "       [0.01, 0.99, 0.  ],\n",
       "       [0.01, 0.99, 0.  ]]), x_model=RandomForestClassifier())"
      ]
     },
     "execution_count": 10,
     "metadata": {},
     "output_type": "execute_result"
    }
   ],
   "source": [
    "from sklearn.ensemble import RandomForestClassifier, RandomForestRegressor\n",
    "\n",
    "bound1 = ApproxBound(\n",
    "    y_model=RandomForestRegressor(),\n",
    "    x_model=RandomForestClassifier()\n",
    ")\n",
    "bound1.fit(\n",
    "    data=data,\n",
    "    treatment=treatment,\n",
    "    outcome=outcome,\n",
    "    covariate=w,\n",
    ")"
   ]
  },
  {
   "cell_type": "code",
   "execution_count": 11,
   "metadata": {},
   "outputs": [],
   "source": [
    "b_l, b_u = bound1.estimate()"
   ]
  },
  {
   "cell_type": "code",
   "execution_count": 12,
   "metadata": {},
   "outputs": [
    {
     "data": {
      "text/plain": [
       "-7.126728994957785"
      ]
     },
     "execution_count": 12,
     "metadata": {},
     "output_type": "execute_result"
    }
   ],
   "source": [
    "b_l.mean()"
   ]
  },
  {
   "cell_type": "code",
   "execution_count": 13,
   "metadata": {},
   "outputs": [
    {
     "data": {
      "text/plain": [
       "8.994011617037696"
      ]
     },
     "execution_count": 13,
     "metadata": {},
     "output_type": "execute_result"
    }
   ],
   "source": [
    "b_u.mean()"
   ]
  }
 ],
 "metadata": {
  "interpreter": {
   "hash": "e0ecfad75f99b8578830c76494b15e8b8f0ed30d484e3d7b0b2aac43eb800e14"
  },
  "kernelspec": {
   "display_name": "Python 3.8.12 ('causal')",
   "language": "python",
   "name": "python3"
  },
  "language_info": {
   "codemirror_mode": {
    "name": "ipython",
    "version": 3
   },
   "file_extension": ".py",
   "mimetype": "text/x-python",
   "name": "python",
   "nbconvert_exporter": "python",
   "pygments_lexer": "ipython3",
   "version": "3.8.12"
  },
  "orig_nbformat": 4
 },
 "nbformat": 4,
 "nbformat_minor": 2
}
