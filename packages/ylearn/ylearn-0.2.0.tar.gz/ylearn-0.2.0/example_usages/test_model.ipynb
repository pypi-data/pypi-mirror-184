{
 "cells": [
  {
   "cell_type": "code",
   "execution_count": 1,
   "metadata": {},
   "outputs": [],
   "source": [
    "import sys\n",
    "import os\n",
    "sys.path.append(os.path.dirname(os.path.dirname(os.path.abspath('./introduction.ipynb'))))"
   ]
  },
  {
   "cell_type": "code",
   "execution_count": 2,
   "metadata": {},
   "outputs": [],
   "source": [
    "import networkx as nx\n",
    "from ylearn.causal_model import model, graph"
   ]
  },
  {
   "cell_type": "markdown",
   "metadata": {},
   "source": [
    "## The first test example of the id method. \n",
    "\n",
    "### Initialization."
   ]
  },
  {
   "cell_type": "code",
   "execution_count": 3,
   "metadata": {},
   "outputs": [],
   "source": [
    "# Construct the causal graph for the causal model\n",
    "causation = {\n",
    "    'X': ['W'],\n",
    "    'Z': ['X', 'W'],\n",
    "    'W': [],\n",
    "    'Y': ['Z'],\n",
    "}\n",
    "arc = [('X', 'Y')]\n",
    "cg = graph.CausalGraph(causation, latent_confounding_arcs=arc)"
   ]
  },
  {
   "cell_type": "code",
   "execution_count": 4,
   "metadata": {},
   "outputs": [],
   "source": [
    "cm = model.CausalModel(causal_graph=cg)"
   ]
  },
  {
   "cell_type": "markdown",
   "metadata": {},
   "source": [
    "### id method."
   ]
  },
  {
   "cell_type": "code",
   "execution_count": 5,
   "metadata": {},
   "outputs": [],
   "source": [
    "# Test the identification method\n",
    "p = cm.id({'Y'}, {'X'})"
   ]
  },
  {
   "cell_type": "code",
   "execution_count": 6,
   "metadata": {},
   "outputs": [
    {
     "data": {
      "text/latex": [
       "$\\sum_{Z, W}\\left[P(W)\\right]\\left[\\left[P(Z|X, W)\\right]\\right]\\left[\\sum_{X}\\left[P(Y|Z, X, W)\\right]\\left[P(X|W)\\right]\\right]$"
      ],
      "text/plain": [
       "<IPython.core.display.Latex object>"
      ]
     },
     "execution_count": 6,
     "metadata": {},
     "output_type": "execute_result"
    }
   ],
   "source": [
    "causation = {\n",
    "    'X': ['W'],\n",
    "    'Z': ['X', 'W'],\n",
    "    'W': [],\n",
    "    'Y': ['Z'],\n",
    "}\n",
    "arc = [('X', 'Y')]\n",
    "cg = graph.CausalGraph(causation, latent_confounding_arcs=arc)\n",
    "p = cm.id({'Y'}, {'X'})\n",
    "p.show_latex_expression()"
   ]
  },
  {
   "cell_type": "code",
   "execution_count": 7,
   "metadata": {},
   "outputs": [
    {
     "name": "stdout",
     "output_type": "stream",
     "text": [
      "\\sum_{Z, W}\\left[P(W)\\right]\\left[\\left[P(Z|X, W)\\right]\\right]\\left[\\sum_{X}\\left[P(Y|Z, X, W)\\right]\\left[P(X|W)\\right]\\right]\n"
     ]
    }
   ],
   "source": [
    "print(p.parse())"
   ]
  },
  {
   "cell_type": "markdown",
   "metadata": {},
   "source": [
    "### Final result.\n",
    "\n",
    "The above expressions are combined to give the final result:\n",
    "\n",
    "\\begin{equation}\n",
    "P(y|do(x)) = \\sum_{w, z} P(w)P(z|x, w)\\sum_{x} P(x|w)P(y|x,w,z)\n",
    "\\end{equation}\n",
    "\n",
    "Exactly the desired one."
   ]
  },
  {
   "cell_type": "markdown",
   "metadata": {},
   "source": [
    "## The second test example of the id method."
   ]
  },
  {
   "cell_type": "code",
   "execution_count": 8,
   "metadata": {},
   "outputs": [],
   "source": [
    "causation1 = {\n",
    "    'X': ['Z1'],\n",
    "    'Z1': [],\n",
    "    'Z2': ['X'],\n",
    "    'Y': ['Z2'],\n",
    "}\n",
    "arcs1 = [('X', 'Z1'), ('Z1', 'Z2'), ('Z1', 'Y'), ('X', 'Y')]\n",
    "cg1 = graph.CausalGraph(causation1, latent_confounding_arcs=arcs1)\n",
    "cm1 = model.CausalModel(cg1)"
   ]
  },
  {
   "cell_type": "code",
   "execution_count": 9,
   "metadata": {},
   "outputs": [
    {
     "ename": "IdentificationError",
     "evalue": "The causal effect is not identifiable in thecurrent graph.",
     "output_type": "error",
     "traceback": [
      "\u001b[0;31m---------------------------------------------------------------------------\u001b[0m",
      "\u001b[0;31mIdentificationError\u001b[0m                       Traceback (most recent call last)",
      "\u001b[0;32m/var/folders/sf/4v_dc8756mb7lsc2stqj1zjw0000gn/T/ipykernel_11285/4082988497.py\u001b[0m in \u001b[0;36m<module>\u001b[0;34m\u001b[0m\n\u001b[0;32m----> 1\u001b[0;31m \u001b[0mcm1\u001b[0m\u001b[0;34m.\u001b[0m\u001b[0mid\u001b[0m\u001b[0;34m(\u001b[0m\u001b[0;34m{\u001b[0m\u001b[0;34m'Y'\u001b[0m\u001b[0;34m}\u001b[0m\u001b[0;34m,\u001b[0m \u001b[0;34m{\u001b[0m\u001b[0;34m'X'\u001b[0m\u001b[0;34m}\u001b[0m\u001b[0;34m)\u001b[0m\u001b[0;34m\u001b[0m\u001b[0;34m\u001b[0m\u001b[0m\n\u001b[0m",
      "\u001b[0;32m~/Documents/DataCanvas/ylearn/ylearn/causal_model/model.py\u001b[0m in \u001b[0;36mid\u001b[0;34m(self, y, x, prob, graph)\u001b[0m\n\u001b[1;32m    165\u001b[0m         )\n\u001b[1;32m    166\u001b[0m         \u001b[0;32mif\u001b[0m \u001b[0mw\u001b[0m\u001b[0;34m:\u001b[0m\u001b[0;34m\u001b[0m\u001b[0;34m\u001b[0m\u001b[0m\n\u001b[0;32m--> 167\u001b[0;31m             \u001b[0;32mreturn\u001b[0m \u001b[0mself\u001b[0m\u001b[0;34m.\u001b[0m\u001b[0mid\u001b[0m\u001b[0;34m(\u001b[0m\u001b[0my\u001b[0m\u001b[0;34m,\u001b[0m \u001b[0mx\u001b[0m\u001b[0;34m.\u001b[0m\u001b[0munion\u001b[0m\u001b[0;34m(\u001b[0m\u001b[0mw\u001b[0m\u001b[0;34m)\u001b[0m\u001b[0;34m,\u001b[0m \u001b[0mprob\u001b[0m\u001b[0;34m,\u001b[0m \u001b[0mgraph\u001b[0m\u001b[0;34m)\u001b[0m\u001b[0;34m\u001b[0m\u001b[0;34m\u001b[0m\u001b[0m\n\u001b[0m\u001b[1;32m    168\u001b[0m \u001b[0;34m\u001b[0m\u001b[0m\n\u001b[1;32m    169\u001b[0m         \u001b[0;31m# 4\u001b[0m\u001b[0;34m\u001b[0m\u001b[0;34m\u001b[0m\u001b[0;34m\u001b[0m\u001b[0m\n",
      "\u001b[0;32m~/Documents/DataCanvas/ylearn/ylearn/causal_model/model.py\u001b[0m in \u001b[0;36mid\u001b[0;34m(self, y, x, prob, graph)\u001b[0m\n\u001b[1;32m    173\u001b[0m             \u001b[0;32mfor\u001b[0m \u001b[0msubset\u001b[0m \u001b[0;32min\u001b[0m \u001b[0mc\u001b[0m\u001b[0;34m:\u001b[0m\u001b[0;34m\u001b[0m\u001b[0;34m\u001b[0m\u001b[0m\n\u001b[1;32m    174\u001b[0m                 product_expressioin.add(\n\u001b[0;32m--> 175\u001b[0;31m                     \u001b[0mself\u001b[0m\u001b[0;34m.\u001b[0m\u001b[0mid\u001b[0m\u001b[0;34m(\u001b[0m\u001b[0msubset\u001b[0m\u001b[0;34m,\u001b[0m \u001b[0mv\u001b[0m\u001b[0;34m.\u001b[0m\u001b[0mdifference\u001b[0m\u001b[0;34m(\u001b[0m\u001b[0msubset\u001b[0m\u001b[0;34m)\u001b[0m\u001b[0;34m,\u001b[0m \u001b[0mprob\u001b[0m\u001b[0;34m,\u001b[0m \u001b[0mgraph\u001b[0m\u001b[0;34m)\u001b[0m\u001b[0;34m\u001b[0m\u001b[0;34m\u001b[0m\u001b[0m\n\u001b[0m\u001b[1;32m    176\u001b[0m                 )\n\u001b[1;32m    177\u001b[0m             return Prob(\n",
      "\u001b[0;32m~/Documents/DataCanvas/ylearn/ylearn/causal_model/model.py\u001b[0m in \u001b[0;36mid\u001b[0;34m(self, y, x, prob, graph)\u001b[0m\n\u001b[1;32m    158\u001b[0m             \u001b[0;32melse\u001b[0m\u001b[0;34m:\u001b[0m\u001b[0;34m\u001b[0m\u001b[0;34m\u001b[0m\u001b[0m\n\u001b[1;32m    159\u001b[0m                 \u001b[0mprob_\u001b[0m\u001b[0;34m.\u001b[0m\u001b[0mvariables\u001b[0m \u001b[0;34m=\u001b[0m \u001b[0mancestor\u001b[0m\u001b[0;34m\u001b[0m\u001b[0;34m\u001b[0m\u001b[0m\n\u001b[0;32m--> 160\u001b[0;31m             \u001b[0;32mreturn\u001b[0m \u001b[0mself\u001b[0m\u001b[0;34m.\u001b[0m\u001b[0mid\u001b[0m\u001b[0;34m(\u001b[0m\u001b[0my\u001b[0m\u001b[0;34m,\u001b[0m \u001b[0mx\u001b[0m\u001b[0;34m.\u001b[0m\u001b[0mintersection\u001b[0m\u001b[0;34m(\u001b[0m\u001b[0mancestor\u001b[0m\u001b[0;34m)\u001b[0m\u001b[0;34m,\u001b[0m \u001b[0mprob_\u001b[0m\u001b[0;34m,\u001b[0m \u001b[0man_graph\u001b[0m\u001b[0;34m)\u001b[0m\u001b[0;34m\u001b[0m\u001b[0;34m\u001b[0m\u001b[0m\n\u001b[0m\u001b[1;32m    161\u001b[0m \u001b[0;34m\u001b[0m\u001b[0m\n\u001b[1;32m    162\u001b[0m         \u001b[0;31m# 3\u001b[0m\u001b[0;34m\u001b[0m\u001b[0;34m\u001b[0m\u001b[0;34m\u001b[0m\u001b[0m\n",
      "\u001b[0;32m~/Documents/DataCanvas/ylearn/ylearn/causal_model/model.py\u001b[0m in \u001b[0;36mid\u001b[0;34m(self, y, x, prob, graph)\u001b[0m\n\u001b[1;32m    183\u001b[0m             \u001b[0;31m# 5\u001b[0m\u001b[0;34m\u001b[0m\u001b[0;34m\u001b[0m\u001b[0;34m\u001b[0m\u001b[0m\n\u001b[1;32m    184\u001b[0m             \u001b[0;32mif\u001b[0m \u001b[0mcg\u001b[0m\u001b[0;34m[\u001b[0m\u001b[0;36m0\u001b[0m\u001b[0;34m]\u001b[0m \u001b[0;34m==\u001b[0m \u001b[0mset\u001b[0m\u001b[0;34m(\u001b[0m\u001b[0mgraph\u001b[0m\u001b[0;34m.\u001b[0m\u001b[0mdag\u001b[0m\u001b[0;34m.\u001b[0m\u001b[0mnodes\u001b[0m\u001b[0;34m)\u001b[0m\u001b[0;34m:\u001b[0m\u001b[0;34m\u001b[0m\u001b[0;34m\u001b[0m\u001b[0m\n\u001b[0;32m--> 185\u001b[0;31m                 raise IdentificationError(\n\u001b[0m\u001b[1;32m    186\u001b[0m                     \u001b[0;34m'The causal effect is not identifiable in the'\u001b[0m\u001b[0;34m\u001b[0m\u001b[0;34m\u001b[0m\u001b[0m\n\u001b[1;32m    187\u001b[0m                     \u001b[0;34m'current graph.'\u001b[0m\u001b[0;34m\u001b[0m\u001b[0;34m\u001b[0m\u001b[0m\n",
      "\u001b[0;31mIdentificationError\u001b[0m: The causal effect is not identifiable in thecurrent graph."
     ]
    }
   ],
   "source": [
    "cm1.id({'Y'}, {'X'})"
   ]
  },
  {
   "cell_type": "markdown",
   "metadata": {},
   "source": [
    "#### The causal effect in the above example can not be identified. The id method gives us exactly what we want.\n",
    "\n",
    "### Test another one."
   ]
  },
  {
   "cell_type": "code",
   "execution_count": 3,
   "metadata": {},
   "outputs": [],
   "source": [
    "from ylearn.causal_model.model import CausalModel\n",
    "causation5 = {\n",
    "    'X': ['Z2'],\n",
    "    'Y': ['Z1', 'Z3'],\n",
    "    'Z1': ['X', 'Z2'],\n",
    "    'Z2': [],\n",
    "    'Z3': ['Z2']\n",
    "}\n",
    "arcs5 = [('X', 'Z2'), ('X', 'Y'), ('X', 'Z3'), ('Z2', 'Y')]\n",
    "cg5 = graph.CausalGraph(causation5, latent_confounding_arcs=arcs5)\n",
    "cm5 = model.CausalModel(cg5)\n",
    "p5 = cm5.id({'Y'}, {'X'})"
   ]
  },
  {
   "cell_type": "code",
   "execution_count": 4,
   "metadata": {},
   "outputs": [],
   "source": [
    "cm = CausalModel(cg5)"
   ]
  },
  {
   "cell_type": "code",
   "execution_count": 7,
   "metadata": {},
   "outputs": [
    {
     "data": {
      "text/latex": [
       "$\\sum_{Z3, Z1, Z2}\\left[\\left[P(Z2)\\right]\\left[P(Y|Z3, Z2)\\right]\\right]\\left[\\left[P(Z1|Z2, X)\\right]\\right]\\left[\\left[P(Z3|Z2)\\right]\\right]$"
      ],
      "text/plain": [
       "<IPython.core.display.Latex object>"
      ]
     },
     "execution_count": 7,
     "metadata": {},
     "output_type": "execute_result"
    }
   ],
   "source": [
    "stat_estimand = cm.id(y={'Y'}, x={'X'})\n",
    "stat_estimand.show_latex_expression()"
   ]
  },
  {
   "cell_type": "code",
   "execution_count": 11,
   "metadata": {},
   "outputs": [
    {
     "data": {
      "text/latex": [
       "$\\sum_{Z2, Z3, Z1}\\left[\\left[P(Z1|Z2, X)\\right]\\right]\\left[\\left[P(Z2)\\right]\\left[P(Y|Z2, Z3)\\right]\\right]\\left[\\left[P(Z3|Z2)\\right]\\right]$"
      ],
      "text/plain": [
       "<IPython.core.display.Latex object>"
      ]
     },
     "execution_count": 11,
     "metadata": {},
     "output_type": "execute_result"
    }
   ],
   "source": [
    "p5.show_latex_expression()"
   ]
  },
  {
   "cell_type": "markdown",
   "metadata": {},
   "source": [
    "#### The next example can be done with the frontdoor adjustment, we check wether the result returned by the id method will conincide with that returned by the frontdoor adjustment."
   ]
  },
  {
   "cell_type": "code",
   "execution_count": 12,
   "metadata": {},
   "outputs": [
    {
     "data": {
      "text/plain": [
       "<ylearn.causal_model.prob.Prob at 0x7fc93c775370>"
      ]
     },
     "execution_count": 12,
     "metadata": {},
     "output_type": "execute_result"
    }
   ],
   "source": [
    "causation6 = {\n",
    "    'X': [],\n",
    "    'Y': ['Z'],\n",
    "    'Z': ['X'],\n",
    "}\n",
    "arcs6 = [('X', 'Y')]\n",
    "cg6 = graph.CausalGraph(causation6, latent_confounding_arcs=arcs6)\n",
    "cm6 = model.CausalModel(cg6)\n",
    "p6 = cm6.id('Y', 'X')\n",
    "p6"
   ]
  },
  {
   "cell_type": "code",
   "execution_count": 13,
   "metadata": {},
   "outputs": [
    {
     "data": {
      "text/latex": [
       "$\\sum_{Z}\\left[\\sum_{X}\\left[P(Y|Z, X)\\right]\\left[P(X)\\right]\\right]\\left[\\left[P(Z|X)\\right]\\right]$"
      ],
      "text/plain": [
       "<IPython.core.display.Latex object>"
      ]
     },
     "execution_count": 13,
     "metadata": {},
     "output_type": "execute_result"
    }
   ],
   "source": [
    "p6.show_latex_expression()"
   ]
  },
  {
   "cell_type": "code",
   "execution_count": 14,
   "metadata": {},
   "outputs": [
    {
     "data": {
      "text/plain": [
       "{'W', 'Z'}"
      ]
     },
     "execution_count": 14,
     "metadata": {},
     "output_type": "execute_result"
    }
   ],
   "source": [
    "p.marginal"
   ]
  },
  {
   "cell_type": "code",
   "execution_count": 15,
   "metadata": {},
   "outputs": [
    {
     "name": "stdout",
     "output_type": "stream",
     "text": [
      "\\sum_{Z, W}\\left[P(W)\\right]\\left[\\left[P(Z|X, W)\\right]\\right]\\left[\\sum_{X}\\left[P(Y|Z, X, W)\\right]\\left[P(X|W)\\right]\\right]\n"
     ]
    }
   ],
   "source": [
    "print(p.parse())"
   ]
  },
  {
   "cell_type": "markdown",
   "metadata": {},
   "source": [
    "$\\sum_{Z}\\left[\\left[P(Z|X)\\right]\\right]\\left[\\sum_{X}\\left[P(Y|X, Z)\\right]\\left[P(X)\\right]\\right]$"
   ]
  },
  {
   "cell_type": "markdown",
   "metadata": {},
   "source": [
    "The above result will be converted to the following probability expression\n",
    "\n",
    "\\begin{align*}\n",
    "    P(y|do(x)) & = \\sum_{z} \\sum_x P(x)P(y|x, z) P(z|x)\\\\\n",
    "                & = \\sum_{z} P(y|z) P(z|x)\n",
    "\\end{align*}\n",
    "This is correct."
   ]
  },
  {
   "cell_type": "markdown",
   "metadata": {},
   "source": [
    "## Now we run one more example."
   ]
  },
  {
   "cell_type": "code",
   "execution_count": 17,
   "metadata": {},
   "outputs": [],
   "source": [
    "causation2 = {\n",
    "    'W1': [],\n",
    "    'W2': [],\n",
    "    'X': ['W1'],\n",
    "    'Y1': ['X'],\n",
    "    'Y2': ['W2']\n",
    "}\n",
    "arcs2 = [('W1', 'Y1'), ('W1', 'W2'), ('W1', 'Y2'), ('W1', 'Y1')]\n",
    "cg2 = graph.CausalGraph(causation2, latent_confounding_arcs=arcs2)\n",
    "cm2 = model.CausalModel(cg2)"
   ]
  },
  {
   "cell_type": "code",
   "execution_count": 18,
   "metadata": {},
   "outputs": [],
   "source": [
    "p2 = cm2.id({'Y1', 'Y2'}, {'X'})"
   ]
  },
  {
   "cell_type": "code",
   "execution_count": 19,
   "metadata": {},
   "outputs": [
    {
     "data": {
      "text/latex": [
       "$\\sum_{W2}\\left[\\left[P(Y2|W2)\\right]\\right]\\left[\\sum_{W1}\\left[P(W1)\\right]\\left[P(Y1|X, W1)\\right]\\right]\\left[P(W2)\\right]$"
      ],
      "text/plain": [
       "<IPython.core.display.Latex object>"
      ]
     },
     "execution_count": 19,
     "metadata": {},
     "output_type": "execute_result"
    }
   ],
   "source": [
    "p2.show_latex_expression()"
   ]
  },
  {
   "cell_type": "code",
   "execution_count": 20,
   "metadata": {},
   "outputs": [
    {
     "name": "stdout",
     "output_type": "stream",
     "text": [
      "\\sum_{W2}\\left[\\left[P(Y2|W2)\\right]\\right]\\left[\\sum_{W1}\\left[P(W1)\\right]\\left[P(Y1|X, W1)\\right]\\right]\\left[P(W2)\\right]\n"
     ]
    }
   ],
   "source": [
    "print(p2.parse())"
   ]
  },
  {
   "cell_type": "markdown",
   "metadata": {},
   "source": [
    "$\\sum_{W2}\\left[P(W2)\\right]\\left[\\sum_{W1}\\left[P(Y1|X, W1)\\right]\\left[P(W1)\\right]\\right]\\left[\\left[P(Y2|W2)\\right]\\right]$"
   ]
  },
  {
   "cell_type": "code",
   "execution_count": 22,
   "metadata": {},
   "outputs": [
    {
     "data": {
      "text/plain": [
       "{'W2', 'X', 'Y1', 'Y2'}"
      ]
     },
     "execution_count": 22,
     "metadata": {},
     "output_type": "execute_result"
    }
   ],
   "source": [
    "cm2.causal_graph.remove_incoming_edges({'X'}, new=True).ancestors({'Y1', 'Y2'})"
   ]
  },
  {
   "cell_type": "code",
   "execution_count": 23,
   "metadata": {},
   "outputs": [
    {
     "data": {
      "text/plain": [
       "[{'Y1'}, {'W2'}, {'Y2'}]"
      ]
     },
     "execution_count": 23,
     "metadata": {},
     "output_type": "execute_result"
    }
   ],
   "source": [
    "list(cm2.causal_graph.remove_nodes({'X', 'W1'}, new=True).c_components)"
   ]
  },
  {
   "cell_type": "markdown",
   "metadata": {},
   "source": [
    "The above result gives us the following expression\n",
    "\n",
    "\\begin{align*}\n",
    "    P(y_1, y_2 |do(x)) &= \\sum_{w_2} P(y_2|w_2)\\sum_{w_1}P(w_1)P(y_1|w_1, x)P(w_2) \\\\\n",
    "                        & = \\sum_{w_2}P(y_2, w_2)\\sum_{w_1}P(w_1)P(y_1|w_1, x)\n",
    "\\end{align*}\n",
    "\n",
    "Also correct."
   ]
  },
  {
   "cell_type": "markdown",
   "metadata": {},
   "source": [
    "# We now test other methods.\n",
    "\n",
    "## Start from the backdoor."
   ]
  },
  {
   "cell_type": "code",
   "execution_count": 8,
   "metadata": {},
   "outputs": [],
   "source": [
    "import networkx as nx\n",
    "from ylearn.causal_model import model, graph\n",
    "causation3 = {\n",
    "    'X1': [],\n",
    "    'X2': [],\n",
    "    'X3': ['X1'],\n",
    "    'X4': ['X1', 'X2'],\n",
    "    'X5': ['X2'],\n",
    "    'X6': ['X'],\n",
    "    'X': ['X3', 'X4'],\n",
    "    'Y': ['X6', 'X4', 'X5', 'X']\n",
    "}\n",
    "cg3 = graph.CausalGraph(causation3)\n",
    "cm3 = model.CausalModel(cg3)"
   ]
  },
  {
   "cell_type": "code",
   "execution_count": 19,
   "metadata": {},
   "outputs": [],
   "source": [
    "backdoor_set, prob = cm3.identify(treatment={'X'}, outcome={'Y'}, identify_method=('backdoor', 'simple'))['backdoor']"
   ]
  },
  {
   "cell_type": "code",
   "execution_count": 20,
   "metadata": {},
   "outputs": [
    {
     "name": "stdout",
     "output_type": "stream",
     "text": [
      "['X3', 'X4']\n"
     ]
    }
   ],
   "source": [
    "print(backdoor_set)"
   ]
  },
  {
   "cell_type": "code",
   "execution_count": 9,
   "metadata": {},
   "outputs": [],
   "source": [
    "ad, p3 = list(cm3.identify({'X'}, {'Y'}, identify_method=('backdoor', 'simple')).values())[0]"
   ]
  },
  {
   "cell_type": "code",
   "execution_count": 10,
   "metadata": {},
   "outputs": [
    {
     "data": {
      "text/latex": [
       "$\\sum_{X3, X4}\\left[P(Y|X3, X4, X)\\right]\\left[P(X3, X4)\\right]$"
      ],
      "text/plain": [
       "<IPython.core.display.Latex object>"
      ]
     },
     "execution_count": 10,
     "metadata": {},
     "output_type": "execute_result"
    }
   ],
   "source": [
    "p3.show_latex_expression()"
   ]
  },
  {
   "cell_type": "code",
   "execution_count": 28,
   "metadata": {},
   "outputs": [
    {
     "data": {
      "text/plain": [
       "{'backdoor': ([{'X3', 'X4'},\n",
       "   {'X1', 'X4'},\n",
       "   {'X2', 'X4'},\n",
       "   {'X4', 'X5'},\n",
       "   {'X1', 'X3', 'X4'},\n",
       "   {'X2', 'X3', 'X4'},\n",
       "   {'X3', 'X4', 'X5'},\n",
       "   {'X1', 'X2', 'X4'},\n",
       "   {'X1', 'X4', 'X5'},\n",
       "   {'X2', 'X4', 'X5'},\n",
       "   {'X1', 'X2', 'X3', 'X4'},\n",
       "   {'X1', 'X3', 'X4', 'X5'},\n",
       "   {'X2', 'X3', 'X4', 'X5'},\n",
       "   {'X1', 'X2', 'X4', 'X5'},\n",
       "   {'X1', 'X2', 'X3', 'X4', 'X5'}],\n",
       "  <ylearn.causal_model.prob.Prob at 0x7fc93c7fbdc0>)}"
      ]
     },
     "execution_count": 28,
     "metadata": {},
     "output_type": "execute_result"
    }
   ],
   "source": [
    "cm3.identify({'X'}, {'Y'}, identify_method=('backdoor', 'all'))"
   ]
  },
  {
   "cell_type": "code",
   "execution_count": 29,
   "metadata": {},
   "outputs": [
    {
     "data": {
      "text/plain": [
       "{'backdoor': ([{'X3', 'X4'}],\n",
       "  <ylearn.causal_model.prob.Prob at 0x7fc93c82e220>)}"
      ]
     },
     "execution_count": 29,
     "metadata": {},
     "output_type": "execute_result"
    }
   ],
   "source": [
    "cm3.identify({'X'}, {'Y'}, identify_method=('backdoor', 'minimal'))"
   ]
  },
  {
   "cell_type": "markdown",
   "metadata": {},
   "source": [
    "### Verified. Now test other methods related to backdoor adjustment."
   ]
  },
  {
   "cell_type": "code",
   "execution_count": 30,
   "metadata": {},
   "outputs": [
    {
     "data": {
      "text/plain": [
       "True"
      ]
     },
     "execution_count": 30,
     "metadata": {},
     "output_type": "execute_result"
    }
   ],
   "source": [
    "cm3.is_valid_backdoor_set({'X1', 'X4'}, {'X'}, {'Y'})"
   ]
  },
  {
   "cell_type": "code",
   "execution_count": 31,
   "metadata": {},
   "outputs": [
    {
     "data": {
      "text/plain": [
       "False"
      ]
     },
     "execution_count": 31,
     "metadata": {},
     "output_type": "execute_result"
    }
   ],
   "source": [
    "cm3.is_valid_backdoor_set({'X4'}, 'X', 'Y')"
   ]
  },
  {
   "cell_type": "code",
   "execution_count": 32,
   "metadata": {},
   "outputs": [
    {
     "data": {
      "text/plain": [
       "[['X', 'X3', 'X1', 'X4', 'Y'],\n",
       " ['X', 'X3', 'X1', 'X4', 'X2', 'X5', 'Y'],\n",
       " ['X', 'X4', 'Y'],\n",
       " ['X', 'X4', 'X2', 'X5', 'Y']]"
      ]
     },
     "execution_count": 32,
     "metadata": {},
     "output_type": "execute_result"
    }
   ],
   "source": [
    "cm3.get_backdoor_path('X', 'Y')"
   ]
  },
  {
   "cell_type": "code",
   "execution_count": 33,
   "metadata": {},
   "outputs": [
    {
     "data": {
      "text/plain": [
       "True"
      ]
     },
     "execution_count": 33,
     "metadata": {},
     "output_type": "execute_result"
    }
   ],
   "source": [
    "cm3.has_collider(['X', 'X3', 'X1', 'X4', 'X2', 'X5', 'Y'])"
   ]
  },
  {
   "cell_type": "code",
   "execution_count": 34,
   "metadata": {},
   "outputs": [
    {
     "data": {
      "text/plain": [
       "True"
      ]
     },
     "execution_count": 34,
     "metadata": {},
     "output_type": "execute_result"
    }
   ],
   "source": [
    "cm3.is_connected_backdoor_path(['X', 'X4', 'X2', 'X5', 'Y'])"
   ]
  },
  {
   "cell_type": "markdown",
   "metadata": {},
   "source": [
    "## Now test methods related to frontdoor adjustment."
   ]
  },
  {
   "cell_type": "code",
   "execution_count": 35,
   "metadata": {},
   "outputs": [],
   "source": [
    "causation4 = {\n",
    "    'X': [],\n",
    "    'Z': ['X'],\n",
    "    'Y': ['Z']\n",
    "}\n",
    "arcs4 = [('X', 'Y')]\n",
    "cg4 = graph.CausalGraph(causation4, latent_confounding_arcs=arcs4)\n",
    "cm4 = model.CausalModel(cg4)"
   ]
  },
  {
   "cell_type": "code",
   "execution_count": 36,
   "metadata": {},
   "outputs": [
    {
     "data": {
      "text/plain": [
       "[['X', 'U0', 'Y', 'Z']]"
      ]
     },
     "execution_count": 36,
     "metadata": {},
     "output_type": "execute_result"
    }
   ],
   "source": [
    "cm4.get_backdoor_path('X', 'Z')"
   ]
  },
  {
   "cell_type": "code",
   "execution_count": 38,
   "metadata": {},
   "outputs": [
    {
     "data": {
      "text/plain": [
       "False"
      ]
     },
     "execution_count": 38,
     "metadata": {},
     "output_type": "execute_result"
    }
   ],
   "source": [
    "cm4.has_collider(['Z', 'X', 'U0', 'Y'])"
   ]
  },
  {
   "cell_type": "code",
   "execution_count": 40,
   "metadata": {},
   "outputs": [
    {
     "data": {
      "text/plain": [
       "True"
      ]
     },
     "execution_count": 40,
     "metadata": {},
     "output_type": "execute_result"
    }
   ],
   "source": [
    "cm4.is_connected_backdoor_path(['Z', 'X', 'U0', 'Y'])"
   ]
  },
  {
   "cell_type": "code",
   "execution_count": 41,
   "metadata": {},
   "outputs": [
    {
     "data": {
      "text/plain": [
       "True"
      ]
     },
     "execution_count": 41,
     "metadata": {},
     "output_type": "execute_result"
    }
   ],
   "source": [
    "cm4.is_valid_backdoor_set({'X'}, {'Z'}, {'Y'})"
   ]
  },
  {
   "cell_type": "code",
   "execution_count": 42,
   "metadata": {},
   "outputs": [
    {
     "data": {
      "text/plain": [
       "True"
      ]
     },
     "execution_count": 42,
     "metadata": {},
     "output_type": "execute_result"
    }
   ],
   "source": [
    "cm4.is_frontdoor_set({'Z'}, 'X', 'Y')"
   ]
  },
  {
   "cell_type": "code",
   "execution_count": 43,
   "metadata": {},
   "outputs": [],
   "source": [
    "z, p = cm4.get_frontdoor_set('X', 'Y')"
   ]
  },
  {
   "cell_type": "code",
   "execution_count": 44,
   "metadata": {},
   "outputs": [
    {
     "data": {
      "text/latex": [
       "$\\sum_{Z}\\left[\\sum_{X}\\left[P(X)\\right]\\left[P(Y|Z, X)\\right]\\right]\\left[P(Z|X)\\right]$"
      ],
      "text/plain": [
       "<IPython.core.display.Latex object>"
      ]
     },
     "execution_count": 44,
     "metadata": {},
     "output_type": "execute_result"
    }
   ],
   "source": [
    "p.show_latex_expression()"
   ]
  },
  {
   "cell_type": "code",
   "execution_count": 45,
   "metadata": {},
   "outputs": [
    {
     "name": "stdout",
     "output_type": "stream",
     "text": [
      "\\sum_{Z}\\left[\\sum_{X}\\left[P(X)\\right]\\left[P(Y|Z, X)\\right]\\right]\\left[P(Z|X)\\right]\n"
     ]
    }
   ],
   "source": [
    "print(p.parse())"
   ]
  },
  {
   "cell_type": "markdown",
   "metadata": {},
   "source": [
    "$\\sum_{Z}\\left[P(Z|X)\\right]\\left[\\sum_{X}\\left[P(Y|Z, X)\\right]\\left[P(X)\\right]\\right]$"
   ]
  },
  {
   "cell_type": "code",
   "execution_count": 46,
   "metadata": {},
   "outputs": [
    {
     "data": {
      "text/latex": [
       "$\\sum_{Z}\\left[\\sum_{X}\\left[P(X)\\right]\\left[P(Y|Z, X)\\right]\\right]\\left[P(Z|X)\\right]$"
      ],
      "text/plain": [
       "<IPython.core.display.Latex object>"
      ]
     },
     "execution_count": 46,
     "metadata": {},
     "output_type": "execute_result"
    }
   ],
   "source": [
    "p.show_latex_expression()"
   ]
  },
  {
   "cell_type": "markdown",
   "metadata": {},
   "source": [
    "## Let's see if our tool can be used in a previous paper (https://arxiv.org/pdf/2009.13000.pdf). "
   ]
  },
  {
   "cell_type": "code",
   "execution_count": 47,
   "metadata": {},
   "outputs": [],
   "source": [
    "cau = {\n",
    "    'D': [],\n",
    "    'C': ['D', 'X'],\n",
    "    'X': ['D'],\n",
    "    'Y': ['C', 'X']\n",
    "}\n",
    "cgg = graph.CausalGraph(causation=cau)\n",
    "cmm = model.CausalModel(cgg)"
   ]
  },
  {
   "cell_type": "code",
   "execution_count": 48,
   "metadata": {},
   "outputs": [],
   "source": [
    "ppp = cmm.id({'Y'}, {'X'})"
   ]
  },
  {
   "cell_type": "code",
   "execution_count": 49,
   "metadata": {},
   "outputs": [
    {
     "data": {
      "text/latex": [
       "$\\sum_{C, D}\\left[\\left[P(C|X, D)\\right]\\right]\\left[\\left[P(Y|C, X, D)\\right]\\right]\\left[P(D)\\right]$"
      ],
      "text/plain": [
       "<IPython.core.display.Latex object>"
      ]
     },
     "execution_count": 49,
     "metadata": {},
     "output_type": "execute_result"
    }
   ],
   "source": [
    "ppp.show_latex_expression()"
   ]
  },
  {
   "cell_type": "markdown",
   "metadata": {},
   "source": [
    "## Exactly what we want."
   ]
  },
  {
   "cell_type": "markdown",
   "metadata": {},
   "source": [
    "### Now we test methods related to iv"
   ]
  },
  {
   "cell_type": "code",
   "execution_count": 22,
   "metadata": {},
   "outputs": [],
   "source": [
    "causation7 = {\n",
    "    'p':[],\n",
    "    't': ['p'],\n",
    "    'l': ['p'],\n",
    "    'g': ['t', 'l']\n",
    "}\n",
    "arc7 = [('t', 'g')]\n",
    "cg7 = graph.CausalGraph(causation=causation7, latent_confounding_arcs=arc7)\n",
    "cm7 = model.CausalModel(causal_graph=cg7)"
   ]
  },
  {
   "cell_type": "code",
   "execution_count": 23,
   "metadata": {},
   "outputs": [
    {
     "name": "stdout",
     "output_type": "stream",
     "text": [
      "No valid instrument variable has been found.\n"
     ]
    }
   ],
   "source": [
    "cm7.get_iv('t', 'g')"
   ]
  },
  {
   "cell_type": "code",
   "execution_count": 24,
   "metadata": {},
   "outputs": [
    {
     "data": {
      "text/plain": [
       "{'p'}"
      ]
     },
     "execution_count": 24,
     "metadata": {},
     "output_type": "execute_result"
    }
   ],
   "source": [
    "causation8 = {\n",
    "    'p':[],\n",
    "    't': ['p', 'l'],\n",
    "    'l': [],\n",
    "    'g': ['t', 'l']\n",
    "}\n",
    "cg8 = graph.CausalGraph(causation=causation8, latent_confounding_arcs=arc7)\n",
    "cm8 = model.CausalModel(causal_graph=cg8)\n",
    "cm8.get_iv('t', 'g')"
   ]
  }
 ],
 "metadata": {
  "interpreter": {
   "hash": "e0ecfad75f99b8578830c76494b15e8b8f0ed30d484e3d7b0b2aac43eb800e14"
  },
  "kernelspec": {
   "display_name": "Python 3",
   "language": "python",
   "name": "python3"
  },
  "language_info": {
   "codemirror_mode": {
    "name": "ipython",
    "version": 3
   },
   "file_extension": ".py",
   "mimetype": "text/x-python",
   "name": "python",
   "nbconvert_exporter": "python",
   "pygments_lexer": "ipython3",
   "version": "3.8.12"
  }
 },
 "nbformat": 4,
 "nbformat_minor": 2
}
