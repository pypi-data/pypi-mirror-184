{
 "cells": [
  {
   "cell_type": "code",
   "execution_count": null,
   "id": "0c6d8efe-998f-4491-ab2a-be550711a425",
   "metadata": {},
   "outputs": [],
   "source": [
    "#default_exp module"
   ]
  },
  {
   "cell_type": "code",
   "execution_count": null,
   "id": "bb8bde12-fd28-4993-a7f1-c8848372b7c0",
   "metadata": {},
   "outputs": [],
   "source": [
    "# export\n",
    "\n",
    "def hello():\n",
    "    print('hello world')"
   ]
  },
  {
   "cell_type": "code",
   "execution_count": 1,
   "id": "13f833db-5d10-4358-b6dc-89d20fcb3783",
   "metadata": {},
   "outputs": [],
   "source": [
    "# ignore\n",
    "\n",
    "print(121231)"
   ]
  },
  {
   "cell_type": "code",
   "execution_count": null,
   "id": "6296fd73-41a8-4b6b-9cf3-b9779d29a35e",
   "metadata": {},
   "outputs": [],
   "source": [
    "# integration\n",
    "\n",
    "assert 1==1"
   ]
  },
  {
   "cell_type": "code",
   "execution_count": null,
   "id": "ee33267b-7e0c-4b96-a450-580f5a8c5fdb",
   "metadata": {},
   "outputs": [],
   "source": []
  }
 ],
 "metadata": {
  "kernelspec": {
   "display_name": "Python 3 (ipykernel)",
   "language": "python",
   "name": "python3"
  },
  "language_info": {
   "codemirror_mode": {
    "name": "ipython",
    "version": 3
   },
   "file_extension": ".py",
   "mimetype": "text/x-python",
   "name": "python",
   "nbconvert_exporter": "python",
   "pygments_lexer": "ipython3",
   "version": "3.8.13"
  }
 },
 "nbformat": 4,
 "nbformat_minor": 5
}
