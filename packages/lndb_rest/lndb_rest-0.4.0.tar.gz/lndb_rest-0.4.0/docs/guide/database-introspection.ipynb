{
 "cells": [
  {
   "cell_type": "markdown",
   "id": "7f26a335-cf1c-4e69-be3b-0c26b154606a",
   "metadata": {},
   "source": [
    "# Database introspection"
   ]
  },
  {
   "cell_type": "code",
   "execution_count": null,
   "id": "a51faaf3-ee27-43c6-b48d-13be1adb5c46",
   "metadata": {},
   "outputs": [],
   "source": [
    "from lndb_rest.routers import introspection"
   ]
  },
  {
   "cell_type": "code",
   "execution_count": null,
   "id": "caf3f463",
   "metadata": {},
   "outputs": [],
   "source": [
    "await introspection.get_db_schema()"
   ]
  },
  {
   "cell_type": "code",
   "execution_count": null,
   "id": "d03de0c2",
   "metadata": {},
   "outputs": [],
   "source": [
    "await introspection.get_table(\"core.dobject\")"
   ]
  },
  {
   "cell_type": "code",
   "execution_count": null,
   "id": "38bce111",
   "metadata": {},
   "outputs": [],
   "source": []
  }
 ],
 "metadata": {
  "kernelspec": {
   "display_name": "Python 3.9.12 ('base')",
   "language": "python",
   "name": "python3"
  },
  "language_info": {
   "codemirror_mode": {
    "name": "ipython",
    "version": 3
   },
   "file_extension": ".py",
   "mimetype": "text/x-python",
   "name": "python",
   "nbconvert_exporter": "python",
   "pygments_lexer": "ipython3",
   "version": "3.9.12"
  },
  "vscode": {
   "interpreter": {
    "hash": "2841734f87827db3a7b3181a6051fe720e9968e703956c2bd6988b5a29362801"
   }
  }
 },
 "nbformat": 4,
 "nbformat_minor": 5
}
