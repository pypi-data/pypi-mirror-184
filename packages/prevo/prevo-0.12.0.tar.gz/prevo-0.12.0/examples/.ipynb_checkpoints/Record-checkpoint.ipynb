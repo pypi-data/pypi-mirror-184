{
 "cells": [
  {
   "cell_type": "code",
   "execution_count": 1,
   "metadata": {},
   "outputs": [],
   "source": [
    "from prevo.record import RecordBase, RecordingBase, SensorBase\n",
    "from prevo.csv import RecordingToCsv\n",
    "from prevo.misc import DummyPressureSensor, DummyTemperatureSensor\n",
    "import oclock"
   ]
  },
  {
   "cell_type": "markdown",
   "metadata": {},
   "source": [
    "# Define sensors"
   ]
  },
  {
   "cell_type": "code",
   "execution_count": 2,
   "metadata": {},
   "outputs": [],
   "source": [
    "class Sensor(SensorBase):\n",
    "    \"\"\"Provide methods common to all sensors\"\"\"\n",
    "    \n",
    "    def  _read(self):\n",
    "        # Automatically add time and time uncertainty in data dict\n",
    "        with oclock.measure_time() as data:\n",
    "            measurement = self.device.read()\n",
    "            data['values'] = tuple(measurement.values())\n",
    "        return data"
   ]
  },
  {
   "cell_type": "code",
   "execution_count": 3,
   "metadata": {},
   "outputs": [],
   "source": [
    "class PressureSensor(Sensor):\n",
    "    \n",
    "    name = 'P'\n",
    "    \n",
    "    # This will be the names of columns in the CSV file\n",
    "    # (as can be seen below, time columns are also added automatically)\n",
    "    data_names = 'P1', 'P2', 'P3'\n",
    "    \n",
    "    # data_types is useful only when using live graphs\n",
    "    data_types = 'P (Pa)', 'P (Pa)', 'P (mbar)'\n",
    "    \n",
    "    def __init__(self):\n",
    "        self.device = DummyPressureSensor()\n",
    "\n",
    "\n",
    "class TemperatureSensor(Sensor):\n",
    "    \n",
    "    name = 'T'\n",
    "    data_names = 'T1', 'T2'\n",
    "    data_types = 'T (°C)', 'T (°C)', 'P (mbar)'\n",
    "    \n",
    "    def __init__(self):\n",
    "        self.device = DummyTemperatureSensor()"
   ]
  },
  {
   "cell_type": "code",
   "execution_count": 4,
   "metadata": {},
   "outputs": [
    {
     "data": {
      "text/plain": [
       "{'values': (3170.9874014430093, 2338.9592677961523, 17.455583511417764),\n",
       " 'time (unix)': 1648153274.75116,\n",
       " 'dt (s)': 5.049999999950927e-06}"
      ]
     },
     "execution_count": 4,
     "metadata": {},
     "output_type": "execute_result"
    }
   ],
   "source": [
    "with PressureSensor() as sensor:\n",
    "    data = sensor.read()\n",
    "data"
   ]
  },
  {
   "cell_type": "code",
   "execution_count": 5,
   "metadata": {},
   "outputs": [
    {
     "data": {
      "text/plain": [
       "{'P': __main__.PressureSensor, 'T': __main__.TemperatureSensor}"
      ]
     },
     "execution_count": 5,
     "metadata": {},
     "output_type": "execute_result"
    }
   ],
   "source": [
    "Sensors = {Sensor.name: Sensor for Sensor in (PressureSensor, TemperatureSensor)}\n",
    "Sensors"
   ]
  },
  {
   "cell_type": "markdown",
   "metadata": {},
   "source": [
    "# Define recordings"
   ]
  },
  {
   "cell_type": "code",
   "execution_count": 6,
   "metadata": {},
   "outputs": [],
   "source": [
    "class Recording(RecordingToCsv, RecordingBase):\n",
    "    \"\"\"Recording class that defines how to read and handle data from sensors.\"\"\"\n",
    "\n",
    "    def __init__(self, name):\n",
    "        \n",
    "        Sensor = Sensors[name]\n",
    "        column_names = ('time (unix)', 'dt (s)') + Sensor.data_names\n",
    "        filename = 'Pressure.tsv' if name == 'P' else 'Temperature.tsv'\n",
    "\n",
    "        RecordingBase.__init__(self, Sensor=Sensors[name], dt=2)\n",
    "        RecordingToCsv.__init__(self, path='data', filename=filename, column_names=column_names)\n",
    "        \n",
    "recordings = {name: Recording(name) for name in ('P', 'T')}"
   ]
  },
  {
   "cell_type": "markdown",
   "metadata": {},
   "source": [
    "# Start recording"
   ]
  },
  {
   "cell_type": "code",
   "execution_count": 7,
   "metadata": {},
   "outputs": [],
   "source": [
    "class Record(RecordBase):\n",
    "    \"\"\"For simple cases no subclassing is necessary\"\"\"\n",
    "    pass\n",
    "\n",
    "record = Record(recordings, path='data')\n",
    "record.start()"
   ]
  }
 ],
 "metadata": {
  "kernelspec": {
   "display_name": "Python 3",
   "language": "python",
   "name": "python3"
  },
  "language_info": {
   "codemirror_mode": {
    "name": "ipython",
    "version": 3
   },
   "file_extension": ".py",
   "mimetype": "text/x-python",
   "name": "python",
   "nbconvert_exporter": "python",
   "pygments_lexer": "ipython3",
   "version": "3.8.5"
  }
 },
 "nbformat": 4,
 "nbformat_minor": 4
}
