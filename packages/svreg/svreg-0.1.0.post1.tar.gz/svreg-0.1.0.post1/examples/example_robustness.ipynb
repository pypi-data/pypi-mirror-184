{
 "cells": [
  {
   "attachments": {},
   "cell_type": "markdown",
   "metadata": {},
   "source": [
    "This notebook demonstrates by an example that performing regression via Shapley Values is way more robust than via one simple linear regression.\n",
    "\n",
    "For the two approaches (Linear regression and Shapley Values regression):\n",
    "* A regression is performed on non-noisy data.\n",
    "* Random normal noise is added to the data and then the regressor is refitted.\n",
    "* Relative differences between non-noisy and noisy coefficients are computed and the result displayed as a bar plot."
   ]
  },
  {
   "cell_type": "code",
   "execution_count": 1,
   "metadata": {},
   "outputs": [
    {
     "name": "stderr",
     "output_type": "stream",
     "text": [
      "Intel(R) Extension for Scikit-learn* enabled (https://github.com/intel/scikit-learn-intelex)\n"
     ]
    }
   ],
   "source": [
    "import numpy as np\n",
    "import pandas as pd\n",
    "import matplotlib.pyplot as plt\n",
    "import seaborn as sns\n",
    "import os\n",
    "import sys\n",
    "\n",
    "from sklearn.preprocessing import StandardScaler\n",
    "from scipy.stats import pearsonr\n",
    "from icecream import ic\n",
    "\n",
    "# Importing regressors\n",
    "from sklearn.linear_model import LinearRegression\n",
    "# Adding parent dir to PYTHONPATH (temporary fix)\n",
    "sys.path.insert(0, \"..\")  # adding parent directory to PYTHONPATH.\n",
    "from svreg.svreg import SvRegression\n",
    "\n",
    "# Fixing numpy random seed (used by sklearn) for reproducibility:\n",
    "np.random.seed(seed=4242)"
   ]
  },
  {
   "attachments": {},
   "cell_type": "markdown",
   "metadata": {},
   "source": [
    "# I) Preprocessing the data"
   ]
  },
  {
   "cell_type": "code",
   "execution_count": 2,
   "metadata": {},
   "outputs": [
    {
     "name": "stdout",
     "output_type": "stream",
     "text": [
      "mpg     0\n",
      "cyl     0\n",
      "disp    0\n",
      "hp      0\n",
      "drat    0\n",
      "wt      0\n",
      "qsec    0\n",
      "vs      0\n",
      "am      0\n",
      "gear    0\n",
      "carb    0\n",
      "dtype: int64\n"
     ]
    }
   ],
   "source": [
    "# name_dataset = \"group_m_secret.csv\"\n",
    "name_dataset = \"mtcars.csv\"\n",
    "num_features_retained = 10\n",
    "path_dataset = os.path.join(\"../data\", name_dataset)\n",
    "if name_dataset == \"group_m_secret.csv\":\n",
    "    index_col = \"date\"\n",
    "    target = \"qlead_auto\"\n",
    "else:\n",
    "    index_col = \"model\"\n",
    "    target = \"mpg\"\n",
    "\n",
    "data_sv = pd.read_csv(path_dataset,\n",
    "                      index_col=index_col,\n",
    "                      parse_dates=True,\n",
    "                      infer_datetime_format=True)\n",
    "data_sv = data_sv.iloc[:, :(num_features_retained + 1)]  # +1 to retain the target feature as well.\n",
    "\n",
    "if name_dataset == \"group_m_secret.csv\":\n",
    "    data_sv.columns = data_sv.columns.str.strip().str.replace(\" \", \"_\")\n",
    "    data_sv.columns = data_sv.columns.str.lower()\n",
    "\n",
    "# Counting the number of missing values per column.\n",
    "print(data_sv.isna().sum())"
   ]
  },
  {
   "cell_type": "code",
   "execution_count": 3,
   "metadata": {},
   "outputs": [],
   "source": [
    "# Dropping missings rows\n",
    "data_sv = data_sv.dropna()"
   ]
  },
  {
   "cell_type": "code",
   "execution_count": 4,
   "metadata": {},
   "outputs": [
    {
     "name": "stdout",
     "output_type": "stream",
     "text": [
      "32 rows in the dataset.\n",
      "10 features in the dataset.\n"
     ]
    }
   ],
   "source": [
    "# Splitting dataset in features and target.\n",
    "x_features = data_sv.drop(labels=target, axis=1)\n",
    "y_target = data_sv[target]\n",
    "\n",
    "nb_rows, nb_features = x_features.shape\n",
    "print(f\"{nb_rows} rows in the dataset.\")\n",
    "print(f\"{nb_features} features in the dataset.\")"
   ]
  },
  {
   "attachments": {},
   "cell_type": "markdown",
   "metadata": {},
   "source": [
    "# II) Correlations study."
   ]
  },
  {
   "cell_type": "code",
   "execution_count": 5,
   "metadata": {},
   "outputs": [
    {
     "data": {
      "text/plain": [
       "<AxesSubplot: >"
      ]
     },
     "execution_count": 5,
     "metadata": {},
     "output_type": "execute_result"
    },
    {
     "data": {
      "image/png": "[encoded data removed]",
      "text/plain": [
       "<Figure size 1100x900 with 2 Axes>"
      ]
     },
     "metadata": {},
     "output_type": "display_data"
    }
   ],
   "source": [
    "# Compute the correlation matrix\n",
    "corr = x_features.corr()\n",
    "\n",
    "# Generate a mask for the upper triangle\n",
    "mask = np.triu(np.ones_like(corr, dtype=bool))\n",
    "\n",
    "# Set up the matplotlib figure\n",
    "f, ax = plt.subplots(figsize=(11, 9))\n",
    "\n",
    "# Generate a custom diverging colormap\n",
    "cmap = sns.diverging_palette(230, 20, as_cmap=True)\n",
    "\n",
    "# Draw the heatmap with the mask and correct aspect ratio\n",
    "sns.heatmap(corr, mask=mask, cmap=cmap, vmax=.3, center=0,\n",
    "             square=True, linewidths=.5, cbar_kws={\"shrink\": .5})"
   ]
  },
  {
   "cell_type": "markdown",
   "metadata": {},
   "source": [
    "# III) Regressions.\n",
    "## a. Linear regression."
   ]
  },
  {
   "cell_type": "code",
   "execution_count": 6,
   "metadata": {},
   "outputs": [
    {
     "data": {
      "text/plain": [
       "(10,)"
      ]
     },
     "execution_count": 6,
     "metadata": {},
     "output_type": "execute_result"
    }
   ],
   "source": [
    "reg = LinearRegression().fit(x_features, y_target.to_numpy().reshape(-1, 1))\n",
    "coeff_without_noise = reg.coef_.ravel()\n",
    "coeff_without_noise.shape"
   ]
  },
  {
   "cell_type": "code",
   "execution_count": 7,
   "metadata": {},
   "outputs": [],
   "source": [
    "# Adding random gaussian noise to the predictors:\n",
    "x_features_noise = x_features.copy()\n",
    "\n",
    "n_rows = x_features_noise.shape[0]\n",
    "\n",
    "for feature in x_features_noise:\n",
    "    std_feature = x_features_noise[feature].std()\n",
    "    noise = np.random.normal(0, (1/20) * std_feature, n_rows)\n",
    "    x_features_noise[feature] = x_features_noise[feature] + noise\n"
   ]
  },
  {
   "cell_type": "code",
   "execution_count": 8,
   "metadata": {},
   "outputs": [],
   "source": [
    "reg_noise = LinearRegression().fit(x_features_noise, y_target.to_numpy().reshape(-1, 1))\n",
    "coeff_with_noise = reg_noise.coef_.ravel()"
   ]
  },
  {
   "cell_type": "code",
   "execution_count": 9,
   "metadata": {},
   "outputs": [
    {
     "data": {
      "text/plain": [
       "array([ 75.67,  23.32,  27.76,  56.26,   2.26,  31.34, 103.86,  12.7 ,\n",
       "         9.02,  57.72])"
      ]
     },
     "execution_count": 9,
     "metadata": {},
     "output_type": "execute_result"
    }
   ],
   "source": [
    "coeff_diff_lr = coeff_with_noise - coeff_without_noise\n",
    "mean_coeff = 0.5 * (np.absolute(coeff_with_noise) + np.absolute(coeff_without_noise))\n",
    "relative_diff_lr = 100 * (np.absolute(coeff_diff_lr) / mean_coeff)\n",
    "relative_diff_lr = np.around(relative_diff_lr, decimals=2)\n",
    "relative_diff_lr"
   ]
  },
  {
   "cell_type": "code",
   "execution_count": 10,
   "metadata": {},
   "outputs": [
    {
     "data": {
      "text/plain": [
       "array([ True,  True,  True,  True,  True,  True,  True,  True,  True,\n",
       "        True])"
      ]
     },
     "execution_count": 10,
     "metadata": {},
     "output_type": "execute_result"
    }
   ],
   "source": [
    "sign_coeff_without_noise = np.sign(coeff_without_noise)\n",
    "sign_coeff_with_noise = np.sign(coeff_with_noise)\n",
    "\n",
    "val_sign_lr = sign_coeff_with_noise == sign_coeff_without_noise\n",
    "val_sign_lr"
   ]
  },
  {
   "attachments": {},
   "cell_type": "markdown",
   "metadata": {},
   "source": [
    "## b. Shapley values regression.\n",
    "### 1. Without random noise."
   ]
  },
  {
   "cell_type": "code",
   "execution_count": 11,
   "metadata": {},
   "outputs": [
    {
     "name": "stdout",
     "output_type": "stream",
     "text": [
      "0 rows have been deleted due to missing values.\n",
      "32 rows in the dataset.\n",
      "10 features (regressors) present in the dataset.\n",
      "10 features selected.\n",
      "Computing the 1024 linears regressions.\n",
      "Linear regressions |████████████████████████████████████████⚠︎ (!) 1023/1024 [100%] in 0.7s (1520.79/s) \n"
     ]
    }
   ],
   "source": [
    "sv_reg = SvRegression(\n",
    "    data=data_sv,\n",
    "    ind_predictors_selected=list(range(num_features_retained)),\n",
    "    target=target,\n",
    ")\n",
    "\n",
    "# Fitting the regression.\n",
    "coeffs = sv_reg.fit()\n",
    "\n",
    "# Coefficients without noise:\n",
    "coeffs_sv_without_noise = sv_reg.coeffs"
   ]
  },
  {
   "attachments": {},
   "cell_type": "markdown",
   "metadata": {},
   "source": [
    "### 2. With random normal noise."
   ]
  },
  {
   "cell_type": "code",
   "execution_count": 12,
   "metadata": {},
   "outputs": [],
   "source": [
    "# Adding random gaussian noise to the predictors:\n",
    "data_sv_noise = data_sv.copy()\n",
    "n_rows = data_sv_noise.shape[0]\n",
    "\n",
    "for feature in data_sv.columns[1:]:\n",
    "    std_feature = data_sv[feature].std()\n",
    "    noise = np.random.normal(0, (1/20) * std_feature, n_rows)\n",
    "    data_sv_noise[feature] = data_sv_noise[feature] + noise\n"
   ]
  },
  {
   "cell_type": "code",
   "execution_count": 13,
   "metadata": {},
   "outputs": [
    {
     "name": "stdout",
     "output_type": "stream",
     "text": [
      "0 rows have been deleted due to missing values.\n",
      "32 rows in the dataset.\n",
      "10 features (regressors) present in the dataset.\n",
      "10 features selected.\n",
      "Computing the 1024 linears regressions.\n",
      "Linear regressions |████████████████████████████████████████⚠︎ (!) 1023/1024 [100%] in 0.6s (1601.27/s) \n"
     ]
    }
   ],
   "source": [
    "sv_reg = SvRegression(\n",
    "    data=data_sv_noise,\n",
    "    ind_predictors_selected=list(range(num_features_retained)),\n",
    "    target=target,\n",
    ")\n",
    "\n",
    "# Fitting the regression.\n",
    "coeffs = sv_reg.fit()\n",
    "\n",
    "# Coefficients without noise:\n",
    "coeffs_sv_with_noise = sv_reg.coeffs"
   ]
  },
  {
   "cell_type": "code",
   "execution_count": 14,
   "metadata": {},
   "outputs": [
    {
     "data": {
      "text/plain": [
       "array([0.18, 2.56, 1.6 , 0.18, 0.7 , 3.2 , 3.67, 3.61, 1.83, 1.43, 0.58])"
      ]
     },
     "execution_count": 14,
     "metadata": {},
     "output_type": "execute_result"
    }
   ],
   "source": [
    "# Relative diffs (%)\n",
    "coeff_diff_sv = coeffs_sv_with_noise - coeffs_sv_without_noise\n",
    "mean_coeff = 0.5 * (np.absolute(coeffs_sv_with_noise) + np.absolute(coeffs_sv_without_noise))\n",
    "relative_diff_sv = 100 * (np.absolute(coeff_diff_sv) / mean_coeff)\n",
    "relative_diff_sv = np.around(relative_diff_sv, decimals=2)\n",
    "relative_diff_sv"
   ]
  },
  {
   "cell_type": "code",
   "execution_count": 15,
   "metadata": {},
   "outputs": [
    {
     "data": {
      "text/plain": [
       "array([ True,  True,  True,  True,  True,  True,  True,  True,  True,\n",
       "        True])"
      ]
     },
     "execution_count": 15,
     "metadata": {},
     "output_type": "execute_result"
    }
   ],
   "source": [
    "# Signs\n",
    "sign_coeff_without_noise = np.sign(coeff_without_noise)\n",
    "sign_coeff_with_noise = np.sign(coeff_with_noise)\n",
    "\n",
    "val_sign_sv = sign_coeff_with_noise == sign_coeff_without_noise\n",
    "val_sign_sv"
   ]
  },
  {
   "cell_type": "code",
   "execution_count": 16,
   "metadata": {},
   "outputs": [
    {
     "name": "stdout",
     "output_type": "stream",
     "text": [
      "[ 75.67  23.32  27.76  56.26   2.26  31.34 103.86  12.7    9.02  57.72]\n",
      "(10,)\n"
     ]
    }
   ],
   "source": [
    "print(relative_diff_lr)\n",
    "print(relative_diff_lr.shape)\n"
   ]
  },
  {
   "cell_type": "code",
   "execution_count": 17,
   "metadata": {},
   "outputs": [
    {
     "name": "stdout",
     "output_type": "stream",
     "text": [
      "[2.56 1.6  0.18 0.7  3.2  3.67 3.61 1.83 1.43 0.58]\n",
      "(10,)\n"
     ]
    }
   ],
   "source": [
    "print(relative_diff_sv[1:])\n",
    "print(relative_diff_sv[1:].shape)"
   ]
  },
  {
   "cell_type": "code",
   "execution_count": 18,
   "metadata": {},
   "outputs": [
    {
     "name": "stdout",
     "output_type": "stream",
     "text": [
      "(10,)\n",
      "(10,)\n",
      "(11,)\n"
     ]
    },
    {
     "data": {
      "text/plain": [
       "Text(0.5, 1.0, 'mtcars.csv --> Relative differences in regression coefficients.')"
      ]
     },
     "execution_count": 18,
     "metadata": {},
     "output_type": "execute_result"
    },
    {
     "data": {
      "image/png": "[encoded data removed]",
      "text/plain": [
       "<Figure size 640x480 with 1 Axes>"
      ]
     },
     "metadata": {},
     "output_type": "display_data"
    }
   ],
   "source": [
    "fig = plt.figure()\n",
    "ax = fig.add_axes([0,0,1,1])\n",
    "names = data_sv.columns[1:]\n",
    "print(names.shape)\n",
    "print(relative_diff_lr.shape)\n",
    "print(relative_diff_sv.shape)\n",
    "ax.bar(names, relative_diff_lr, color=\"b\", label=\"lr\")\n",
    "_ = plt.xticks(rotation = 90) \n",
    "ax.bar(names, relative_diff_sv[1:], color=\"g\", label=\"sv\")\n",
    "ax.set_ylabel('Relative differences (%)')\n",
    "ax.legend(labels=['lr', 'sv'])\n",
    "plt.title(f\"{name_dataset} --> Relative differences in regression coefficients.\")\n",
    "# sns.barplot(relative_diff_sv, ax=ax2, color=\"r\")"
   ]
  },
  {
   "cell_type": "code",
   "execution_count": null,
   "metadata": {},
   "outputs": [],
   "source": []
  }
 ],
 "metadata": {
  "kernelspec": {
   "display_name": ".venv310",
   "language": "python",
   "name": "python3"
  },
  "language_info": {
   "codemirror_mode": {
    "name": "ipython",
    "version": 3
   },
   "file_extension": ".py",
   "mimetype": "text/x-python",
   "name": "python",
   "nbconvert_exporter": "python",
   "pygments_lexer": "ipython3",
   "version": "3.10.8 (main, Nov 24 2022, 14:13:03) [GCC 11.2.0]"
  },
  "orig_nbformat": 4,
  "vscode": {
   "interpreter": {
    "hash": "7fe4921fa6b21b0607ec27c46f57ab1c68b60b3abd2683c81acbfb96e1f5e9fe"
   }
  }
 },
 "nbformat": 4,
 "nbformat_minor": 2
}
