{
 "cells": [
  {
   "cell_type": "code",
   "execution_count": 1,
   "metadata": {},
   "outputs": [
    {
     "name": "stderr",
     "output_type": "stream",
     "text": [
      "Intel(R) Extension for Scikit-learn* enabled (https://github.com/intel/scikit-learn-intelex)\n"
     ]
    }
   ],
   "source": [
    "import numpy as np\n",
    "import pandas as pd\n",
    "import matplotlib.pyplot as plt\n",
    "import seaborn as sns\n",
    "import os\n",
    "\n",
    "from sklearn.preprocessing import StandardScaler\n",
    "from scipy.stats import pearsonr\n",
    "from icecream import ic\n",
    "\n",
    "from svreg.svreg import SvRegression\n",
    "\n",
    "# Fixing numpy random seed (used by sklearn) for reproducibility:\n",
    "np.random.seed(seed=4242)"
   ]
  },
  {
   "cell_type": "code",
   "execution_count": 2,
   "metadata": {},
   "outputs": [],
   "source": [
    "name_dataset = \"mtcars.csv\"\n",
    "path_dataset = os.path.join(\"data\", name_dataset)\n",
    "index_col = \"model\"\n",
    "target = \"mpg\"\n",
    "\n",
    "data_sv = pd.read_csv(path_dataset,\n",
    "                      index_col=index_col)"
   ]
  },
  {
   "cell_type": "code",
   "execution_count": 3,
   "metadata": {},
   "outputs": [
    {
     "name": "stdout",
     "output_type": "stream",
     "text": [
      "32 rows in the dataset.\n",
      "10 features in the dataset.\n"
     ]
    }
   ],
   "source": [
    "# Splitting dataset in features and target.\n",
    "x_features = data_sv.drop(labels=target, axis=1)\n",
    "y_target = data_sv[target]\n",
    "\n",
    "nb_rows, nb_features = x_features.shape\n",
    "print(f\"{nb_rows} rows in the dataset.\")\n",
    "print(f\"{nb_features} features in the dataset.\")"
   ]
  },
  {
   "cell_type": "code",
   "execution_count": 4,
   "metadata": {},
   "outputs": [
    {
     "name": "stdout",
     "output_type": "stream",
     "text": [
      "0 rows have been deleted due to missing values.\n",
      "32 rows in the dataset.\n",
      "10 features (regressors) present in the dataset.\n",
      "5 features selected.\n",
      "Computing the 32 linears regressions.\n",
      "Linear regressions |██████████████████████████████████████▊⚠︎| (!) 31/32 [97%] in 0.1s (616.02/s) \n"
     ]
    }
   ],
   "source": [
    "sv_reg = SvRegression(\n",
    "    data=data_sv,\n",
    "    ind_predictors_selected=list(range(5)),\n",
    "    #ind_predictors_selected=[3, 7, 2, 5],  # For now, this does not work, needs a refactoring !\n",
    "    target=target,\n",
    ")\n",
    "\n",
    "# Fitting the regression.\n",
    "coeffs = sv_reg.fit()\n",
    "\n",
    "# Coefficients without noise:\n",
    "coeffs_sv_without_noise = sv_reg.coeffs"
   ]
  },
  {
   "cell_type": "code",
   "execution_count": 5,
   "metadata": {},
   "outputs": [
    {
     "name": "stdout",
     "output_type": "stream",
     "text": [
      "======================================================================\n",
      "Per predictor Shapley value (normalized basis).\n",
      "[0.22946211 0.10583855 0.15633923 0.17340198 0.18627331]\n",
      "======================================================================\n",
      "Coefficients of the SV regression (normalized basis).\n",
      "[-0.26927054 -0.12487568 -0.20142438  0.2545642  -0.21468483]\n",
      "======================================================================\n",
      "Coefficients of the SV regression (unnormalized basis).\n",
      "sv_reg.coeffs[0] --> intercept term.\n",
      "[-8.52622824e+01 -9.08707030e-01 -6.07251204e-03 -1.77060014e-02\n",
      "  2.86947117e+00 -1.32238180e+00]\n",
      "======================================================================\n",
      "Checking that the Shapley Values sums up to the full model R^2.\n",
      "{'r_squared_full': 0.8513151800973331, 'sum_shaps': 0.8513151800973332}\n",
      "======================================================================\n"
     ]
    }
   ],
   "source": [
    "print(\"=\" * 70)\n",
    "print(\"Per predictor Shapley value (normalized basis).\")\n",
    "print(sv_reg.shaps)\n",
    "print(\"=\" * 70)\n",
    "print(\"Coefficients of the SV regression (normalized basis).\")\n",
    "print(sv_reg.coeffs_norm)\n",
    "print(\"=\" * 70)\n",
    "print(\"Coefficients of the SV regression (unnormalized basis).\")\n",
    "print(\"sv_reg.coeffs[0] --> intercept term.\")\n",
    "print(sv_reg.coeffs)\n",
    "print(\"=\" * 70)\n",
    "print(\"Checking that the Shapley Values sums up to the full model R^2.\")\n",
    "print(sv_reg.check_norm_shap())\n",
    "print(\"=\" * 70)"
   ]
  },
  {
   "cell_type": "code",
   "execution_count": 6,
   "metadata": {},
   "outputs": [
    {
     "data": {
      "image/png": "[encoded data removed]",
      "text/plain": [
       "<Figure size 1000x500 with 1 Axes>"
      ]
     },
     "metadata": {},
     "output_type": "display_data"
    }
   ],
   "source": [
    "sv_reg.histo_shaps()"
   ]
  },
  {
   "cell_type": "code",
   "execution_count": null,
   "metadata": {},
   "outputs": [],
   "source": []
  }
 ],
 "metadata": {
  "kernelspec": {
   "display_name": ".venv310",
   "language": "python",
   "name": "python3"
  },
  "language_info": {
   "codemirror_mode": {
    "name": "ipython",
    "version": 3
   },
   "file_extension": ".py",
   "mimetype": "text/x-python",
   "name": "python",
   "nbconvert_exporter": "python",
   "pygments_lexer": "ipython3",
   "version": "3.10.8"
  },
  "orig_nbformat": 4,
  "vscode": {
   "interpreter": {
    "hash": "7fe4921fa6b21b0607ec27c46f57ab1c68b60b3abd2683c81acbfb96e1f5e9fe"
   }
  }
 },
 "nbformat": 4,
 "nbformat_minor": 2
}
