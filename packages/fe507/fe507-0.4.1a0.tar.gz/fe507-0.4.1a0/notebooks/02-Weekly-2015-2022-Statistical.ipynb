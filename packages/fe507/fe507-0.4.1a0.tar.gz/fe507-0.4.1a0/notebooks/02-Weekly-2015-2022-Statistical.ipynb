{
 "cells": [
  {
   "cell_type": "markdown",
   "source": [
    "# 02-Weekly-2015-2022-Statistical"
   ],
   "metadata": {
    "collapsed": false
   }
  },
  {
   "cell_type": "code",
   "execution_count": 1,
   "outputs": [],
   "source": [
    "import logging\n",
    "\n",
    "from matplotlib import pyplot as plt\n",
    "\n",
    "logging.basicConfig(level=logging.ERROR)  # default logging for other libraries\n",
    "logging.getLogger('fe507').level = logging.DEBUG\n",
    "from fe507 import Data, Collection, DataSource, settings, CollectionGroup\n",
    "\n",
    "settings.data_dir = \"../data\""
   ],
   "metadata": {
    "collapsed": false
   }
  },
  {
   "cell_type": "code",
   "execution_count": 2,
   "outputs": [
    {
     "name": "stderr",
     "output_type": "stream",
     "text": [
      "DEBUG:fe507.utils:Set up \"data_dir\" as: ../data\n",
      "DEBUG:fe507.utils:working on file: /Users/azat/Developer/Learn/FE507-report/data/EXCHANGE.xlsx\n",
      "DEBUG:fe507.utils:read dataframe from excel as: \n",
      "['Date', 'TL/USD', 'TL/Euro']\n",
      "DEBUG:fe507.utils:handling source specific fields for DataSource.EXCHANGE_RATES\n",
      "DEBUG:fe507.utils:Set up \"data_dir\" as: ../data\n",
      "DEBUG:fe507.utils:working on file: /Users/azat/Developer/Learn/FE507-report/data/SP500.xlsx\n",
      "DEBUG:fe507.utils:read dataframe from excel as: \n",
      "['Date', 'Index', 'Market cap (m$)', 'Unnamed: 3', 'Unnamed: 4', 'Unnamed: 5', 'Unnamed: 6', 'Unnamed: 7', 'Unnamed: 8', 'Unnamed: 9', 'Unnamed: 10', 'Unnamed: 11', 'Unnamed: 12', 'Unnamed: 13', 'Unnamed: 14', 'Unnamed: 15', 'Unnamed: 16', 'Unnamed: 17', 'Unnamed: 18', 'Unnamed: 19', 'Unnamed: 20', 'Unnamed: 21', 'Unnamed: 22', 'Unnamed: 23', 'Unnamed: 24', 'Unnamed: 25', 'Unnamed: 26', 'Unnamed: 27', 'Unnamed: 28', 'Unnamed: 29', 'Unnamed: 30', 'Unnamed: 31', 'Unnamed: 32', 'Unnamed: 33', 'Unnamed: 34', 'Unnamed: 35', 'Unnamed: 36', 'Unnamed: 37', 'Unnamed: 38', 'Unnamed: 39', 'Unnamed: 40', 'Unnamed: 41', 'Unnamed: 42', 'Unnamed: 43', 'Unnamed: 44', 'Unnamed: 45', 'Unnamed: 46', 'Unnamed: 47', 'Unnamed: 48', 'Unnamed: 49', 'Unnamed: 50', 'Unnamed: 51', 'Unnamed: 52', 'Unnamed: 53', 'Unnamed: 54', 'Unnamed: 55', 'Unnamed: 56', 'Unnamed: 57', 'Unnamed: 58', 'Unnamed: 59', 'Unnamed: 60', 'Unnamed: 61', 'Unnamed: 62', 'Unnamed: 63', 'Unnamed: 64', 'Unnamed: 65', 'Unnamed: 66', 'Unnamed: 67', 'Unnamed: 68', 'Unnamed: 69', 'Unnamed: 70', 'Unnamed: 71', 'Unnamed: 72', 'Unnamed: 73', 'Unnamed: 74', 'Unnamed: 75', 'Unnamed: 76', 'Unnamed: 77', 'Unnamed: 78', 'Unnamed: 79', 'Unnamed: 80', 'Unnamed: 81', 'Unnamed: 82', 'Unnamed: 83', 'Unnamed: 84', 'Unnamed: 85', 'Unnamed: 86', 'Unnamed: 87', 'Unnamed: 88', 'Unnamed: 89', 'Unnamed: 90', 'Unnamed: 91', 'Unnamed: 92', 'Unnamed: 93', 'Unnamed: 94', 'Unnamed: 95', 'Unnamed: 96', 'Unnamed: 97', 'Unnamed: 98', 'Unnamed: 99', 'Unnamed: 100', 'Unnamed: 101', 'Unnamed: 102', 'Unnamed: 103', 'Unnamed: 104', 'Unnamed: 105', 'Unnamed: 106', 'Unnamed: 107', 'Unnamed: 108', 'Unnamed: 109', 'Unnamed: 110', 'Unnamed: 111', 'Unnamed: 112', 'Unnamed: 113', 'Unnamed: 114', 'Unnamed: 115', 'Unnamed: 116', 'Unnamed: 117', 'Unnamed: 118', 'Unnamed: 119', 'Unnamed: 120', 'Unnamed: 121', 'Unnamed: 122', 'Unnamed: 123', 'Unnamed: 124', 'Unnamed: 125', 'Unnamed: 126', 'Unnamed: 127', 'Unnamed: 128', 'Unnamed: 129', 'Unnamed: 130', 'Unnamed: 131', 'Unnamed: 132', 'Unnamed: 133', 'Unnamed: 134', 'Unnamed: 135', 'Unnamed: 136', 'Unnamed: 137', 'Unnamed: 138', 'Unnamed: 139', 'Unnamed: 140', 'Unnamed: 141', 'Unnamed: 142', 'Unnamed: 143', 'Unnamed: 144', 'Unnamed: 145', 'Unnamed: 146', 'Unnamed: 147', 'Unnamed: 148', 'Unnamed: 149', 'Unnamed: 150', 'Unnamed: 151', 'Unnamed: 152', 'Unnamed: 153', 'Unnamed: 154', 'Unnamed: 155', 'Unnamed: 156', 'Unnamed: 157', 'Unnamed: 158', 'Unnamed: 159', 'Unnamed: 160', 'Unnamed: 161', 'Unnamed: 162', 'Unnamed: 163', 'Unnamed: 164', 'Unnamed: 165', 'Unnamed: 166', 'Unnamed: 167', 'Unnamed: 168', 'Unnamed: 169', 'Unnamed: 170', 'Unnamed: 171', 'Unnamed: 172', 'Unnamed: 173', 'Unnamed: 174', 'Unnamed: 175', 'Unnamed: 176', 'Unnamed: 177', 'Unnamed: 178', 'Unnamed: 179', 'Unnamed: 180', 'Unnamed: 181', 'Unnamed: 182', 'Unnamed: 183', 'Unnamed: 184', 'Unnamed: 185', 'Unnamed: 186', 'Unnamed: 187', 'Unnamed: 188', 'Unnamed: 189', 'Unnamed: 190', 'Unnamed: 191', 'Unnamed: 192', 'Unnamed: 193', 'Unnamed: 194', 'Unnamed: 195', 'Unnamed: 196', 'Unnamed: 197', 'Unnamed: 198', 'Unnamed: 199', 'Unnamed: 200', 'Unnamed: 201', 'Unnamed: 202', 'Unnamed: 203', 'Unnamed: 204', 'Unnamed: 205', 'Unnamed: 206', 'Unnamed: 207', 'Unnamed: 208', 'Unnamed: 209', 'Unnamed: 210', 'Unnamed: 211', 'Unnamed: 212', 'Unnamed: 213', 'Unnamed: 214', 'Unnamed: 215']\n",
      "DEBUG:fe507.utils:handling source specific fields for DataSource.SP500\n",
      "DEBUG:fe507.utils:Set up \"data_dir\" as: ../data\n",
      "DEBUG:fe507.utils:working on file: /Users/azat/Developer/Learn/FE507-report/data/BIST100.xlsx\n",
      "DEBUG:fe507.utils:read dataframe from excel as: \n",
      "['Date', 'Index', 'Market cap (m TL)']\n",
      "DEBUG:fe507.utils:handling source specific fields for DataSource.BIST100\n",
      "DEBUG:fe507.utils:Set up \"data_dir\" as: ../data\n",
      "DEBUG:fe507.utils:working on file: /Users/azat/Developer/Learn/FE507-report/data/BISTALL.xlsx\n",
      "DEBUG:fe507.utils:read dataframe from excel as: \n",
      "['Code', 'Index', 'Market cap (m TL)']\n",
      "DEBUG:fe507.utils:handling source specific fields for DataSource.BISTALL\n",
      "DEBUG:fe507.utils:Set up \"data_dir\" as: ../data\n",
      "DEBUG:fe507.utils:working on file: /Users/azat/Developer/Learn/FE507-report/data/Gold.xlsx\n",
      "DEBUG:fe507.utils:read dataframe from excel as: \n",
      "['Date', 'Price ($/t oz)']\n",
      "DEBUG:fe507.utils:handling source specific fields for DataSource.GOLD\n",
      "DEBUG:fe507.utils:Set up \"data_dir\" as: ../data\n",
      "DEBUG:fe507.utils:working on file: /Users/azat/Developer/Learn/FE507-report/data/BTCETH.xlsx\n",
      "DEBUG:fe507.utils:read dataframe from excel as: \n",
      "['Date', 'Bitcoin', 'Ethereum']\n",
      "DEBUG:fe507.utils:handling source specific fields for DataSource.BTCETH\n"
     ]
    }
   ],
   "source": [
    "exchange_rates = Data(DataSource.EXCHANGE_RATES)\n",
    "sp500 = Data(DataSource.SP500)\n",
    "b100 = Data(DataSource.BIST100)\n",
    "ball = Data(DataSource.BISTALL)\n",
    "gold = Data(DataSource.GOLD)\n",
    "btc = Data(DataSource.BTCETH)\n",
    "\n",
    "year_range = {\n",
    "    \"from_year\": 2015,\n",
    "    \"to_year\": 2022\n",
    "}"
   ],
   "metadata": {
    "collapsed": false
   }
  },
  {
   "cell_type": "code",
   "execution_count": 3,
   "outputs": [],
   "source": [
    "## Create Collection\n",
    "csp = Collection(sp500.data, name=\"S&P500\").get_range(**year_range).get(on='Index')\n",
    "cb1 = Collection(b100.data, name=\"BIST100\").get_range(**year_range).get(on='Index')\n",
    "cba = Collection(ball.data, name=\"BIST ALL\").get_range(**year_range).get(on='Index')\n",
    "cg = Collection(gold.data, name='Gold').get_range(**year_range).get(on='Price ($/t oz)')\n",
    "cbtc = Collection(btc.data, name=\"Bitcoin\").get_range(**year_range).get(on='Bitcoin')"
   ],
   "metadata": {
    "collapsed": false
   }
  },
  {
   "cell_type": "markdown",
   "source": [
    "## SP500"
   ],
   "metadata": {
    "collapsed": false
   }
  },
  {
   "cell_type": "code",
   "execution_count": 6,
   "outputs": [
    {
     "data": {
      "text/plain": "              Index\ndate               \n2015-01-01  2058.90\n2015-01-02  2058.20\n2015-01-05  2020.58\n2015-01-06  2002.61\n2015-01-07  2025.90\n...             ...\n2022-12-12  3990.56\n2022-12-13  4019.65\n2022-12-14  3995.32\n2022-12-15  3895.75\n2022-12-16  3852.36\n\n[1995 rows x 1 columns]",
      "text/html": "<div>\n<style scoped>\n    .dataframe tbody tr th:only-of-type {\n        vertical-align: middle;\n    }\n\n    .dataframe tbody tr th {\n        vertical-align: top;\n    }\n\n    .dataframe thead th {\n        text-align: right;\n    }\n</style>\n<table border=\"1\" class=\"dataframe\">\n  <thead>\n    <tr style=\"text-align: right;\">\n      <th></th>\n      <th>Index</th>\n    </tr>\n    <tr>\n      <th>date</th>\n      <th></th>\n    </tr>\n  </thead>\n  <tbody>\n    <tr>\n      <th>2015-01-01</th>\n      <td>2058.90</td>\n    </tr>\n    <tr>\n      <th>2015-01-02</th>\n      <td>2058.20</td>\n    </tr>\n    <tr>\n      <th>2015-01-05</th>\n      <td>2020.58</td>\n    </tr>\n    <tr>\n      <th>2015-01-06</th>\n      <td>2002.61</td>\n    </tr>\n    <tr>\n      <th>2015-01-07</th>\n      <td>2025.90</td>\n    </tr>\n    <tr>\n      <th>...</th>\n      <td>...</td>\n    </tr>\n    <tr>\n      <th>2022-12-12</th>\n      <td>3990.56</td>\n    </tr>\n    <tr>\n      <th>2022-12-13</th>\n      <td>4019.65</td>\n    </tr>\n    <tr>\n      <th>2022-12-14</th>\n      <td>3995.32</td>\n    </tr>\n    <tr>\n      <th>2022-12-15</th>\n      <td>3895.75</td>\n    </tr>\n    <tr>\n      <th>2022-12-16</th>\n      <td>3852.36</td>\n    </tr>\n  </tbody>\n</table>\n<p>1995 rows × 1 columns</p>\n</div>"
     },
     "execution_count": 6,
     "metadata": {},
     "output_type": "execute_result"
    }
   ],
   "source": [
    "csp.raw"
   ],
   "metadata": {
    "collapsed": false
   }
  },
  {
   "cell_type": "code",
   "execution_count": 7,
   "outputs": [
    {
     "data": {
      "text/plain": "Index    2980.835895\ndtype: float64"
     },
     "execution_count": 7,
     "metadata": {},
     "output_type": "execute_result"
    }
   ],
   "source": [
    "csp.mean"
   ],
   "metadata": {
    "collapsed": false
   }
  },
  {
   "cell_type": "code",
   "execution_count": 8,
   "outputs": [
    {
     "data": {
      "text/plain": "Index    660569.74855\ndtype: float64"
     },
     "execution_count": 8,
     "metadata": {},
     "output_type": "execute_result"
    }
   ],
   "source": [
    "csp.variance"
   ],
   "metadata": {
    "collapsed": false
   }
  },
  {
   "cell_type": "code",
   "execution_count": null,
   "outputs": [],
   "source": [],
   "metadata": {
    "collapsed": false
   }
  }
 ],
 "metadata": {
  "kernelspec": {
   "display_name": "Python 3",
   "language": "python",
   "name": "python3"
  },
  "language_info": {
   "codemirror_mode": {
    "name": "ipython",
    "version": 2
   },
   "file_extension": ".py",
   "mimetype": "text/x-python",
   "name": "python",
   "nbconvert_exporter": "python",
   "pygments_lexer": "ipython2",
   "version": "2.7.6"
  }
 },
 "nbformat": 4,
 "nbformat_minor": 0
}
