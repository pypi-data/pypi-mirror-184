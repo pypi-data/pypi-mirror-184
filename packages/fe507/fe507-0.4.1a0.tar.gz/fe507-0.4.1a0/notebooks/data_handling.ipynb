{
 "cells": [
  {
   "cell_type": "markdown",
   "source": [
    "# Data Cleaning and Preparation"
   ],
   "metadata": {
    "collapsed": false
   }
  },
  {
   "cell_type": "code",
   "execution_count": 1,
   "metadata": {
    "collapsed": true
   },
   "outputs": [],
   "source": [
    "from pathlib import Path\n",
    "\n",
    "import pandas as pd"
   ]
  },
  {
   "cell_type": "code",
   "execution_count": 203,
   "outputs": [],
   "source": [
    "data_dir = Path(\"../data\")"
   ],
   "metadata": {
    "collapsed": false
   }
  },
  {
   "cell_type": "code",
   "execution_count": 204,
   "outputs": [],
   "source": [
    "csv_sp500 = data_dir / 'SP500.csv'\n",
    "csv_bist100 = data_dir / 'BIST100.csv'\n",
    "csv_bist_all = data_dir / 'BISTALL.csv'\n",
    "csv_gold = data_dir / 'Gold.csv'\n",
    "csv_btc_eth = data_dir / 'BTCETH.csv'\n",
    "csv_exchange_rate = data_dir / 'EXCHANGE.csv'\n",
    "csv_tl_inflation = data_dir / 'TLINF.csv'\n",
    "csv_interest_rate = data_dir / 'TLDEPO.csv'"
   ],
   "metadata": {
    "collapsed": false
   }
  },
  {
   "cell_type": "markdown",
   "source": [
    "## Helper Functions"
   ],
   "metadata": {
    "collapsed": false
   }
  },
  {
   "cell_type": "code",
   "execution_count": 205,
   "outputs": [],
   "source": [
    "from pandas import DataFrame\n",
    "\n",
    "\n",
    "def add_date_filed(df: DataFrame, reference_field: str = 'Date', dayfirst: bool = True):\n",
    "    if not reference_field in df.columns:\n",
    "        raise ValueError(f\"{reference_field} dose not exists in DataFrame\")\n",
    "    df['date'] = pd.to_datetime(df[f\"{reference_field}\"], dayfirst=dayfirst)\n",
    "    return df\n",
    "\n",
    "\n",
    "def add_quarter_filed(df: DataFrame, reference_field: str | None = None):\n",
    "    if reference_field is not None:\n",
    "        if not reference_field in df.columns:\n",
    "            raise ValueError(f\"{reference_field} dose not exists in DataFrame\")\n",
    "    df['quarter'] = df['date'].dt.to_period('Q')\n",
    "    return df\n",
    "\n",
    "\n",
    "def remove_unnamed_columns(_df, _range=(0, 5)):\n",
    "    try:\n",
    "        _df.drop(['Unnamed: ' + str(each) for each in range(_range)], axis=1)\n",
    "    except KeyError:\n",
    "        pass\n",
    "    finally:\n",
    "        return _df"
   ],
   "metadata": {
    "collapsed": false
   }
  },
  {
   "cell_type": "markdown",
   "source": [
    "## Handle Data Structure"
   ],
   "metadata": {
    "collapsed": false
   }
  },
  {
   "cell_type": "markdown",
   "source": [
    "### S&P500"
   ],
   "metadata": {
    "collapsed": false
   }
  },
  {
   "cell_type": "code",
   "execution_count": 206,
   "outputs": [],
   "source": [
    "df_sp500 = pd.read_csv(csv_sp500)"
   ],
   "metadata": {
    "collapsed": false
   }
  },
  {
   "cell_type": "code",
   "execution_count": 207,
   "outputs": [
    {
     "data": {
      "text/plain": "             Date  Index Market cap (m$)\n0      31.03.1964     79         357,907\n1       1.04.1964     79         357,907\n2       2.04.1964     80         357,907\n3       3.04.1964     80         357,907\n4       6.04.1964     80         357,907\n...           ...    ...             ...\n15314  12.12.2022  3,991      33,536,670\n15315  13.12.2022  4,020      33,781,200\n15316  14.12.2022  3,995      33,576,690\n15317  15.12.2022  3,896      32,739,940\n15318  16.12.2022  3,852      32,375,300\n\n[15319 rows x 3 columns]",
      "text/html": "<div>\n<style scoped>\n    .dataframe tbody tr th:only-of-type {\n        vertical-align: middle;\n    }\n\n    .dataframe tbody tr th {\n        vertical-align: top;\n    }\n\n    .dataframe thead th {\n        text-align: right;\n    }\n</style>\n<table border=\"1\" class=\"dataframe\">\n  <thead>\n    <tr style=\"text-align: right;\">\n      <th></th>\n      <th>Date</th>\n      <th>Index</th>\n      <th>Market cap (m$)</th>\n    </tr>\n  </thead>\n  <tbody>\n    <tr>\n      <th>0</th>\n      <td>31.03.1964</td>\n      <td>79</td>\n      <td>357,907</td>\n    </tr>\n    <tr>\n      <th>1</th>\n      <td>1.04.1964</td>\n      <td>79</td>\n      <td>357,907</td>\n    </tr>\n    <tr>\n      <th>2</th>\n      <td>2.04.1964</td>\n      <td>80</td>\n      <td>357,907</td>\n    </tr>\n    <tr>\n      <th>3</th>\n      <td>3.04.1964</td>\n      <td>80</td>\n      <td>357,907</td>\n    </tr>\n    <tr>\n      <th>4</th>\n      <td>6.04.1964</td>\n      <td>80</td>\n      <td>357,907</td>\n    </tr>\n    <tr>\n      <th>...</th>\n      <td>...</td>\n      <td>...</td>\n      <td>...</td>\n    </tr>\n    <tr>\n      <th>15314</th>\n      <td>12.12.2022</td>\n      <td>3,991</td>\n      <td>33,536,670</td>\n    </tr>\n    <tr>\n      <th>15315</th>\n      <td>13.12.2022</td>\n      <td>4,020</td>\n      <td>33,781,200</td>\n    </tr>\n    <tr>\n      <th>15316</th>\n      <td>14.12.2022</td>\n      <td>3,995</td>\n      <td>33,576,690</td>\n    </tr>\n    <tr>\n      <th>15317</th>\n      <td>15.12.2022</td>\n      <td>3,896</td>\n      <td>32,739,940</td>\n    </tr>\n    <tr>\n      <th>15318</th>\n      <td>16.12.2022</td>\n      <td>3,852</td>\n      <td>32,375,300</td>\n    </tr>\n  </tbody>\n</table>\n<p>15319 rows × 3 columns</p>\n</div>"
     },
     "execution_count": 207,
     "metadata": {},
     "output_type": "execute_result"
    }
   ],
   "source": [
    "df_sp500"
   ],
   "metadata": {
    "collapsed": false
   }
  },
  {
   "cell_type": "code",
   "execution_count": 208,
   "outputs": [],
   "source": [
    "df_sp500 = add_date_filed(df_sp500)"
   ],
   "metadata": {
    "collapsed": false
   }
  },
  {
   "cell_type": "code",
   "execution_count": 209,
   "outputs": [
    {
     "data": {
      "text/plain": "             Date  Index Market cap (m$)       date\n0      31.03.1964     79         357,907 1964-03-31\n1       1.04.1964     79         357,907 1964-04-01\n2       2.04.1964     80         357,907 1964-04-02\n3       3.04.1964     80         357,907 1964-04-03\n4       6.04.1964     80         357,907 1964-04-06\n...           ...    ...             ...        ...\n15314  12.12.2022  3,991      33,536,670 2022-12-12\n15315  13.12.2022  4,020      33,781,200 2022-12-13\n15316  14.12.2022  3,995      33,576,690 2022-12-14\n15317  15.12.2022  3,896      32,739,940 2022-12-15\n15318  16.12.2022  3,852      32,375,300 2022-12-16\n\n[15319 rows x 4 columns]",
      "text/html": "<div>\n<style scoped>\n    .dataframe tbody tr th:only-of-type {\n        vertical-align: middle;\n    }\n\n    .dataframe tbody tr th {\n        vertical-align: top;\n    }\n\n    .dataframe thead th {\n        text-align: right;\n    }\n</style>\n<table border=\"1\" class=\"dataframe\">\n  <thead>\n    <tr style=\"text-align: right;\">\n      <th></th>\n      <th>Date</th>\n      <th>Index</th>\n      <th>Market cap (m$)</th>\n      <th>date</th>\n    </tr>\n  </thead>\n  <tbody>\n    <tr>\n      <th>0</th>\n      <td>31.03.1964</td>\n      <td>79</td>\n      <td>357,907</td>\n      <td>1964-03-31</td>\n    </tr>\n    <tr>\n      <th>1</th>\n      <td>1.04.1964</td>\n      <td>79</td>\n      <td>357,907</td>\n      <td>1964-04-01</td>\n    </tr>\n    <tr>\n      <th>2</th>\n      <td>2.04.1964</td>\n      <td>80</td>\n      <td>357,907</td>\n      <td>1964-04-02</td>\n    </tr>\n    <tr>\n      <th>3</th>\n      <td>3.04.1964</td>\n      <td>80</td>\n      <td>357,907</td>\n      <td>1964-04-03</td>\n    </tr>\n    <tr>\n      <th>4</th>\n      <td>6.04.1964</td>\n      <td>80</td>\n      <td>357,907</td>\n      <td>1964-04-06</td>\n    </tr>\n    <tr>\n      <th>...</th>\n      <td>...</td>\n      <td>...</td>\n      <td>...</td>\n      <td>...</td>\n    </tr>\n    <tr>\n      <th>15314</th>\n      <td>12.12.2022</td>\n      <td>3,991</td>\n      <td>33,536,670</td>\n      <td>2022-12-12</td>\n    </tr>\n    <tr>\n      <th>15315</th>\n      <td>13.12.2022</td>\n      <td>4,020</td>\n      <td>33,781,200</td>\n      <td>2022-12-13</td>\n    </tr>\n    <tr>\n      <th>15316</th>\n      <td>14.12.2022</td>\n      <td>3,995</td>\n      <td>33,576,690</td>\n      <td>2022-12-14</td>\n    </tr>\n    <tr>\n      <th>15317</th>\n      <td>15.12.2022</td>\n      <td>3,896</td>\n      <td>32,739,940</td>\n      <td>2022-12-15</td>\n    </tr>\n    <tr>\n      <th>15318</th>\n      <td>16.12.2022</td>\n      <td>3,852</td>\n      <td>32,375,300</td>\n      <td>2022-12-16</td>\n    </tr>\n  </tbody>\n</table>\n<p>15319 rows × 4 columns</p>\n</div>"
     },
     "execution_count": 209,
     "metadata": {},
     "output_type": "execute_result"
    }
   ],
   "source": [
    "df_sp500"
   ],
   "metadata": {
    "collapsed": false
   }
  },
  {
   "cell_type": "code",
   "execution_count": 210,
   "outputs": [],
   "source": [
    "# df = pd.DataFrame(\n",
    "#     columns=['date', 'quarter', 'sp500', 'sp500cap', 'bist100', 'bist100cap', 'bistall', 'bistallcap', 'btc', 'eth',\n",
    "#              'gold', 'rate', 'cpi', 'usdtry', 'eurtry'])"
   ],
   "metadata": {
    "collapsed": false
   }
  },
  {
   "cell_type": "code",
   "execution_count": 211,
   "outputs": [],
   "source": [
    "df = pd.DataFrame()"
   ],
   "metadata": {
    "collapsed": false
   }
  },
  {
   "cell_type": "code",
   "execution_count": 212,
   "outputs": [],
   "source": [
    "df['date'] = df_sp500.date"
   ],
   "metadata": {
    "collapsed": false
   }
  },
  {
   "cell_type": "code",
   "execution_count": 213,
   "outputs": [
    {
     "data": {
      "text/plain": "            date\n0     1964-03-31\n1     1964-04-01\n2     1964-04-02\n3     1964-04-03\n4     1964-04-06\n...          ...\n15314 2022-12-12\n15315 2022-12-13\n15316 2022-12-14\n15317 2022-12-15\n15318 2022-12-16\n\n[15319 rows x 1 columns]",
      "text/html": "<div>\n<style scoped>\n    .dataframe tbody tr th:only-of-type {\n        vertical-align: middle;\n    }\n\n    .dataframe tbody tr th {\n        vertical-align: top;\n    }\n\n    .dataframe thead th {\n        text-align: right;\n    }\n</style>\n<table border=\"1\" class=\"dataframe\">\n  <thead>\n    <tr style=\"text-align: right;\">\n      <th></th>\n      <th>date</th>\n    </tr>\n  </thead>\n  <tbody>\n    <tr>\n      <th>0</th>\n      <td>1964-03-31</td>\n    </tr>\n    <tr>\n      <th>1</th>\n      <td>1964-04-01</td>\n    </tr>\n    <tr>\n      <th>2</th>\n      <td>1964-04-02</td>\n    </tr>\n    <tr>\n      <th>3</th>\n      <td>1964-04-03</td>\n    </tr>\n    <tr>\n      <th>4</th>\n      <td>1964-04-06</td>\n    </tr>\n    <tr>\n      <th>...</th>\n      <td>...</td>\n    </tr>\n    <tr>\n      <th>15314</th>\n      <td>2022-12-12</td>\n    </tr>\n    <tr>\n      <th>15315</th>\n      <td>2022-12-13</td>\n    </tr>\n    <tr>\n      <th>15316</th>\n      <td>2022-12-14</td>\n    </tr>\n    <tr>\n      <th>15317</th>\n      <td>2022-12-15</td>\n    </tr>\n    <tr>\n      <th>15318</th>\n      <td>2022-12-16</td>\n    </tr>\n  </tbody>\n</table>\n<p>15319 rows × 1 columns</p>\n</div>"
     },
     "execution_count": 213,
     "metadata": {},
     "output_type": "execute_result"
    }
   ],
   "source": [
    "df"
   ],
   "metadata": {
    "collapsed": false
   }
  },
  {
   "cell_type": "code",
   "execution_count": 214,
   "outputs": [],
   "source": [
    "df = df.merge(df_sp500, on='date', how='outer', validate='one_to_one').rename(\n",
    "    columns={'Index': 'sp500', 'Market cap (m$)': 'sp500cap'})"
   ],
   "metadata": {
    "collapsed": false
   }
  },
  {
   "cell_type": "code",
   "execution_count": 215,
   "outputs": [
    {
     "data": {
      "text/plain": "            date        Date  sp500    sp500cap\n0     1964-03-31  31.03.1964     79     357,907\n1     1964-04-01   1.04.1964     79     357,907\n2     1964-04-02   2.04.1964     80     357,907\n3     1964-04-03   3.04.1964     80     357,907\n4     1964-04-06   6.04.1964     80     357,907\n...          ...         ...    ...         ...\n15314 2022-12-12  12.12.2022  3,991  33,536,670\n15315 2022-12-13  13.12.2022  4,020  33,781,200\n15316 2022-12-14  14.12.2022  3,995  33,576,690\n15317 2022-12-15  15.12.2022  3,896  32,739,940\n15318 2022-12-16  16.12.2022  3,852  32,375,300\n\n[15319 rows x 4 columns]",
      "text/html": "<div>\n<style scoped>\n    .dataframe tbody tr th:only-of-type {\n        vertical-align: middle;\n    }\n\n    .dataframe tbody tr th {\n        vertical-align: top;\n    }\n\n    .dataframe thead th {\n        text-align: right;\n    }\n</style>\n<table border=\"1\" class=\"dataframe\">\n  <thead>\n    <tr style=\"text-align: right;\">\n      <th></th>\n      <th>date</th>\n      <th>Date</th>\n      <th>sp500</th>\n      <th>sp500cap</th>\n    </tr>\n  </thead>\n  <tbody>\n    <tr>\n      <th>0</th>\n      <td>1964-03-31</td>\n      <td>31.03.1964</td>\n      <td>79</td>\n      <td>357,907</td>\n    </tr>\n    <tr>\n      <th>1</th>\n      <td>1964-04-01</td>\n      <td>1.04.1964</td>\n      <td>79</td>\n      <td>357,907</td>\n    </tr>\n    <tr>\n      <th>2</th>\n      <td>1964-04-02</td>\n      <td>2.04.1964</td>\n      <td>80</td>\n      <td>357,907</td>\n    </tr>\n    <tr>\n      <th>3</th>\n      <td>1964-04-03</td>\n      <td>3.04.1964</td>\n      <td>80</td>\n      <td>357,907</td>\n    </tr>\n    <tr>\n      <th>4</th>\n      <td>1964-04-06</td>\n      <td>6.04.1964</td>\n      <td>80</td>\n      <td>357,907</td>\n    </tr>\n    <tr>\n      <th>...</th>\n      <td>...</td>\n      <td>...</td>\n      <td>...</td>\n      <td>...</td>\n    </tr>\n    <tr>\n      <th>15314</th>\n      <td>2022-12-12</td>\n      <td>12.12.2022</td>\n      <td>3,991</td>\n      <td>33,536,670</td>\n    </tr>\n    <tr>\n      <th>15315</th>\n      <td>2022-12-13</td>\n      <td>13.12.2022</td>\n      <td>4,020</td>\n      <td>33,781,200</td>\n    </tr>\n    <tr>\n      <th>15316</th>\n      <td>2022-12-14</td>\n      <td>14.12.2022</td>\n      <td>3,995</td>\n      <td>33,576,690</td>\n    </tr>\n    <tr>\n      <th>15317</th>\n      <td>2022-12-15</td>\n      <td>15.12.2022</td>\n      <td>3,896</td>\n      <td>32,739,940</td>\n    </tr>\n    <tr>\n      <th>15318</th>\n      <td>2022-12-16</td>\n      <td>16.12.2022</td>\n      <td>3,852</td>\n      <td>32,375,300</td>\n    </tr>\n  </tbody>\n</table>\n<p>15319 rows × 4 columns</p>\n</div>"
     },
     "execution_count": 215,
     "metadata": {},
     "output_type": "execute_result"
    }
   ],
   "source": [
    "df"
   ],
   "metadata": {
    "collapsed": false
   }
  },
  {
   "cell_type": "code",
   "execution_count": 216,
   "outputs": [],
   "source": [
    "df = df.drop(['Date'], axis=1)"
   ],
   "metadata": {
    "collapsed": false
   }
  },
  {
   "cell_type": "code",
   "execution_count": 217,
   "outputs": [
    {
     "data": {
      "text/plain": "            date  sp500    sp500cap\n0     1964-03-31     79     357,907\n1     1964-04-01     79     357,907\n2     1964-04-02     80     357,907\n3     1964-04-03     80     357,907\n4     1964-04-06     80     357,907\n...          ...    ...         ...\n15314 2022-12-12  3,991  33,536,670\n15315 2022-12-13  4,020  33,781,200\n15316 2022-12-14  3,995  33,576,690\n15317 2022-12-15  3,896  32,739,940\n15318 2022-12-16  3,852  32,375,300\n\n[15319 rows x 3 columns]",
      "text/html": "<div>\n<style scoped>\n    .dataframe tbody tr th:only-of-type {\n        vertical-align: middle;\n    }\n\n    .dataframe tbody tr th {\n        vertical-align: top;\n    }\n\n    .dataframe thead th {\n        text-align: right;\n    }\n</style>\n<table border=\"1\" class=\"dataframe\">\n  <thead>\n    <tr style=\"text-align: right;\">\n      <th></th>\n      <th>date</th>\n      <th>sp500</th>\n      <th>sp500cap</th>\n    </tr>\n  </thead>\n  <tbody>\n    <tr>\n      <th>0</th>\n      <td>1964-03-31</td>\n      <td>79</td>\n      <td>357,907</td>\n    </tr>\n    <tr>\n      <th>1</th>\n      <td>1964-04-01</td>\n      <td>79</td>\n      <td>357,907</td>\n    </tr>\n    <tr>\n      <th>2</th>\n      <td>1964-04-02</td>\n      <td>80</td>\n      <td>357,907</td>\n    </tr>\n    <tr>\n      <th>3</th>\n      <td>1964-04-03</td>\n      <td>80</td>\n      <td>357,907</td>\n    </tr>\n    <tr>\n      <th>4</th>\n      <td>1964-04-06</td>\n      <td>80</td>\n      <td>357,907</td>\n    </tr>\n    <tr>\n      <th>...</th>\n      <td>...</td>\n      <td>...</td>\n      <td>...</td>\n    </tr>\n    <tr>\n      <th>15314</th>\n      <td>2022-12-12</td>\n      <td>3,991</td>\n      <td>33,536,670</td>\n    </tr>\n    <tr>\n      <th>15315</th>\n      <td>2022-12-13</td>\n      <td>4,020</td>\n      <td>33,781,200</td>\n    </tr>\n    <tr>\n      <th>15316</th>\n      <td>2022-12-14</td>\n      <td>3,995</td>\n      <td>33,576,690</td>\n    </tr>\n    <tr>\n      <th>15317</th>\n      <td>2022-12-15</td>\n      <td>3,896</td>\n      <td>32,739,940</td>\n    </tr>\n    <tr>\n      <th>15318</th>\n      <td>2022-12-16</td>\n      <td>3,852</td>\n      <td>32,375,300</td>\n    </tr>\n  </tbody>\n</table>\n<p>15319 rows × 3 columns</p>\n</div>"
     },
     "execution_count": 217,
     "metadata": {},
     "output_type": "execute_result"
    }
   ],
   "source": [
    "df"
   ],
   "metadata": {
    "collapsed": false
   }
  },
  {
   "cell_type": "code",
   "execution_count": 218,
   "outputs": [],
   "source": [
    "df = df.reindex(columns=[\n",
    "    'date',\n",
    "    'sp500',\n",
    "    'sp500cap'\n",
    "])"
   ],
   "metadata": {
    "collapsed": false
   }
  },
  {
   "cell_type": "code",
   "execution_count": 219,
   "outputs": [
    {
     "data": {
      "text/plain": "            date  sp500    sp500cap\n0     1964-03-31     79     357,907\n1     1964-04-01     79     357,907\n2     1964-04-02     80     357,907\n3     1964-04-03     80     357,907\n4     1964-04-06     80     357,907\n...          ...    ...         ...\n15314 2022-12-12  3,991  33,536,670\n15315 2022-12-13  4,020  33,781,200\n15316 2022-12-14  3,995  33,576,690\n15317 2022-12-15  3,896  32,739,940\n15318 2022-12-16  3,852  32,375,300\n\n[15319 rows x 3 columns]",
      "text/html": "<div>\n<style scoped>\n    .dataframe tbody tr th:only-of-type {\n        vertical-align: middle;\n    }\n\n    .dataframe tbody tr th {\n        vertical-align: top;\n    }\n\n    .dataframe thead th {\n        text-align: right;\n    }\n</style>\n<table border=\"1\" class=\"dataframe\">\n  <thead>\n    <tr style=\"text-align: right;\">\n      <th></th>\n      <th>date</th>\n      <th>sp500</th>\n      <th>sp500cap</th>\n    </tr>\n  </thead>\n  <tbody>\n    <tr>\n      <th>0</th>\n      <td>1964-03-31</td>\n      <td>79</td>\n      <td>357,907</td>\n    </tr>\n    <tr>\n      <th>1</th>\n      <td>1964-04-01</td>\n      <td>79</td>\n      <td>357,907</td>\n    </tr>\n    <tr>\n      <th>2</th>\n      <td>1964-04-02</td>\n      <td>80</td>\n      <td>357,907</td>\n    </tr>\n    <tr>\n      <th>3</th>\n      <td>1964-04-03</td>\n      <td>80</td>\n      <td>357,907</td>\n    </tr>\n    <tr>\n      <th>4</th>\n      <td>1964-04-06</td>\n      <td>80</td>\n      <td>357,907</td>\n    </tr>\n    <tr>\n      <th>...</th>\n      <td>...</td>\n      <td>...</td>\n      <td>...</td>\n    </tr>\n    <tr>\n      <th>15314</th>\n      <td>2022-12-12</td>\n      <td>3,991</td>\n      <td>33,536,670</td>\n    </tr>\n    <tr>\n      <th>15315</th>\n      <td>2022-12-13</td>\n      <td>4,020</td>\n      <td>33,781,200</td>\n    </tr>\n    <tr>\n      <th>15316</th>\n      <td>2022-12-14</td>\n      <td>3,995</td>\n      <td>33,576,690</td>\n    </tr>\n    <tr>\n      <th>15317</th>\n      <td>2022-12-15</td>\n      <td>3,896</td>\n      <td>32,739,940</td>\n    </tr>\n    <tr>\n      <th>15318</th>\n      <td>2022-12-16</td>\n      <td>3,852</td>\n      <td>32,375,300</td>\n    </tr>\n  </tbody>\n</table>\n<p>15319 rows × 3 columns</p>\n</div>"
     },
     "execution_count": 219,
     "metadata": {},
     "output_type": "execute_result"
    }
   ],
   "source": [
    "df"
   ],
   "metadata": {
    "collapsed": false
   }
  },
  {
   "cell_type": "markdown",
   "source": [
    "### BIST100"
   ],
   "metadata": {
    "collapsed": false
   }
  },
  {
   "cell_type": "code",
   "execution_count": 220,
   "outputs": [],
   "source": [
    "df_bist100 = pd.read_csv(csv_bist100)"
   ],
   "metadata": {
    "collapsed": false
   }
  },
  {
   "cell_type": "code",
   "execution_count": 221,
   "outputs": [
    {
     "data": {
      "text/plain": "            Date    Index Market cap (m TL)  Unnamed: 3  Unnamed: 4  \\\n0      4.01.1988       0                 1          NaN         NaN   \n1      5.01.1988       0                 1          NaN         NaN   \n2      6.01.1988       0                 1          NaN         NaN   \n3      7.01.1988       0                 1          NaN         NaN   \n4      8.01.1988       0                 1          NaN         NaN   \n...          ...      ...               ...         ...         ...   \n9117  13.12.2022   5,256         4,209,786          NaN         NaN   \n9118  14.12.2022   5,067         4,067,326          NaN         NaN   \n9119  15.12.2022   5,189         4,180,713          NaN         NaN   \n9120  16.12.2022   5,214         4,220,547          NaN         NaN   \n9121  19.12.2022   5,392         4,369,087          NaN         NaN   \n\n      Unnamed: 5  Unnamed: 6  Unnamed: 7  Unnamed: 8  Unnamed: 9  ...  \\\n0            NaN         NaN         NaN         NaN         NaN  ...   \n1            NaN         NaN         NaN         NaN         NaN  ...   \n2            NaN         NaN         NaN         NaN         NaN  ...   \n3            NaN         NaN         NaN         NaN         NaN  ...   \n4            NaN         NaN         NaN         NaN         NaN  ...   \n...          ...         ...         ...         ...         ...  ...   \n9117         NaN         NaN         NaN         NaN         NaN  ...   \n9118         NaN         NaN         NaN         NaN         NaN  ...   \n9119         NaN         NaN         NaN         NaN         NaN  ...   \n9120         NaN         NaN         NaN         NaN         NaN  ...   \n9121         NaN         NaN         NaN         NaN         NaN  ...   \n\n      Unnamed: 46  Unnamed: 47  Unnamed: 48  Unnamed: 49  Unnamed: 50  \\\n0             NaN          NaN          NaN          NaN          NaN   \n1             NaN          NaN          NaN          NaN          NaN   \n2             NaN          NaN          NaN          NaN          NaN   \n3             NaN          NaN          NaN          NaN          NaN   \n4             NaN          NaN          NaN          NaN          NaN   \n...           ...          ...          ...          ...          ...   \n9117          NaN          NaN          NaN          NaN          NaN   \n9118          NaN          NaN          NaN          NaN          NaN   \n9119          NaN          NaN          NaN          NaN          NaN   \n9120          NaN          NaN          NaN          NaN          NaN   \n9121          NaN          NaN          NaN          NaN          NaN   \n\n      Unnamed: 51  Unnamed: 52  Unnamed: 53  Unnamed: 54  Unnamed: 55  \n0             NaN          NaN          NaN          NaN          NaN  \n1             NaN          NaN          NaN          NaN          NaN  \n2             NaN          NaN          NaN          NaN          NaN  \n3             NaN          NaN          NaN          NaN          NaN  \n4             NaN          NaN          NaN          NaN          NaN  \n...           ...          ...          ...          ...          ...  \n9117          NaN          NaN          NaN          NaN          NaN  \n9118          NaN          NaN          NaN          NaN          NaN  \n9119          NaN          NaN          NaN          NaN          NaN  \n9120          NaN          NaN          NaN          NaN          NaN  \n9121          NaN          NaN          NaN          NaN          NaN  \n\n[9122 rows x 56 columns]",
      "text/html": "<div>\n<style scoped>\n    .dataframe tbody tr th:only-of-type {\n        vertical-align: middle;\n    }\n\n    .dataframe tbody tr th {\n        vertical-align: top;\n    }\n\n    .dataframe thead th {\n        text-align: right;\n    }\n</style>\n<table border=\"1\" class=\"dataframe\">\n  <thead>\n    <tr style=\"text-align: right;\">\n      <th></th>\n      <th>Date</th>\n      <th>Index</th>\n      <th>Market cap (m TL)</th>\n      <th>Unnamed: 3</th>\n      <th>Unnamed: 4</th>\n      <th>Unnamed: 5</th>\n      <th>Unnamed: 6</th>\n      <th>Unnamed: 7</th>\n      <th>Unnamed: 8</th>\n      <th>Unnamed: 9</th>\n      <th>...</th>\n      <th>Unnamed: 46</th>\n      <th>Unnamed: 47</th>\n      <th>Unnamed: 48</th>\n      <th>Unnamed: 49</th>\n      <th>Unnamed: 50</th>\n      <th>Unnamed: 51</th>\n      <th>Unnamed: 52</th>\n      <th>Unnamed: 53</th>\n      <th>Unnamed: 54</th>\n      <th>Unnamed: 55</th>\n    </tr>\n  </thead>\n  <tbody>\n    <tr>\n      <th>0</th>\n      <td>4.01.1988</td>\n      <td>0</td>\n      <td>1</td>\n      <td>NaN</td>\n      <td>NaN</td>\n      <td>NaN</td>\n      <td>NaN</td>\n      <td>NaN</td>\n      <td>NaN</td>\n      <td>NaN</td>\n      <td>...</td>\n      <td>NaN</td>\n      <td>NaN</td>\n      <td>NaN</td>\n      <td>NaN</td>\n      <td>NaN</td>\n      <td>NaN</td>\n      <td>NaN</td>\n      <td>NaN</td>\n      <td>NaN</td>\n      <td>NaN</td>\n    </tr>\n    <tr>\n      <th>1</th>\n      <td>5.01.1988</td>\n      <td>0</td>\n      <td>1</td>\n      <td>NaN</td>\n      <td>NaN</td>\n      <td>NaN</td>\n      <td>NaN</td>\n      <td>NaN</td>\n      <td>NaN</td>\n      <td>NaN</td>\n      <td>...</td>\n      <td>NaN</td>\n      <td>NaN</td>\n      <td>NaN</td>\n      <td>NaN</td>\n      <td>NaN</td>\n      <td>NaN</td>\n      <td>NaN</td>\n      <td>NaN</td>\n      <td>NaN</td>\n      <td>NaN</td>\n    </tr>\n    <tr>\n      <th>2</th>\n      <td>6.01.1988</td>\n      <td>0</td>\n      <td>1</td>\n      <td>NaN</td>\n      <td>NaN</td>\n      <td>NaN</td>\n      <td>NaN</td>\n      <td>NaN</td>\n      <td>NaN</td>\n      <td>NaN</td>\n      <td>...</td>\n      <td>NaN</td>\n      <td>NaN</td>\n      <td>NaN</td>\n      <td>NaN</td>\n      <td>NaN</td>\n      <td>NaN</td>\n      <td>NaN</td>\n      <td>NaN</td>\n      <td>NaN</td>\n      <td>NaN</td>\n    </tr>\n    <tr>\n      <th>3</th>\n      <td>7.01.1988</td>\n      <td>0</td>\n      <td>1</td>\n      <td>NaN</td>\n      <td>NaN</td>\n      <td>NaN</td>\n      <td>NaN</td>\n      <td>NaN</td>\n      <td>NaN</td>\n      <td>NaN</td>\n      <td>...</td>\n      <td>NaN</td>\n      <td>NaN</td>\n      <td>NaN</td>\n      <td>NaN</td>\n      <td>NaN</td>\n      <td>NaN</td>\n      <td>NaN</td>\n      <td>NaN</td>\n      <td>NaN</td>\n      <td>NaN</td>\n    </tr>\n    <tr>\n      <th>4</th>\n      <td>8.01.1988</td>\n      <td>0</td>\n      <td>1</td>\n      <td>NaN</td>\n      <td>NaN</td>\n      <td>NaN</td>\n      <td>NaN</td>\n      <td>NaN</td>\n      <td>NaN</td>\n      <td>NaN</td>\n      <td>...</td>\n      <td>NaN</td>\n      <td>NaN</td>\n      <td>NaN</td>\n      <td>NaN</td>\n      <td>NaN</td>\n      <td>NaN</td>\n      <td>NaN</td>\n      <td>NaN</td>\n      <td>NaN</td>\n      <td>NaN</td>\n    </tr>\n    <tr>\n      <th>...</th>\n      <td>...</td>\n      <td>...</td>\n      <td>...</td>\n      <td>...</td>\n      <td>...</td>\n      <td>...</td>\n      <td>...</td>\n      <td>...</td>\n      <td>...</td>\n      <td>...</td>\n      <td>...</td>\n      <td>...</td>\n      <td>...</td>\n      <td>...</td>\n      <td>...</td>\n      <td>...</td>\n      <td>...</td>\n      <td>...</td>\n      <td>...</td>\n      <td>...</td>\n      <td>...</td>\n    </tr>\n    <tr>\n      <th>9117</th>\n      <td>13.12.2022</td>\n      <td>5,256</td>\n      <td>4,209,786</td>\n      <td>NaN</td>\n      <td>NaN</td>\n      <td>NaN</td>\n      <td>NaN</td>\n      <td>NaN</td>\n      <td>NaN</td>\n      <td>NaN</td>\n      <td>...</td>\n      <td>NaN</td>\n      <td>NaN</td>\n      <td>NaN</td>\n      <td>NaN</td>\n      <td>NaN</td>\n      <td>NaN</td>\n      <td>NaN</td>\n      <td>NaN</td>\n      <td>NaN</td>\n      <td>NaN</td>\n    </tr>\n    <tr>\n      <th>9118</th>\n      <td>14.12.2022</td>\n      <td>5,067</td>\n      <td>4,067,326</td>\n      <td>NaN</td>\n      <td>NaN</td>\n      <td>NaN</td>\n      <td>NaN</td>\n      <td>NaN</td>\n      <td>NaN</td>\n      <td>NaN</td>\n      <td>...</td>\n      <td>NaN</td>\n      <td>NaN</td>\n      <td>NaN</td>\n      <td>NaN</td>\n      <td>NaN</td>\n      <td>NaN</td>\n      <td>NaN</td>\n      <td>NaN</td>\n      <td>NaN</td>\n      <td>NaN</td>\n    </tr>\n    <tr>\n      <th>9119</th>\n      <td>15.12.2022</td>\n      <td>5,189</td>\n      <td>4,180,713</td>\n      <td>NaN</td>\n      <td>NaN</td>\n      <td>NaN</td>\n      <td>NaN</td>\n      <td>NaN</td>\n      <td>NaN</td>\n      <td>NaN</td>\n      <td>...</td>\n      <td>NaN</td>\n      <td>NaN</td>\n      <td>NaN</td>\n      <td>NaN</td>\n      <td>NaN</td>\n      <td>NaN</td>\n      <td>NaN</td>\n      <td>NaN</td>\n      <td>NaN</td>\n      <td>NaN</td>\n    </tr>\n    <tr>\n      <th>9120</th>\n      <td>16.12.2022</td>\n      <td>5,214</td>\n      <td>4,220,547</td>\n      <td>NaN</td>\n      <td>NaN</td>\n      <td>NaN</td>\n      <td>NaN</td>\n      <td>NaN</td>\n      <td>NaN</td>\n      <td>NaN</td>\n      <td>...</td>\n      <td>NaN</td>\n      <td>NaN</td>\n      <td>NaN</td>\n      <td>NaN</td>\n      <td>NaN</td>\n      <td>NaN</td>\n      <td>NaN</td>\n      <td>NaN</td>\n      <td>NaN</td>\n      <td>NaN</td>\n    </tr>\n    <tr>\n      <th>9121</th>\n      <td>19.12.2022</td>\n      <td>5,392</td>\n      <td>4,369,087</td>\n      <td>NaN</td>\n      <td>NaN</td>\n      <td>NaN</td>\n      <td>NaN</td>\n      <td>NaN</td>\n      <td>NaN</td>\n      <td>NaN</td>\n      <td>...</td>\n      <td>NaN</td>\n      <td>NaN</td>\n      <td>NaN</td>\n      <td>NaN</td>\n      <td>NaN</td>\n      <td>NaN</td>\n      <td>NaN</td>\n      <td>NaN</td>\n      <td>NaN</td>\n      <td>NaN</td>\n    </tr>\n  </tbody>\n</table>\n<p>9122 rows × 56 columns</p>\n</div>"
     },
     "execution_count": 221,
     "metadata": {},
     "output_type": "execute_result"
    }
   ],
   "source": [
    "df_bist100"
   ],
   "metadata": {
    "collapsed": false
   }
  },
  {
   "cell_type": "code",
   "execution_count": 222,
   "outputs": [],
   "source": [
    "columns_to_delete = [f\"Unnamed: {each}\" for each in range(3, 56)]"
   ],
   "metadata": {
    "collapsed": false
   }
  },
  {
   "cell_type": "code",
   "execution_count": 223,
   "outputs": [],
   "source": [
    "df_bist100 = df_bist100.drop(columns=columns_to_delete)"
   ],
   "metadata": {
    "collapsed": false
   }
  },
  {
   "cell_type": "code",
   "execution_count": 224,
   "outputs": [
    {
     "data": {
      "text/plain": "            Date    Index Market cap (m TL)\n0      4.01.1988       0                 1 \n1      5.01.1988       0                 1 \n2      6.01.1988       0                 1 \n3      7.01.1988       0                 1 \n4      8.01.1988       0                 1 \n...          ...      ...               ...\n9117  13.12.2022   5,256         4,209,786 \n9118  14.12.2022   5,067         4,067,326 \n9119  15.12.2022   5,189         4,180,713 \n9120  16.12.2022   5,214         4,220,547 \n9121  19.12.2022   5,392         4,369,087 \n\n[9122 rows x 3 columns]",
      "text/html": "<div>\n<style scoped>\n    .dataframe tbody tr th:only-of-type {\n        vertical-align: middle;\n    }\n\n    .dataframe tbody tr th {\n        vertical-align: top;\n    }\n\n    .dataframe thead th {\n        text-align: right;\n    }\n</style>\n<table border=\"1\" class=\"dataframe\">\n  <thead>\n    <tr style=\"text-align: right;\">\n      <th></th>\n      <th>Date</th>\n      <th>Index</th>\n      <th>Market cap (m TL)</th>\n    </tr>\n  </thead>\n  <tbody>\n    <tr>\n      <th>0</th>\n      <td>4.01.1988</td>\n      <td>0</td>\n      <td>1</td>\n    </tr>\n    <tr>\n      <th>1</th>\n      <td>5.01.1988</td>\n      <td>0</td>\n      <td>1</td>\n    </tr>\n    <tr>\n      <th>2</th>\n      <td>6.01.1988</td>\n      <td>0</td>\n      <td>1</td>\n    </tr>\n    <tr>\n      <th>3</th>\n      <td>7.01.1988</td>\n      <td>0</td>\n      <td>1</td>\n    </tr>\n    <tr>\n      <th>4</th>\n      <td>8.01.1988</td>\n      <td>0</td>\n      <td>1</td>\n    </tr>\n    <tr>\n      <th>...</th>\n      <td>...</td>\n      <td>...</td>\n      <td>...</td>\n    </tr>\n    <tr>\n      <th>9117</th>\n      <td>13.12.2022</td>\n      <td>5,256</td>\n      <td>4,209,786</td>\n    </tr>\n    <tr>\n      <th>9118</th>\n      <td>14.12.2022</td>\n      <td>5,067</td>\n      <td>4,067,326</td>\n    </tr>\n    <tr>\n      <th>9119</th>\n      <td>15.12.2022</td>\n      <td>5,189</td>\n      <td>4,180,713</td>\n    </tr>\n    <tr>\n      <th>9120</th>\n      <td>16.12.2022</td>\n      <td>5,214</td>\n      <td>4,220,547</td>\n    </tr>\n    <tr>\n      <th>9121</th>\n      <td>19.12.2022</td>\n      <td>5,392</td>\n      <td>4,369,087</td>\n    </tr>\n  </tbody>\n</table>\n<p>9122 rows × 3 columns</p>\n</div>"
     },
     "execution_count": 224,
     "metadata": {},
     "output_type": "execute_result"
    }
   ],
   "source": [
    "df_bist100"
   ],
   "metadata": {
    "collapsed": false
   }
  },
  {
   "cell_type": "code",
   "execution_count": 225,
   "outputs": [],
   "source": [
    "df_bist100 = add_date_filed(df_bist100)"
   ],
   "metadata": {
    "collapsed": false
   }
  },
  {
   "cell_type": "code",
   "execution_count": 226,
   "outputs": [
    {
     "data": {
      "text/plain": "            Date    Index Market cap (m TL)       date\n0      4.01.1988       0                 1  1988-01-04\n1      5.01.1988       0                 1  1988-01-05\n2      6.01.1988       0                 1  1988-01-06\n3      7.01.1988       0                 1  1988-01-07\n4      8.01.1988       0                 1  1988-01-08\n...          ...      ...               ...        ...\n9117  13.12.2022   5,256         4,209,786  2022-12-13\n9118  14.12.2022   5,067         4,067,326  2022-12-14\n9119  15.12.2022   5,189         4,180,713  2022-12-15\n9120  16.12.2022   5,214         4,220,547  2022-12-16\n9121  19.12.2022   5,392         4,369,087  2022-12-19\n\n[9122 rows x 4 columns]",
      "text/html": "<div>\n<style scoped>\n    .dataframe tbody tr th:only-of-type {\n        vertical-align: middle;\n    }\n\n    .dataframe tbody tr th {\n        vertical-align: top;\n    }\n\n    .dataframe thead th {\n        text-align: right;\n    }\n</style>\n<table border=\"1\" class=\"dataframe\">\n  <thead>\n    <tr style=\"text-align: right;\">\n      <th></th>\n      <th>Date</th>\n      <th>Index</th>\n      <th>Market cap (m TL)</th>\n      <th>date</th>\n    </tr>\n  </thead>\n  <tbody>\n    <tr>\n      <th>0</th>\n      <td>4.01.1988</td>\n      <td>0</td>\n      <td>1</td>\n      <td>1988-01-04</td>\n    </tr>\n    <tr>\n      <th>1</th>\n      <td>5.01.1988</td>\n      <td>0</td>\n      <td>1</td>\n      <td>1988-01-05</td>\n    </tr>\n    <tr>\n      <th>2</th>\n      <td>6.01.1988</td>\n      <td>0</td>\n      <td>1</td>\n      <td>1988-01-06</td>\n    </tr>\n    <tr>\n      <th>3</th>\n      <td>7.01.1988</td>\n      <td>0</td>\n      <td>1</td>\n      <td>1988-01-07</td>\n    </tr>\n    <tr>\n      <th>4</th>\n      <td>8.01.1988</td>\n      <td>0</td>\n      <td>1</td>\n      <td>1988-01-08</td>\n    </tr>\n    <tr>\n      <th>...</th>\n      <td>...</td>\n      <td>...</td>\n      <td>...</td>\n      <td>...</td>\n    </tr>\n    <tr>\n      <th>9117</th>\n      <td>13.12.2022</td>\n      <td>5,256</td>\n      <td>4,209,786</td>\n      <td>2022-12-13</td>\n    </tr>\n    <tr>\n      <th>9118</th>\n      <td>14.12.2022</td>\n      <td>5,067</td>\n      <td>4,067,326</td>\n      <td>2022-12-14</td>\n    </tr>\n    <tr>\n      <th>9119</th>\n      <td>15.12.2022</td>\n      <td>5,189</td>\n      <td>4,180,713</td>\n      <td>2022-12-15</td>\n    </tr>\n    <tr>\n      <th>9120</th>\n      <td>16.12.2022</td>\n      <td>5,214</td>\n      <td>4,220,547</td>\n      <td>2022-12-16</td>\n    </tr>\n    <tr>\n      <th>9121</th>\n      <td>19.12.2022</td>\n      <td>5,392</td>\n      <td>4,369,087</td>\n      <td>2022-12-19</td>\n    </tr>\n  </tbody>\n</table>\n<p>9122 rows × 4 columns</p>\n</div>"
     },
     "execution_count": 226,
     "metadata": {},
     "output_type": "execute_result"
    }
   ],
   "source": [
    "df_bist100"
   ],
   "metadata": {
    "collapsed": false
   }
  },
  {
   "cell_type": "code",
   "execution_count": 227,
   "outputs": [],
   "source": [
    "df = df.merge(df_bist100, on='date', how='outer').rename(\n",
    "    columns={'Index': 'bist100', 'Market cap (m TL)': 'bist100cap'})"
   ],
   "metadata": {
    "collapsed": false
   }
  },
  {
   "cell_type": "code",
   "execution_count": 228,
   "outputs": [
    {
     "data": {
      "text/plain": "            date  sp500    sp500cap        Date  bist100   bist100cap\n0     1964-03-31     79     357,907         NaN      NaN          NaN\n1     1964-04-01     79     357,907         NaN      NaN          NaN\n2     1964-04-02     80     357,907         NaN      NaN          NaN\n3     1964-04-03     80     357,907         NaN      NaN          NaN\n4     1964-04-06     80     357,907         NaN      NaN          NaN\n...          ...    ...         ...         ...      ...          ...\n15316 2022-12-13  4,020  33,781,200  13.12.2022   5,256    4,209,786 \n15317 2022-12-14  3,995  33,576,690  14.12.2022   5,067    4,067,326 \n15318 2022-12-15  3,896  32,739,940  15.12.2022   5,189    4,180,713 \n15319 2022-12-16  3,852  32,375,300  16.12.2022   5,214    4,220,547 \n15320 2022-12-19    NaN         NaN  19.12.2022   5,392    4,369,087 \n\n[15321 rows x 6 columns]",
      "text/html": "<div>\n<style scoped>\n    .dataframe tbody tr th:only-of-type {\n        vertical-align: middle;\n    }\n\n    .dataframe tbody tr th {\n        vertical-align: top;\n    }\n\n    .dataframe thead th {\n        text-align: right;\n    }\n</style>\n<table border=\"1\" class=\"dataframe\">\n  <thead>\n    <tr style=\"text-align: right;\">\n      <th></th>\n      <th>date</th>\n      <th>sp500</th>\n      <th>sp500cap</th>\n      <th>Date</th>\n      <th>bist100</th>\n      <th>bist100cap</th>\n    </tr>\n  </thead>\n  <tbody>\n    <tr>\n      <th>0</th>\n      <td>1964-03-31</td>\n      <td>79</td>\n      <td>357,907</td>\n      <td>NaN</td>\n      <td>NaN</td>\n      <td>NaN</td>\n    </tr>\n    <tr>\n      <th>1</th>\n      <td>1964-04-01</td>\n      <td>79</td>\n      <td>357,907</td>\n      <td>NaN</td>\n      <td>NaN</td>\n      <td>NaN</td>\n    </tr>\n    <tr>\n      <th>2</th>\n      <td>1964-04-02</td>\n      <td>80</td>\n      <td>357,907</td>\n      <td>NaN</td>\n      <td>NaN</td>\n      <td>NaN</td>\n    </tr>\n    <tr>\n      <th>3</th>\n      <td>1964-04-03</td>\n      <td>80</td>\n      <td>357,907</td>\n      <td>NaN</td>\n      <td>NaN</td>\n      <td>NaN</td>\n    </tr>\n    <tr>\n      <th>4</th>\n      <td>1964-04-06</td>\n      <td>80</td>\n      <td>357,907</td>\n      <td>NaN</td>\n      <td>NaN</td>\n      <td>NaN</td>\n    </tr>\n    <tr>\n      <th>...</th>\n      <td>...</td>\n      <td>...</td>\n      <td>...</td>\n      <td>...</td>\n      <td>...</td>\n      <td>...</td>\n    </tr>\n    <tr>\n      <th>15316</th>\n      <td>2022-12-13</td>\n      <td>4,020</td>\n      <td>33,781,200</td>\n      <td>13.12.2022</td>\n      <td>5,256</td>\n      <td>4,209,786</td>\n    </tr>\n    <tr>\n      <th>15317</th>\n      <td>2022-12-14</td>\n      <td>3,995</td>\n      <td>33,576,690</td>\n      <td>14.12.2022</td>\n      <td>5,067</td>\n      <td>4,067,326</td>\n    </tr>\n    <tr>\n      <th>15318</th>\n      <td>2022-12-15</td>\n      <td>3,896</td>\n      <td>32,739,940</td>\n      <td>15.12.2022</td>\n      <td>5,189</td>\n      <td>4,180,713</td>\n    </tr>\n    <tr>\n      <th>15319</th>\n      <td>2022-12-16</td>\n      <td>3,852</td>\n      <td>32,375,300</td>\n      <td>16.12.2022</td>\n      <td>5,214</td>\n      <td>4,220,547</td>\n    </tr>\n    <tr>\n      <th>15320</th>\n      <td>2022-12-19</td>\n      <td>NaN</td>\n      <td>NaN</td>\n      <td>19.12.2022</td>\n      <td>5,392</td>\n      <td>4,369,087</td>\n    </tr>\n  </tbody>\n</table>\n<p>15321 rows × 6 columns</p>\n</div>"
     },
     "execution_count": 228,
     "metadata": {},
     "output_type": "execute_result"
    }
   ],
   "source": [
    "df"
   ],
   "metadata": {
    "collapsed": false
   }
  },
  {
   "cell_type": "code",
   "execution_count": 229,
   "outputs": [],
   "source": [
    "df = df.reindex(columns=[\n",
    "    'date',\n",
    "    'sp500',\n",
    "    'sp500cap',\n",
    "    'bist100',\n",
    "    'bist100cap'\n",
    "])"
   ],
   "metadata": {
    "collapsed": false
   }
  },
  {
   "cell_type": "code",
   "execution_count": 230,
   "outputs": [
    {
     "data": {
      "text/plain": "            date  sp500    sp500cap  bist100   bist100cap\n0     1964-03-31     79     357,907      NaN          NaN\n1     1964-04-01     79     357,907      NaN          NaN\n2     1964-04-02     80     357,907      NaN          NaN\n3     1964-04-03     80     357,907      NaN          NaN\n4     1964-04-06     80     357,907      NaN          NaN\n...          ...    ...         ...      ...          ...\n15316 2022-12-13  4,020  33,781,200   5,256    4,209,786 \n15317 2022-12-14  3,995  33,576,690   5,067    4,067,326 \n15318 2022-12-15  3,896  32,739,940   5,189    4,180,713 \n15319 2022-12-16  3,852  32,375,300   5,214    4,220,547 \n15320 2022-12-19    NaN         NaN   5,392    4,369,087 \n\n[15321 rows x 5 columns]",
      "text/html": "<div>\n<style scoped>\n    .dataframe tbody tr th:only-of-type {\n        vertical-align: middle;\n    }\n\n    .dataframe tbody tr th {\n        vertical-align: top;\n    }\n\n    .dataframe thead th {\n        text-align: right;\n    }\n</style>\n<table border=\"1\" class=\"dataframe\">\n  <thead>\n    <tr style=\"text-align: right;\">\n      <th></th>\n      <th>date</th>\n      <th>sp500</th>\n      <th>sp500cap</th>\n      <th>bist100</th>\n      <th>bist100cap</th>\n    </tr>\n  </thead>\n  <tbody>\n    <tr>\n      <th>0</th>\n      <td>1964-03-31</td>\n      <td>79</td>\n      <td>357,907</td>\n      <td>NaN</td>\n      <td>NaN</td>\n    </tr>\n    <tr>\n      <th>1</th>\n      <td>1964-04-01</td>\n      <td>79</td>\n      <td>357,907</td>\n      <td>NaN</td>\n      <td>NaN</td>\n    </tr>\n    <tr>\n      <th>2</th>\n      <td>1964-04-02</td>\n      <td>80</td>\n      <td>357,907</td>\n      <td>NaN</td>\n      <td>NaN</td>\n    </tr>\n    <tr>\n      <th>3</th>\n      <td>1964-04-03</td>\n      <td>80</td>\n      <td>357,907</td>\n      <td>NaN</td>\n      <td>NaN</td>\n    </tr>\n    <tr>\n      <th>4</th>\n      <td>1964-04-06</td>\n      <td>80</td>\n      <td>357,907</td>\n      <td>NaN</td>\n      <td>NaN</td>\n    </tr>\n    <tr>\n      <th>...</th>\n      <td>...</td>\n      <td>...</td>\n      <td>...</td>\n      <td>...</td>\n      <td>...</td>\n    </tr>\n    <tr>\n      <th>15316</th>\n      <td>2022-12-13</td>\n      <td>4,020</td>\n      <td>33,781,200</td>\n      <td>5,256</td>\n      <td>4,209,786</td>\n    </tr>\n    <tr>\n      <th>15317</th>\n      <td>2022-12-14</td>\n      <td>3,995</td>\n      <td>33,576,690</td>\n      <td>5,067</td>\n      <td>4,067,326</td>\n    </tr>\n    <tr>\n      <th>15318</th>\n      <td>2022-12-15</td>\n      <td>3,896</td>\n      <td>32,739,940</td>\n      <td>5,189</td>\n      <td>4,180,713</td>\n    </tr>\n    <tr>\n      <th>15319</th>\n      <td>2022-12-16</td>\n      <td>3,852</td>\n      <td>32,375,300</td>\n      <td>5,214</td>\n      <td>4,220,547</td>\n    </tr>\n    <tr>\n      <th>15320</th>\n      <td>2022-12-19</td>\n      <td>NaN</td>\n      <td>NaN</td>\n      <td>5,392</td>\n      <td>4,369,087</td>\n    </tr>\n  </tbody>\n</table>\n<p>15321 rows × 5 columns</p>\n</div>"
     },
     "execution_count": 230,
     "metadata": {},
     "output_type": "execute_result"
    }
   ],
   "source": [
    "df"
   ],
   "metadata": {
    "collapsed": false
   }
  },
  {
   "cell_type": "markdown",
   "source": [
    "### BISTALL"
   ],
   "metadata": {
    "collapsed": false
   }
  },
  {
   "cell_type": "code",
   "execution_count": 231,
   "outputs": [],
   "source": [
    "df_bistall = pd.read_csv(csv_bist_all)"
   ],
   "metadata": {
    "collapsed": false
   }
  },
  {
   "cell_type": "code",
   "execution_count": 232,
   "outputs": [
    {
     "data": {
      "text/plain": "            Code    Index Market cap (m TL)\n0      2.01.1997      10             2,992 \n1      3.01.1997      10             3,084 \n2      6.01.1997      11             3,143 \n3      7.01.1997      11             3,235 \n4      8.01.1997      11             3,408 \n...          ...      ...               ...\n6768  13.12.2022   5,916         5,570,492 \n6769  14.12.2022   5,714         5,393,263 \n6770  15.12.2022   5,836         5,521,100 \n6771  16.12.2022   5,870         5,577,080 \n6772  19.12.2022   6,028         5,727,575 \n\n[6773 rows x 3 columns]",
      "text/html": "<div>\n<style scoped>\n    .dataframe tbody tr th:only-of-type {\n        vertical-align: middle;\n    }\n\n    .dataframe tbody tr th {\n        vertical-align: top;\n    }\n\n    .dataframe thead th {\n        text-align: right;\n    }\n</style>\n<table border=\"1\" class=\"dataframe\">\n  <thead>\n    <tr style=\"text-align: right;\">\n      <th></th>\n      <th>Code</th>\n      <th>Index</th>\n      <th>Market cap (m TL)</th>\n    </tr>\n  </thead>\n  <tbody>\n    <tr>\n      <th>0</th>\n      <td>2.01.1997</td>\n      <td>10</td>\n      <td>2,992</td>\n    </tr>\n    <tr>\n      <th>1</th>\n      <td>3.01.1997</td>\n      <td>10</td>\n      <td>3,084</td>\n    </tr>\n    <tr>\n      <th>2</th>\n      <td>6.01.1997</td>\n      <td>11</td>\n      <td>3,143</td>\n    </tr>\n    <tr>\n      <th>3</th>\n      <td>7.01.1997</td>\n      <td>11</td>\n      <td>3,235</td>\n    </tr>\n    <tr>\n      <th>4</th>\n      <td>8.01.1997</td>\n      <td>11</td>\n      <td>3,408</td>\n    </tr>\n    <tr>\n      <th>...</th>\n      <td>...</td>\n      <td>...</td>\n      <td>...</td>\n    </tr>\n    <tr>\n      <th>6768</th>\n      <td>13.12.2022</td>\n      <td>5,916</td>\n      <td>5,570,492</td>\n    </tr>\n    <tr>\n      <th>6769</th>\n      <td>14.12.2022</td>\n      <td>5,714</td>\n      <td>5,393,263</td>\n    </tr>\n    <tr>\n      <th>6770</th>\n      <td>15.12.2022</td>\n      <td>5,836</td>\n      <td>5,521,100</td>\n    </tr>\n    <tr>\n      <th>6771</th>\n      <td>16.12.2022</td>\n      <td>5,870</td>\n      <td>5,577,080</td>\n    </tr>\n    <tr>\n      <th>6772</th>\n      <td>19.12.2022</td>\n      <td>6,028</td>\n      <td>5,727,575</td>\n    </tr>\n  </tbody>\n</table>\n<p>6773 rows × 3 columns</p>\n</div>"
     },
     "execution_count": 232,
     "metadata": {},
     "output_type": "execute_result"
    }
   ],
   "source": [
    "df_bistall"
   ],
   "metadata": {
    "collapsed": false
   }
  },
  {
   "cell_type": "code",
   "execution_count": 233,
   "outputs": [],
   "source": [
    "df_bistall = add_date_filed(df_bistall, reference_field='Code')"
   ],
   "metadata": {
    "collapsed": false
   }
  },
  {
   "cell_type": "code",
   "execution_count": 234,
   "outputs": [
    {
     "data": {
      "text/plain": "            Code    Index Market cap (m TL)       date\n0      2.01.1997      10             2,992  1997-01-02\n1      3.01.1997      10             3,084  1997-01-03\n2      6.01.1997      11             3,143  1997-01-06\n3      7.01.1997      11             3,235  1997-01-07\n4      8.01.1997      11             3,408  1997-01-08\n...          ...      ...               ...        ...\n6768  13.12.2022   5,916         5,570,492  2022-12-13\n6769  14.12.2022   5,714         5,393,263  2022-12-14\n6770  15.12.2022   5,836         5,521,100  2022-12-15\n6771  16.12.2022   5,870         5,577,080  2022-12-16\n6772  19.12.2022   6,028         5,727,575  2022-12-19\n\n[6773 rows x 4 columns]",
      "text/html": "<div>\n<style scoped>\n    .dataframe tbody tr th:only-of-type {\n        vertical-align: middle;\n    }\n\n    .dataframe tbody tr th {\n        vertical-align: top;\n    }\n\n    .dataframe thead th {\n        text-align: right;\n    }\n</style>\n<table border=\"1\" class=\"dataframe\">\n  <thead>\n    <tr style=\"text-align: right;\">\n      <th></th>\n      <th>Code</th>\n      <th>Index</th>\n      <th>Market cap (m TL)</th>\n      <th>date</th>\n    </tr>\n  </thead>\n  <tbody>\n    <tr>\n      <th>0</th>\n      <td>2.01.1997</td>\n      <td>10</td>\n      <td>2,992</td>\n      <td>1997-01-02</td>\n    </tr>\n    <tr>\n      <th>1</th>\n      <td>3.01.1997</td>\n      <td>10</td>\n      <td>3,084</td>\n      <td>1997-01-03</td>\n    </tr>\n    <tr>\n      <th>2</th>\n      <td>6.01.1997</td>\n      <td>11</td>\n      <td>3,143</td>\n      <td>1997-01-06</td>\n    </tr>\n    <tr>\n      <th>3</th>\n      <td>7.01.1997</td>\n      <td>11</td>\n      <td>3,235</td>\n      <td>1997-01-07</td>\n    </tr>\n    <tr>\n      <th>4</th>\n      <td>8.01.1997</td>\n      <td>11</td>\n      <td>3,408</td>\n      <td>1997-01-08</td>\n    </tr>\n    <tr>\n      <th>...</th>\n      <td>...</td>\n      <td>...</td>\n      <td>...</td>\n      <td>...</td>\n    </tr>\n    <tr>\n      <th>6768</th>\n      <td>13.12.2022</td>\n      <td>5,916</td>\n      <td>5,570,492</td>\n      <td>2022-12-13</td>\n    </tr>\n    <tr>\n      <th>6769</th>\n      <td>14.12.2022</td>\n      <td>5,714</td>\n      <td>5,393,263</td>\n      <td>2022-12-14</td>\n    </tr>\n    <tr>\n      <th>6770</th>\n      <td>15.12.2022</td>\n      <td>5,836</td>\n      <td>5,521,100</td>\n      <td>2022-12-15</td>\n    </tr>\n    <tr>\n      <th>6771</th>\n      <td>16.12.2022</td>\n      <td>5,870</td>\n      <td>5,577,080</td>\n      <td>2022-12-16</td>\n    </tr>\n    <tr>\n      <th>6772</th>\n      <td>19.12.2022</td>\n      <td>6,028</td>\n      <td>5,727,575</td>\n      <td>2022-12-19</td>\n    </tr>\n  </tbody>\n</table>\n<p>6773 rows × 4 columns</p>\n</div>"
     },
     "execution_count": 234,
     "metadata": {},
     "output_type": "execute_result"
    }
   ],
   "source": [
    "df_bistall"
   ],
   "metadata": {
    "collapsed": false
   }
  },
  {
   "cell_type": "code",
   "execution_count": 235,
   "outputs": [],
   "source": [
    "df = df.merge(df_bistall, on='date', how='outer').rename(\n",
    "    columns={'Index': 'bistall', 'Market cap (m TL)': 'bistallcap'})"
   ],
   "metadata": {
    "collapsed": false
   }
  },
  {
   "cell_type": "code",
   "execution_count": 236,
   "outputs": [
    {
     "data": {
      "text/plain": "            date  sp500    sp500cap  bist100   bist100cap        Code  \\\n0     1964-03-31     79     357,907      NaN          NaN         NaN   \n1     1964-04-01     79     357,907      NaN          NaN         NaN   \n2     1964-04-02     80     357,907      NaN          NaN         NaN   \n3     1964-04-03     80     357,907      NaN          NaN         NaN   \n4     1964-04-06     80     357,907      NaN          NaN         NaN   \n...          ...    ...         ...      ...          ...         ...   \n15316 2022-12-13  4,020  33,781,200   5,256    4,209,786   13.12.2022   \n15317 2022-12-14  3,995  33,576,690   5,067    4,067,326   14.12.2022   \n15318 2022-12-15  3,896  32,739,940   5,189    4,180,713   15.12.2022   \n15319 2022-12-16  3,852  32,375,300   5,214    4,220,547   16.12.2022   \n15320 2022-12-19    NaN         NaN   5,392    4,369,087   19.12.2022   \n\n       bistall   bistallcap  \n0          NaN          NaN  \n1          NaN          NaN  \n2          NaN          NaN  \n3          NaN          NaN  \n4          NaN          NaN  \n...        ...          ...  \n15316   5,916    5,570,492   \n15317   5,714    5,393,263   \n15318   5,836    5,521,100   \n15319   5,870    5,577,080   \n15320   6,028    5,727,575   \n\n[15321 rows x 8 columns]",
      "text/html": "<div>\n<style scoped>\n    .dataframe tbody tr th:only-of-type {\n        vertical-align: middle;\n    }\n\n    .dataframe tbody tr th {\n        vertical-align: top;\n    }\n\n    .dataframe thead th {\n        text-align: right;\n    }\n</style>\n<table border=\"1\" class=\"dataframe\">\n  <thead>\n    <tr style=\"text-align: right;\">\n      <th></th>\n      <th>date</th>\n      <th>sp500</th>\n      <th>sp500cap</th>\n      <th>bist100</th>\n      <th>bist100cap</th>\n      <th>Code</th>\n      <th>bistall</th>\n      <th>bistallcap</th>\n    </tr>\n  </thead>\n  <tbody>\n    <tr>\n      <th>0</th>\n      <td>1964-03-31</td>\n      <td>79</td>\n      <td>357,907</td>\n      <td>NaN</td>\n      <td>NaN</td>\n      <td>NaN</td>\n      <td>NaN</td>\n      <td>NaN</td>\n    </tr>\n    <tr>\n      <th>1</th>\n      <td>1964-04-01</td>\n      <td>79</td>\n      <td>357,907</td>\n      <td>NaN</td>\n      <td>NaN</td>\n      <td>NaN</td>\n      <td>NaN</td>\n      <td>NaN</td>\n    </tr>\n    <tr>\n      <th>2</th>\n      <td>1964-04-02</td>\n      <td>80</td>\n      <td>357,907</td>\n      <td>NaN</td>\n      <td>NaN</td>\n      <td>NaN</td>\n      <td>NaN</td>\n      <td>NaN</td>\n    </tr>\n    <tr>\n      <th>3</th>\n      <td>1964-04-03</td>\n      <td>80</td>\n      <td>357,907</td>\n      <td>NaN</td>\n      <td>NaN</td>\n      <td>NaN</td>\n      <td>NaN</td>\n      <td>NaN</td>\n    </tr>\n    <tr>\n      <th>4</th>\n      <td>1964-04-06</td>\n      <td>80</td>\n      <td>357,907</td>\n      <td>NaN</td>\n      <td>NaN</td>\n      <td>NaN</td>\n      <td>NaN</td>\n      <td>NaN</td>\n    </tr>\n    <tr>\n      <th>...</th>\n      <td>...</td>\n      <td>...</td>\n      <td>...</td>\n      <td>...</td>\n      <td>...</td>\n      <td>...</td>\n      <td>...</td>\n      <td>...</td>\n    </tr>\n    <tr>\n      <th>15316</th>\n      <td>2022-12-13</td>\n      <td>4,020</td>\n      <td>33,781,200</td>\n      <td>5,256</td>\n      <td>4,209,786</td>\n      <td>13.12.2022</td>\n      <td>5,916</td>\n      <td>5,570,492</td>\n    </tr>\n    <tr>\n      <th>15317</th>\n      <td>2022-12-14</td>\n      <td>3,995</td>\n      <td>33,576,690</td>\n      <td>5,067</td>\n      <td>4,067,326</td>\n      <td>14.12.2022</td>\n      <td>5,714</td>\n      <td>5,393,263</td>\n    </tr>\n    <tr>\n      <th>15318</th>\n      <td>2022-12-15</td>\n      <td>3,896</td>\n      <td>32,739,940</td>\n      <td>5,189</td>\n      <td>4,180,713</td>\n      <td>15.12.2022</td>\n      <td>5,836</td>\n      <td>5,521,100</td>\n    </tr>\n    <tr>\n      <th>15319</th>\n      <td>2022-12-16</td>\n      <td>3,852</td>\n      <td>32,375,300</td>\n      <td>5,214</td>\n      <td>4,220,547</td>\n      <td>16.12.2022</td>\n      <td>5,870</td>\n      <td>5,577,080</td>\n    </tr>\n    <tr>\n      <th>15320</th>\n      <td>2022-12-19</td>\n      <td>NaN</td>\n      <td>NaN</td>\n      <td>5,392</td>\n      <td>4,369,087</td>\n      <td>19.12.2022</td>\n      <td>6,028</td>\n      <td>5,727,575</td>\n    </tr>\n  </tbody>\n</table>\n<p>15321 rows × 8 columns</p>\n</div>"
     },
     "execution_count": 236,
     "metadata": {},
     "output_type": "execute_result"
    }
   ],
   "source": [
    "df"
   ],
   "metadata": {
    "collapsed": false
   }
  },
  {
   "cell_type": "code",
   "execution_count": 237,
   "outputs": [],
   "source": [
    "df = df.reindex(columns=[\n",
    "    'date',\n",
    "    'sp500',\n",
    "    'sp500cap',\n",
    "    'bist100',\n",
    "    'bist100cap',\n",
    "    'bistall',\n",
    "    'bistallcap'\n",
    "])"
   ],
   "metadata": {
    "collapsed": false
   }
  },
  {
   "cell_type": "code",
   "execution_count": 238,
   "outputs": [
    {
     "data": {
      "text/plain": "            date  sp500    sp500cap  bist100   bist100cap  bistall  \\\n0     1964-03-31     79     357,907      NaN          NaN      NaN   \n1     1964-04-01     79     357,907      NaN          NaN      NaN   \n2     1964-04-02     80     357,907      NaN          NaN      NaN   \n3     1964-04-03     80     357,907      NaN          NaN      NaN   \n4     1964-04-06     80     357,907      NaN          NaN      NaN   \n...          ...    ...         ...      ...          ...      ...   \n15316 2022-12-13  4,020  33,781,200   5,256    4,209,786    5,916    \n15317 2022-12-14  3,995  33,576,690   5,067    4,067,326    5,714    \n15318 2022-12-15  3,896  32,739,940   5,189    4,180,713    5,836    \n15319 2022-12-16  3,852  32,375,300   5,214    4,220,547    5,870    \n15320 2022-12-19    NaN         NaN   5,392    4,369,087    6,028    \n\n        bistallcap  \n0              NaN  \n1              NaN  \n2              NaN  \n3              NaN  \n4              NaN  \n...            ...  \n15316   5,570,492   \n15317   5,393,263   \n15318   5,521,100   \n15319   5,577,080   \n15320   5,727,575   \n\n[15321 rows x 7 columns]",
      "text/html": "<div>\n<style scoped>\n    .dataframe tbody tr th:only-of-type {\n        vertical-align: middle;\n    }\n\n    .dataframe tbody tr th {\n        vertical-align: top;\n    }\n\n    .dataframe thead th {\n        text-align: right;\n    }\n</style>\n<table border=\"1\" class=\"dataframe\">\n  <thead>\n    <tr style=\"text-align: right;\">\n      <th></th>\n      <th>date</th>\n      <th>sp500</th>\n      <th>sp500cap</th>\n      <th>bist100</th>\n      <th>bist100cap</th>\n      <th>bistall</th>\n      <th>bistallcap</th>\n    </tr>\n  </thead>\n  <tbody>\n    <tr>\n      <th>0</th>\n      <td>1964-03-31</td>\n      <td>79</td>\n      <td>357,907</td>\n      <td>NaN</td>\n      <td>NaN</td>\n      <td>NaN</td>\n      <td>NaN</td>\n    </tr>\n    <tr>\n      <th>1</th>\n      <td>1964-04-01</td>\n      <td>79</td>\n      <td>357,907</td>\n      <td>NaN</td>\n      <td>NaN</td>\n      <td>NaN</td>\n      <td>NaN</td>\n    </tr>\n    <tr>\n      <th>2</th>\n      <td>1964-04-02</td>\n      <td>80</td>\n      <td>357,907</td>\n      <td>NaN</td>\n      <td>NaN</td>\n      <td>NaN</td>\n      <td>NaN</td>\n    </tr>\n    <tr>\n      <th>3</th>\n      <td>1964-04-03</td>\n      <td>80</td>\n      <td>357,907</td>\n      <td>NaN</td>\n      <td>NaN</td>\n      <td>NaN</td>\n      <td>NaN</td>\n    </tr>\n    <tr>\n      <th>4</th>\n      <td>1964-04-06</td>\n      <td>80</td>\n      <td>357,907</td>\n      <td>NaN</td>\n      <td>NaN</td>\n      <td>NaN</td>\n      <td>NaN</td>\n    </tr>\n    <tr>\n      <th>...</th>\n      <td>...</td>\n      <td>...</td>\n      <td>...</td>\n      <td>...</td>\n      <td>...</td>\n      <td>...</td>\n      <td>...</td>\n    </tr>\n    <tr>\n      <th>15316</th>\n      <td>2022-12-13</td>\n      <td>4,020</td>\n      <td>33,781,200</td>\n      <td>5,256</td>\n      <td>4,209,786</td>\n      <td>5,916</td>\n      <td>5,570,492</td>\n    </tr>\n    <tr>\n      <th>15317</th>\n      <td>2022-12-14</td>\n      <td>3,995</td>\n      <td>33,576,690</td>\n      <td>5,067</td>\n      <td>4,067,326</td>\n      <td>5,714</td>\n      <td>5,393,263</td>\n    </tr>\n    <tr>\n      <th>15318</th>\n      <td>2022-12-15</td>\n      <td>3,896</td>\n      <td>32,739,940</td>\n      <td>5,189</td>\n      <td>4,180,713</td>\n      <td>5,836</td>\n      <td>5,521,100</td>\n    </tr>\n    <tr>\n      <th>15319</th>\n      <td>2022-12-16</td>\n      <td>3,852</td>\n      <td>32,375,300</td>\n      <td>5,214</td>\n      <td>4,220,547</td>\n      <td>5,870</td>\n      <td>5,577,080</td>\n    </tr>\n    <tr>\n      <th>15320</th>\n      <td>2022-12-19</td>\n      <td>NaN</td>\n      <td>NaN</td>\n      <td>5,392</td>\n      <td>4,369,087</td>\n      <td>6,028</td>\n      <td>5,727,575</td>\n    </tr>\n  </tbody>\n</table>\n<p>15321 rows × 7 columns</p>\n</div>"
     },
     "execution_count": 238,
     "metadata": {},
     "output_type": "execute_result"
    }
   ],
   "source": [
    "df"
   ],
   "metadata": {
    "collapsed": false
   }
  },
  {
   "cell_type": "markdown",
   "source": [
    "### BTC & ETH"
   ],
   "metadata": {
    "collapsed": false
   }
  },
  {
   "cell_type": "code",
   "execution_count": 239,
   "outputs": [],
   "source": [
    "df_btc_eth = pd.read_csv(csv_btc_eth)"
   ],
   "metadata": {
    "collapsed": false
   }
  },
  {
   "cell_type": "code",
   "execution_count": 240,
   "outputs": [
    {
     "data": {
      "text/plain": "            Date   Bitcoin Ethereum\n0      4.11.2014      324       NaN\n1      5.11.2014      329       NaN\n2      6.11.2014      338       NaN\n3      7.11.2014      349       NaN\n4      8.11.2014      341       NaN\n...          ...       ...      ...\n2858  21.11.2022   15,787    1,142 \n2859  22.11.2022   16,190    1,108 \n2860  23.11.2022   16,611    1,135 \n2861  24.11.2022   16,604    1,183 \n2862  25.11.2022   16,522    1,204 \n\n[2863 rows x 3 columns]",
      "text/html": "<div>\n<style scoped>\n    .dataframe tbody tr th:only-of-type {\n        vertical-align: middle;\n    }\n\n    .dataframe tbody tr th {\n        vertical-align: top;\n    }\n\n    .dataframe thead th {\n        text-align: right;\n    }\n</style>\n<table border=\"1\" class=\"dataframe\">\n  <thead>\n    <tr style=\"text-align: right;\">\n      <th></th>\n      <th>Date</th>\n      <th>Bitcoin</th>\n      <th>Ethereum</th>\n    </tr>\n  </thead>\n  <tbody>\n    <tr>\n      <th>0</th>\n      <td>4.11.2014</td>\n      <td>324</td>\n      <td>NaN</td>\n    </tr>\n    <tr>\n      <th>1</th>\n      <td>5.11.2014</td>\n      <td>329</td>\n      <td>NaN</td>\n    </tr>\n    <tr>\n      <th>2</th>\n      <td>6.11.2014</td>\n      <td>338</td>\n      <td>NaN</td>\n    </tr>\n    <tr>\n      <th>3</th>\n      <td>7.11.2014</td>\n      <td>349</td>\n      <td>NaN</td>\n    </tr>\n    <tr>\n      <th>4</th>\n      <td>8.11.2014</td>\n      <td>341</td>\n      <td>NaN</td>\n    </tr>\n    <tr>\n      <th>...</th>\n      <td>...</td>\n      <td>...</td>\n      <td>...</td>\n    </tr>\n    <tr>\n      <th>2858</th>\n      <td>21.11.2022</td>\n      <td>15,787</td>\n      <td>1,142</td>\n    </tr>\n    <tr>\n      <th>2859</th>\n      <td>22.11.2022</td>\n      <td>16,190</td>\n      <td>1,108</td>\n    </tr>\n    <tr>\n      <th>2860</th>\n      <td>23.11.2022</td>\n      <td>16,611</td>\n      <td>1,135</td>\n    </tr>\n    <tr>\n      <th>2861</th>\n      <td>24.11.2022</td>\n      <td>16,604</td>\n      <td>1,183</td>\n    </tr>\n    <tr>\n      <th>2862</th>\n      <td>25.11.2022</td>\n      <td>16,522</td>\n      <td>1,204</td>\n    </tr>\n  </tbody>\n</table>\n<p>2863 rows × 3 columns</p>\n</div>"
     },
     "execution_count": 240,
     "metadata": {},
     "output_type": "execute_result"
    }
   ],
   "source": [
    "df_btc_eth"
   ],
   "metadata": {
    "collapsed": false
   }
  },
  {
   "cell_type": "code",
   "execution_count": 241,
   "outputs": [],
   "source": [
    "df_btc_eth = add_date_filed(df_btc_eth)"
   ],
   "metadata": {
    "collapsed": false
   }
  },
  {
   "cell_type": "code",
   "execution_count": 242,
   "outputs": [
    {
     "data": {
      "text/plain": "            Date   Bitcoin Ethereum       date\n0      4.11.2014      324       NaN 2014-11-04\n1      5.11.2014      329       NaN 2014-11-05\n2      6.11.2014      338       NaN 2014-11-06\n3      7.11.2014      349       NaN 2014-11-07\n4      8.11.2014      341       NaN 2014-11-08\n...          ...       ...      ...        ...\n2858  21.11.2022   15,787    1,142  2022-11-21\n2859  22.11.2022   16,190    1,108  2022-11-22\n2860  23.11.2022   16,611    1,135  2022-11-23\n2861  24.11.2022   16,604    1,183  2022-11-24\n2862  25.11.2022   16,522    1,204  2022-11-25\n\n[2863 rows x 4 columns]",
      "text/html": "<div>\n<style scoped>\n    .dataframe tbody tr th:only-of-type {\n        vertical-align: middle;\n    }\n\n    .dataframe tbody tr th {\n        vertical-align: top;\n    }\n\n    .dataframe thead th {\n        text-align: right;\n    }\n</style>\n<table border=\"1\" class=\"dataframe\">\n  <thead>\n    <tr style=\"text-align: right;\">\n      <th></th>\n      <th>Date</th>\n      <th>Bitcoin</th>\n      <th>Ethereum</th>\n      <th>date</th>\n    </tr>\n  </thead>\n  <tbody>\n    <tr>\n      <th>0</th>\n      <td>4.11.2014</td>\n      <td>324</td>\n      <td>NaN</td>\n      <td>2014-11-04</td>\n    </tr>\n    <tr>\n      <th>1</th>\n      <td>5.11.2014</td>\n      <td>329</td>\n      <td>NaN</td>\n      <td>2014-11-05</td>\n    </tr>\n    <tr>\n      <th>2</th>\n      <td>6.11.2014</td>\n      <td>338</td>\n      <td>NaN</td>\n      <td>2014-11-06</td>\n    </tr>\n    <tr>\n      <th>3</th>\n      <td>7.11.2014</td>\n      <td>349</td>\n      <td>NaN</td>\n      <td>2014-11-07</td>\n    </tr>\n    <tr>\n      <th>4</th>\n      <td>8.11.2014</td>\n      <td>341</td>\n      <td>NaN</td>\n      <td>2014-11-08</td>\n    </tr>\n    <tr>\n      <th>...</th>\n      <td>...</td>\n      <td>...</td>\n      <td>...</td>\n      <td>...</td>\n    </tr>\n    <tr>\n      <th>2858</th>\n      <td>21.11.2022</td>\n      <td>15,787</td>\n      <td>1,142</td>\n      <td>2022-11-21</td>\n    </tr>\n    <tr>\n      <th>2859</th>\n      <td>22.11.2022</td>\n      <td>16,190</td>\n      <td>1,108</td>\n      <td>2022-11-22</td>\n    </tr>\n    <tr>\n      <th>2860</th>\n      <td>23.11.2022</td>\n      <td>16,611</td>\n      <td>1,135</td>\n      <td>2022-11-23</td>\n    </tr>\n    <tr>\n      <th>2861</th>\n      <td>24.11.2022</td>\n      <td>16,604</td>\n      <td>1,183</td>\n      <td>2022-11-24</td>\n    </tr>\n    <tr>\n      <th>2862</th>\n      <td>25.11.2022</td>\n      <td>16,522</td>\n      <td>1,204</td>\n      <td>2022-11-25</td>\n    </tr>\n  </tbody>\n</table>\n<p>2863 rows × 4 columns</p>\n</div>"
     },
     "execution_count": 242,
     "metadata": {},
     "output_type": "execute_result"
    }
   ],
   "source": [
    "df_btc_eth"
   ],
   "metadata": {
    "collapsed": false
   }
  },
  {
   "cell_type": "code",
   "execution_count": 243,
   "outputs": [],
   "source": [
    "df = df.merge(df_btc_eth, on='date', how='outer').rename(\n",
    "    columns={'Bitcoin': 'btc', 'Ethereum': 'eth'})"
   ],
   "metadata": {
    "collapsed": false
   }
  },
  {
   "cell_type": "code",
   "execution_count": 244,
   "outputs": [
    {
     "data": {
      "text/plain": "            date sp500 sp500cap bist100 bist100cap bistall bistallcap  \\\n0     1964-03-31    79  357,907     NaN        NaN     NaN        NaN   \n1     1964-04-01    79  357,907     NaN        NaN     NaN        NaN   \n2     1964-04-02    80  357,907     NaN        NaN     NaN        NaN   \n3     1964-04-03    80  357,907     NaN        NaN     NaN        NaN   \n4     1964-04-06    80  357,907     NaN        NaN     NaN        NaN   \n...          ...   ...      ...     ...        ...     ...        ...   \n16075 2022-11-06   NaN      NaN     NaN        NaN     NaN        NaN   \n16076 2022-11-12   NaN      NaN     NaN        NaN     NaN        NaN   \n16077 2022-11-13   NaN      NaN     NaN        NaN     NaN        NaN   \n16078 2022-11-19   NaN      NaN     NaN        NaN     NaN        NaN   \n16079 2022-11-20   NaN      NaN     NaN        NaN     NaN        NaN   \n\n             Date       btc      eth  \n0             NaN       NaN      NaN  \n1             NaN       NaN      NaN  \n2             NaN       NaN      NaN  \n3             NaN       NaN      NaN  \n4             NaN       NaN      NaN  \n...           ...       ...      ...  \n16075   6.11.2022   20,926    1,628   \n16076  12.11.2022   16,799    1,287   \n16077  13.11.2022   16,353    1,255   \n16078  19.11.2022   16,712    1,212   \n16079  20.11.2022   16,292    1,218   \n\n[16080 rows x 10 columns]",
      "text/html": "<div>\n<style scoped>\n    .dataframe tbody tr th:only-of-type {\n        vertical-align: middle;\n    }\n\n    .dataframe tbody tr th {\n        vertical-align: top;\n    }\n\n    .dataframe thead th {\n        text-align: right;\n    }\n</style>\n<table border=\"1\" class=\"dataframe\">\n  <thead>\n    <tr style=\"text-align: right;\">\n      <th></th>\n      <th>date</th>\n      <th>sp500</th>\n      <th>sp500cap</th>\n      <th>bist100</th>\n      <th>bist100cap</th>\n      <th>bistall</th>\n      <th>bistallcap</th>\n      <th>Date</th>\n      <th>btc</th>\n      <th>eth</th>\n    </tr>\n  </thead>\n  <tbody>\n    <tr>\n      <th>0</th>\n      <td>1964-03-31</td>\n      <td>79</td>\n      <td>357,907</td>\n      <td>NaN</td>\n      <td>NaN</td>\n      <td>NaN</td>\n      <td>NaN</td>\n      <td>NaN</td>\n      <td>NaN</td>\n      <td>NaN</td>\n    </tr>\n    <tr>\n      <th>1</th>\n      <td>1964-04-01</td>\n      <td>79</td>\n      <td>357,907</td>\n      <td>NaN</td>\n      <td>NaN</td>\n      <td>NaN</td>\n      <td>NaN</td>\n      <td>NaN</td>\n      <td>NaN</td>\n      <td>NaN</td>\n    </tr>\n    <tr>\n      <th>2</th>\n      <td>1964-04-02</td>\n      <td>80</td>\n      <td>357,907</td>\n      <td>NaN</td>\n      <td>NaN</td>\n      <td>NaN</td>\n      <td>NaN</td>\n      <td>NaN</td>\n      <td>NaN</td>\n      <td>NaN</td>\n    </tr>\n    <tr>\n      <th>3</th>\n      <td>1964-04-03</td>\n      <td>80</td>\n      <td>357,907</td>\n      <td>NaN</td>\n      <td>NaN</td>\n      <td>NaN</td>\n      <td>NaN</td>\n      <td>NaN</td>\n      <td>NaN</td>\n      <td>NaN</td>\n    </tr>\n    <tr>\n      <th>4</th>\n      <td>1964-04-06</td>\n      <td>80</td>\n      <td>357,907</td>\n      <td>NaN</td>\n      <td>NaN</td>\n      <td>NaN</td>\n      <td>NaN</td>\n      <td>NaN</td>\n      <td>NaN</td>\n      <td>NaN</td>\n    </tr>\n    <tr>\n      <th>...</th>\n      <td>...</td>\n      <td>...</td>\n      <td>...</td>\n      <td>...</td>\n      <td>...</td>\n      <td>...</td>\n      <td>...</td>\n      <td>...</td>\n      <td>...</td>\n      <td>...</td>\n    </tr>\n    <tr>\n      <th>16075</th>\n      <td>2022-11-06</td>\n      <td>NaN</td>\n      <td>NaN</td>\n      <td>NaN</td>\n      <td>NaN</td>\n      <td>NaN</td>\n      <td>NaN</td>\n      <td>6.11.2022</td>\n      <td>20,926</td>\n      <td>1,628</td>\n    </tr>\n    <tr>\n      <th>16076</th>\n      <td>2022-11-12</td>\n      <td>NaN</td>\n      <td>NaN</td>\n      <td>NaN</td>\n      <td>NaN</td>\n      <td>NaN</td>\n      <td>NaN</td>\n      <td>12.11.2022</td>\n      <td>16,799</td>\n      <td>1,287</td>\n    </tr>\n    <tr>\n      <th>16077</th>\n      <td>2022-11-13</td>\n      <td>NaN</td>\n      <td>NaN</td>\n      <td>NaN</td>\n      <td>NaN</td>\n      <td>NaN</td>\n      <td>NaN</td>\n      <td>13.11.2022</td>\n      <td>16,353</td>\n      <td>1,255</td>\n    </tr>\n    <tr>\n      <th>16078</th>\n      <td>2022-11-19</td>\n      <td>NaN</td>\n      <td>NaN</td>\n      <td>NaN</td>\n      <td>NaN</td>\n      <td>NaN</td>\n      <td>NaN</td>\n      <td>19.11.2022</td>\n      <td>16,712</td>\n      <td>1,212</td>\n    </tr>\n    <tr>\n      <th>16079</th>\n      <td>2022-11-20</td>\n      <td>NaN</td>\n      <td>NaN</td>\n      <td>NaN</td>\n      <td>NaN</td>\n      <td>NaN</td>\n      <td>NaN</td>\n      <td>20.11.2022</td>\n      <td>16,292</td>\n      <td>1,218</td>\n    </tr>\n  </tbody>\n</table>\n<p>16080 rows × 10 columns</p>\n</div>"
     },
     "execution_count": 244,
     "metadata": {},
     "output_type": "execute_result"
    }
   ],
   "source": [
    "df"
   ],
   "metadata": {
    "collapsed": false
   }
  },
  {
   "cell_type": "code",
   "execution_count": 245,
   "outputs": [],
   "source": [
    "df = df.reindex(columns=[\n",
    "    'date',\n",
    "    'sp500',\n",
    "    'sp500cap',\n",
    "    'bist100',\n",
    "    'bist100cap',\n",
    "    'bistall',\n",
    "    'bistallcap',\n",
    "    'btc',\n",
    "    'eth'\n",
    "])"
   ],
   "metadata": {
    "collapsed": false
   }
  },
  {
   "cell_type": "code",
   "execution_count": 246,
   "outputs": [
    {
     "data": {
      "text/plain": "            date sp500 sp500cap bist100 bist100cap bistall bistallcap  \\\n0     1964-03-31    79  357,907     NaN        NaN     NaN        NaN   \n1     1964-04-01    79  357,907     NaN        NaN     NaN        NaN   \n2     1964-04-02    80  357,907     NaN        NaN     NaN        NaN   \n3     1964-04-03    80  357,907     NaN        NaN     NaN        NaN   \n4     1964-04-06    80  357,907     NaN        NaN     NaN        NaN   \n...          ...   ...      ...     ...        ...     ...        ...   \n16075 2022-11-06   NaN      NaN     NaN        NaN     NaN        NaN   \n16076 2022-11-12   NaN      NaN     NaN        NaN     NaN        NaN   \n16077 2022-11-13   NaN      NaN     NaN        NaN     NaN        NaN   \n16078 2022-11-19   NaN      NaN     NaN        NaN     NaN        NaN   \n16079 2022-11-20   NaN      NaN     NaN        NaN     NaN        NaN   \n\n            btc      eth  \n0           NaN      NaN  \n1           NaN      NaN  \n2           NaN      NaN  \n3           NaN      NaN  \n4           NaN      NaN  \n...         ...      ...  \n16075   20,926    1,628   \n16076   16,799    1,287   \n16077   16,353    1,255   \n16078   16,712    1,212   \n16079   16,292    1,218   \n\n[16080 rows x 9 columns]",
      "text/html": "<div>\n<style scoped>\n    .dataframe tbody tr th:only-of-type {\n        vertical-align: middle;\n    }\n\n    .dataframe tbody tr th {\n        vertical-align: top;\n    }\n\n    .dataframe thead th {\n        text-align: right;\n    }\n</style>\n<table border=\"1\" class=\"dataframe\">\n  <thead>\n    <tr style=\"text-align: right;\">\n      <th></th>\n      <th>date</th>\n      <th>sp500</th>\n      <th>sp500cap</th>\n      <th>bist100</th>\n      <th>bist100cap</th>\n      <th>bistall</th>\n      <th>bistallcap</th>\n      <th>btc</th>\n      <th>eth</th>\n    </tr>\n  </thead>\n  <tbody>\n    <tr>\n      <th>0</th>\n      <td>1964-03-31</td>\n      <td>79</td>\n      <td>357,907</td>\n      <td>NaN</td>\n      <td>NaN</td>\n      <td>NaN</td>\n      <td>NaN</td>\n      <td>NaN</td>\n      <td>NaN</td>\n    </tr>\n    <tr>\n      <th>1</th>\n      <td>1964-04-01</td>\n      <td>79</td>\n      <td>357,907</td>\n      <td>NaN</td>\n      <td>NaN</td>\n      <td>NaN</td>\n      <td>NaN</td>\n      <td>NaN</td>\n      <td>NaN</td>\n    </tr>\n    <tr>\n      <th>2</th>\n      <td>1964-04-02</td>\n      <td>80</td>\n      <td>357,907</td>\n      <td>NaN</td>\n      <td>NaN</td>\n      <td>NaN</td>\n      <td>NaN</td>\n      <td>NaN</td>\n      <td>NaN</td>\n    </tr>\n    <tr>\n      <th>3</th>\n      <td>1964-04-03</td>\n      <td>80</td>\n      <td>357,907</td>\n      <td>NaN</td>\n      <td>NaN</td>\n      <td>NaN</td>\n      <td>NaN</td>\n      <td>NaN</td>\n      <td>NaN</td>\n    </tr>\n    <tr>\n      <th>4</th>\n      <td>1964-04-06</td>\n      <td>80</td>\n      <td>357,907</td>\n      <td>NaN</td>\n      <td>NaN</td>\n      <td>NaN</td>\n      <td>NaN</td>\n      <td>NaN</td>\n      <td>NaN</td>\n    </tr>\n    <tr>\n      <th>...</th>\n      <td>...</td>\n      <td>...</td>\n      <td>...</td>\n      <td>...</td>\n      <td>...</td>\n      <td>...</td>\n      <td>...</td>\n      <td>...</td>\n      <td>...</td>\n    </tr>\n    <tr>\n      <th>16075</th>\n      <td>2022-11-06</td>\n      <td>NaN</td>\n      <td>NaN</td>\n      <td>NaN</td>\n      <td>NaN</td>\n      <td>NaN</td>\n      <td>NaN</td>\n      <td>20,926</td>\n      <td>1,628</td>\n    </tr>\n    <tr>\n      <th>16076</th>\n      <td>2022-11-12</td>\n      <td>NaN</td>\n      <td>NaN</td>\n      <td>NaN</td>\n      <td>NaN</td>\n      <td>NaN</td>\n      <td>NaN</td>\n      <td>16,799</td>\n      <td>1,287</td>\n    </tr>\n    <tr>\n      <th>16077</th>\n      <td>2022-11-13</td>\n      <td>NaN</td>\n      <td>NaN</td>\n      <td>NaN</td>\n      <td>NaN</td>\n      <td>NaN</td>\n      <td>NaN</td>\n      <td>16,353</td>\n      <td>1,255</td>\n    </tr>\n    <tr>\n      <th>16078</th>\n      <td>2022-11-19</td>\n      <td>NaN</td>\n      <td>NaN</td>\n      <td>NaN</td>\n      <td>NaN</td>\n      <td>NaN</td>\n      <td>NaN</td>\n      <td>16,712</td>\n      <td>1,212</td>\n    </tr>\n    <tr>\n      <th>16079</th>\n      <td>2022-11-20</td>\n      <td>NaN</td>\n      <td>NaN</td>\n      <td>NaN</td>\n      <td>NaN</td>\n      <td>NaN</td>\n      <td>NaN</td>\n      <td>16,292</td>\n      <td>1,218</td>\n    </tr>\n  </tbody>\n</table>\n<p>16080 rows × 9 columns</p>\n</div>"
     },
     "execution_count": 246,
     "metadata": {},
     "output_type": "execute_result"
    }
   ],
   "source": [
    "df"
   ],
   "metadata": {
    "collapsed": false
   }
  },
  {
   "cell_type": "markdown",
   "source": [
    "### Gold"
   ],
   "metadata": {
    "collapsed": false
   }
  },
  {
   "cell_type": "code",
   "execution_count": 247,
   "outputs": [],
   "source": [
    "df_gold = pd.read_csv(csv_gold)"
   ],
   "metadata": {
    "collapsed": false
   }
  },
  {
   "cell_type": "code",
   "execution_count": 248,
   "outputs": [
    {
     "data": {
      "text/plain": "             Date Price ($/t oz)\n0       3.01.1968            35 \n1       4.01.1968            35 \n2       5.01.1968            35 \n3       8.01.1968            35 \n4       9.01.1968            35 \n...           ...            ...\n14334  13.12.2022         1,813 \n14335  14.12.2022         1,811 \n14336  15.12.2022         1,777 \n14337  16.12.2022         1,790 \n14338  19.12.2022         1,786 \n\n[14339 rows x 2 columns]",
      "text/html": "<div>\n<style scoped>\n    .dataframe tbody tr th:only-of-type {\n        vertical-align: middle;\n    }\n\n    .dataframe tbody tr th {\n        vertical-align: top;\n    }\n\n    .dataframe thead th {\n        text-align: right;\n    }\n</style>\n<table border=\"1\" class=\"dataframe\">\n  <thead>\n    <tr style=\"text-align: right;\">\n      <th></th>\n      <th>Date</th>\n      <th>Price ($/t oz)</th>\n    </tr>\n  </thead>\n  <tbody>\n    <tr>\n      <th>0</th>\n      <td>3.01.1968</td>\n      <td>35</td>\n    </tr>\n    <tr>\n      <th>1</th>\n      <td>4.01.1968</td>\n      <td>35</td>\n    </tr>\n    <tr>\n      <th>2</th>\n      <td>5.01.1968</td>\n      <td>35</td>\n    </tr>\n    <tr>\n      <th>3</th>\n      <td>8.01.1968</td>\n      <td>35</td>\n    </tr>\n    <tr>\n      <th>4</th>\n      <td>9.01.1968</td>\n      <td>35</td>\n    </tr>\n    <tr>\n      <th>...</th>\n      <td>...</td>\n      <td>...</td>\n    </tr>\n    <tr>\n      <th>14334</th>\n      <td>13.12.2022</td>\n      <td>1,813</td>\n    </tr>\n    <tr>\n      <th>14335</th>\n      <td>14.12.2022</td>\n      <td>1,811</td>\n    </tr>\n    <tr>\n      <th>14336</th>\n      <td>15.12.2022</td>\n      <td>1,777</td>\n    </tr>\n    <tr>\n      <th>14337</th>\n      <td>16.12.2022</td>\n      <td>1,790</td>\n    </tr>\n    <tr>\n      <th>14338</th>\n      <td>19.12.2022</td>\n      <td>1,786</td>\n    </tr>\n  </tbody>\n</table>\n<p>14339 rows × 2 columns</p>\n</div>"
     },
     "execution_count": 248,
     "metadata": {},
     "output_type": "execute_result"
    }
   ],
   "source": [
    "df_gold"
   ],
   "metadata": {
    "collapsed": false
   }
  },
  {
   "cell_type": "code",
   "execution_count": 249,
   "outputs": [],
   "source": [
    "df_gold = add_date_filed(df_gold)"
   ],
   "metadata": {
    "collapsed": false
   }
  },
  {
   "cell_type": "code",
   "execution_count": 250,
   "outputs": [
    {
     "data": {
      "text/plain": "             Date Price ($/t oz)       date\n0       3.01.1968            35  1968-01-03\n1       4.01.1968            35  1968-01-04\n2       5.01.1968            35  1968-01-05\n3       8.01.1968            35  1968-01-08\n4       9.01.1968            35  1968-01-09\n...           ...            ...        ...\n14334  13.12.2022         1,813  2022-12-13\n14335  14.12.2022         1,811  2022-12-14\n14336  15.12.2022         1,777  2022-12-15\n14337  16.12.2022         1,790  2022-12-16\n14338  19.12.2022         1,786  2022-12-19\n\n[14339 rows x 3 columns]",
      "text/html": "<div>\n<style scoped>\n    .dataframe tbody tr th:only-of-type {\n        vertical-align: middle;\n    }\n\n    .dataframe tbody tr th {\n        vertical-align: top;\n    }\n\n    .dataframe thead th {\n        text-align: right;\n    }\n</style>\n<table border=\"1\" class=\"dataframe\">\n  <thead>\n    <tr style=\"text-align: right;\">\n      <th></th>\n      <th>Date</th>\n      <th>Price ($/t oz)</th>\n      <th>date</th>\n    </tr>\n  </thead>\n  <tbody>\n    <tr>\n      <th>0</th>\n      <td>3.01.1968</td>\n      <td>35</td>\n      <td>1968-01-03</td>\n    </tr>\n    <tr>\n      <th>1</th>\n      <td>4.01.1968</td>\n      <td>35</td>\n      <td>1968-01-04</td>\n    </tr>\n    <tr>\n      <th>2</th>\n      <td>5.01.1968</td>\n      <td>35</td>\n      <td>1968-01-05</td>\n    </tr>\n    <tr>\n      <th>3</th>\n      <td>8.01.1968</td>\n      <td>35</td>\n      <td>1968-01-08</td>\n    </tr>\n    <tr>\n      <th>4</th>\n      <td>9.01.1968</td>\n      <td>35</td>\n      <td>1968-01-09</td>\n    </tr>\n    <tr>\n      <th>...</th>\n      <td>...</td>\n      <td>...</td>\n      <td>...</td>\n    </tr>\n    <tr>\n      <th>14334</th>\n      <td>13.12.2022</td>\n      <td>1,813</td>\n      <td>2022-12-13</td>\n    </tr>\n    <tr>\n      <th>14335</th>\n      <td>14.12.2022</td>\n      <td>1,811</td>\n      <td>2022-12-14</td>\n    </tr>\n    <tr>\n      <th>14336</th>\n      <td>15.12.2022</td>\n      <td>1,777</td>\n      <td>2022-12-15</td>\n    </tr>\n    <tr>\n      <th>14337</th>\n      <td>16.12.2022</td>\n      <td>1,790</td>\n      <td>2022-12-16</td>\n    </tr>\n    <tr>\n      <th>14338</th>\n      <td>19.12.2022</td>\n      <td>1,786</td>\n      <td>2022-12-19</td>\n    </tr>\n  </tbody>\n</table>\n<p>14339 rows × 3 columns</p>\n</div>"
     },
     "execution_count": 250,
     "metadata": {},
     "output_type": "execute_result"
    }
   ],
   "source": [
    "df_gold"
   ],
   "metadata": {
    "collapsed": false
   }
  },
  {
   "cell_type": "code",
   "execution_count": 251,
   "outputs": [],
   "source": [
    "df = df.merge(df_gold, on='date', how='outer').rename(\n",
    "    columns={'Price ($/t oz)': 'gold'})"
   ],
   "metadata": {
    "collapsed": false
   }
  },
  {
   "cell_type": "code",
   "execution_count": 252,
   "outputs": [
    {
     "data": {
      "text/plain": "            date sp500 sp500cap bist100 bist100cap bistall bistallcap  \\\n0     1964-03-31    79  357,907     NaN        NaN     NaN        NaN   \n1     1964-04-01    79  357,907     NaN        NaN     NaN        NaN   \n2     1964-04-02    80  357,907     NaN        NaN     NaN        NaN   \n3     1964-04-03    80  357,907     NaN        NaN     NaN        NaN   \n4     1964-04-06    80  357,907     NaN        NaN     NaN        NaN   \n...          ...   ...      ...     ...        ...     ...        ...   \n16075 2022-11-06   NaN      NaN     NaN        NaN     NaN        NaN   \n16076 2022-11-12   NaN      NaN     NaN        NaN     NaN        NaN   \n16077 2022-11-13   NaN      NaN     NaN        NaN     NaN        NaN   \n16078 2022-11-19   NaN      NaN     NaN        NaN     NaN        NaN   \n16079 2022-11-20   NaN      NaN     NaN        NaN     NaN        NaN   \n\n            btc      eth Date gold  \n0           NaN      NaN  NaN  NaN  \n1           NaN      NaN  NaN  NaN  \n2           NaN      NaN  NaN  NaN  \n3           NaN      NaN  NaN  NaN  \n4           NaN      NaN  NaN  NaN  \n...         ...      ...  ...  ...  \n16075   20,926    1,628   NaN  NaN  \n16076   16,799    1,287   NaN  NaN  \n16077   16,353    1,255   NaN  NaN  \n16078   16,712    1,212   NaN  NaN  \n16079   16,292    1,218   NaN  NaN  \n\n[16080 rows x 11 columns]",
      "text/html": "<div>\n<style scoped>\n    .dataframe tbody tr th:only-of-type {\n        vertical-align: middle;\n    }\n\n    .dataframe tbody tr th {\n        vertical-align: top;\n    }\n\n    .dataframe thead th {\n        text-align: right;\n    }\n</style>\n<table border=\"1\" class=\"dataframe\">\n  <thead>\n    <tr style=\"text-align: right;\">\n      <th></th>\n      <th>date</th>\n      <th>sp500</th>\n      <th>sp500cap</th>\n      <th>bist100</th>\n      <th>bist100cap</th>\n      <th>bistall</th>\n      <th>bistallcap</th>\n      <th>btc</th>\n      <th>eth</th>\n      <th>Date</th>\n      <th>gold</th>\n    </tr>\n  </thead>\n  <tbody>\n    <tr>\n      <th>0</th>\n      <td>1964-03-31</td>\n      <td>79</td>\n      <td>357,907</td>\n      <td>NaN</td>\n      <td>NaN</td>\n      <td>NaN</td>\n      <td>NaN</td>\n      <td>NaN</td>\n      <td>NaN</td>\n      <td>NaN</td>\n      <td>NaN</td>\n    </tr>\n    <tr>\n      <th>1</th>\n      <td>1964-04-01</td>\n      <td>79</td>\n      <td>357,907</td>\n      <td>NaN</td>\n      <td>NaN</td>\n      <td>NaN</td>\n      <td>NaN</td>\n      <td>NaN</td>\n      <td>NaN</td>\n      <td>NaN</td>\n      <td>NaN</td>\n    </tr>\n    <tr>\n      <th>2</th>\n      <td>1964-04-02</td>\n      <td>80</td>\n      <td>357,907</td>\n      <td>NaN</td>\n      <td>NaN</td>\n      <td>NaN</td>\n      <td>NaN</td>\n      <td>NaN</td>\n      <td>NaN</td>\n      <td>NaN</td>\n      <td>NaN</td>\n    </tr>\n    <tr>\n      <th>3</th>\n      <td>1964-04-03</td>\n      <td>80</td>\n      <td>357,907</td>\n      <td>NaN</td>\n      <td>NaN</td>\n      <td>NaN</td>\n      <td>NaN</td>\n      <td>NaN</td>\n      <td>NaN</td>\n      <td>NaN</td>\n      <td>NaN</td>\n    </tr>\n    <tr>\n      <th>4</th>\n      <td>1964-04-06</td>\n      <td>80</td>\n      <td>357,907</td>\n      <td>NaN</td>\n      <td>NaN</td>\n      <td>NaN</td>\n      <td>NaN</td>\n      <td>NaN</td>\n      <td>NaN</td>\n      <td>NaN</td>\n      <td>NaN</td>\n    </tr>\n    <tr>\n      <th>...</th>\n      <td>...</td>\n      <td>...</td>\n      <td>...</td>\n      <td>...</td>\n      <td>...</td>\n      <td>...</td>\n      <td>...</td>\n      <td>...</td>\n      <td>...</td>\n      <td>...</td>\n      <td>...</td>\n    </tr>\n    <tr>\n      <th>16075</th>\n      <td>2022-11-06</td>\n      <td>NaN</td>\n      <td>NaN</td>\n      <td>NaN</td>\n      <td>NaN</td>\n      <td>NaN</td>\n      <td>NaN</td>\n      <td>20,926</td>\n      <td>1,628</td>\n      <td>NaN</td>\n      <td>NaN</td>\n    </tr>\n    <tr>\n      <th>16076</th>\n      <td>2022-11-12</td>\n      <td>NaN</td>\n      <td>NaN</td>\n      <td>NaN</td>\n      <td>NaN</td>\n      <td>NaN</td>\n      <td>NaN</td>\n      <td>16,799</td>\n      <td>1,287</td>\n      <td>NaN</td>\n      <td>NaN</td>\n    </tr>\n    <tr>\n      <th>16077</th>\n      <td>2022-11-13</td>\n      <td>NaN</td>\n      <td>NaN</td>\n      <td>NaN</td>\n      <td>NaN</td>\n      <td>NaN</td>\n      <td>NaN</td>\n      <td>16,353</td>\n      <td>1,255</td>\n      <td>NaN</td>\n      <td>NaN</td>\n    </tr>\n    <tr>\n      <th>16078</th>\n      <td>2022-11-19</td>\n      <td>NaN</td>\n      <td>NaN</td>\n      <td>NaN</td>\n      <td>NaN</td>\n      <td>NaN</td>\n      <td>NaN</td>\n      <td>16,712</td>\n      <td>1,212</td>\n      <td>NaN</td>\n      <td>NaN</td>\n    </tr>\n    <tr>\n      <th>16079</th>\n      <td>2022-11-20</td>\n      <td>NaN</td>\n      <td>NaN</td>\n      <td>NaN</td>\n      <td>NaN</td>\n      <td>NaN</td>\n      <td>NaN</td>\n      <td>16,292</td>\n      <td>1,218</td>\n      <td>NaN</td>\n      <td>NaN</td>\n    </tr>\n  </tbody>\n</table>\n<p>16080 rows × 11 columns</p>\n</div>"
     },
     "execution_count": 252,
     "metadata": {},
     "output_type": "execute_result"
    }
   ],
   "source": [
    "df"
   ],
   "metadata": {
    "collapsed": false
   }
  },
  {
   "cell_type": "code",
   "execution_count": 253,
   "outputs": [],
   "source": [
    "df = df.reindex(columns=[\n",
    "    'date',\n",
    "    'sp500',\n",
    "    'sp500cap',\n",
    "    'bist100',\n",
    "    'bist100cap',\n",
    "    'bistall',\n",
    "    'bistallcap',\n",
    "    'btc',\n",
    "    'eth',\n",
    "    'gold'\n",
    "])"
   ],
   "metadata": {
    "collapsed": false
   }
  },
  {
   "cell_type": "code",
   "execution_count": 254,
   "outputs": [
    {
     "data": {
      "text/plain": "            date sp500 sp500cap bist100 bist100cap bistall bistallcap  \\\n0     1964-03-31    79  357,907     NaN        NaN     NaN        NaN   \n1     1964-04-01    79  357,907     NaN        NaN     NaN        NaN   \n2     1964-04-02    80  357,907     NaN        NaN     NaN        NaN   \n3     1964-04-03    80  357,907     NaN        NaN     NaN        NaN   \n4     1964-04-06    80  357,907     NaN        NaN     NaN        NaN   \n...          ...   ...      ...     ...        ...     ...        ...   \n16075 2022-11-06   NaN      NaN     NaN        NaN     NaN        NaN   \n16076 2022-11-12   NaN      NaN     NaN        NaN     NaN        NaN   \n16077 2022-11-13   NaN      NaN     NaN        NaN     NaN        NaN   \n16078 2022-11-19   NaN      NaN     NaN        NaN     NaN        NaN   \n16079 2022-11-20   NaN      NaN     NaN        NaN     NaN        NaN   \n\n            btc      eth gold  \n0           NaN      NaN  NaN  \n1           NaN      NaN  NaN  \n2           NaN      NaN  NaN  \n3           NaN      NaN  NaN  \n4           NaN      NaN  NaN  \n...         ...      ...  ...  \n16075   20,926    1,628   NaN  \n16076   16,799    1,287   NaN  \n16077   16,353    1,255   NaN  \n16078   16,712    1,212   NaN  \n16079   16,292    1,218   NaN  \n\n[16080 rows x 10 columns]",
      "text/html": "<div>\n<style scoped>\n    .dataframe tbody tr th:only-of-type {\n        vertical-align: middle;\n    }\n\n    .dataframe tbody tr th {\n        vertical-align: top;\n    }\n\n    .dataframe thead th {\n        text-align: right;\n    }\n</style>\n<table border=\"1\" class=\"dataframe\">\n  <thead>\n    <tr style=\"text-align: right;\">\n      <th></th>\n      <th>date</th>\n      <th>sp500</th>\n      <th>sp500cap</th>\n      <th>bist100</th>\n      <th>bist100cap</th>\n      <th>bistall</th>\n      <th>bistallcap</th>\n      <th>btc</th>\n      <th>eth</th>\n      <th>gold</th>\n    </tr>\n  </thead>\n  <tbody>\n    <tr>\n      <th>0</th>\n      <td>1964-03-31</td>\n      <td>79</td>\n      <td>357,907</td>\n      <td>NaN</td>\n      <td>NaN</td>\n      <td>NaN</td>\n      <td>NaN</td>\n      <td>NaN</td>\n      <td>NaN</td>\n      <td>NaN</td>\n    </tr>\n    <tr>\n      <th>1</th>\n      <td>1964-04-01</td>\n      <td>79</td>\n      <td>357,907</td>\n      <td>NaN</td>\n      <td>NaN</td>\n      <td>NaN</td>\n      <td>NaN</td>\n      <td>NaN</td>\n      <td>NaN</td>\n      <td>NaN</td>\n    </tr>\n    <tr>\n      <th>2</th>\n      <td>1964-04-02</td>\n      <td>80</td>\n      <td>357,907</td>\n      <td>NaN</td>\n      <td>NaN</td>\n      <td>NaN</td>\n      <td>NaN</td>\n      <td>NaN</td>\n      <td>NaN</td>\n      <td>NaN</td>\n    </tr>\n    <tr>\n      <th>3</th>\n      <td>1964-04-03</td>\n      <td>80</td>\n      <td>357,907</td>\n      <td>NaN</td>\n      <td>NaN</td>\n      <td>NaN</td>\n      <td>NaN</td>\n      <td>NaN</td>\n      <td>NaN</td>\n      <td>NaN</td>\n    </tr>\n    <tr>\n      <th>4</th>\n      <td>1964-04-06</td>\n      <td>80</td>\n      <td>357,907</td>\n      <td>NaN</td>\n      <td>NaN</td>\n      <td>NaN</td>\n      <td>NaN</td>\n      <td>NaN</td>\n      <td>NaN</td>\n      <td>NaN</td>\n    </tr>\n    <tr>\n      <th>...</th>\n      <td>...</td>\n      <td>...</td>\n      <td>...</td>\n      <td>...</td>\n      <td>...</td>\n      <td>...</td>\n      <td>...</td>\n      <td>...</td>\n      <td>...</td>\n      <td>...</td>\n    </tr>\n    <tr>\n      <th>16075</th>\n      <td>2022-11-06</td>\n      <td>NaN</td>\n      <td>NaN</td>\n      <td>NaN</td>\n      <td>NaN</td>\n      <td>NaN</td>\n      <td>NaN</td>\n      <td>20,926</td>\n      <td>1,628</td>\n      <td>NaN</td>\n    </tr>\n    <tr>\n      <th>16076</th>\n      <td>2022-11-12</td>\n      <td>NaN</td>\n      <td>NaN</td>\n      <td>NaN</td>\n      <td>NaN</td>\n      <td>NaN</td>\n      <td>NaN</td>\n      <td>16,799</td>\n      <td>1,287</td>\n      <td>NaN</td>\n    </tr>\n    <tr>\n      <th>16077</th>\n      <td>2022-11-13</td>\n      <td>NaN</td>\n      <td>NaN</td>\n      <td>NaN</td>\n      <td>NaN</td>\n      <td>NaN</td>\n      <td>NaN</td>\n      <td>16,353</td>\n      <td>1,255</td>\n      <td>NaN</td>\n    </tr>\n    <tr>\n      <th>16078</th>\n      <td>2022-11-19</td>\n      <td>NaN</td>\n      <td>NaN</td>\n      <td>NaN</td>\n      <td>NaN</td>\n      <td>NaN</td>\n      <td>NaN</td>\n      <td>16,712</td>\n      <td>1,212</td>\n      <td>NaN</td>\n    </tr>\n    <tr>\n      <th>16079</th>\n      <td>2022-11-20</td>\n      <td>NaN</td>\n      <td>NaN</td>\n      <td>NaN</td>\n      <td>NaN</td>\n      <td>NaN</td>\n      <td>NaN</td>\n      <td>16,292</td>\n      <td>1,218</td>\n      <td>NaN</td>\n    </tr>\n  </tbody>\n</table>\n<p>16080 rows × 10 columns</p>\n</div>"
     },
     "execution_count": 254,
     "metadata": {},
     "output_type": "execute_result"
    }
   ],
   "source": [
    "df"
   ],
   "metadata": {
    "collapsed": false
   }
  },
  {
   "cell_type": "markdown",
   "source": [
    "### Deposit Interest Rate"
   ],
   "metadata": {
    "collapsed": false
   }
  },
  {
   "cell_type": "code",
   "execution_count": 255,
   "outputs": [],
   "source": [
    "df_rate = pd.read_csv(csv_interest_rate)"
   ],
   "metadata": {
    "collapsed": false
   }
  },
  {
   "cell_type": "code",
   "execution_count": 256,
   "outputs": [
    {
     "data": {
      "text/plain": "     Quarter  Deposit rate\n0    Q4 1978          6.00\n1    Q1 1979          6.00\n2    Q2 1979          7.33\n3    Q3 1979          8.00\n4    Q4 1979          8.00\n..       ...           ...\n167  Q3 2020         12.52\n168  Q4 2020         17.42\n169  Q1 2021         19.72\n170  Q2 2021         20.25\n171  Q3 2021         20.00\n\n[172 rows x 2 columns]",
      "text/html": "<div>\n<style scoped>\n    .dataframe tbody tr th:only-of-type {\n        vertical-align: middle;\n    }\n\n    .dataframe tbody tr th {\n        vertical-align: top;\n    }\n\n    .dataframe thead th {\n        text-align: right;\n    }\n</style>\n<table border=\"1\" class=\"dataframe\">\n  <thead>\n    <tr style=\"text-align: right;\">\n      <th></th>\n      <th>Quarter</th>\n      <th>Deposit rate</th>\n    </tr>\n  </thead>\n  <tbody>\n    <tr>\n      <th>0</th>\n      <td>Q4 1978</td>\n      <td>6.00</td>\n    </tr>\n    <tr>\n      <th>1</th>\n      <td>Q1 1979</td>\n      <td>6.00</td>\n    </tr>\n    <tr>\n      <th>2</th>\n      <td>Q2 1979</td>\n      <td>7.33</td>\n    </tr>\n    <tr>\n      <th>3</th>\n      <td>Q3 1979</td>\n      <td>8.00</td>\n    </tr>\n    <tr>\n      <th>4</th>\n      <td>Q4 1979</td>\n      <td>8.00</td>\n    </tr>\n    <tr>\n      <th>...</th>\n      <td>...</td>\n      <td>...</td>\n    </tr>\n    <tr>\n      <th>167</th>\n      <td>Q3 2020</td>\n      <td>12.52</td>\n    </tr>\n    <tr>\n      <th>168</th>\n      <td>Q4 2020</td>\n      <td>17.42</td>\n    </tr>\n    <tr>\n      <th>169</th>\n      <td>Q1 2021</td>\n      <td>19.72</td>\n    </tr>\n    <tr>\n      <th>170</th>\n      <td>Q2 2021</td>\n      <td>20.25</td>\n    </tr>\n    <tr>\n      <th>171</th>\n      <td>Q3 2021</td>\n      <td>20.00</td>\n    </tr>\n  </tbody>\n</table>\n<p>172 rows × 2 columns</p>\n</div>"
     },
     "execution_count": 256,
     "metadata": {},
     "output_type": "execute_result"
    }
   ],
   "source": [
    "df_rate"
   ],
   "metadata": {
    "collapsed": false
   }
  },
  {
   "cell_type": "code",
   "execution_count": 257,
   "outputs": [],
   "source": [
    "# df_rate['quarter_dt']=pd.to_datetime(df_rate.Quarter)"
   ],
   "metadata": {
    "collapsed": false
   }
  },
  {
   "cell_type": "code",
   "execution_count": 258,
   "outputs": [],
   "source": [
    "d = \"Q4 1978\""
   ],
   "metadata": {
    "collapsed": false
   }
  },
  {
   "cell_type": "code",
   "execution_count": 259,
   "outputs": [],
   "source": [
    "list_d = d.strip('').split(' ')"
   ],
   "metadata": {
    "collapsed": false
   }
  },
  {
   "cell_type": "code",
   "execution_count": 260,
   "outputs": [
    {
     "data": {
      "text/plain": "['Q4', '1978']"
     },
     "execution_count": 260,
     "metadata": {},
     "output_type": "execute_result"
    }
   ],
   "source": [
    "list_d"
   ],
   "metadata": {
    "collapsed": false
   }
  },
  {
   "cell_type": "code",
   "execution_count": 261,
   "outputs": [],
   "source": [
    "str_d = list_d[1] + list_d[0]"
   ],
   "metadata": {
    "collapsed": false
   }
  },
  {
   "cell_type": "code",
   "execution_count": 262,
   "outputs": [
    {
     "data": {
      "text/plain": "'1978Q4'"
     },
     "execution_count": 262,
     "metadata": {},
     "output_type": "execute_result"
    }
   ],
   "source": [
    "str_d"
   ],
   "metadata": {
    "collapsed": false
   }
  },
  {
   "cell_type": "code",
   "execution_count": 262,
   "outputs": [],
   "source": [],
   "metadata": {
    "collapsed": false
   }
  },
  {
   "cell_type": "code",
   "execution_count": 263,
   "outputs": [],
   "source": [
    "def format_quarter(v_in: str) -> str:\n",
    "    list_v = v_in.strip('').split(' ')\n",
    "    str_v = list_v[1] + list_v[0]\n",
    "    return str_v"
   ],
   "metadata": {
    "collapsed": false
   }
  },
  {
   "cell_type": "code",
   "execution_count": 264,
   "outputs": [],
   "source": [
    "df_rate['quarter-t'] = df_rate.Quarter.apply(format_quarter)"
   ],
   "metadata": {
    "collapsed": false
   }
  },
  {
   "cell_type": "code",
   "execution_count": 265,
   "outputs": [
    {
     "data": {
      "text/plain": "     Quarter  Deposit rate quarter-t\n0    Q4 1978          6.00    1978Q4\n1    Q1 1979          6.00    1979Q1\n2    Q2 1979          7.33    1979Q2\n3    Q3 1979          8.00    1979Q3\n4    Q4 1979          8.00    1979Q4\n..       ...           ...       ...\n167  Q3 2020         12.52    2020Q3\n168  Q4 2020         17.42    2020Q4\n169  Q1 2021         19.72    2021Q1\n170  Q2 2021         20.25    2021Q2\n171  Q3 2021         20.00    2021Q3\n\n[172 rows x 3 columns]",
      "text/html": "<div>\n<style scoped>\n    .dataframe tbody tr th:only-of-type {\n        vertical-align: middle;\n    }\n\n    .dataframe tbody tr th {\n        vertical-align: top;\n    }\n\n    .dataframe thead th {\n        text-align: right;\n    }\n</style>\n<table border=\"1\" class=\"dataframe\">\n  <thead>\n    <tr style=\"text-align: right;\">\n      <th></th>\n      <th>Quarter</th>\n      <th>Deposit rate</th>\n      <th>quarter-t</th>\n    </tr>\n  </thead>\n  <tbody>\n    <tr>\n      <th>0</th>\n      <td>Q4 1978</td>\n      <td>6.00</td>\n      <td>1978Q4</td>\n    </tr>\n    <tr>\n      <th>1</th>\n      <td>Q1 1979</td>\n      <td>6.00</td>\n      <td>1979Q1</td>\n    </tr>\n    <tr>\n      <th>2</th>\n      <td>Q2 1979</td>\n      <td>7.33</td>\n      <td>1979Q2</td>\n    </tr>\n    <tr>\n      <th>3</th>\n      <td>Q3 1979</td>\n      <td>8.00</td>\n      <td>1979Q3</td>\n    </tr>\n    <tr>\n      <th>4</th>\n      <td>Q4 1979</td>\n      <td>8.00</td>\n      <td>1979Q4</td>\n    </tr>\n    <tr>\n      <th>...</th>\n      <td>...</td>\n      <td>...</td>\n      <td>...</td>\n    </tr>\n    <tr>\n      <th>167</th>\n      <td>Q3 2020</td>\n      <td>12.52</td>\n      <td>2020Q3</td>\n    </tr>\n    <tr>\n      <th>168</th>\n      <td>Q4 2020</td>\n      <td>17.42</td>\n      <td>2020Q4</td>\n    </tr>\n    <tr>\n      <th>169</th>\n      <td>Q1 2021</td>\n      <td>19.72</td>\n      <td>2021Q1</td>\n    </tr>\n    <tr>\n      <th>170</th>\n      <td>Q2 2021</td>\n      <td>20.25</td>\n      <td>2021Q2</td>\n    </tr>\n    <tr>\n      <th>171</th>\n      <td>Q3 2021</td>\n      <td>20.00</td>\n      <td>2021Q3</td>\n    </tr>\n  </tbody>\n</table>\n<p>172 rows × 3 columns</p>\n</div>"
     },
     "execution_count": 265,
     "metadata": {},
     "output_type": "execute_result"
    }
   ],
   "source": [
    "df_rate"
   ],
   "metadata": {
    "collapsed": false
   }
  },
  {
   "cell_type": "code",
   "execution_count": 266,
   "outputs": [],
   "source": [
    "df_rate['quarter'] = pd.PeriodIndex(df_rate['quarter-t'], freq='Q')"
   ],
   "metadata": {
    "collapsed": false
   }
  },
  {
   "cell_type": "code",
   "execution_count": 267,
   "outputs": [
    {
     "data": {
      "text/plain": "     Quarter  Deposit rate quarter-t quarter\n0    Q4 1978          6.00    1978Q4  1978Q4\n1    Q1 1979          6.00    1979Q1  1979Q1\n2    Q2 1979          7.33    1979Q2  1979Q2\n3    Q3 1979          8.00    1979Q3  1979Q3\n4    Q4 1979          8.00    1979Q4  1979Q4\n..       ...           ...       ...     ...\n167  Q3 2020         12.52    2020Q3  2020Q3\n168  Q4 2020         17.42    2020Q4  2020Q4\n169  Q1 2021         19.72    2021Q1  2021Q1\n170  Q2 2021         20.25    2021Q2  2021Q2\n171  Q3 2021         20.00    2021Q3  2021Q3\n\n[172 rows x 4 columns]",
      "text/html": "<div>\n<style scoped>\n    .dataframe tbody tr th:only-of-type {\n        vertical-align: middle;\n    }\n\n    .dataframe tbody tr th {\n        vertical-align: top;\n    }\n\n    .dataframe thead th {\n        text-align: right;\n    }\n</style>\n<table border=\"1\" class=\"dataframe\">\n  <thead>\n    <tr style=\"text-align: right;\">\n      <th></th>\n      <th>Quarter</th>\n      <th>Deposit rate</th>\n      <th>quarter-t</th>\n      <th>quarter</th>\n    </tr>\n  </thead>\n  <tbody>\n    <tr>\n      <th>0</th>\n      <td>Q4 1978</td>\n      <td>6.00</td>\n      <td>1978Q4</td>\n      <td>1978Q4</td>\n    </tr>\n    <tr>\n      <th>1</th>\n      <td>Q1 1979</td>\n      <td>6.00</td>\n      <td>1979Q1</td>\n      <td>1979Q1</td>\n    </tr>\n    <tr>\n      <th>2</th>\n      <td>Q2 1979</td>\n      <td>7.33</td>\n      <td>1979Q2</td>\n      <td>1979Q2</td>\n    </tr>\n    <tr>\n      <th>3</th>\n      <td>Q3 1979</td>\n      <td>8.00</td>\n      <td>1979Q3</td>\n      <td>1979Q3</td>\n    </tr>\n    <tr>\n      <th>4</th>\n      <td>Q4 1979</td>\n      <td>8.00</td>\n      <td>1979Q4</td>\n      <td>1979Q4</td>\n    </tr>\n    <tr>\n      <th>...</th>\n      <td>...</td>\n      <td>...</td>\n      <td>...</td>\n      <td>...</td>\n    </tr>\n    <tr>\n      <th>167</th>\n      <td>Q3 2020</td>\n      <td>12.52</td>\n      <td>2020Q3</td>\n      <td>2020Q3</td>\n    </tr>\n    <tr>\n      <th>168</th>\n      <td>Q4 2020</td>\n      <td>17.42</td>\n      <td>2020Q4</td>\n      <td>2020Q4</td>\n    </tr>\n    <tr>\n      <th>169</th>\n      <td>Q1 2021</td>\n      <td>19.72</td>\n      <td>2021Q1</td>\n      <td>2021Q1</td>\n    </tr>\n    <tr>\n      <th>170</th>\n      <td>Q2 2021</td>\n      <td>20.25</td>\n      <td>2021Q2</td>\n      <td>2021Q2</td>\n    </tr>\n    <tr>\n      <th>171</th>\n      <td>Q3 2021</td>\n      <td>20.00</td>\n      <td>2021Q3</td>\n      <td>2021Q3</td>\n    </tr>\n  </tbody>\n</table>\n<p>172 rows × 4 columns</p>\n</div>"
     },
     "execution_count": 267,
     "metadata": {},
     "output_type": "execute_result"
    }
   ],
   "source": [
    "df_rate"
   ],
   "metadata": {
    "collapsed": false
   }
  },
  {
   "cell_type": "code",
   "execution_count": 268,
   "outputs": [
    {
     "data": {
      "text/plain": "            date sp500 sp500cap bist100 bist100cap bistall bistallcap  \\\n0     1964-03-31    79  357,907     NaN        NaN     NaN        NaN   \n1     1964-04-01    79  357,907     NaN        NaN     NaN        NaN   \n2     1964-04-02    80  357,907     NaN        NaN     NaN        NaN   \n3     1964-04-03    80  357,907     NaN        NaN     NaN        NaN   \n4     1964-04-06    80  357,907     NaN        NaN     NaN        NaN   \n...          ...   ...      ...     ...        ...     ...        ...   \n16075 2022-11-06   NaN      NaN     NaN        NaN     NaN        NaN   \n16076 2022-11-12   NaN      NaN     NaN        NaN     NaN        NaN   \n16077 2022-11-13   NaN      NaN     NaN        NaN     NaN        NaN   \n16078 2022-11-19   NaN      NaN     NaN        NaN     NaN        NaN   \n16079 2022-11-20   NaN      NaN     NaN        NaN     NaN        NaN   \n\n            btc      eth gold  \n0           NaN      NaN  NaN  \n1           NaN      NaN  NaN  \n2           NaN      NaN  NaN  \n3           NaN      NaN  NaN  \n4           NaN      NaN  NaN  \n...         ...      ...  ...  \n16075   20,926    1,628   NaN  \n16076   16,799    1,287   NaN  \n16077   16,353    1,255   NaN  \n16078   16,712    1,212   NaN  \n16079   16,292    1,218   NaN  \n\n[16080 rows x 10 columns]",
      "text/html": "<div>\n<style scoped>\n    .dataframe tbody tr th:only-of-type {\n        vertical-align: middle;\n    }\n\n    .dataframe tbody tr th {\n        vertical-align: top;\n    }\n\n    .dataframe thead th {\n        text-align: right;\n    }\n</style>\n<table border=\"1\" class=\"dataframe\">\n  <thead>\n    <tr style=\"text-align: right;\">\n      <th></th>\n      <th>date</th>\n      <th>sp500</th>\n      <th>sp500cap</th>\n      <th>bist100</th>\n      <th>bist100cap</th>\n      <th>bistall</th>\n      <th>bistallcap</th>\n      <th>btc</th>\n      <th>eth</th>\n      <th>gold</th>\n    </tr>\n  </thead>\n  <tbody>\n    <tr>\n      <th>0</th>\n      <td>1964-03-31</td>\n      <td>79</td>\n      <td>357,907</td>\n      <td>NaN</td>\n      <td>NaN</td>\n      <td>NaN</td>\n      <td>NaN</td>\n      <td>NaN</td>\n      <td>NaN</td>\n      <td>NaN</td>\n    </tr>\n    <tr>\n      <th>1</th>\n      <td>1964-04-01</td>\n      <td>79</td>\n      <td>357,907</td>\n      <td>NaN</td>\n      <td>NaN</td>\n      <td>NaN</td>\n      <td>NaN</td>\n      <td>NaN</td>\n      <td>NaN</td>\n      <td>NaN</td>\n    </tr>\n    <tr>\n      <th>2</th>\n      <td>1964-04-02</td>\n      <td>80</td>\n      <td>357,907</td>\n      <td>NaN</td>\n      <td>NaN</td>\n      <td>NaN</td>\n      <td>NaN</td>\n      <td>NaN</td>\n      <td>NaN</td>\n      <td>NaN</td>\n    </tr>\n    <tr>\n      <th>3</th>\n      <td>1964-04-03</td>\n      <td>80</td>\n      <td>357,907</td>\n      <td>NaN</td>\n      <td>NaN</td>\n      <td>NaN</td>\n      <td>NaN</td>\n      <td>NaN</td>\n      <td>NaN</td>\n      <td>NaN</td>\n    </tr>\n    <tr>\n      <th>4</th>\n      <td>1964-04-06</td>\n      <td>80</td>\n      <td>357,907</td>\n      <td>NaN</td>\n      <td>NaN</td>\n      <td>NaN</td>\n      <td>NaN</td>\n      <td>NaN</td>\n      <td>NaN</td>\n      <td>NaN</td>\n    </tr>\n    <tr>\n      <th>...</th>\n      <td>...</td>\n      <td>...</td>\n      <td>...</td>\n      <td>...</td>\n      <td>...</td>\n      <td>...</td>\n      <td>...</td>\n      <td>...</td>\n      <td>...</td>\n      <td>...</td>\n    </tr>\n    <tr>\n      <th>16075</th>\n      <td>2022-11-06</td>\n      <td>NaN</td>\n      <td>NaN</td>\n      <td>NaN</td>\n      <td>NaN</td>\n      <td>NaN</td>\n      <td>NaN</td>\n      <td>20,926</td>\n      <td>1,628</td>\n      <td>NaN</td>\n    </tr>\n    <tr>\n      <th>16076</th>\n      <td>2022-11-12</td>\n      <td>NaN</td>\n      <td>NaN</td>\n      <td>NaN</td>\n      <td>NaN</td>\n      <td>NaN</td>\n      <td>NaN</td>\n      <td>16,799</td>\n      <td>1,287</td>\n      <td>NaN</td>\n    </tr>\n    <tr>\n      <th>16077</th>\n      <td>2022-11-13</td>\n      <td>NaN</td>\n      <td>NaN</td>\n      <td>NaN</td>\n      <td>NaN</td>\n      <td>NaN</td>\n      <td>NaN</td>\n      <td>16,353</td>\n      <td>1,255</td>\n      <td>NaN</td>\n    </tr>\n    <tr>\n      <th>16078</th>\n      <td>2022-11-19</td>\n      <td>NaN</td>\n      <td>NaN</td>\n      <td>NaN</td>\n      <td>NaN</td>\n      <td>NaN</td>\n      <td>NaN</td>\n      <td>16,712</td>\n      <td>1,212</td>\n      <td>NaN</td>\n    </tr>\n    <tr>\n      <th>16079</th>\n      <td>2022-11-20</td>\n      <td>NaN</td>\n      <td>NaN</td>\n      <td>NaN</td>\n      <td>NaN</td>\n      <td>NaN</td>\n      <td>NaN</td>\n      <td>16,292</td>\n      <td>1,218</td>\n      <td>NaN</td>\n    </tr>\n  </tbody>\n</table>\n<p>16080 rows × 10 columns</p>\n</div>"
     },
     "execution_count": 268,
     "metadata": {},
     "output_type": "execute_result"
    }
   ],
   "source": [
    "df"
   ],
   "metadata": {
    "collapsed": false
   }
  },
  {
   "cell_type": "code",
   "execution_count": 269,
   "outputs": [],
   "source": [
    "df = add_quarter_filed(df)"
   ],
   "metadata": {
    "collapsed": false
   }
  },
  {
   "cell_type": "code",
   "execution_count": 270,
   "outputs": [
    {
     "data": {
      "text/plain": "            date sp500 sp500cap bist100 bist100cap bistall bistallcap  \\\n0     1964-03-31    79  357,907     NaN        NaN     NaN        NaN   \n1     1964-04-01    79  357,907     NaN        NaN     NaN        NaN   \n2     1964-04-02    80  357,907     NaN        NaN     NaN        NaN   \n3     1964-04-03    80  357,907     NaN        NaN     NaN        NaN   \n4     1964-04-06    80  357,907     NaN        NaN     NaN        NaN   \n...          ...   ...      ...     ...        ...     ...        ...   \n16075 2022-11-06   NaN      NaN     NaN        NaN     NaN        NaN   \n16076 2022-11-12   NaN      NaN     NaN        NaN     NaN        NaN   \n16077 2022-11-13   NaN      NaN     NaN        NaN     NaN        NaN   \n16078 2022-11-19   NaN      NaN     NaN        NaN     NaN        NaN   \n16079 2022-11-20   NaN      NaN     NaN        NaN     NaN        NaN   \n\n            btc      eth gold quarter  \n0           NaN      NaN  NaN  1964Q1  \n1           NaN      NaN  NaN  1964Q2  \n2           NaN      NaN  NaN  1964Q2  \n3           NaN      NaN  NaN  1964Q2  \n4           NaN      NaN  NaN  1964Q2  \n...         ...      ...  ...     ...  \n16075   20,926    1,628   NaN  2022Q4  \n16076   16,799    1,287   NaN  2022Q4  \n16077   16,353    1,255   NaN  2022Q4  \n16078   16,712    1,212   NaN  2022Q4  \n16079   16,292    1,218   NaN  2022Q4  \n\n[16080 rows x 11 columns]",
      "text/html": "<div>\n<style scoped>\n    .dataframe tbody tr th:only-of-type {\n        vertical-align: middle;\n    }\n\n    .dataframe tbody tr th {\n        vertical-align: top;\n    }\n\n    .dataframe thead th {\n        text-align: right;\n    }\n</style>\n<table border=\"1\" class=\"dataframe\">\n  <thead>\n    <tr style=\"text-align: right;\">\n      <th></th>\n      <th>date</th>\n      <th>sp500</th>\n      <th>sp500cap</th>\n      <th>bist100</th>\n      <th>bist100cap</th>\n      <th>bistall</th>\n      <th>bistallcap</th>\n      <th>btc</th>\n      <th>eth</th>\n      <th>gold</th>\n      <th>quarter</th>\n    </tr>\n  </thead>\n  <tbody>\n    <tr>\n      <th>0</th>\n      <td>1964-03-31</td>\n      <td>79</td>\n      <td>357,907</td>\n      <td>NaN</td>\n      <td>NaN</td>\n      <td>NaN</td>\n      <td>NaN</td>\n      <td>NaN</td>\n      <td>NaN</td>\n      <td>NaN</td>\n      <td>1964Q1</td>\n    </tr>\n    <tr>\n      <th>1</th>\n      <td>1964-04-01</td>\n      <td>79</td>\n      <td>357,907</td>\n      <td>NaN</td>\n      <td>NaN</td>\n      <td>NaN</td>\n      <td>NaN</td>\n      <td>NaN</td>\n      <td>NaN</td>\n      <td>NaN</td>\n      <td>1964Q2</td>\n    </tr>\n    <tr>\n      <th>2</th>\n      <td>1964-04-02</td>\n      <td>80</td>\n      <td>357,907</td>\n      <td>NaN</td>\n      <td>NaN</td>\n      <td>NaN</td>\n      <td>NaN</td>\n      <td>NaN</td>\n      <td>NaN</td>\n      <td>NaN</td>\n      <td>1964Q2</td>\n    </tr>\n    <tr>\n      <th>3</th>\n      <td>1964-04-03</td>\n      <td>80</td>\n      <td>357,907</td>\n      <td>NaN</td>\n      <td>NaN</td>\n      <td>NaN</td>\n      <td>NaN</td>\n      <td>NaN</td>\n      <td>NaN</td>\n      <td>NaN</td>\n      <td>1964Q2</td>\n    </tr>\n    <tr>\n      <th>4</th>\n      <td>1964-04-06</td>\n      <td>80</td>\n      <td>357,907</td>\n      <td>NaN</td>\n      <td>NaN</td>\n      <td>NaN</td>\n      <td>NaN</td>\n      <td>NaN</td>\n      <td>NaN</td>\n      <td>NaN</td>\n      <td>1964Q2</td>\n    </tr>\n    <tr>\n      <th>...</th>\n      <td>...</td>\n      <td>...</td>\n      <td>...</td>\n      <td>...</td>\n      <td>...</td>\n      <td>...</td>\n      <td>...</td>\n      <td>...</td>\n      <td>...</td>\n      <td>...</td>\n      <td>...</td>\n    </tr>\n    <tr>\n      <th>16075</th>\n      <td>2022-11-06</td>\n      <td>NaN</td>\n      <td>NaN</td>\n      <td>NaN</td>\n      <td>NaN</td>\n      <td>NaN</td>\n      <td>NaN</td>\n      <td>20,926</td>\n      <td>1,628</td>\n      <td>NaN</td>\n      <td>2022Q4</td>\n    </tr>\n    <tr>\n      <th>16076</th>\n      <td>2022-11-12</td>\n      <td>NaN</td>\n      <td>NaN</td>\n      <td>NaN</td>\n      <td>NaN</td>\n      <td>NaN</td>\n      <td>NaN</td>\n      <td>16,799</td>\n      <td>1,287</td>\n      <td>NaN</td>\n      <td>2022Q4</td>\n    </tr>\n    <tr>\n      <th>16077</th>\n      <td>2022-11-13</td>\n      <td>NaN</td>\n      <td>NaN</td>\n      <td>NaN</td>\n      <td>NaN</td>\n      <td>NaN</td>\n      <td>NaN</td>\n      <td>16,353</td>\n      <td>1,255</td>\n      <td>NaN</td>\n      <td>2022Q4</td>\n    </tr>\n    <tr>\n      <th>16078</th>\n      <td>2022-11-19</td>\n      <td>NaN</td>\n      <td>NaN</td>\n      <td>NaN</td>\n      <td>NaN</td>\n      <td>NaN</td>\n      <td>NaN</td>\n      <td>16,712</td>\n      <td>1,212</td>\n      <td>NaN</td>\n      <td>2022Q4</td>\n    </tr>\n    <tr>\n      <th>16079</th>\n      <td>2022-11-20</td>\n      <td>NaN</td>\n      <td>NaN</td>\n      <td>NaN</td>\n      <td>NaN</td>\n      <td>NaN</td>\n      <td>NaN</td>\n      <td>16,292</td>\n      <td>1,218</td>\n      <td>NaN</td>\n      <td>2022Q4</td>\n    </tr>\n  </tbody>\n</table>\n<p>16080 rows × 11 columns</p>\n</div>"
     },
     "execution_count": 270,
     "metadata": {},
     "output_type": "execute_result"
    }
   ],
   "source": [
    "df"
   ],
   "metadata": {
    "collapsed": false
   }
  },
  {
   "cell_type": "code",
   "execution_count": 271,
   "outputs": [],
   "source": [
    "df = df.merge(df_rate, on='quarter', how='outer').rename(\n",
    "    columns={'Deposit rate': 'rate'})"
   ],
   "metadata": {
    "collapsed": false
   }
  },
  {
   "cell_type": "code",
   "execution_count": 272,
   "outputs": [
    {
     "data": {
      "text/plain": "            date sp500 sp500cap bist100 bist100cap bistall bistallcap  \\\n0     1964-03-31    79  357,907     NaN        NaN     NaN        NaN   \n1     1964-04-01    79  357,907     NaN        NaN     NaN        NaN   \n2     1964-04-02    80  357,907     NaN        NaN     NaN        NaN   \n3     1964-04-03    80  357,907     NaN        NaN     NaN        NaN   \n4     1964-04-06    80  357,907     NaN        NaN     NaN        NaN   \n...          ...   ...      ...     ...        ...     ...        ...   \n16075 2022-11-06   NaN      NaN     NaN        NaN     NaN        NaN   \n16076 2022-11-12   NaN      NaN     NaN        NaN     NaN        NaN   \n16077 2022-11-13   NaN      NaN     NaN        NaN     NaN        NaN   \n16078 2022-11-19   NaN      NaN     NaN        NaN     NaN        NaN   \n16079 2022-11-20   NaN      NaN     NaN        NaN     NaN        NaN   \n\n            btc      eth gold quarter Quarter  rate quarter-t  \n0           NaN      NaN  NaN  1964Q1     NaN   NaN       NaN  \n1           NaN      NaN  NaN  1964Q2     NaN   NaN       NaN  \n2           NaN      NaN  NaN  1964Q2     NaN   NaN       NaN  \n3           NaN      NaN  NaN  1964Q2     NaN   NaN       NaN  \n4           NaN      NaN  NaN  1964Q2     NaN   NaN       NaN  \n...         ...      ...  ...     ...     ...   ...       ...  \n16075   20,926    1,628   NaN  2022Q4     NaN   NaN       NaN  \n16076   16,799    1,287   NaN  2022Q4     NaN   NaN       NaN  \n16077   16,353    1,255   NaN  2022Q4     NaN   NaN       NaN  \n16078   16,712    1,212   NaN  2022Q4     NaN   NaN       NaN  \n16079   16,292    1,218   NaN  2022Q4     NaN   NaN       NaN  \n\n[16080 rows x 14 columns]",
      "text/html": "<div>\n<style scoped>\n    .dataframe tbody tr th:only-of-type {\n        vertical-align: middle;\n    }\n\n    .dataframe tbody tr th {\n        vertical-align: top;\n    }\n\n    .dataframe thead th {\n        text-align: right;\n    }\n</style>\n<table border=\"1\" class=\"dataframe\">\n  <thead>\n    <tr style=\"text-align: right;\">\n      <th></th>\n      <th>date</th>\n      <th>sp500</th>\n      <th>sp500cap</th>\n      <th>bist100</th>\n      <th>bist100cap</th>\n      <th>bistall</th>\n      <th>bistallcap</th>\n      <th>btc</th>\n      <th>eth</th>\n      <th>gold</th>\n      <th>quarter</th>\n      <th>Quarter</th>\n      <th>rate</th>\n      <th>quarter-t</th>\n    </tr>\n  </thead>\n  <tbody>\n    <tr>\n      <th>0</th>\n      <td>1964-03-31</td>\n      <td>79</td>\n      <td>357,907</td>\n      <td>NaN</td>\n      <td>NaN</td>\n      <td>NaN</td>\n      <td>NaN</td>\n      <td>NaN</td>\n      <td>NaN</td>\n      <td>NaN</td>\n      <td>1964Q1</td>\n      <td>NaN</td>\n      <td>NaN</td>\n      <td>NaN</td>\n    </tr>\n    <tr>\n      <th>1</th>\n      <td>1964-04-01</td>\n      <td>79</td>\n      <td>357,907</td>\n      <td>NaN</td>\n      <td>NaN</td>\n      <td>NaN</td>\n      <td>NaN</td>\n      <td>NaN</td>\n      <td>NaN</td>\n      <td>NaN</td>\n      <td>1964Q2</td>\n      <td>NaN</td>\n      <td>NaN</td>\n      <td>NaN</td>\n    </tr>\n    <tr>\n      <th>2</th>\n      <td>1964-04-02</td>\n      <td>80</td>\n      <td>357,907</td>\n      <td>NaN</td>\n      <td>NaN</td>\n      <td>NaN</td>\n      <td>NaN</td>\n      <td>NaN</td>\n      <td>NaN</td>\n      <td>NaN</td>\n      <td>1964Q2</td>\n      <td>NaN</td>\n      <td>NaN</td>\n      <td>NaN</td>\n    </tr>\n    <tr>\n      <th>3</th>\n      <td>1964-04-03</td>\n      <td>80</td>\n      <td>357,907</td>\n      <td>NaN</td>\n      <td>NaN</td>\n      <td>NaN</td>\n      <td>NaN</td>\n      <td>NaN</td>\n      <td>NaN</td>\n      <td>NaN</td>\n      <td>1964Q2</td>\n      <td>NaN</td>\n      <td>NaN</td>\n      <td>NaN</td>\n    </tr>\n    <tr>\n      <th>4</th>\n      <td>1964-04-06</td>\n      <td>80</td>\n      <td>357,907</td>\n      <td>NaN</td>\n      <td>NaN</td>\n      <td>NaN</td>\n      <td>NaN</td>\n      <td>NaN</td>\n      <td>NaN</td>\n      <td>NaN</td>\n      <td>1964Q2</td>\n      <td>NaN</td>\n      <td>NaN</td>\n      <td>NaN</td>\n    </tr>\n    <tr>\n      <th>...</th>\n      <td>...</td>\n      <td>...</td>\n      <td>...</td>\n      <td>...</td>\n      <td>...</td>\n      <td>...</td>\n      <td>...</td>\n      <td>...</td>\n      <td>...</td>\n      <td>...</td>\n      <td>...</td>\n      <td>...</td>\n      <td>...</td>\n      <td>...</td>\n    </tr>\n    <tr>\n      <th>16075</th>\n      <td>2022-11-06</td>\n      <td>NaN</td>\n      <td>NaN</td>\n      <td>NaN</td>\n      <td>NaN</td>\n      <td>NaN</td>\n      <td>NaN</td>\n      <td>20,926</td>\n      <td>1,628</td>\n      <td>NaN</td>\n      <td>2022Q4</td>\n      <td>NaN</td>\n      <td>NaN</td>\n      <td>NaN</td>\n    </tr>\n    <tr>\n      <th>16076</th>\n      <td>2022-11-12</td>\n      <td>NaN</td>\n      <td>NaN</td>\n      <td>NaN</td>\n      <td>NaN</td>\n      <td>NaN</td>\n      <td>NaN</td>\n      <td>16,799</td>\n      <td>1,287</td>\n      <td>NaN</td>\n      <td>2022Q4</td>\n      <td>NaN</td>\n      <td>NaN</td>\n      <td>NaN</td>\n    </tr>\n    <tr>\n      <th>16077</th>\n      <td>2022-11-13</td>\n      <td>NaN</td>\n      <td>NaN</td>\n      <td>NaN</td>\n      <td>NaN</td>\n      <td>NaN</td>\n      <td>NaN</td>\n      <td>16,353</td>\n      <td>1,255</td>\n      <td>NaN</td>\n      <td>2022Q4</td>\n      <td>NaN</td>\n      <td>NaN</td>\n      <td>NaN</td>\n    </tr>\n    <tr>\n      <th>16078</th>\n      <td>2022-11-19</td>\n      <td>NaN</td>\n      <td>NaN</td>\n      <td>NaN</td>\n      <td>NaN</td>\n      <td>NaN</td>\n      <td>NaN</td>\n      <td>16,712</td>\n      <td>1,212</td>\n      <td>NaN</td>\n      <td>2022Q4</td>\n      <td>NaN</td>\n      <td>NaN</td>\n      <td>NaN</td>\n    </tr>\n    <tr>\n      <th>16079</th>\n      <td>2022-11-20</td>\n      <td>NaN</td>\n      <td>NaN</td>\n      <td>NaN</td>\n      <td>NaN</td>\n      <td>NaN</td>\n      <td>NaN</td>\n      <td>16,292</td>\n      <td>1,218</td>\n      <td>NaN</td>\n      <td>2022Q4</td>\n      <td>NaN</td>\n      <td>NaN</td>\n      <td>NaN</td>\n    </tr>\n  </tbody>\n</table>\n<p>16080 rows × 14 columns</p>\n</div>"
     },
     "execution_count": 272,
     "metadata": {},
     "output_type": "execute_result"
    }
   ],
   "source": [
    "df"
   ],
   "metadata": {
    "collapsed": false
   }
  },
  {
   "cell_type": "code",
   "execution_count": 273,
   "outputs": [],
   "source": [
    "df = df.reindex(columns=[\n",
    "    'date',\n",
    "    'quarter',\n",
    "    'sp500',\n",
    "    'sp500cap',\n",
    "    'bist100',\n",
    "    'bist100cap',\n",
    "    'bistall',\n",
    "    'bistallcap',\n",
    "    'btc',\n",
    "    'eth',\n",
    "    'gold',\n",
    "    'rate'\n",
    "])"
   ],
   "metadata": {
    "collapsed": false
   }
  },
  {
   "cell_type": "code",
   "execution_count": 274,
   "outputs": [
    {
     "data": {
      "text/plain": "            date quarter sp500 sp500cap bist100 bist100cap bistall bistallcap  \\\n0     1964-03-31  1964Q1    79  357,907     NaN        NaN     NaN        NaN   \n1     1964-04-01  1964Q2    79  357,907     NaN        NaN     NaN        NaN   \n2     1964-04-02  1964Q2    80  357,907     NaN        NaN     NaN        NaN   \n3     1964-04-03  1964Q2    80  357,907     NaN        NaN     NaN        NaN   \n4     1964-04-06  1964Q2    80  357,907     NaN        NaN     NaN        NaN   \n...          ...     ...   ...      ...     ...        ...     ...        ...   \n16075 2022-11-06  2022Q4   NaN      NaN     NaN        NaN     NaN        NaN   \n16076 2022-11-12  2022Q4   NaN      NaN     NaN        NaN     NaN        NaN   \n16077 2022-11-13  2022Q4   NaN      NaN     NaN        NaN     NaN        NaN   \n16078 2022-11-19  2022Q4   NaN      NaN     NaN        NaN     NaN        NaN   \n16079 2022-11-20  2022Q4   NaN      NaN     NaN        NaN     NaN        NaN   \n\n            btc      eth gold  rate  \n0           NaN      NaN  NaN   NaN  \n1           NaN      NaN  NaN   NaN  \n2           NaN      NaN  NaN   NaN  \n3           NaN      NaN  NaN   NaN  \n4           NaN      NaN  NaN   NaN  \n...         ...      ...  ...   ...  \n16075   20,926    1,628   NaN   NaN  \n16076   16,799    1,287   NaN   NaN  \n16077   16,353    1,255   NaN   NaN  \n16078   16,712    1,212   NaN   NaN  \n16079   16,292    1,218   NaN   NaN  \n\n[16080 rows x 12 columns]",
      "text/html": "<div>\n<style scoped>\n    .dataframe tbody tr th:only-of-type {\n        vertical-align: middle;\n    }\n\n    .dataframe tbody tr th {\n        vertical-align: top;\n    }\n\n    .dataframe thead th {\n        text-align: right;\n    }\n</style>\n<table border=\"1\" class=\"dataframe\">\n  <thead>\n    <tr style=\"text-align: right;\">\n      <th></th>\n      <th>date</th>\n      <th>quarter</th>\n      <th>sp500</th>\n      <th>sp500cap</th>\n      <th>bist100</th>\n      <th>bist100cap</th>\n      <th>bistall</th>\n      <th>bistallcap</th>\n      <th>btc</th>\n      <th>eth</th>\n      <th>gold</th>\n      <th>rate</th>\n    </tr>\n  </thead>\n  <tbody>\n    <tr>\n      <th>0</th>\n      <td>1964-03-31</td>\n      <td>1964Q1</td>\n      <td>79</td>\n      <td>357,907</td>\n      <td>NaN</td>\n      <td>NaN</td>\n      <td>NaN</td>\n      <td>NaN</td>\n      <td>NaN</td>\n      <td>NaN</td>\n      <td>NaN</td>\n      <td>NaN</td>\n    </tr>\n    <tr>\n      <th>1</th>\n      <td>1964-04-01</td>\n      <td>1964Q2</td>\n      <td>79</td>\n      <td>357,907</td>\n      <td>NaN</td>\n      <td>NaN</td>\n      <td>NaN</td>\n      <td>NaN</td>\n      <td>NaN</td>\n      <td>NaN</td>\n      <td>NaN</td>\n      <td>NaN</td>\n    </tr>\n    <tr>\n      <th>2</th>\n      <td>1964-04-02</td>\n      <td>1964Q2</td>\n      <td>80</td>\n      <td>357,907</td>\n      <td>NaN</td>\n      <td>NaN</td>\n      <td>NaN</td>\n      <td>NaN</td>\n      <td>NaN</td>\n      <td>NaN</td>\n      <td>NaN</td>\n      <td>NaN</td>\n    </tr>\n    <tr>\n      <th>3</th>\n      <td>1964-04-03</td>\n      <td>1964Q2</td>\n      <td>80</td>\n      <td>357,907</td>\n      <td>NaN</td>\n      <td>NaN</td>\n      <td>NaN</td>\n      <td>NaN</td>\n      <td>NaN</td>\n      <td>NaN</td>\n      <td>NaN</td>\n      <td>NaN</td>\n    </tr>\n    <tr>\n      <th>4</th>\n      <td>1964-04-06</td>\n      <td>1964Q2</td>\n      <td>80</td>\n      <td>357,907</td>\n      <td>NaN</td>\n      <td>NaN</td>\n      <td>NaN</td>\n      <td>NaN</td>\n      <td>NaN</td>\n      <td>NaN</td>\n      <td>NaN</td>\n      <td>NaN</td>\n    </tr>\n    <tr>\n      <th>...</th>\n      <td>...</td>\n      <td>...</td>\n      <td>...</td>\n      <td>...</td>\n      <td>...</td>\n      <td>...</td>\n      <td>...</td>\n      <td>...</td>\n      <td>...</td>\n      <td>...</td>\n      <td>...</td>\n      <td>...</td>\n    </tr>\n    <tr>\n      <th>16075</th>\n      <td>2022-11-06</td>\n      <td>2022Q4</td>\n      <td>NaN</td>\n      <td>NaN</td>\n      <td>NaN</td>\n      <td>NaN</td>\n      <td>NaN</td>\n      <td>NaN</td>\n      <td>20,926</td>\n      <td>1,628</td>\n      <td>NaN</td>\n      <td>NaN</td>\n    </tr>\n    <tr>\n      <th>16076</th>\n      <td>2022-11-12</td>\n      <td>2022Q4</td>\n      <td>NaN</td>\n      <td>NaN</td>\n      <td>NaN</td>\n      <td>NaN</td>\n      <td>NaN</td>\n      <td>NaN</td>\n      <td>16,799</td>\n      <td>1,287</td>\n      <td>NaN</td>\n      <td>NaN</td>\n    </tr>\n    <tr>\n      <th>16077</th>\n      <td>2022-11-13</td>\n      <td>2022Q4</td>\n      <td>NaN</td>\n      <td>NaN</td>\n      <td>NaN</td>\n      <td>NaN</td>\n      <td>NaN</td>\n      <td>NaN</td>\n      <td>16,353</td>\n      <td>1,255</td>\n      <td>NaN</td>\n      <td>NaN</td>\n    </tr>\n    <tr>\n      <th>16078</th>\n      <td>2022-11-19</td>\n      <td>2022Q4</td>\n      <td>NaN</td>\n      <td>NaN</td>\n      <td>NaN</td>\n      <td>NaN</td>\n      <td>NaN</td>\n      <td>NaN</td>\n      <td>16,712</td>\n      <td>1,212</td>\n      <td>NaN</td>\n      <td>NaN</td>\n    </tr>\n    <tr>\n      <th>16079</th>\n      <td>2022-11-20</td>\n      <td>2022Q4</td>\n      <td>NaN</td>\n      <td>NaN</td>\n      <td>NaN</td>\n      <td>NaN</td>\n      <td>NaN</td>\n      <td>NaN</td>\n      <td>16,292</td>\n      <td>1,218</td>\n      <td>NaN</td>\n      <td>NaN</td>\n    </tr>\n  </tbody>\n</table>\n<p>16080 rows × 12 columns</p>\n</div>"
     },
     "execution_count": 274,
     "metadata": {},
     "output_type": "execute_result"
    }
   ],
   "source": [
    "df"
   ],
   "metadata": {
    "collapsed": false
   }
  },
  {
   "cell_type": "markdown",
   "source": [
    "### CPI"
   ],
   "metadata": {
    "collapsed": false
   }
  },
  {
   "cell_type": "code",
   "execution_count": 275,
   "outputs": [],
   "source": [
    "df_cpi = pd.read_csv(csv_tl_inflation)"
   ],
   "metadata": {
    "collapsed": false
   }
  },
  {
   "cell_type": "code",
   "execution_count": 276,
   "outputs": [
    {
     "data": {
      "text/plain": "            Month  CPI (%YOY)\n0      January-95      125.90\n1     February-95      122.40\n2        March-95      119.70\n3        April-95       88.40\n4          May-95       79.80\n..            ...         ...\n328        May-22       57.92\n329       June-22       64.59\n330       July-22       69.94\n331     August-22       70.60\n332  September-22       67.73\n\n[333 rows x 2 columns]",
      "text/html": "<div>\n<style scoped>\n    .dataframe tbody tr th:only-of-type {\n        vertical-align: middle;\n    }\n\n    .dataframe tbody tr th {\n        vertical-align: top;\n    }\n\n    .dataframe thead th {\n        text-align: right;\n    }\n</style>\n<table border=\"1\" class=\"dataframe\">\n  <thead>\n    <tr style=\"text-align: right;\">\n      <th></th>\n      <th>Month</th>\n      <th>CPI (%YOY)</th>\n    </tr>\n  </thead>\n  <tbody>\n    <tr>\n      <th>0</th>\n      <td>January-95</td>\n      <td>125.90</td>\n    </tr>\n    <tr>\n      <th>1</th>\n      <td>February-95</td>\n      <td>122.40</td>\n    </tr>\n    <tr>\n      <th>2</th>\n      <td>March-95</td>\n      <td>119.70</td>\n    </tr>\n    <tr>\n      <th>3</th>\n      <td>April-95</td>\n      <td>88.40</td>\n    </tr>\n    <tr>\n      <th>4</th>\n      <td>May-95</td>\n      <td>79.80</td>\n    </tr>\n    <tr>\n      <th>...</th>\n      <td>...</td>\n      <td>...</td>\n    </tr>\n    <tr>\n      <th>328</th>\n      <td>May-22</td>\n      <td>57.92</td>\n    </tr>\n    <tr>\n      <th>329</th>\n      <td>June-22</td>\n      <td>64.59</td>\n    </tr>\n    <tr>\n      <th>330</th>\n      <td>July-22</td>\n      <td>69.94</td>\n    </tr>\n    <tr>\n      <th>331</th>\n      <td>August-22</td>\n      <td>70.60</td>\n    </tr>\n    <tr>\n      <th>332</th>\n      <td>September-22</td>\n      <td>67.73</td>\n    </tr>\n  </tbody>\n</table>\n<p>333 rows × 2 columns</p>\n</div>"
     },
     "execution_count": 276,
     "metadata": {},
     "output_type": "execute_result"
    }
   ],
   "source": [
    "df_cpi"
   ],
   "metadata": {
    "collapsed": false
   }
  },
  {
   "cell_type": "code",
   "execution_count": 277,
   "outputs": [],
   "source": [
    "df_cpi['date-t'] = pd.to_datetime(df_cpi['Month'], format=\"%B-%y\")"
   ],
   "metadata": {
    "collapsed": false
   }
  },
  {
   "cell_type": "code",
   "execution_count": 278,
   "outputs": [],
   "source": [
    "df_cpi['quarter'] = pd.PeriodIndex(df_cpi['date-t'], freq='Q')"
   ],
   "metadata": {
    "collapsed": false
   }
  },
  {
   "cell_type": "code",
   "execution_count": 279,
   "outputs": [
    {
     "data": {
      "text/plain": "            Month  CPI (%YOY)     date-t quarter\n0      January-95      125.90 1995-01-01  1995Q1\n1     February-95      122.40 1995-02-01  1995Q1\n2        March-95      119.70 1995-03-01  1995Q1\n3        April-95       88.40 1995-04-01  1995Q2\n4          May-95       79.80 1995-05-01  1995Q2\n..            ...         ...        ...     ...\n328        May-22       57.92 2022-05-01  2022Q2\n329       June-22       64.59 2022-06-01  2022Q2\n330       July-22       69.94 2022-07-01  2022Q3\n331     August-22       70.60 2022-08-01  2022Q3\n332  September-22       67.73 2022-09-01  2022Q3\n\n[333 rows x 4 columns]",
      "text/html": "<div>\n<style scoped>\n    .dataframe tbody tr th:only-of-type {\n        vertical-align: middle;\n    }\n\n    .dataframe tbody tr th {\n        vertical-align: top;\n    }\n\n    .dataframe thead th {\n        text-align: right;\n    }\n</style>\n<table border=\"1\" class=\"dataframe\">\n  <thead>\n    <tr style=\"text-align: right;\">\n      <th></th>\n      <th>Month</th>\n      <th>CPI (%YOY)</th>\n      <th>date-t</th>\n      <th>quarter</th>\n    </tr>\n  </thead>\n  <tbody>\n    <tr>\n      <th>0</th>\n      <td>January-95</td>\n      <td>125.90</td>\n      <td>1995-01-01</td>\n      <td>1995Q1</td>\n    </tr>\n    <tr>\n      <th>1</th>\n      <td>February-95</td>\n      <td>122.40</td>\n      <td>1995-02-01</td>\n      <td>1995Q1</td>\n    </tr>\n    <tr>\n      <th>2</th>\n      <td>March-95</td>\n      <td>119.70</td>\n      <td>1995-03-01</td>\n      <td>1995Q1</td>\n    </tr>\n    <tr>\n      <th>3</th>\n      <td>April-95</td>\n      <td>88.40</td>\n      <td>1995-04-01</td>\n      <td>1995Q2</td>\n    </tr>\n    <tr>\n      <th>4</th>\n      <td>May-95</td>\n      <td>79.80</td>\n      <td>1995-05-01</td>\n      <td>1995Q2</td>\n    </tr>\n    <tr>\n      <th>...</th>\n      <td>...</td>\n      <td>...</td>\n      <td>...</td>\n      <td>...</td>\n    </tr>\n    <tr>\n      <th>328</th>\n      <td>May-22</td>\n      <td>57.92</td>\n      <td>2022-05-01</td>\n      <td>2022Q2</td>\n    </tr>\n    <tr>\n      <th>329</th>\n      <td>June-22</td>\n      <td>64.59</td>\n      <td>2022-06-01</td>\n      <td>2022Q2</td>\n    </tr>\n    <tr>\n      <th>330</th>\n      <td>July-22</td>\n      <td>69.94</td>\n      <td>2022-07-01</td>\n      <td>2022Q3</td>\n    </tr>\n    <tr>\n      <th>331</th>\n      <td>August-22</td>\n      <td>70.60</td>\n      <td>2022-08-01</td>\n      <td>2022Q3</td>\n    </tr>\n    <tr>\n      <th>332</th>\n      <td>September-22</td>\n      <td>67.73</td>\n      <td>2022-09-01</td>\n      <td>2022Q3</td>\n    </tr>\n  </tbody>\n</table>\n<p>333 rows × 4 columns</p>\n</div>"
     },
     "execution_count": 279,
     "metadata": {},
     "output_type": "execute_result"
    }
   ],
   "source": [
    "df_cpi"
   ],
   "metadata": {
    "collapsed": false
   }
  },
  {
   "cell_type": "code",
   "execution_count": 280,
   "outputs": [],
   "source": [
    "import numpy as np\n",
    "\n",
    "\n",
    "# get the corresponding cpi for that given day:\n",
    "def get_cpi(v):\n",
    "    given = v.to_pydatetime().date()\n",
    "    given = str(given)\n",
    "    year_month = given[:-2]\n",
    "    day = year_month + '01'\n",
    "    result = df_cpi.loc[df_cpi['date-t'] == day]['CPI (%YOY)']\n",
    "    if result.count() == 0:\n",
    "        return np.nan\n",
    "    else:\n",
    "        return result.iloc[-1]"
   ],
   "metadata": {
    "collapsed": false
   }
  },
  {
   "cell_type": "code",
   "execution_count": 281,
   "outputs": [
    {
     "data": {
      "text/plain": "            date quarter sp500 sp500cap bist100 bist100cap bistall bistallcap  \\\n0     1964-03-31  1964Q1    79  357,907     NaN        NaN     NaN        NaN   \n1     1964-04-01  1964Q2    79  357,907     NaN        NaN     NaN        NaN   \n2     1964-04-02  1964Q2    80  357,907     NaN        NaN     NaN        NaN   \n3     1964-04-03  1964Q2    80  357,907     NaN        NaN     NaN        NaN   \n4     1964-04-06  1964Q2    80  357,907     NaN        NaN     NaN        NaN   \n...          ...     ...   ...      ...     ...        ...     ...        ...   \n16075 2022-11-06  2022Q4   NaN      NaN     NaN        NaN     NaN        NaN   \n16076 2022-11-12  2022Q4   NaN      NaN     NaN        NaN     NaN        NaN   \n16077 2022-11-13  2022Q4   NaN      NaN     NaN        NaN     NaN        NaN   \n16078 2022-11-19  2022Q4   NaN      NaN     NaN        NaN     NaN        NaN   \n16079 2022-11-20  2022Q4   NaN      NaN     NaN        NaN     NaN        NaN   \n\n            btc      eth gold  rate  \n0           NaN      NaN  NaN   NaN  \n1           NaN      NaN  NaN   NaN  \n2           NaN      NaN  NaN   NaN  \n3           NaN      NaN  NaN   NaN  \n4           NaN      NaN  NaN   NaN  \n...         ...      ...  ...   ...  \n16075   20,926    1,628   NaN   NaN  \n16076   16,799    1,287   NaN   NaN  \n16077   16,353    1,255   NaN   NaN  \n16078   16,712    1,212   NaN   NaN  \n16079   16,292    1,218   NaN   NaN  \n\n[16080 rows x 12 columns]",
      "text/html": "<div>\n<style scoped>\n    .dataframe tbody tr th:only-of-type {\n        vertical-align: middle;\n    }\n\n    .dataframe tbody tr th {\n        vertical-align: top;\n    }\n\n    .dataframe thead th {\n        text-align: right;\n    }\n</style>\n<table border=\"1\" class=\"dataframe\">\n  <thead>\n    <tr style=\"text-align: right;\">\n      <th></th>\n      <th>date</th>\n      <th>quarter</th>\n      <th>sp500</th>\n      <th>sp500cap</th>\n      <th>bist100</th>\n      <th>bist100cap</th>\n      <th>bistall</th>\n      <th>bistallcap</th>\n      <th>btc</th>\n      <th>eth</th>\n      <th>gold</th>\n      <th>rate</th>\n    </tr>\n  </thead>\n  <tbody>\n    <tr>\n      <th>0</th>\n      <td>1964-03-31</td>\n      <td>1964Q1</td>\n      <td>79</td>\n      <td>357,907</td>\n      <td>NaN</td>\n      <td>NaN</td>\n      <td>NaN</td>\n      <td>NaN</td>\n      <td>NaN</td>\n      <td>NaN</td>\n      <td>NaN</td>\n      <td>NaN</td>\n    </tr>\n    <tr>\n      <th>1</th>\n      <td>1964-04-01</td>\n      <td>1964Q2</td>\n      <td>79</td>\n      <td>357,907</td>\n      <td>NaN</td>\n      <td>NaN</td>\n      <td>NaN</td>\n      <td>NaN</td>\n      <td>NaN</td>\n      <td>NaN</td>\n      <td>NaN</td>\n      <td>NaN</td>\n    </tr>\n    <tr>\n      <th>2</th>\n      <td>1964-04-02</td>\n      <td>1964Q2</td>\n      <td>80</td>\n      <td>357,907</td>\n      <td>NaN</td>\n      <td>NaN</td>\n      <td>NaN</td>\n      <td>NaN</td>\n      <td>NaN</td>\n      <td>NaN</td>\n      <td>NaN</td>\n      <td>NaN</td>\n    </tr>\n    <tr>\n      <th>3</th>\n      <td>1964-04-03</td>\n      <td>1964Q2</td>\n      <td>80</td>\n      <td>357,907</td>\n      <td>NaN</td>\n      <td>NaN</td>\n      <td>NaN</td>\n      <td>NaN</td>\n      <td>NaN</td>\n      <td>NaN</td>\n      <td>NaN</td>\n      <td>NaN</td>\n    </tr>\n    <tr>\n      <th>4</th>\n      <td>1964-04-06</td>\n      <td>1964Q2</td>\n      <td>80</td>\n      <td>357,907</td>\n      <td>NaN</td>\n      <td>NaN</td>\n      <td>NaN</td>\n      <td>NaN</td>\n      <td>NaN</td>\n      <td>NaN</td>\n      <td>NaN</td>\n      <td>NaN</td>\n    </tr>\n    <tr>\n      <th>...</th>\n      <td>...</td>\n      <td>...</td>\n      <td>...</td>\n      <td>...</td>\n      <td>...</td>\n      <td>...</td>\n      <td>...</td>\n      <td>...</td>\n      <td>...</td>\n      <td>...</td>\n      <td>...</td>\n      <td>...</td>\n    </tr>\n    <tr>\n      <th>16075</th>\n      <td>2022-11-06</td>\n      <td>2022Q4</td>\n      <td>NaN</td>\n      <td>NaN</td>\n      <td>NaN</td>\n      <td>NaN</td>\n      <td>NaN</td>\n      <td>NaN</td>\n      <td>20,926</td>\n      <td>1,628</td>\n      <td>NaN</td>\n      <td>NaN</td>\n    </tr>\n    <tr>\n      <th>16076</th>\n      <td>2022-11-12</td>\n      <td>2022Q4</td>\n      <td>NaN</td>\n      <td>NaN</td>\n      <td>NaN</td>\n      <td>NaN</td>\n      <td>NaN</td>\n      <td>NaN</td>\n      <td>16,799</td>\n      <td>1,287</td>\n      <td>NaN</td>\n      <td>NaN</td>\n    </tr>\n    <tr>\n      <th>16077</th>\n      <td>2022-11-13</td>\n      <td>2022Q4</td>\n      <td>NaN</td>\n      <td>NaN</td>\n      <td>NaN</td>\n      <td>NaN</td>\n      <td>NaN</td>\n      <td>NaN</td>\n      <td>16,353</td>\n      <td>1,255</td>\n      <td>NaN</td>\n      <td>NaN</td>\n    </tr>\n    <tr>\n      <th>16078</th>\n      <td>2022-11-19</td>\n      <td>2022Q4</td>\n      <td>NaN</td>\n      <td>NaN</td>\n      <td>NaN</td>\n      <td>NaN</td>\n      <td>NaN</td>\n      <td>NaN</td>\n      <td>16,712</td>\n      <td>1,212</td>\n      <td>NaN</td>\n      <td>NaN</td>\n    </tr>\n    <tr>\n      <th>16079</th>\n      <td>2022-11-20</td>\n      <td>2022Q4</td>\n      <td>NaN</td>\n      <td>NaN</td>\n      <td>NaN</td>\n      <td>NaN</td>\n      <td>NaN</td>\n      <td>NaN</td>\n      <td>16,292</td>\n      <td>1,218</td>\n      <td>NaN</td>\n      <td>NaN</td>\n    </tr>\n  </tbody>\n</table>\n<p>16080 rows × 12 columns</p>\n</div>"
     },
     "execution_count": 281,
     "metadata": {},
     "output_type": "execute_result"
    }
   ],
   "source": [
    "df"
   ],
   "metadata": {
    "collapsed": false
   }
  },
  {
   "cell_type": "code",
   "execution_count": 282,
   "outputs": [],
   "source": [
    "df['cpi'] = df.date.apply(get_cpi)"
   ],
   "metadata": {
    "collapsed": false
   }
  },
  {
   "cell_type": "code",
   "execution_count": 283,
   "outputs": [
    {
     "data": {
      "text/plain": "            date quarter sp500 sp500cap bist100 bist100cap bistall bistallcap  \\\n0     1964-03-31  1964Q1    79  357,907     NaN        NaN     NaN        NaN   \n1     1964-04-01  1964Q2    79  357,907     NaN        NaN     NaN        NaN   \n2     1964-04-02  1964Q2    80  357,907     NaN        NaN     NaN        NaN   \n3     1964-04-03  1964Q2    80  357,907     NaN        NaN     NaN        NaN   \n4     1964-04-06  1964Q2    80  357,907     NaN        NaN     NaN        NaN   \n...          ...     ...   ...      ...     ...        ...     ...        ...   \n16075 2022-11-06  2022Q4   NaN      NaN     NaN        NaN     NaN        NaN   \n16076 2022-11-12  2022Q4   NaN      NaN     NaN        NaN     NaN        NaN   \n16077 2022-11-13  2022Q4   NaN      NaN     NaN        NaN     NaN        NaN   \n16078 2022-11-19  2022Q4   NaN      NaN     NaN        NaN     NaN        NaN   \n16079 2022-11-20  2022Q4   NaN      NaN     NaN        NaN     NaN        NaN   \n\n            btc      eth gold  rate  cpi  \n0           NaN      NaN  NaN   NaN  NaN  \n1           NaN      NaN  NaN   NaN  NaN  \n2           NaN      NaN  NaN   NaN  NaN  \n3           NaN      NaN  NaN   NaN  NaN  \n4           NaN      NaN  NaN   NaN  NaN  \n...         ...      ...  ...   ...  ...  \n16075   20,926    1,628   NaN   NaN  NaN  \n16076   16,799    1,287   NaN   NaN  NaN  \n16077   16,353    1,255   NaN   NaN  NaN  \n16078   16,712    1,212   NaN   NaN  NaN  \n16079   16,292    1,218   NaN   NaN  NaN  \n\n[16080 rows x 13 columns]",
      "text/html": "<div>\n<style scoped>\n    .dataframe tbody tr th:only-of-type {\n        vertical-align: middle;\n    }\n\n    .dataframe tbody tr th {\n        vertical-align: top;\n    }\n\n    .dataframe thead th {\n        text-align: right;\n    }\n</style>\n<table border=\"1\" class=\"dataframe\">\n  <thead>\n    <tr style=\"text-align: right;\">\n      <th></th>\n      <th>date</th>\n      <th>quarter</th>\n      <th>sp500</th>\n      <th>sp500cap</th>\n      <th>bist100</th>\n      <th>bist100cap</th>\n      <th>bistall</th>\n      <th>bistallcap</th>\n      <th>btc</th>\n      <th>eth</th>\n      <th>gold</th>\n      <th>rate</th>\n      <th>cpi</th>\n    </tr>\n  </thead>\n  <tbody>\n    <tr>\n      <th>0</th>\n      <td>1964-03-31</td>\n      <td>1964Q1</td>\n      <td>79</td>\n      <td>357,907</td>\n      <td>NaN</td>\n      <td>NaN</td>\n      <td>NaN</td>\n      <td>NaN</td>\n      <td>NaN</td>\n      <td>NaN</td>\n      <td>NaN</td>\n      <td>NaN</td>\n      <td>NaN</td>\n    </tr>\n    <tr>\n      <th>1</th>\n      <td>1964-04-01</td>\n      <td>1964Q2</td>\n      <td>79</td>\n      <td>357,907</td>\n      <td>NaN</td>\n      <td>NaN</td>\n      <td>NaN</td>\n      <td>NaN</td>\n      <td>NaN</td>\n      <td>NaN</td>\n      <td>NaN</td>\n      <td>NaN</td>\n      <td>NaN</td>\n    </tr>\n    <tr>\n      <th>2</th>\n      <td>1964-04-02</td>\n      <td>1964Q2</td>\n      <td>80</td>\n      <td>357,907</td>\n      <td>NaN</td>\n      <td>NaN</td>\n      <td>NaN</td>\n      <td>NaN</td>\n      <td>NaN</td>\n      <td>NaN</td>\n      <td>NaN</td>\n      <td>NaN</td>\n      <td>NaN</td>\n    </tr>\n    <tr>\n      <th>3</th>\n      <td>1964-04-03</td>\n      <td>1964Q2</td>\n      <td>80</td>\n      <td>357,907</td>\n      <td>NaN</td>\n      <td>NaN</td>\n      <td>NaN</td>\n      <td>NaN</td>\n      <td>NaN</td>\n      <td>NaN</td>\n      <td>NaN</td>\n      <td>NaN</td>\n      <td>NaN</td>\n    </tr>\n    <tr>\n      <th>4</th>\n      <td>1964-04-06</td>\n      <td>1964Q2</td>\n      <td>80</td>\n      <td>357,907</td>\n      <td>NaN</td>\n      <td>NaN</td>\n      <td>NaN</td>\n      <td>NaN</td>\n      <td>NaN</td>\n      <td>NaN</td>\n      <td>NaN</td>\n      <td>NaN</td>\n      <td>NaN</td>\n    </tr>\n    <tr>\n      <th>...</th>\n      <td>...</td>\n      <td>...</td>\n      <td>...</td>\n      <td>...</td>\n      <td>...</td>\n      <td>...</td>\n      <td>...</td>\n      <td>...</td>\n      <td>...</td>\n      <td>...</td>\n      <td>...</td>\n      <td>...</td>\n      <td>...</td>\n    </tr>\n    <tr>\n      <th>16075</th>\n      <td>2022-11-06</td>\n      <td>2022Q4</td>\n      <td>NaN</td>\n      <td>NaN</td>\n      <td>NaN</td>\n      <td>NaN</td>\n      <td>NaN</td>\n      <td>NaN</td>\n      <td>20,926</td>\n      <td>1,628</td>\n      <td>NaN</td>\n      <td>NaN</td>\n      <td>NaN</td>\n    </tr>\n    <tr>\n      <th>16076</th>\n      <td>2022-11-12</td>\n      <td>2022Q4</td>\n      <td>NaN</td>\n      <td>NaN</td>\n      <td>NaN</td>\n      <td>NaN</td>\n      <td>NaN</td>\n      <td>NaN</td>\n      <td>16,799</td>\n      <td>1,287</td>\n      <td>NaN</td>\n      <td>NaN</td>\n      <td>NaN</td>\n    </tr>\n    <tr>\n      <th>16077</th>\n      <td>2022-11-13</td>\n      <td>2022Q4</td>\n      <td>NaN</td>\n      <td>NaN</td>\n      <td>NaN</td>\n      <td>NaN</td>\n      <td>NaN</td>\n      <td>NaN</td>\n      <td>16,353</td>\n      <td>1,255</td>\n      <td>NaN</td>\n      <td>NaN</td>\n      <td>NaN</td>\n    </tr>\n    <tr>\n      <th>16078</th>\n      <td>2022-11-19</td>\n      <td>2022Q4</td>\n      <td>NaN</td>\n      <td>NaN</td>\n      <td>NaN</td>\n      <td>NaN</td>\n      <td>NaN</td>\n      <td>NaN</td>\n      <td>16,712</td>\n      <td>1,212</td>\n      <td>NaN</td>\n      <td>NaN</td>\n      <td>NaN</td>\n    </tr>\n    <tr>\n      <th>16079</th>\n      <td>2022-11-20</td>\n      <td>2022Q4</td>\n      <td>NaN</td>\n      <td>NaN</td>\n      <td>NaN</td>\n      <td>NaN</td>\n      <td>NaN</td>\n      <td>NaN</td>\n      <td>16,292</td>\n      <td>1,218</td>\n      <td>NaN</td>\n      <td>NaN</td>\n      <td>NaN</td>\n    </tr>\n  </tbody>\n</table>\n<p>16080 rows × 13 columns</p>\n</div>"
     },
     "execution_count": 283,
     "metadata": {},
     "output_type": "execute_result"
    }
   ],
   "source": [
    "df"
   ],
   "metadata": {
    "collapsed": false
   }
  },
  {
   "cell_type": "code",
   "execution_count": 284,
   "outputs": [],
   "source": [
    "df = df.reindex(columns=[\n",
    "    'date',\n",
    "    'quarter',\n",
    "    'sp500',\n",
    "    'sp500cap',\n",
    "    'bist100',\n",
    "    'bist100cap',\n",
    "    'bistall',\n",
    "    'bistallcap',\n",
    "    'btc',\n",
    "    'eth',\n",
    "    'gold',\n",
    "    'rate',\n",
    "    'cpi'\n",
    "])"
   ],
   "metadata": {
    "collapsed": false
   }
  },
  {
   "cell_type": "code",
   "execution_count": 285,
   "outputs": [
    {
     "data": {
      "text/plain": "            date quarter sp500 sp500cap bist100 bist100cap bistall bistallcap  \\\n0     1964-03-31  1964Q1    79  357,907     NaN        NaN     NaN        NaN   \n1     1964-04-01  1964Q2    79  357,907     NaN        NaN     NaN        NaN   \n2     1964-04-02  1964Q2    80  357,907     NaN        NaN     NaN        NaN   \n3     1964-04-03  1964Q2    80  357,907     NaN        NaN     NaN        NaN   \n4     1964-04-06  1964Q2    80  357,907     NaN        NaN     NaN        NaN   \n...          ...     ...   ...      ...     ...        ...     ...        ...   \n16075 2022-11-06  2022Q4   NaN      NaN     NaN        NaN     NaN        NaN   \n16076 2022-11-12  2022Q4   NaN      NaN     NaN        NaN     NaN        NaN   \n16077 2022-11-13  2022Q4   NaN      NaN     NaN        NaN     NaN        NaN   \n16078 2022-11-19  2022Q4   NaN      NaN     NaN        NaN     NaN        NaN   \n16079 2022-11-20  2022Q4   NaN      NaN     NaN        NaN     NaN        NaN   \n\n            btc      eth gold  rate  cpi  \n0           NaN      NaN  NaN   NaN  NaN  \n1           NaN      NaN  NaN   NaN  NaN  \n2           NaN      NaN  NaN   NaN  NaN  \n3           NaN      NaN  NaN   NaN  NaN  \n4           NaN      NaN  NaN   NaN  NaN  \n...         ...      ...  ...   ...  ...  \n16075   20,926    1,628   NaN   NaN  NaN  \n16076   16,799    1,287   NaN   NaN  NaN  \n16077   16,353    1,255   NaN   NaN  NaN  \n16078   16,712    1,212   NaN   NaN  NaN  \n16079   16,292    1,218   NaN   NaN  NaN  \n\n[16080 rows x 13 columns]",
      "text/html": "<div>\n<style scoped>\n    .dataframe tbody tr th:only-of-type {\n        vertical-align: middle;\n    }\n\n    .dataframe tbody tr th {\n        vertical-align: top;\n    }\n\n    .dataframe thead th {\n        text-align: right;\n    }\n</style>\n<table border=\"1\" class=\"dataframe\">\n  <thead>\n    <tr style=\"text-align: right;\">\n      <th></th>\n      <th>date</th>\n      <th>quarter</th>\n      <th>sp500</th>\n      <th>sp500cap</th>\n      <th>bist100</th>\n      <th>bist100cap</th>\n      <th>bistall</th>\n      <th>bistallcap</th>\n      <th>btc</th>\n      <th>eth</th>\n      <th>gold</th>\n      <th>rate</th>\n      <th>cpi</th>\n    </tr>\n  </thead>\n  <tbody>\n    <tr>\n      <th>0</th>\n      <td>1964-03-31</td>\n      <td>1964Q1</td>\n      <td>79</td>\n      <td>357,907</td>\n      <td>NaN</td>\n      <td>NaN</td>\n      <td>NaN</td>\n      <td>NaN</td>\n      <td>NaN</td>\n      <td>NaN</td>\n      <td>NaN</td>\n      <td>NaN</td>\n      <td>NaN</td>\n    </tr>\n    <tr>\n      <th>1</th>\n      <td>1964-04-01</td>\n      <td>1964Q2</td>\n      <td>79</td>\n      <td>357,907</td>\n      <td>NaN</td>\n      <td>NaN</td>\n      <td>NaN</td>\n      <td>NaN</td>\n      <td>NaN</td>\n      <td>NaN</td>\n      <td>NaN</td>\n      <td>NaN</td>\n      <td>NaN</td>\n    </tr>\n    <tr>\n      <th>2</th>\n      <td>1964-04-02</td>\n      <td>1964Q2</td>\n      <td>80</td>\n      <td>357,907</td>\n      <td>NaN</td>\n      <td>NaN</td>\n      <td>NaN</td>\n      <td>NaN</td>\n      <td>NaN</td>\n      <td>NaN</td>\n      <td>NaN</td>\n      <td>NaN</td>\n      <td>NaN</td>\n    </tr>\n    <tr>\n      <th>3</th>\n      <td>1964-04-03</td>\n      <td>1964Q2</td>\n      <td>80</td>\n      <td>357,907</td>\n      <td>NaN</td>\n      <td>NaN</td>\n      <td>NaN</td>\n      <td>NaN</td>\n      <td>NaN</td>\n      <td>NaN</td>\n      <td>NaN</td>\n      <td>NaN</td>\n      <td>NaN</td>\n    </tr>\n    <tr>\n      <th>4</th>\n      <td>1964-04-06</td>\n      <td>1964Q2</td>\n      <td>80</td>\n      <td>357,907</td>\n      <td>NaN</td>\n      <td>NaN</td>\n      <td>NaN</td>\n      <td>NaN</td>\n      <td>NaN</td>\n      <td>NaN</td>\n      <td>NaN</td>\n      <td>NaN</td>\n      <td>NaN</td>\n    </tr>\n    <tr>\n      <th>...</th>\n      <td>...</td>\n      <td>...</td>\n      <td>...</td>\n      <td>...</td>\n      <td>...</td>\n      <td>...</td>\n      <td>...</td>\n      <td>...</td>\n      <td>...</td>\n      <td>...</td>\n      <td>...</td>\n      <td>...</td>\n      <td>...</td>\n    </tr>\n    <tr>\n      <th>16075</th>\n      <td>2022-11-06</td>\n      <td>2022Q4</td>\n      <td>NaN</td>\n      <td>NaN</td>\n      <td>NaN</td>\n      <td>NaN</td>\n      <td>NaN</td>\n      <td>NaN</td>\n      <td>20,926</td>\n      <td>1,628</td>\n      <td>NaN</td>\n      <td>NaN</td>\n      <td>NaN</td>\n    </tr>\n    <tr>\n      <th>16076</th>\n      <td>2022-11-12</td>\n      <td>2022Q4</td>\n      <td>NaN</td>\n      <td>NaN</td>\n      <td>NaN</td>\n      <td>NaN</td>\n      <td>NaN</td>\n      <td>NaN</td>\n      <td>16,799</td>\n      <td>1,287</td>\n      <td>NaN</td>\n      <td>NaN</td>\n      <td>NaN</td>\n    </tr>\n    <tr>\n      <th>16077</th>\n      <td>2022-11-13</td>\n      <td>2022Q4</td>\n      <td>NaN</td>\n      <td>NaN</td>\n      <td>NaN</td>\n      <td>NaN</td>\n      <td>NaN</td>\n      <td>NaN</td>\n      <td>16,353</td>\n      <td>1,255</td>\n      <td>NaN</td>\n      <td>NaN</td>\n      <td>NaN</td>\n    </tr>\n    <tr>\n      <th>16078</th>\n      <td>2022-11-19</td>\n      <td>2022Q4</td>\n      <td>NaN</td>\n      <td>NaN</td>\n      <td>NaN</td>\n      <td>NaN</td>\n      <td>NaN</td>\n      <td>NaN</td>\n      <td>16,712</td>\n      <td>1,212</td>\n      <td>NaN</td>\n      <td>NaN</td>\n      <td>NaN</td>\n    </tr>\n    <tr>\n      <th>16079</th>\n      <td>2022-11-20</td>\n      <td>2022Q4</td>\n      <td>NaN</td>\n      <td>NaN</td>\n      <td>NaN</td>\n      <td>NaN</td>\n      <td>NaN</td>\n      <td>NaN</td>\n      <td>16,292</td>\n      <td>1,218</td>\n      <td>NaN</td>\n      <td>NaN</td>\n      <td>NaN</td>\n    </tr>\n  </tbody>\n</table>\n<p>16080 rows × 13 columns</p>\n</div>"
     },
     "execution_count": 285,
     "metadata": {},
     "output_type": "execute_result"
    }
   ],
   "source": [
    "df"
   ],
   "metadata": {
    "collapsed": false
   }
  },
  {
   "cell_type": "markdown",
   "source": [
    "### Exchange Rates"
   ],
   "metadata": {
    "collapsed": false
   }
  },
  {
   "cell_type": "code",
   "execution_count": 286,
   "outputs": [],
   "source": [
    "df_exchange = pd.read_csv(csv_exchange_rate)"
   ],
   "metadata": {
    "collapsed": false
   }
  },
  {
   "cell_type": "code",
   "execution_count": 287,
   "outputs": [
    {
     "data": {
      "text/plain": "           Date    TL/USD    TL/Euro \n0     31.12.1987     0.001        NaN\n1      1.01.1988     0.001        NaN\n2      4.01.1988     0.001        NaN\n3      5.01.1988     0.001        NaN\n4      6.01.1988     0.001        NaN\n...          ...       ...        ...\n9118  13.12.2022    18.575     19.837\n9119  14.12.2022    18.628     19.837\n9120  15.12.2022    18.642     19.852\n9121  16.12.2022    18.639     19.786\n9122  19.12.2022    18.653     19.730\n\n[9123 rows x 3 columns]",
      "text/html": "<div>\n<style scoped>\n    .dataframe tbody tr th:only-of-type {\n        vertical-align: middle;\n    }\n\n    .dataframe tbody tr th {\n        vertical-align: top;\n    }\n\n    .dataframe thead th {\n        text-align: right;\n    }\n</style>\n<table border=\"1\" class=\"dataframe\">\n  <thead>\n    <tr style=\"text-align: right;\">\n      <th></th>\n      <th>Date</th>\n      <th>TL/USD</th>\n      <th>TL/Euro</th>\n    </tr>\n  </thead>\n  <tbody>\n    <tr>\n      <th>0</th>\n      <td>31.12.1987</td>\n      <td>0.001</td>\n      <td>NaN</td>\n    </tr>\n    <tr>\n      <th>1</th>\n      <td>1.01.1988</td>\n      <td>0.001</td>\n      <td>NaN</td>\n    </tr>\n    <tr>\n      <th>2</th>\n      <td>4.01.1988</td>\n      <td>0.001</td>\n      <td>NaN</td>\n    </tr>\n    <tr>\n      <th>3</th>\n      <td>5.01.1988</td>\n      <td>0.001</td>\n      <td>NaN</td>\n    </tr>\n    <tr>\n      <th>4</th>\n      <td>6.01.1988</td>\n      <td>0.001</td>\n      <td>NaN</td>\n    </tr>\n    <tr>\n      <th>...</th>\n      <td>...</td>\n      <td>...</td>\n      <td>...</td>\n    </tr>\n    <tr>\n      <th>9118</th>\n      <td>13.12.2022</td>\n      <td>18.575</td>\n      <td>19.837</td>\n    </tr>\n    <tr>\n      <th>9119</th>\n      <td>14.12.2022</td>\n      <td>18.628</td>\n      <td>19.837</td>\n    </tr>\n    <tr>\n      <th>9120</th>\n      <td>15.12.2022</td>\n      <td>18.642</td>\n      <td>19.852</td>\n    </tr>\n    <tr>\n      <th>9121</th>\n      <td>16.12.2022</td>\n      <td>18.639</td>\n      <td>19.786</td>\n    </tr>\n    <tr>\n      <th>9122</th>\n      <td>19.12.2022</td>\n      <td>18.653</td>\n      <td>19.730</td>\n    </tr>\n  </tbody>\n</table>\n<p>9123 rows × 3 columns</p>\n</div>"
     },
     "execution_count": 287,
     "metadata": {},
     "output_type": "execute_result"
    }
   ],
   "source": [
    "df_exchange"
   ],
   "metadata": {
    "collapsed": false
   }
  },
  {
   "cell_type": "code",
   "execution_count": 288,
   "outputs": [],
   "source": [
    "df_exchange['date'] = pd.to_datetime(df_exchange[\"Date \"], dayfirst=True)"
   ],
   "metadata": {
    "collapsed": false
   }
  },
  {
   "cell_type": "code",
   "execution_count": 289,
   "outputs": [
    {
     "data": {
      "text/plain": "           Date    TL/USD    TL/Euro        date\n0     31.12.1987     0.001        NaN 1987-12-31\n1      1.01.1988     0.001        NaN 1988-01-01\n2      4.01.1988     0.001        NaN 1988-01-04\n3      5.01.1988     0.001        NaN 1988-01-05\n4      6.01.1988     0.001        NaN 1988-01-06\n...          ...       ...        ...        ...\n9118  13.12.2022    18.575     19.837 2022-12-13\n9119  14.12.2022    18.628     19.837 2022-12-14\n9120  15.12.2022    18.642     19.852 2022-12-15\n9121  16.12.2022    18.639     19.786 2022-12-16\n9122  19.12.2022    18.653     19.730 2022-12-19\n\n[9123 rows x 4 columns]",
      "text/html": "<div>\n<style scoped>\n    .dataframe tbody tr th:only-of-type {\n        vertical-align: middle;\n    }\n\n    .dataframe tbody tr th {\n        vertical-align: top;\n    }\n\n    .dataframe thead th {\n        text-align: right;\n    }\n</style>\n<table border=\"1\" class=\"dataframe\">\n  <thead>\n    <tr style=\"text-align: right;\">\n      <th></th>\n      <th>Date</th>\n      <th>TL/USD</th>\n      <th>TL/Euro</th>\n      <th>date</th>\n    </tr>\n  </thead>\n  <tbody>\n    <tr>\n      <th>0</th>\n      <td>31.12.1987</td>\n      <td>0.001</td>\n      <td>NaN</td>\n      <td>1987-12-31</td>\n    </tr>\n    <tr>\n      <th>1</th>\n      <td>1.01.1988</td>\n      <td>0.001</td>\n      <td>NaN</td>\n      <td>1988-01-01</td>\n    </tr>\n    <tr>\n      <th>2</th>\n      <td>4.01.1988</td>\n      <td>0.001</td>\n      <td>NaN</td>\n      <td>1988-01-04</td>\n    </tr>\n    <tr>\n      <th>3</th>\n      <td>5.01.1988</td>\n      <td>0.001</td>\n      <td>NaN</td>\n      <td>1988-01-05</td>\n    </tr>\n    <tr>\n      <th>4</th>\n      <td>6.01.1988</td>\n      <td>0.001</td>\n      <td>NaN</td>\n      <td>1988-01-06</td>\n    </tr>\n    <tr>\n      <th>...</th>\n      <td>...</td>\n      <td>...</td>\n      <td>...</td>\n      <td>...</td>\n    </tr>\n    <tr>\n      <th>9118</th>\n      <td>13.12.2022</td>\n      <td>18.575</td>\n      <td>19.837</td>\n      <td>2022-12-13</td>\n    </tr>\n    <tr>\n      <th>9119</th>\n      <td>14.12.2022</td>\n      <td>18.628</td>\n      <td>19.837</td>\n      <td>2022-12-14</td>\n    </tr>\n    <tr>\n      <th>9120</th>\n      <td>15.12.2022</td>\n      <td>18.642</td>\n      <td>19.852</td>\n      <td>2022-12-15</td>\n    </tr>\n    <tr>\n      <th>9121</th>\n      <td>16.12.2022</td>\n      <td>18.639</td>\n      <td>19.786</td>\n      <td>2022-12-16</td>\n    </tr>\n    <tr>\n      <th>9122</th>\n      <td>19.12.2022</td>\n      <td>18.653</td>\n      <td>19.730</td>\n      <td>2022-12-19</td>\n    </tr>\n  </tbody>\n</table>\n<p>9123 rows × 4 columns</p>\n</div>"
     },
     "execution_count": 289,
     "metadata": {},
     "output_type": "execute_result"
    }
   ],
   "source": [
    "df_exchange"
   ],
   "metadata": {
    "collapsed": false
   }
  },
  {
   "cell_type": "code",
   "execution_count": 290,
   "outputs": [
    {
     "data": {
      "text/plain": "Index(['Date ', ' TL/USD ', ' TL/Euro ', 'date'], dtype='object')"
     },
     "execution_count": 290,
     "metadata": {},
     "output_type": "execute_result"
    }
   ],
   "source": [
    "df_exchange.columns"
   ],
   "metadata": {
    "collapsed": false
   }
  },
  {
   "cell_type": "code",
   "execution_count": 291,
   "outputs": [],
   "source": [
    "df = df.merge(df_exchange, on='date', how='outer').rename(\n",
    "    columns={' TL/USD ': 'usdtry', ' TL/Euro ': 'eurtry'})"
   ],
   "metadata": {
    "collapsed": false
   }
  },
  {
   "cell_type": "code",
   "execution_count": 292,
   "outputs": [
    {
     "data": {
      "text/plain": "            date quarter sp500 sp500cap bist100 bist100cap bistall bistallcap  \\\n0     1964-03-31  1964Q1    79  357,907     NaN        NaN     NaN        NaN   \n1     1964-04-01  1964Q2    79  357,907     NaN        NaN     NaN        NaN   \n2     1964-04-02  1964Q2    80  357,907     NaN        NaN     NaN        NaN   \n3     1964-04-03  1964Q2    80  357,907     NaN        NaN     NaN        NaN   \n4     1964-04-06  1964Q2    80  357,907     NaN        NaN     NaN        NaN   \n...          ...     ...   ...      ...     ...        ...     ...        ...   \n16075 2022-11-06  2022Q4   NaN      NaN     NaN        NaN     NaN        NaN   \n16076 2022-11-12  2022Q4   NaN      NaN     NaN        NaN     NaN        NaN   \n16077 2022-11-13  2022Q4   NaN      NaN     NaN        NaN     NaN        NaN   \n16078 2022-11-19  2022Q4   NaN      NaN     NaN        NaN     NaN        NaN   \n16079 2022-11-20  2022Q4   NaN      NaN     NaN        NaN     NaN        NaN   \n\n            btc      eth gold  rate  cpi Date   usdtry  eurtry  \n0           NaN      NaN  NaN   NaN  NaN   NaN     NaN     NaN  \n1           NaN      NaN  NaN   NaN  NaN   NaN     NaN     NaN  \n2           NaN      NaN  NaN   NaN  NaN   NaN     NaN     NaN  \n3           NaN      NaN  NaN   NaN  NaN   NaN     NaN     NaN  \n4           NaN      NaN  NaN   NaN  NaN   NaN     NaN     NaN  \n...         ...      ...  ...   ...  ...   ...     ...     ...  \n16075   20,926    1,628   NaN   NaN  NaN   NaN     NaN     NaN  \n16076   16,799    1,287   NaN   NaN  NaN   NaN     NaN     NaN  \n16077   16,353    1,255   NaN   NaN  NaN   NaN     NaN     NaN  \n16078   16,712    1,212   NaN   NaN  NaN   NaN     NaN     NaN  \n16079   16,292    1,218   NaN   NaN  NaN   NaN     NaN     NaN  \n\n[16080 rows x 16 columns]",
      "text/html": "<div>\n<style scoped>\n    .dataframe tbody tr th:only-of-type {\n        vertical-align: middle;\n    }\n\n    .dataframe tbody tr th {\n        vertical-align: top;\n    }\n\n    .dataframe thead th {\n        text-align: right;\n    }\n</style>\n<table border=\"1\" class=\"dataframe\">\n  <thead>\n    <tr style=\"text-align: right;\">\n      <th></th>\n      <th>date</th>\n      <th>quarter</th>\n      <th>sp500</th>\n      <th>sp500cap</th>\n      <th>bist100</th>\n      <th>bist100cap</th>\n      <th>bistall</th>\n      <th>bistallcap</th>\n      <th>btc</th>\n      <th>eth</th>\n      <th>gold</th>\n      <th>rate</th>\n      <th>cpi</th>\n      <th>Date</th>\n      <th>usdtry</th>\n      <th>eurtry</th>\n    </tr>\n  </thead>\n  <tbody>\n    <tr>\n      <th>0</th>\n      <td>1964-03-31</td>\n      <td>1964Q1</td>\n      <td>79</td>\n      <td>357,907</td>\n      <td>NaN</td>\n      <td>NaN</td>\n      <td>NaN</td>\n      <td>NaN</td>\n      <td>NaN</td>\n      <td>NaN</td>\n      <td>NaN</td>\n      <td>NaN</td>\n      <td>NaN</td>\n      <td>NaN</td>\n      <td>NaN</td>\n      <td>NaN</td>\n    </tr>\n    <tr>\n      <th>1</th>\n      <td>1964-04-01</td>\n      <td>1964Q2</td>\n      <td>79</td>\n      <td>357,907</td>\n      <td>NaN</td>\n      <td>NaN</td>\n      <td>NaN</td>\n      <td>NaN</td>\n      <td>NaN</td>\n      <td>NaN</td>\n      <td>NaN</td>\n      <td>NaN</td>\n      <td>NaN</td>\n      <td>NaN</td>\n      <td>NaN</td>\n      <td>NaN</td>\n    </tr>\n    <tr>\n      <th>2</th>\n      <td>1964-04-02</td>\n      <td>1964Q2</td>\n      <td>80</td>\n      <td>357,907</td>\n      <td>NaN</td>\n      <td>NaN</td>\n      <td>NaN</td>\n      <td>NaN</td>\n      <td>NaN</td>\n      <td>NaN</td>\n      <td>NaN</td>\n      <td>NaN</td>\n      <td>NaN</td>\n      <td>NaN</td>\n      <td>NaN</td>\n      <td>NaN</td>\n    </tr>\n    <tr>\n      <th>3</th>\n      <td>1964-04-03</td>\n      <td>1964Q2</td>\n      <td>80</td>\n      <td>357,907</td>\n      <td>NaN</td>\n      <td>NaN</td>\n      <td>NaN</td>\n      <td>NaN</td>\n      <td>NaN</td>\n      <td>NaN</td>\n      <td>NaN</td>\n      <td>NaN</td>\n      <td>NaN</td>\n      <td>NaN</td>\n      <td>NaN</td>\n      <td>NaN</td>\n    </tr>\n    <tr>\n      <th>4</th>\n      <td>1964-04-06</td>\n      <td>1964Q2</td>\n      <td>80</td>\n      <td>357,907</td>\n      <td>NaN</td>\n      <td>NaN</td>\n      <td>NaN</td>\n      <td>NaN</td>\n      <td>NaN</td>\n      <td>NaN</td>\n      <td>NaN</td>\n      <td>NaN</td>\n      <td>NaN</td>\n      <td>NaN</td>\n      <td>NaN</td>\n      <td>NaN</td>\n    </tr>\n    <tr>\n      <th>...</th>\n      <td>...</td>\n      <td>...</td>\n      <td>...</td>\n      <td>...</td>\n      <td>...</td>\n      <td>...</td>\n      <td>...</td>\n      <td>...</td>\n      <td>...</td>\n      <td>...</td>\n      <td>...</td>\n      <td>...</td>\n      <td>...</td>\n      <td>...</td>\n      <td>...</td>\n      <td>...</td>\n    </tr>\n    <tr>\n      <th>16075</th>\n      <td>2022-11-06</td>\n      <td>2022Q4</td>\n      <td>NaN</td>\n      <td>NaN</td>\n      <td>NaN</td>\n      <td>NaN</td>\n      <td>NaN</td>\n      <td>NaN</td>\n      <td>20,926</td>\n      <td>1,628</td>\n      <td>NaN</td>\n      <td>NaN</td>\n      <td>NaN</td>\n      <td>NaN</td>\n      <td>NaN</td>\n      <td>NaN</td>\n    </tr>\n    <tr>\n      <th>16076</th>\n      <td>2022-11-12</td>\n      <td>2022Q4</td>\n      <td>NaN</td>\n      <td>NaN</td>\n      <td>NaN</td>\n      <td>NaN</td>\n      <td>NaN</td>\n      <td>NaN</td>\n      <td>16,799</td>\n      <td>1,287</td>\n      <td>NaN</td>\n      <td>NaN</td>\n      <td>NaN</td>\n      <td>NaN</td>\n      <td>NaN</td>\n      <td>NaN</td>\n    </tr>\n    <tr>\n      <th>16077</th>\n      <td>2022-11-13</td>\n      <td>2022Q4</td>\n      <td>NaN</td>\n      <td>NaN</td>\n      <td>NaN</td>\n      <td>NaN</td>\n      <td>NaN</td>\n      <td>NaN</td>\n      <td>16,353</td>\n      <td>1,255</td>\n      <td>NaN</td>\n      <td>NaN</td>\n      <td>NaN</td>\n      <td>NaN</td>\n      <td>NaN</td>\n      <td>NaN</td>\n    </tr>\n    <tr>\n      <th>16078</th>\n      <td>2022-11-19</td>\n      <td>2022Q4</td>\n      <td>NaN</td>\n      <td>NaN</td>\n      <td>NaN</td>\n      <td>NaN</td>\n      <td>NaN</td>\n      <td>NaN</td>\n      <td>16,712</td>\n      <td>1,212</td>\n      <td>NaN</td>\n      <td>NaN</td>\n      <td>NaN</td>\n      <td>NaN</td>\n      <td>NaN</td>\n      <td>NaN</td>\n    </tr>\n    <tr>\n      <th>16079</th>\n      <td>2022-11-20</td>\n      <td>2022Q4</td>\n      <td>NaN</td>\n      <td>NaN</td>\n      <td>NaN</td>\n      <td>NaN</td>\n      <td>NaN</td>\n      <td>NaN</td>\n      <td>16,292</td>\n      <td>1,218</td>\n      <td>NaN</td>\n      <td>NaN</td>\n      <td>NaN</td>\n      <td>NaN</td>\n      <td>NaN</td>\n      <td>NaN</td>\n    </tr>\n  </tbody>\n</table>\n<p>16080 rows × 16 columns</p>\n</div>"
     },
     "execution_count": 292,
     "metadata": {},
     "output_type": "execute_result"
    }
   ],
   "source": [
    "df"
   ],
   "metadata": {
    "collapsed": false
   }
  },
  {
   "cell_type": "code",
   "execution_count": 293,
   "outputs": [],
   "source": [
    "df = df.reindex(columns=[\n",
    "    'date',\n",
    "    'quarter',\n",
    "    'sp500',\n",
    "    'sp500cap',\n",
    "    'bist100',\n",
    "    'bist100cap',\n",
    "    'bistall',\n",
    "    'bistallcap',\n",
    "    'btc',\n",
    "    'eth',\n",
    "    'gold',\n",
    "    'rate',\n",
    "    'cpi',\n",
    "    'usdtry',\n",
    "    'eurtry'\n",
    "])"
   ],
   "metadata": {
    "collapsed": false
   }
  },
  {
   "cell_type": "code",
   "execution_count": 294,
   "outputs": [
    {
     "data": {
      "text/plain": "            date quarter sp500 sp500cap bist100 bist100cap bistall bistallcap  \\\n0     1964-03-31  1964Q1    79  357,907     NaN        NaN     NaN        NaN   \n1     1964-04-01  1964Q2    79  357,907     NaN        NaN     NaN        NaN   \n2     1964-04-02  1964Q2    80  357,907     NaN        NaN     NaN        NaN   \n3     1964-04-03  1964Q2    80  357,907     NaN        NaN     NaN        NaN   \n4     1964-04-06  1964Q2    80  357,907     NaN        NaN     NaN        NaN   \n...          ...     ...   ...      ...     ...        ...     ...        ...   \n16075 2022-11-06  2022Q4   NaN      NaN     NaN        NaN     NaN        NaN   \n16076 2022-11-12  2022Q4   NaN      NaN     NaN        NaN     NaN        NaN   \n16077 2022-11-13  2022Q4   NaN      NaN     NaN        NaN     NaN        NaN   \n16078 2022-11-19  2022Q4   NaN      NaN     NaN        NaN     NaN        NaN   \n16079 2022-11-20  2022Q4   NaN      NaN     NaN        NaN     NaN        NaN   \n\n            btc      eth gold  rate  cpi  usdtry  eurtry  \n0           NaN      NaN  NaN   NaN  NaN     NaN     NaN  \n1           NaN      NaN  NaN   NaN  NaN     NaN     NaN  \n2           NaN      NaN  NaN   NaN  NaN     NaN     NaN  \n3           NaN      NaN  NaN   NaN  NaN     NaN     NaN  \n4           NaN      NaN  NaN   NaN  NaN     NaN     NaN  \n...         ...      ...  ...   ...  ...     ...     ...  \n16075   20,926    1,628   NaN   NaN  NaN     NaN     NaN  \n16076   16,799    1,287   NaN   NaN  NaN     NaN     NaN  \n16077   16,353    1,255   NaN   NaN  NaN     NaN     NaN  \n16078   16,712    1,212   NaN   NaN  NaN     NaN     NaN  \n16079   16,292    1,218   NaN   NaN  NaN     NaN     NaN  \n\n[16080 rows x 15 columns]",
      "text/html": "<div>\n<style scoped>\n    .dataframe tbody tr th:only-of-type {\n        vertical-align: middle;\n    }\n\n    .dataframe tbody tr th {\n        vertical-align: top;\n    }\n\n    .dataframe thead th {\n        text-align: right;\n    }\n</style>\n<table border=\"1\" class=\"dataframe\">\n  <thead>\n    <tr style=\"text-align: right;\">\n      <th></th>\n      <th>date</th>\n      <th>quarter</th>\n      <th>sp500</th>\n      <th>sp500cap</th>\n      <th>bist100</th>\n      <th>bist100cap</th>\n      <th>bistall</th>\n      <th>bistallcap</th>\n      <th>btc</th>\n      <th>eth</th>\n      <th>gold</th>\n      <th>rate</th>\n      <th>cpi</th>\n      <th>usdtry</th>\n      <th>eurtry</th>\n    </tr>\n  </thead>\n  <tbody>\n    <tr>\n      <th>0</th>\n      <td>1964-03-31</td>\n      <td>1964Q1</td>\n      <td>79</td>\n      <td>357,907</td>\n      <td>NaN</td>\n      <td>NaN</td>\n      <td>NaN</td>\n      <td>NaN</td>\n      <td>NaN</td>\n      <td>NaN</td>\n      <td>NaN</td>\n      <td>NaN</td>\n      <td>NaN</td>\n      <td>NaN</td>\n      <td>NaN</td>\n    </tr>\n    <tr>\n      <th>1</th>\n      <td>1964-04-01</td>\n      <td>1964Q2</td>\n      <td>79</td>\n      <td>357,907</td>\n      <td>NaN</td>\n      <td>NaN</td>\n      <td>NaN</td>\n      <td>NaN</td>\n      <td>NaN</td>\n      <td>NaN</td>\n      <td>NaN</td>\n      <td>NaN</td>\n      <td>NaN</td>\n      <td>NaN</td>\n      <td>NaN</td>\n    </tr>\n    <tr>\n      <th>2</th>\n      <td>1964-04-02</td>\n      <td>1964Q2</td>\n      <td>80</td>\n      <td>357,907</td>\n      <td>NaN</td>\n      <td>NaN</td>\n      <td>NaN</td>\n      <td>NaN</td>\n      <td>NaN</td>\n      <td>NaN</td>\n      <td>NaN</td>\n      <td>NaN</td>\n      <td>NaN</td>\n      <td>NaN</td>\n      <td>NaN</td>\n    </tr>\n    <tr>\n      <th>3</th>\n      <td>1964-04-03</td>\n      <td>1964Q2</td>\n      <td>80</td>\n      <td>357,907</td>\n      <td>NaN</td>\n      <td>NaN</td>\n      <td>NaN</td>\n      <td>NaN</td>\n      <td>NaN</td>\n      <td>NaN</td>\n      <td>NaN</td>\n      <td>NaN</td>\n      <td>NaN</td>\n      <td>NaN</td>\n      <td>NaN</td>\n    </tr>\n    <tr>\n      <th>4</th>\n      <td>1964-04-06</td>\n      <td>1964Q2</td>\n      <td>80</td>\n      <td>357,907</td>\n      <td>NaN</td>\n      <td>NaN</td>\n      <td>NaN</td>\n      <td>NaN</td>\n      <td>NaN</td>\n      <td>NaN</td>\n      <td>NaN</td>\n      <td>NaN</td>\n      <td>NaN</td>\n      <td>NaN</td>\n      <td>NaN</td>\n    </tr>\n    <tr>\n      <th>...</th>\n      <td>...</td>\n      <td>...</td>\n      <td>...</td>\n      <td>...</td>\n      <td>...</td>\n      <td>...</td>\n      <td>...</td>\n      <td>...</td>\n      <td>...</td>\n      <td>...</td>\n      <td>...</td>\n      <td>...</td>\n      <td>...</td>\n      <td>...</td>\n      <td>...</td>\n    </tr>\n    <tr>\n      <th>16075</th>\n      <td>2022-11-06</td>\n      <td>2022Q4</td>\n      <td>NaN</td>\n      <td>NaN</td>\n      <td>NaN</td>\n      <td>NaN</td>\n      <td>NaN</td>\n      <td>NaN</td>\n      <td>20,926</td>\n      <td>1,628</td>\n      <td>NaN</td>\n      <td>NaN</td>\n      <td>NaN</td>\n      <td>NaN</td>\n      <td>NaN</td>\n    </tr>\n    <tr>\n      <th>16076</th>\n      <td>2022-11-12</td>\n      <td>2022Q4</td>\n      <td>NaN</td>\n      <td>NaN</td>\n      <td>NaN</td>\n      <td>NaN</td>\n      <td>NaN</td>\n      <td>NaN</td>\n      <td>16,799</td>\n      <td>1,287</td>\n      <td>NaN</td>\n      <td>NaN</td>\n      <td>NaN</td>\n      <td>NaN</td>\n      <td>NaN</td>\n    </tr>\n    <tr>\n      <th>16077</th>\n      <td>2022-11-13</td>\n      <td>2022Q4</td>\n      <td>NaN</td>\n      <td>NaN</td>\n      <td>NaN</td>\n      <td>NaN</td>\n      <td>NaN</td>\n      <td>NaN</td>\n      <td>16,353</td>\n      <td>1,255</td>\n      <td>NaN</td>\n      <td>NaN</td>\n      <td>NaN</td>\n      <td>NaN</td>\n      <td>NaN</td>\n    </tr>\n    <tr>\n      <th>16078</th>\n      <td>2022-11-19</td>\n      <td>2022Q4</td>\n      <td>NaN</td>\n      <td>NaN</td>\n      <td>NaN</td>\n      <td>NaN</td>\n      <td>NaN</td>\n      <td>NaN</td>\n      <td>16,712</td>\n      <td>1,212</td>\n      <td>NaN</td>\n      <td>NaN</td>\n      <td>NaN</td>\n      <td>NaN</td>\n      <td>NaN</td>\n    </tr>\n    <tr>\n      <th>16079</th>\n      <td>2022-11-20</td>\n      <td>2022Q4</td>\n      <td>NaN</td>\n      <td>NaN</td>\n      <td>NaN</td>\n      <td>NaN</td>\n      <td>NaN</td>\n      <td>NaN</td>\n      <td>16,292</td>\n      <td>1,218</td>\n      <td>NaN</td>\n      <td>NaN</td>\n      <td>NaN</td>\n      <td>NaN</td>\n      <td>NaN</td>\n    </tr>\n  </tbody>\n</table>\n<p>16080 rows × 15 columns</p>\n</div>"
     },
     "execution_count": 294,
     "metadata": {},
     "output_type": "execute_result"
    }
   ],
   "source": [
    "df"
   ],
   "metadata": {
    "collapsed": false
   }
  },
  {
   "cell_type": "code",
   "execution_count": 295,
   "outputs": [
    {
     "data": {
      "text/plain": "Index(['date', 'quarter', 'sp500', 'sp500cap', 'bist100', 'bist100cap',\n       'bistall', 'bistallcap', 'btc', 'eth', 'gold', 'rate', 'cpi', 'usdtry',\n       'eurtry'],\n      dtype='object')"
     },
     "execution_count": 295,
     "metadata": {},
     "output_type": "execute_result"
    }
   ],
   "source": [
    "df.columns"
   ],
   "metadata": {
    "collapsed": false
   }
  },
  {
   "cell_type": "code",
   "execution_count": 296,
   "outputs": [],
   "source": [
    "data_csv = data_dir / 'data.csv'\n",
    "data_hdf = data_dir / 'data.hdf5'"
   ],
   "metadata": {
    "collapsed": false
   }
  },
  {
   "cell_type": "code",
   "execution_count": 297,
   "outputs": [],
   "source": [
    "df.to_csv(data_csv, index=False)"
   ],
   "metadata": {
    "collapsed": false
   }
  },
  {
   "cell_type": "code",
   "execution_count": 298,
   "outputs": [],
   "source": [
    "# write data to sqlite3"
   ],
   "metadata": {
    "collapsed": false
   }
  },
  {
   "cell_type": "code",
   "execution_count": 299,
   "outputs": [
    {
     "data": {
      "text/plain": "'\\nimport pandas as pd\\nimport sqlite3 as sq\\n\\ntable_name = \"data\" # table and file name\\n\\nconn = sq.connect(\\'{}.sqlite\\'.format(table_name)) # creates file\\ndf.to_sql(table_name, conn, if_exists=\\'replace\\', index=False) # writes to file\\nconn.close() # good practice: close connection\\n'"
     },
     "execution_count": 299,
     "metadata": {},
     "output_type": "execute_result"
    }
   ],
   "source": [
    "'''\n",
    "import pandas as pd\n",
    "import sqlite3 as sq\n",
    "\n",
    "table_name = \"data\" # table and file name\n",
    "\n",
    "conn = sq.connect('{}.sqlite'.format(table_name)) # creates file\n",
    "df.to_sql(table_name, conn, if_exists='replace', index=False) # writes to file\n",
    "conn.close() # good practice: close connection\n",
    "'''"
   ],
   "metadata": {
    "collapsed": false
   }
  },
  {
   "cell_type": "code",
   "execution_count": null,
   "outputs": [],
   "source": [],
   "metadata": {
    "collapsed": false
   }
  },
  {
   "cell_type": "code",
   "execution_count": 300,
   "outputs": [
    {
     "data": {
      "text/plain": "\"\\nconn = sq.connect('{}.sqlite'.format(table_name))\\ndf = pd.read_sql('select * from {}'.format(table_name), conn)\\nconn.close()\\n\""
     },
     "execution_count": 300,
     "metadata": {},
     "output_type": "execute_result"
    }
   ],
   "source": [
    "# to read data\n",
    "'''\n",
    "conn = sq.connect('{}.sqlite'.format(table_name))\n",
    "df = pd.read_sql('select * from {}'.format(table_name), conn)\n",
    "conn.close()\n",
    "'''"
   ],
   "metadata": {
    "collapsed": false
   }
  },
  {
   "cell_type": "code",
   "execution_count": 300,
   "outputs": [],
   "source": [],
   "metadata": {
    "collapsed": false
   }
  }
 ],
 "metadata": {
  "kernelspec": {
   "display_name": "Python 3",
   "language": "python",
   "name": "python3"
  },
  "language_info": {
   "codemirror_mode": {
    "name": "ipython",
    "version": 2
   },
   "file_extension": ".py",
   "mimetype": "text/x-python",
   "name": "python",
   "nbconvert_exporter": "python",
   "pygments_lexer": "ipython2",
   "version": "2.7.6"
  }
 },
 "nbformat": 4,
 "nbformat_minor": 0
}
