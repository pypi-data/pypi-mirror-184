{
 "cells": [
  {
   "cell_type": "code",
   "execution_count": 2,
   "metadata": {
    "collapsed": true
   },
   "outputs": [],
   "source": [
    "import logging\n",
    "\n",
    "from matplotlib import pyplot as plt\n",
    "\n",
    "logging.basicConfig(level=logging.ERROR)  # default logging for other libraries\n",
    "logging.getLogger('fe507').level = logging.DEBUG\n",
    "from fe507 import Data, Collection, DataSource, settings, CollectionGroup\n",
    "\n",
    "settings.data_dir = \"../data\""
   ]
  },
  {
   "cell_type": "code",
   "execution_count": 3,
   "outputs": [
    {
     "name": "stderr",
     "output_type": "stream",
     "text": [
      "DEBUG:fe507.utils:Set up \"data_dir\" as: ../data\n",
      "DEBUG:fe507.utils:working on file: /Users/azat/Developer/Learn/FE507-report/data/SP500.xlsx\n",
      "DEBUG:fe507.utils:read dataframe from excel as: \n",
      "['Date', 'Index', 'Market cap (m$)', 'Unnamed: 3', 'Unnamed: 4', 'Unnamed: 5', 'Unnamed: 6', 'Unnamed: 7', 'Unnamed: 8', 'Unnamed: 9', 'Unnamed: 10', 'Unnamed: 11', 'Unnamed: 12', 'Unnamed: 13', 'Unnamed: 14', 'Unnamed: 15', 'Unnamed: 16', 'Unnamed: 17', 'Unnamed: 18', 'Unnamed: 19', 'Unnamed: 20', 'Unnamed: 21', 'Unnamed: 22', 'Unnamed: 23', 'Unnamed: 24', 'Unnamed: 25', 'Unnamed: 26', 'Unnamed: 27', 'Unnamed: 28', 'Unnamed: 29', 'Unnamed: 30', 'Unnamed: 31', 'Unnamed: 32', 'Unnamed: 33', 'Unnamed: 34', 'Unnamed: 35', 'Unnamed: 36', 'Unnamed: 37', 'Unnamed: 38', 'Unnamed: 39', 'Unnamed: 40', 'Unnamed: 41', 'Unnamed: 42', 'Unnamed: 43', 'Unnamed: 44', 'Unnamed: 45', 'Unnamed: 46', 'Unnamed: 47', 'Unnamed: 48', 'Unnamed: 49', 'Unnamed: 50', 'Unnamed: 51', 'Unnamed: 52', 'Unnamed: 53', 'Unnamed: 54', 'Unnamed: 55', 'Unnamed: 56', 'Unnamed: 57', 'Unnamed: 58', 'Unnamed: 59', 'Unnamed: 60', 'Unnamed: 61', 'Unnamed: 62', 'Unnamed: 63', 'Unnamed: 64', 'Unnamed: 65', 'Unnamed: 66', 'Unnamed: 67', 'Unnamed: 68', 'Unnamed: 69', 'Unnamed: 70', 'Unnamed: 71', 'Unnamed: 72', 'Unnamed: 73', 'Unnamed: 74', 'Unnamed: 75', 'Unnamed: 76', 'Unnamed: 77', 'Unnamed: 78', 'Unnamed: 79', 'Unnamed: 80', 'Unnamed: 81', 'Unnamed: 82', 'Unnamed: 83', 'Unnamed: 84', 'Unnamed: 85', 'Unnamed: 86', 'Unnamed: 87', 'Unnamed: 88', 'Unnamed: 89', 'Unnamed: 90', 'Unnamed: 91', 'Unnamed: 92', 'Unnamed: 93', 'Unnamed: 94', 'Unnamed: 95', 'Unnamed: 96', 'Unnamed: 97', 'Unnamed: 98', 'Unnamed: 99', 'Unnamed: 100', 'Unnamed: 101', 'Unnamed: 102', 'Unnamed: 103', 'Unnamed: 104', 'Unnamed: 105', 'Unnamed: 106', 'Unnamed: 107', 'Unnamed: 108', 'Unnamed: 109', 'Unnamed: 110', 'Unnamed: 111', 'Unnamed: 112', 'Unnamed: 113', 'Unnamed: 114', 'Unnamed: 115', 'Unnamed: 116', 'Unnamed: 117', 'Unnamed: 118', 'Unnamed: 119', 'Unnamed: 120', 'Unnamed: 121', 'Unnamed: 122', 'Unnamed: 123', 'Unnamed: 124', 'Unnamed: 125', 'Unnamed: 126', 'Unnamed: 127', 'Unnamed: 128', 'Unnamed: 129', 'Unnamed: 130', 'Unnamed: 131', 'Unnamed: 132', 'Unnamed: 133', 'Unnamed: 134', 'Unnamed: 135', 'Unnamed: 136', 'Unnamed: 137', 'Unnamed: 138', 'Unnamed: 139', 'Unnamed: 140', 'Unnamed: 141', 'Unnamed: 142', 'Unnamed: 143', 'Unnamed: 144', 'Unnamed: 145', 'Unnamed: 146', 'Unnamed: 147', 'Unnamed: 148', 'Unnamed: 149', 'Unnamed: 150', 'Unnamed: 151', 'Unnamed: 152', 'Unnamed: 153', 'Unnamed: 154', 'Unnamed: 155', 'Unnamed: 156', 'Unnamed: 157', 'Unnamed: 158', 'Unnamed: 159', 'Unnamed: 160', 'Unnamed: 161', 'Unnamed: 162', 'Unnamed: 163', 'Unnamed: 164', 'Unnamed: 165', 'Unnamed: 166', 'Unnamed: 167', 'Unnamed: 168', 'Unnamed: 169', 'Unnamed: 170', 'Unnamed: 171', 'Unnamed: 172', 'Unnamed: 173', 'Unnamed: 174', 'Unnamed: 175', 'Unnamed: 176', 'Unnamed: 177', 'Unnamed: 178', 'Unnamed: 179', 'Unnamed: 180', 'Unnamed: 181', 'Unnamed: 182', 'Unnamed: 183', 'Unnamed: 184', 'Unnamed: 185', 'Unnamed: 186', 'Unnamed: 187', 'Unnamed: 188', 'Unnamed: 189', 'Unnamed: 190', 'Unnamed: 191', 'Unnamed: 192', 'Unnamed: 193', 'Unnamed: 194', 'Unnamed: 195', 'Unnamed: 196', 'Unnamed: 197', 'Unnamed: 198', 'Unnamed: 199', 'Unnamed: 200', 'Unnamed: 201', 'Unnamed: 202', 'Unnamed: 203', 'Unnamed: 204', 'Unnamed: 205', 'Unnamed: 206', 'Unnamed: 207', 'Unnamed: 208', 'Unnamed: 209', 'Unnamed: 210', 'Unnamed: 211', 'Unnamed: 212', 'Unnamed: 213', 'Unnamed: 214', 'Unnamed: 215']\n",
      "DEBUG:fe507.utils:handling source specific fields for DataSource.SP500\n",
      "DEBUG:fe507.utils:Set up \"data_dir\" as: ../data\n",
      "DEBUG:fe507.utils:working on file: /Users/azat/Developer/Learn/FE507-report/data/BIST100.xlsx\n",
      "DEBUG:fe507.utils:read dataframe from excel as: \n",
      "['Date', 'Index', 'Market cap (m TL)']\n",
      "DEBUG:fe507.utils:handling source specific fields for DataSource.BIST100\n"
     ]
    }
   ],
   "source": [
    "sp500 = Data(DataSource.SP500)\n",
    "b100 = Data(DataSource.BIST100)"
   ],
   "metadata": {
    "collapsed": false
   }
  },
  {
   "cell_type": "code",
   "execution_count": 4,
   "outputs": [],
   "source": [
    "year_range = {\n",
    "    \"from_year\": 2019,\n",
    "    \"to_year\": 2022\n",
    "}"
   ],
   "metadata": {
    "collapsed": false
   }
  },
  {
   "cell_type": "code",
   "execution_count": 12,
   "outputs": [],
   "source": [
    "csp = Collection(sp500.data, name=\"S&P500\")\n",
    "cb1 = Collection(b100.data, name=\"BIST100\")"
   ],
   "metadata": {
    "collapsed": false
   }
  },
  {
   "cell_type": "code",
   "execution_count": 13,
   "outputs": [
    {
     "data": {
      "text/plain": "                 Date    Index  Market cap (m$)       date quarter\ndate                                                              \n1964-03-31 1964-03-31    78.98         357907.0 1964-03-31  1964Q1\n1964-04-01 1964-04-01    79.24         357907.0 1964-04-01  1964Q2\n1964-04-02 1964-04-02    79.70         357907.0 1964-04-02  1964Q2\n1964-04-03 1964-04-03    79.94         357907.0 1964-04-03  1964Q2\n1964-04-06 1964-04-06    80.02         357907.0 1964-04-06  1964Q2\n...               ...      ...              ...        ...     ...\n2022-12-12 2022-12-12  3990.56       33536670.0 2022-12-12  2022Q4\n2022-12-13 2022-12-13  4019.65       33781200.0 2022-12-13  2022Q4\n2022-12-14 2022-12-14  3995.32       33576690.0 2022-12-14  2022Q4\n2022-12-15 2022-12-15  3895.75       32739940.0 2022-12-15  2022Q4\n2022-12-16 2022-12-16  3852.36       32375300.0 2022-12-16  2022Q4\n\n[15319 rows x 5 columns]",
      "text/html": "<div>\n<style scoped>\n    .dataframe tbody tr th:only-of-type {\n        vertical-align: middle;\n    }\n\n    .dataframe tbody tr th {\n        vertical-align: top;\n    }\n\n    .dataframe thead th {\n        text-align: right;\n    }\n</style>\n<table border=\"1\" class=\"dataframe\">\n  <thead>\n    <tr style=\"text-align: right;\">\n      <th></th>\n      <th>Date</th>\n      <th>Index</th>\n      <th>Market cap (m$)</th>\n      <th>date</th>\n      <th>quarter</th>\n    </tr>\n    <tr>\n      <th>date</th>\n      <th></th>\n      <th></th>\n      <th></th>\n      <th></th>\n      <th></th>\n    </tr>\n  </thead>\n  <tbody>\n    <tr>\n      <th>1964-03-31</th>\n      <td>1964-03-31</td>\n      <td>78.98</td>\n      <td>357907.0</td>\n      <td>1964-03-31</td>\n      <td>1964Q1</td>\n    </tr>\n    <tr>\n      <th>1964-04-01</th>\n      <td>1964-04-01</td>\n      <td>79.24</td>\n      <td>357907.0</td>\n      <td>1964-04-01</td>\n      <td>1964Q2</td>\n    </tr>\n    <tr>\n      <th>1964-04-02</th>\n      <td>1964-04-02</td>\n      <td>79.70</td>\n      <td>357907.0</td>\n      <td>1964-04-02</td>\n      <td>1964Q2</td>\n    </tr>\n    <tr>\n      <th>1964-04-03</th>\n      <td>1964-04-03</td>\n      <td>79.94</td>\n      <td>357907.0</td>\n      <td>1964-04-03</td>\n      <td>1964Q2</td>\n    </tr>\n    <tr>\n      <th>1964-04-06</th>\n      <td>1964-04-06</td>\n      <td>80.02</td>\n      <td>357907.0</td>\n      <td>1964-04-06</td>\n      <td>1964Q2</td>\n    </tr>\n    <tr>\n      <th>...</th>\n      <td>...</td>\n      <td>...</td>\n      <td>...</td>\n      <td>...</td>\n      <td>...</td>\n    </tr>\n    <tr>\n      <th>2022-12-12</th>\n      <td>2022-12-12</td>\n      <td>3990.56</td>\n      <td>33536670.0</td>\n      <td>2022-12-12</td>\n      <td>2022Q4</td>\n    </tr>\n    <tr>\n      <th>2022-12-13</th>\n      <td>2022-12-13</td>\n      <td>4019.65</td>\n      <td>33781200.0</td>\n      <td>2022-12-13</td>\n      <td>2022Q4</td>\n    </tr>\n    <tr>\n      <th>2022-12-14</th>\n      <td>2022-12-14</td>\n      <td>3995.32</td>\n      <td>33576690.0</td>\n      <td>2022-12-14</td>\n      <td>2022Q4</td>\n    </tr>\n    <tr>\n      <th>2022-12-15</th>\n      <td>2022-12-15</td>\n      <td>3895.75</td>\n      <td>32739940.0</td>\n      <td>2022-12-15</td>\n      <td>2022Q4</td>\n    </tr>\n    <tr>\n      <th>2022-12-16</th>\n      <td>2022-12-16</td>\n      <td>3852.36</td>\n      <td>32375300.0</td>\n      <td>2022-12-16</td>\n      <td>2022Q4</td>\n    </tr>\n  </tbody>\n</table>\n<p>15319 rows × 5 columns</p>\n</div>"
     },
     "execution_count": 13,
     "metadata": {},
     "output_type": "execute_result"
    }
   ],
   "source": [
    "csp.raw"
   ],
   "metadata": {
    "collapsed": false
   }
  },
  {
   "cell_type": "code",
   "execution_count": 14,
   "outputs": [
    {
     "data": {
      "text/plain": "                 Date    Index  Market cap (m TL)       date quarter\ndate                                                                \n1988-01-04 1988-01-04     0.07                1.0 1988-01-04  1988Q1\n1988-01-05 1988-01-05     0.07                1.0 1988-01-05  1988Q1\n1988-01-06 1988-01-06     0.07                1.0 1988-01-06  1988Q1\n1988-01-07 1988-01-07     0.07                1.0 1988-01-07  1988Q1\n1988-01-08 1988-01-08     0.07                1.0 1988-01-08  1988Q1\n...               ...      ...                ...        ...     ...\n2022-12-13 2022-12-13  5256.19          4209786.0 2022-12-13  2022Q4\n2022-12-14 2022-12-14  5066.50          4067326.0 2022-12-14  2022Q4\n2022-12-15 2022-12-15  5188.82          4180713.0 2022-12-15  2022Q4\n2022-12-16 2022-12-16  5214.29          4220547.0 2022-12-16  2022Q4\n2022-12-19 2022-12-19  5391.91          4369087.0 2022-12-19  2022Q4\n\n[9121 rows x 5 columns]",
      "text/html": "<div>\n<style scoped>\n    .dataframe tbody tr th:only-of-type {\n        vertical-align: middle;\n    }\n\n    .dataframe tbody tr th {\n        vertical-align: top;\n    }\n\n    .dataframe thead th {\n        text-align: right;\n    }\n</style>\n<table border=\"1\" class=\"dataframe\">\n  <thead>\n    <tr style=\"text-align: right;\">\n      <th></th>\n      <th>Date</th>\n      <th>Index</th>\n      <th>Market cap (m TL)</th>\n      <th>date</th>\n      <th>quarter</th>\n    </tr>\n    <tr>\n      <th>date</th>\n      <th></th>\n      <th></th>\n      <th></th>\n      <th></th>\n      <th></th>\n    </tr>\n  </thead>\n  <tbody>\n    <tr>\n      <th>1988-01-04</th>\n      <td>1988-01-04</td>\n      <td>0.07</td>\n      <td>1.0</td>\n      <td>1988-01-04</td>\n      <td>1988Q1</td>\n    </tr>\n    <tr>\n      <th>1988-01-05</th>\n      <td>1988-01-05</td>\n      <td>0.07</td>\n      <td>1.0</td>\n      <td>1988-01-05</td>\n      <td>1988Q1</td>\n    </tr>\n    <tr>\n      <th>1988-01-06</th>\n      <td>1988-01-06</td>\n      <td>0.07</td>\n      <td>1.0</td>\n      <td>1988-01-06</td>\n      <td>1988Q1</td>\n    </tr>\n    <tr>\n      <th>1988-01-07</th>\n      <td>1988-01-07</td>\n      <td>0.07</td>\n      <td>1.0</td>\n      <td>1988-01-07</td>\n      <td>1988Q1</td>\n    </tr>\n    <tr>\n      <th>1988-01-08</th>\n      <td>1988-01-08</td>\n      <td>0.07</td>\n      <td>1.0</td>\n      <td>1988-01-08</td>\n      <td>1988Q1</td>\n    </tr>\n    <tr>\n      <th>...</th>\n      <td>...</td>\n      <td>...</td>\n      <td>...</td>\n      <td>...</td>\n      <td>...</td>\n    </tr>\n    <tr>\n      <th>2022-12-13</th>\n      <td>2022-12-13</td>\n      <td>5256.19</td>\n      <td>4209786.0</td>\n      <td>2022-12-13</td>\n      <td>2022Q4</td>\n    </tr>\n    <tr>\n      <th>2022-12-14</th>\n      <td>2022-12-14</td>\n      <td>5066.50</td>\n      <td>4067326.0</td>\n      <td>2022-12-14</td>\n      <td>2022Q4</td>\n    </tr>\n    <tr>\n      <th>2022-12-15</th>\n      <td>2022-12-15</td>\n      <td>5188.82</td>\n      <td>4180713.0</td>\n      <td>2022-12-15</td>\n      <td>2022Q4</td>\n    </tr>\n    <tr>\n      <th>2022-12-16</th>\n      <td>2022-12-16</td>\n      <td>5214.29</td>\n      <td>4220547.0</td>\n      <td>2022-12-16</td>\n      <td>2022Q4</td>\n    </tr>\n    <tr>\n      <th>2022-12-19</th>\n      <td>2022-12-19</td>\n      <td>5391.91</td>\n      <td>4369087.0</td>\n      <td>2022-12-19</td>\n      <td>2022Q4</td>\n    </tr>\n  </tbody>\n</table>\n<p>9121 rows × 5 columns</p>\n</div>"
     },
     "execution_count": 14,
     "metadata": {},
     "output_type": "execute_result"
    }
   ],
   "source": [
    "cb1.raw"
   ],
   "metadata": {
    "collapsed": false
   }
  },
  {
   "cell_type": "code",
   "execution_count": 16,
   "outputs": [
    {
     "name": "stderr",
     "output_type": "stream",
     "text": [
      "/Users/azat/Developer/SDKs/dataspell/lib/python3.10/site-packages/pandas/core/arraylike.py:402: RuntimeWarning: divide by zero encountered in log\n",
      "  result = getattr(ufunc, method)(*inputs, **kwargs)\n",
      "/Users/azat/Developer/SDKs/dataspell/lib/python3.10/site-packages/pandas/core/arraylike.py:402: RuntimeWarning: invalid value encountered in log\n",
      "  result = getattr(ufunc, method)(*inputs, **kwargs)\n"
     ]
    },
    {
     "data": {
      "text/plain": "               Index  Market cap (m$)\ndate                                 \n1964-03-31       NaN              NaN\n1964-04-02  0.566006              NaN\n1964-04-03 -0.654984              NaN\n1964-04-06 -1.100615              NaN\n1964-04-15 -0.790459              NaN\n...              ...              ...\n2022-12-06 -0.219080        -0.219039\n2022-12-07 -2.051644        -2.052071\n2022-12-13 -0.668881        -0.668653\n2022-12-15  1.424780         1.424538\n2022-12-16 -0.812392        -0.812375\n\n[7409 rows x 2 columns]",
      "text/html": "<div>\n<style scoped>\n    .dataframe tbody tr th:only-of-type {\n        vertical-align: middle;\n    }\n\n    .dataframe tbody tr th {\n        vertical-align: top;\n    }\n\n    .dataframe thead th {\n        text-align: right;\n    }\n</style>\n<table border=\"1\" class=\"dataframe\">\n  <thead>\n    <tr style=\"text-align: right;\">\n      <th></th>\n      <th>Index</th>\n      <th>Market cap (m$)</th>\n    </tr>\n    <tr>\n      <th>date</th>\n      <th></th>\n      <th></th>\n    </tr>\n  </thead>\n  <tbody>\n    <tr>\n      <th>1964-03-31</th>\n      <td>NaN</td>\n      <td>NaN</td>\n    </tr>\n    <tr>\n      <th>1964-04-02</th>\n      <td>0.566006</td>\n      <td>NaN</td>\n    </tr>\n    <tr>\n      <th>1964-04-03</th>\n      <td>-0.654984</td>\n      <td>NaN</td>\n    </tr>\n    <tr>\n      <th>1964-04-06</th>\n      <td>-1.100615</td>\n      <td>NaN</td>\n    </tr>\n    <tr>\n      <th>1964-04-15</th>\n      <td>-0.790459</td>\n      <td>NaN</td>\n    </tr>\n    <tr>\n      <th>...</th>\n      <td>...</td>\n      <td>...</td>\n    </tr>\n    <tr>\n      <th>2022-12-06</th>\n      <td>-0.219080</td>\n      <td>-0.219039</td>\n    </tr>\n    <tr>\n      <th>2022-12-07</th>\n      <td>-2.051644</td>\n      <td>-2.052071</td>\n    </tr>\n    <tr>\n      <th>2022-12-13</th>\n      <td>-0.668881</td>\n      <td>-0.668653</td>\n    </tr>\n    <tr>\n      <th>2022-12-15</th>\n      <td>1.424780</td>\n      <td>1.424538</td>\n    </tr>\n    <tr>\n      <th>2022-12-16</th>\n      <td>-0.812392</td>\n      <td>-0.812375</td>\n    </tr>\n  </tbody>\n</table>\n<p>7409 rows × 2 columns</p>\n</div>"
     },
     "execution_count": 16,
     "metadata": {},
     "output_type": "execute_result"
    }
   ],
   "source": [],
   "metadata": {
    "collapsed": false
   }
  },
  {
   "cell_type": "code",
   "execution_count": 9,
   "outputs": [
    {
     "data": {
      "text/plain": "Collection(S&P500)"
     },
     "execution_count": 9,
     "metadata": {},
     "output_type": "execute_result"
    }
   ],
   "source": [],
   "metadata": {
    "collapsed": false
   }
  },
  {
   "cell_type": "code",
   "execution_count": null,
   "outputs": [],
   "source": [],
   "metadata": {
    "collapsed": false
   }
  }
 ],
 "metadata": {
  "kernelspec": {
   "display_name": "Python 3",
   "language": "python",
   "name": "python3"
  },
  "language_info": {
   "codemirror_mode": {
    "name": "ipython",
    "version": 2
   },
   "file_extension": ".py",
   "mimetype": "text/x-python",
   "name": "python",
   "nbconvert_exporter": "python",
   "pygments_lexer": "ipython2",
   "version": "2.7.6"
  }
 },
 "nbformat": 4,
 "nbformat_minor": 0
}
