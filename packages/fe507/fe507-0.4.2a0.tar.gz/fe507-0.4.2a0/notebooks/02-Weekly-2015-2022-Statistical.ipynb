{
 "cells": [
  {
   "cell_type": "markdown",
   "metadata": {},
   "source": [
    "# 02-Weekly-2015-2022-Statistical"
   ]
  },
  {
   "cell_type": "code",
   "execution_count": 1,
   "metadata": {},
   "outputs": [],
   "source": [
    "import logging\n",
    "\n",
    "from matplotlib import pyplot as plt\n",
    "\n",
    "logging.basicConfig(level=logging.ERROR)  # default logging for other libraries\n",
    "logging.getLogger('fe507').level = logging.DEBUG\n",
    "from fe507 import Data, Collection, DataSource, settings, CollectionGroup\n",
    "\n",
    "settings.data_dir = \"../data\""
   ]
  },
  {
   "cell_type": "code",
   "execution_count": 2,
   "metadata": {},
   "outputs": [
    {
     "name": "stderr",
     "output_type": "stream",
     "text": [
      "DEBUG:fe507.utils:Set up \"data_dir\" as: ../data\n",
      "DEBUG:fe507.utils:working on file: /Users/azat/Developer/Learn/FE507-report/data/EXCHANGE.xlsx\n",
      "DEBUG:fe507.utils:read dataframe from excel as: \n",
      "['Date', 'TL/USD', 'TL/Euro']\n",
      "DEBUG:fe507.utils:handling source specific fields for DataSource.EXCHANGE_RATES\n",
      "DEBUG:fe507.utils:Set up \"data_dir\" as: ../data\n",
      "DEBUG:fe507.utils:working on file: /Users/azat/Developer/Learn/FE507-report/data/SP500.xlsx\n",
      "DEBUG:fe507.utils:read dataframe from excel as: \n",
      "['Date', 'Index', 'Market cap (m$)', 'Unnamed: 3', 'Unnamed: 4', 'Unnamed: 5', 'Unnamed: 6', 'Unnamed: 7', 'Unnamed: 8', 'Unnamed: 9', 'Unnamed: 10', 'Unnamed: 11', 'Unnamed: 12', 'Unnamed: 13', 'Unnamed: 14', 'Unnamed: 15', 'Unnamed: 16', 'Unnamed: 17', 'Unnamed: 18', 'Unnamed: 19', 'Unnamed: 20', 'Unnamed: 21', 'Unnamed: 22', 'Unnamed: 23', 'Unnamed: 24', 'Unnamed: 25', 'Unnamed: 26', 'Unnamed: 27', 'Unnamed: 28', 'Unnamed: 29', 'Unnamed: 30', 'Unnamed: 31', 'Unnamed: 32', 'Unnamed: 33', 'Unnamed: 34', 'Unnamed: 35', 'Unnamed: 36', 'Unnamed: 37', 'Unnamed: 38', 'Unnamed: 39', 'Unnamed: 40', 'Unnamed: 41', 'Unnamed: 42', 'Unnamed: 43', 'Unnamed: 44', 'Unnamed: 45', 'Unnamed: 46', 'Unnamed: 47', 'Unnamed: 48', 'Unnamed: 49', 'Unnamed: 50', 'Unnamed: 51', 'Unnamed: 52', 'Unnamed: 53', 'Unnamed: 54', 'Unnamed: 55', 'Unnamed: 56', 'Unnamed: 57', 'Unnamed: 58', 'Unnamed: 59', 'Unnamed: 60', 'Unnamed: 61', 'Unnamed: 62', 'Unnamed: 63', 'Unnamed: 64', 'Unnamed: 65', 'Unnamed: 66', 'Unnamed: 67', 'Unnamed: 68', 'Unnamed: 69', 'Unnamed: 70', 'Unnamed: 71', 'Unnamed: 72', 'Unnamed: 73', 'Unnamed: 74', 'Unnamed: 75', 'Unnamed: 76', 'Unnamed: 77', 'Unnamed: 78', 'Unnamed: 79', 'Unnamed: 80', 'Unnamed: 81', 'Unnamed: 82', 'Unnamed: 83', 'Unnamed: 84', 'Unnamed: 85', 'Unnamed: 86', 'Unnamed: 87', 'Unnamed: 88', 'Unnamed: 89', 'Unnamed: 90', 'Unnamed: 91', 'Unnamed: 92', 'Unnamed: 93', 'Unnamed: 94', 'Unnamed: 95', 'Unnamed: 96', 'Unnamed: 97', 'Unnamed: 98', 'Unnamed: 99', 'Unnamed: 100', 'Unnamed: 101', 'Unnamed: 102', 'Unnamed: 103', 'Unnamed: 104', 'Unnamed: 105', 'Unnamed: 106', 'Unnamed: 107', 'Unnamed: 108', 'Unnamed: 109', 'Unnamed: 110', 'Unnamed: 111', 'Unnamed: 112', 'Unnamed: 113', 'Unnamed: 114', 'Unnamed: 115', 'Unnamed: 116', 'Unnamed: 117', 'Unnamed: 118', 'Unnamed: 119', 'Unnamed: 120', 'Unnamed: 121', 'Unnamed: 122', 'Unnamed: 123', 'Unnamed: 124', 'Unnamed: 125', 'Unnamed: 126', 'Unnamed: 127', 'Unnamed: 128', 'Unnamed: 129', 'Unnamed: 130', 'Unnamed: 131', 'Unnamed: 132', 'Unnamed: 133', 'Unnamed: 134', 'Unnamed: 135', 'Unnamed: 136', 'Unnamed: 137', 'Unnamed: 138', 'Unnamed: 139', 'Unnamed: 140', 'Unnamed: 141', 'Unnamed: 142', 'Unnamed: 143', 'Unnamed: 144', 'Unnamed: 145', 'Unnamed: 146', 'Unnamed: 147', 'Unnamed: 148', 'Unnamed: 149', 'Unnamed: 150', 'Unnamed: 151', 'Unnamed: 152', 'Unnamed: 153', 'Unnamed: 154', 'Unnamed: 155', 'Unnamed: 156', 'Unnamed: 157', 'Unnamed: 158', 'Unnamed: 159', 'Unnamed: 160', 'Unnamed: 161', 'Unnamed: 162', 'Unnamed: 163', 'Unnamed: 164', 'Unnamed: 165', 'Unnamed: 166', 'Unnamed: 167', 'Unnamed: 168', 'Unnamed: 169', 'Unnamed: 170', 'Unnamed: 171', 'Unnamed: 172', 'Unnamed: 173', 'Unnamed: 174', 'Unnamed: 175', 'Unnamed: 176', 'Unnamed: 177', 'Unnamed: 178', 'Unnamed: 179', 'Unnamed: 180', 'Unnamed: 181', 'Unnamed: 182', 'Unnamed: 183', 'Unnamed: 184', 'Unnamed: 185', 'Unnamed: 186', 'Unnamed: 187', 'Unnamed: 188', 'Unnamed: 189', 'Unnamed: 190', 'Unnamed: 191', 'Unnamed: 192', 'Unnamed: 193', 'Unnamed: 194', 'Unnamed: 195', 'Unnamed: 196', 'Unnamed: 197', 'Unnamed: 198', 'Unnamed: 199', 'Unnamed: 200', 'Unnamed: 201', 'Unnamed: 202', 'Unnamed: 203', 'Unnamed: 204', 'Unnamed: 205', 'Unnamed: 206', 'Unnamed: 207', 'Unnamed: 208', 'Unnamed: 209', 'Unnamed: 210', 'Unnamed: 211', 'Unnamed: 212', 'Unnamed: 213', 'Unnamed: 214', 'Unnamed: 215']\n",
      "DEBUG:fe507.utils:handling source specific fields for DataSource.SP500\n",
      "DEBUG:fe507.utils:Set up \"data_dir\" as: ../data\n",
      "DEBUG:fe507.utils:working on file: /Users/azat/Developer/Learn/FE507-report/data/BIST100.xlsx\n",
      "DEBUG:fe507.utils:read dataframe from excel as: \n",
      "['Date', 'Index', 'Market cap (m TL)']\n",
      "DEBUG:fe507.utils:handling source specific fields for DataSource.BIST100\n",
      "DEBUG:fe507.utils:Set up \"data_dir\" as: ../data\n",
      "DEBUG:fe507.utils:working on file: /Users/azat/Developer/Learn/FE507-report/data/BISTALL.xlsx\n",
      "DEBUG:fe507.utils:read dataframe from excel as: \n",
      "['Code', 'Index', 'Market cap (m TL)']\n",
      "DEBUG:fe507.utils:handling source specific fields for DataSource.BISTALL\n",
      "DEBUG:fe507.utils:Set up \"data_dir\" as: ../data\n",
      "DEBUG:fe507.utils:working on file: /Users/azat/Developer/Learn/FE507-report/data/Gold.xlsx\n",
      "DEBUG:fe507.utils:read dataframe from excel as: \n",
      "['Date', 'Price ($/t oz)']\n",
      "DEBUG:fe507.utils:handling source specific fields for DataSource.GOLD\n",
      "DEBUG:fe507.utils:Set up \"data_dir\" as: ../data\n",
      "DEBUG:fe507.utils:working on file: /Users/azat/Developer/Learn/FE507-report/data/BTCETH.xlsx\n",
      "DEBUG:fe507.utils:read dataframe from excel as: \n",
      "['Date', 'Bitcoin', 'Ethereum']\n",
      "DEBUG:fe507.utils:handling source specific fields for DataSource.BTCETH\n"
     ]
    }
   ],
   "source": [
    "exchange_rates = Data(DataSource.EXCHANGE_RATES)\n",
    "sp500 = Data(DataSource.SP500)\n",
    "b100 = Data(DataSource.BIST100)\n",
    "ball = Data(DataSource.BISTALL)\n",
    "gold = Data(DataSource.GOLD)\n",
    "btc = Data(DataSource.BTCETH)\n",
    "\n",
    "year_range = {\n",
    "    \"from_year\": 2015,\n",
    "    \"to_year\": 2022\n",
    "}"
   ]
  },
  {
   "cell_type": "code",
   "execution_count": 3,
   "metadata": {},
   "outputs": [],
   "source": [
    "## Create Collection\n",
    "csp = Collection(sp500.data, name=\"S&P500\").get_range(**year_range).get(on='Index')\n",
    "cb1 = Collection(b100.data, name=\"BIST100\").get_range(**year_range).get(on='Index')\n",
    "cba = Collection(ball.data, name=\"BIST ALL\").get_range(**year_range).get(on='Index')\n",
    "cg = Collection(gold.data, name='Gold').get_range(**year_range).get(on='Price ($/t oz)')\n",
    "cbtc = Collection(btc.data, name=\"Bitcoin\").get_range(**year_range).get(on='Bitcoin')"
   ]
  },
  {
   "cell_type": "markdown",
   "metadata": {},
   "source": [
    "## SP500"
   ]
  },
  {
   "cell_type": "code",
   "execution_count": 4,
   "metadata": {},
   "outputs": [
    {
     "data": {
      "text/html": [
       "<div>\n",
       "<style scoped>\n",
       "    .dataframe tbody tr th:only-of-type {\n",
       "        vertical-align: middle;\n",
       "    }\n",
       "\n",
       "    .dataframe tbody tr th {\n",
       "        vertical-align: top;\n",
       "    }\n",
       "\n",
       "    .dataframe thead th {\n",
       "        text-align: right;\n",
       "    }\n",
       "</style>\n",
       "<table border=\"1\" class=\"dataframe\">\n",
       "  <thead>\n",
       "    <tr style=\"text-align: right;\">\n",
       "      <th></th>\n",
       "      <th>Index</th>\n",
       "    </tr>\n",
       "    <tr>\n",
       "      <th>date</th>\n",
       "      <th></th>\n",
       "    </tr>\n",
       "  </thead>\n",
       "  <tbody>\n",
       "    <tr>\n",
       "      <th>2015-01-01</th>\n",
       "      <td>2058.90</td>\n",
       "    </tr>\n",
       "    <tr>\n",
       "      <th>2015-01-02</th>\n",
       "      <td>2058.20</td>\n",
       "    </tr>\n",
       "    <tr>\n",
       "      <th>2015-01-05</th>\n",
       "      <td>2020.58</td>\n",
       "    </tr>\n",
       "    <tr>\n",
       "      <th>2015-01-06</th>\n",
       "      <td>2002.61</td>\n",
       "    </tr>\n",
       "    <tr>\n",
       "      <th>2015-01-07</th>\n",
       "      <td>2025.90</td>\n",
       "    </tr>\n",
       "    <tr>\n",
       "      <th>...</th>\n",
       "      <td>...</td>\n",
       "    </tr>\n",
       "    <tr>\n",
       "      <th>2022-12-12</th>\n",
       "      <td>3990.56</td>\n",
       "    </tr>\n",
       "    <tr>\n",
       "      <th>2022-12-13</th>\n",
       "      <td>4019.65</td>\n",
       "    </tr>\n",
       "    <tr>\n",
       "      <th>2022-12-14</th>\n",
       "      <td>3995.32</td>\n",
       "    </tr>\n",
       "    <tr>\n",
       "      <th>2022-12-15</th>\n",
       "      <td>3895.75</td>\n",
       "    </tr>\n",
       "    <tr>\n",
       "      <th>2022-12-16</th>\n",
       "      <td>3852.36</td>\n",
       "    </tr>\n",
       "  </tbody>\n",
       "</table>\n",
       "<p>1995 rows × 1 columns</p>\n",
       "</div>"
      ],
      "text/plain": [
       "              Index\n",
       "date               \n",
       "2015-01-01  2058.90\n",
       "2015-01-02  2058.20\n",
       "2015-01-05  2020.58\n",
       "2015-01-06  2002.61\n",
       "2015-01-07  2025.90\n",
       "...             ...\n",
       "2022-12-12  3990.56\n",
       "2022-12-13  4019.65\n",
       "2022-12-14  3995.32\n",
       "2022-12-15  3895.75\n",
       "2022-12-16  3852.36\n",
       "\n",
       "[1995 rows x 1 columns]"
      ]
     },
     "execution_count": 4,
     "metadata": {},
     "output_type": "execute_result"
    }
   ],
   "source": [
    "csp.raw"
   ]
  },
  {
   "cell_type": "code",
   "execution_count": 5,
   "metadata": {},
   "outputs": [
    {
     "data": {
      "text/plain": [
       "Index    2980.835895\n",
       "dtype: float64"
      ]
     },
     "execution_count": 5,
     "metadata": {},
     "output_type": "execute_result"
    }
   ],
   "source": [
    "csp.mean"
   ]
  },
  {
   "cell_type": "code",
   "execution_count": 6,
   "metadata": {},
   "outputs": [
    {
     "data": {
      "text/plain": [
       "Index    660569.74855\n",
       "dtype: float64"
      ]
     },
     "execution_count": 6,
     "metadata": {},
     "output_type": "execute_result"
    }
   ],
   "source": [
    "csp.variance"
   ]
  },
  {
   "cell_type": "code",
   "execution_count": 7,
   "metadata": {},
   "outputs": [],
   "source": [
    "g = CollectionGroup([csp, cb1, cba, cg, cbtc])"
   ]
  },
  {
   "cell_type": "code",
   "execution_count": 8,
   "metadata": {},
   "outputs": [
    {
     "data": {
      "text/plain": [
       "S&P500       2980.835895\n",
       "BIST100      1264.851276\n",
       "BIST ALL     1348.761589\n",
       "Gold         1465.749102\n",
       "Bitcoin     12676.917011\n",
       "dtype: float64"
      ]
     },
     "execution_count": 8,
     "metadata": {},
     "output_type": "execute_result"
    }
   ],
   "source": [
    "g.mean"
   ]
  },
  {
   "cell_type": "code",
   "execution_count": 9,
   "metadata": {},
   "outputs": [
    {
     "data": {
      "text/plain": [
       "S&P500      6.605697e+05\n",
       "BIST100     5.413134e+05\n",
       "BIST ALL    7.094168e+05\n",
       "Gold        7.512064e+04\n",
       "Bitcoin     2.620194e+08\n",
       "dtype: float64"
      ]
     },
     "execution_count": 9,
     "metadata": {},
     "output_type": "execute_result"
    }
   ],
   "source": [
    "g.variance"
   ]
  },
  {
   "cell_type": "code",
   "execution_count": 10,
   "metadata": {},
   "outputs": [
    {
     "data": {
      "text/plain": [
       "S&P500        812.754421\n",
       "BIST100       735.740021\n",
       "BIST ALL      842.268817\n",
       "Gold          274.081452\n",
       "Bitcoin     16187.014105\n",
       "dtype: float64"
      ]
     },
     "execution_count": 10,
     "metadata": {},
     "output_type": "execute_result"
    }
   ],
   "source": [
    "g.standard_deviation"
   ]
  },
  {
   "cell_type": "code",
   "execution_count": 11,
   "metadata": {},
   "outputs": [
    {
     "data": {
      "text/plain": [
       "S&P500       4796.56000\n",
       "BIST100      5391.91000\n",
       "BIST ALL     6027.50000\n",
       "Gold         2052.79500\n",
       "Bitcoin     67553.94893\n",
       "dtype: float64"
      ]
     },
     "execution_count": 11,
     "metadata": {},
     "output_type": "execute_result"
    }
   ],
   "source": [
    "g.max"
   ]
  },
  {
   "cell_type": "code",
   "execution_count": 12,
   "metadata": {},
   "outputs": [
    {
     "data": {
      "text/plain": [
       "S&P500      1829.080000\n",
       "BIST100      685.680000\n",
       "BIST ALL     699.860000\n",
       "Gold        1051.970000\n",
       "Bitcoin      178.016008\n",
       "dtype: float64"
      ]
     },
     "execution_count": 12,
     "metadata": {},
     "output_type": "execute_result"
    }
   ],
   "source": [
    "g.min"
   ]
  },
  {
   "cell_type": "code",
   "execution_count": 13,
   "metadata": {},
   "outputs": [
    {
     "data": {
      "text/plain": [
       "S&P500     NaN\n",
       "BIST100    NaN\n",
       "BIST ALL   NaN\n",
       "Gold       NaN\n",
       "Bitcoin    NaN\n",
       "dtype: float64"
      ]
     },
     "execution_count": 13,
     "metadata": {},
     "output_type": "execute_result"
    }
   ],
   "source": [
    "g.inter_quartile_range"
   ]
  },
  {
   "cell_type": "code",
   "execution_count": 14,
   "metadata": {},
   "outputs": [
    {
     "data": {
      "text/plain": [
       "Index    1404.975\n",
       "dtype: float64"
      ]
     },
     "execution_count": 14,
     "metadata": {},
     "output_type": "execute_result"
    }
   ],
   "source": [
    "csp.inter_quartile_range"
   ]
  },
  {
   "cell_type": "code",
   "execution_count": 15,
   "metadata": {},
   "outputs": [
    {
     "data": {
      "text/plain": [
       "Index    501.355\n",
       "dtype: float64"
      ]
     },
     "execution_count": 15,
     "metadata": {},
     "output_type": "execute_result"
    }
   ],
   "source": [
    "cb1.inter_quartile_range"
   ]
  },
  {
   "cell_type": "code",
   "execution_count": 16,
   "metadata": {},
   "outputs": [
    {
     "data": {
      "text/plain": [
       "Index    684.845\n",
       "dtype: float64"
      ]
     },
     "execution_count": 16,
     "metadata": {},
     "output_type": "execute_result"
    }
   ],
   "source": [
    "cba.inter_quartile_range"
   ]
  },
  {
   "cell_type": "code",
   "execution_count": 17,
   "metadata": {},
   "outputs": [
    {
     "data": {
      "text/plain": [
       "Price ($/t oz)    519.08\n",
       "dtype: float64"
      ]
     },
     "execution_count": 17,
     "metadata": {},
     "output_type": "execute_result"
    }
   ],
   "source": [
    "cg.inter_quartile_range"
   ]
  },
  {
   "cell_type": "code",
   "execution_count": 18,
   "metadata": {},
   "outputs": [
    {
     "data": {
      "text/plain": [
       "Bitcoin    13331.746091\n",
       "dtype: float64"
      ]
     },
     "execution_count": 18,
     "metadata": {},
     "output_type": "execute_result"
    }
   ],
   "source": [
    "cbtc.inter_quartile_range"
   ]
  },
  {
   "cell_type": "code",
   "execution_count": 19,
   "metadata": {},
   "outputs": [
    {
     "data": {
      "text/plain": [
       "S&P500      0.590823\n",
       "BIST100     2.865820\n",
       "BIST ALL    2.769847\n",
       "Gold        0.420385\n",
       "Bitcoin     1.616225\n",
       "dtype: float64"
      ]
     },
     "execution_count": 19,
     "metadata": {},
     "output_type": "execute_result"
    }
   ],
   "source": [
    "g.skewness"
   ]
  },
  {
   "cell_type": "code",
   "execution_count": 20,
   "metadata": {},
   "outputs": [
    {
     "data": {
      "text/plain": [
       "S&P500     -0.861520\n",
       "BIST100     9.278058\n",
       "BIST ALL    8.859743\n",
       "Gold       -1.376691\n",
       "Bitcoin     1.519731\n",
       "dtype: float64"
      ]
     },
     "execution_count": 20,
     "metadata": {},
     "output_type": "execute_result"
    }
   ],
   "source": [
    "g.kurtosis"
   ]
  },
  {
   "cell_type": "code",
   "execution_count": 21,
   "metadata": {},
   "outputs": [
    {
     "data": {
      "text/plain": [
       "S&P500      0.999004\n",
       "BIST100     0.999462\n",
       "BIST ALL    0.999584\n",
       "Gold        0.998797\n",
       "Bitcoin     0.998691\n",
       "dtype: float64"
      ]
     },
     "execution_count": 21,
     "metadata": {},
     "output_type": "execute_result"
    }
   ],
   "source": [
    "g.autocorrelation"
   ]
  },
  {
   "cell_type": "code",
   "execution_count": 22,
   "metadata": {},
   "outputs": [
    {
     "data": {
      "text/html": [
       "<div>\n",
       "<style scoped>\n",
       "    .dataframe tbody tr th:only-of-type {\n",
       "        vertical-align: middle;\n",
       "    }\n",
       "\n",
       "    .dataframe tbody tr th {\n",
       "        vertical-align: top;\n",
       "    }\n",
       "\n",
       "    .dataframe thead th {\n",
       "        text-align: right;\n",
       "    }\n",
       "</style>\n",
       "<table border=\"1\" class=\"dataframe\">\n",
       "  <thead>\n",
       "    <tr style=\"text-align: right;\">\n",
       "      <th></th>\n",
       "      <th>S&amp;P500</th>\n",
       "      <th>BIST100</th>\n",
       "      <th>BIST ALL</th>\n",
       "      <th>Gold</th>\n",
       "      <th>Bitcoin</th>\n",
       "    </tr>\n",
       "  </thead>\n",
       "  <tbody>\n",
       "    <tr>\n",
       "      <th>S&amp;P500</th>\n",
       "      <td>6.605697e+05</td>\n",
       "      <td>3.905255e+05</td>\n",
       "      <td>4.650232e+05</td>\n",
       "      <td>1.974475e+05</td>\n",
       "      <td>1.205746e+07</td>\n",
       "    </tr>\n",
       "    <tr>\n",
       "      <th>BIST100</th>\n",
       "      <td>3.905255e+05</td>\n",
       "      <td>5.413134e+05</td>\n",
       "      <td>6.236793e+05</td>\n",
       "      <td>1.182902e+05</td>\n",
       "      <td>5.673533e+06</td>\n",
       "    </tr>\n",
       "    <tr>\n",
       "      <th>BIST ALL</th>\n",
       "      <td>4.650232e+05</td>\n",
       "      <td>6.236793e+05</td>\n",
       "      <td>7.094168e+05</td>\n",
       "      <td>1.428434e+05</td>\n",
       "      <td>6.967881e+06</td>\n",
       "    </tr>\n",
       "    <tr>\n",
       "      <th>Gold</th>\n",
       "      <td>1.974475e+05</td>\n",
       "      <td>1.182902e+05</td>\n",
       "      <td>1.428434e+05</td>\n",
       "      <td>7.512064e+04</td>\n",
       "      <td>3.430805e+06</td>\n",
       "    </tr>\n",
       "    <tr>\n",
       "      <th>Bitcoin</th>\n",
       "      <td>1.205746e+07</td>\n",
       "      <td>5.673533e+06</td>\n",
       "      <td>6.967881e+06</td>\n",
       "      <td>3.430805e+06</td>\n",
       "      <td>2.620194e+08</td>\n",
       "    </tr>\n",
       "  </tbody>\n",
       "</table>\n",
       "</div>"
      ],
      "text/plain": [
       "                S&P500       BIST100      BIST ALL          Gold       Bitcoin\n",
       "S&P500    6.605697e+05  3.905255e+05  4.650232e+05  1.974475e+05  1.205746e+07\n",
       "BIST100   3.905255e+05  5.413134e+05  6.236793e+05  1.182902e+05  5.673533e+06\n",
       "BIST ALL  4.650232e+05  6.236793e+05  7.094168e+05  1.428434e+05  6.967881e+06\n",
       "Gold      1.974475e+05  1.182902e+05  1.428434e+05  7.512064e+04  3.430805e+06\n",
       "Bitcoin   1.205746e+07  5.673533e+06  6.967881e+06  3.430805e+06  2.620194e+08"
      ]
     },
     "execution_count": 22,
     "metadata": {},
     "output_type": "execute_result"
    }
   ],
   "source": [
    "g.covariance"
   ]
  },
  {
   "cell_type": "code",
   "execution_count": 23,
   "metadata": {},
   "outputs": [
    {
     "data": {
      "text/html": [
       "<div>\n",
       "<style scoped>\n",
       "    .dataframe tbody tr th:only-of-type {\n",
       "        vertical-align: middle;\n",
       "    }\n",
       "\n",
       "    .dataframe tbody tr th {\n",
       "        vertical-align: top;\n",
       "    }\n",
       "\n",
       "    .dataframe thead th {\n",
       "        text-align: right;\n",
       "    }\n",
       "</style>\n",
       "<table border=\"1\" class=\"dataframe\">\n",
       "  <thead>\n",
       "    <tr style=\"text-align: right;\">\n",
       "      <th></th>\n",
       "      <th>S&amp;P500</th>\n",
       "      <th>BIST100</th>\n",
       "      <th>BIST ALL</th>\n",
       "      <th>Gold</th>\n",
       "      <th>Bitcoin</th>\n",
       "    </tr>\n",
       "  </thead>\n",
       "  <tbody>\n",
       "    <tr>\n",
       "      <th>S&amp;P500</th>\n",
       "      <td>1.000000</td>\n",
       "      <td>0.655270</td>\n",
       "      <td>0.682664</td>\n",
       "      <td>0.882725</td>\n",
       "      <td>0.904527</td>\n",
       "    </tr>\n",
       "    <tr>\n",
       "      <th>BIST100</th>\n",
       "      <td>0.655270</td>\n",
       "      <td>1.000000</td>\n",
       "      <td>0.998345</td>\n",
       "      <td>0.580547</td>\n",
       "      <td>0.527380</td>\n",
       "    </tr>\n",
       "    <tr>\n",
       "      <th>BIST ALL</th>\n",
       "      <td>0.682664</td>\n",
       "      <td>0.998345</td>\n",
       "      <td>1.000000</td>\n",
       "      <td>0.612273</td>\n",
       "      <td>0.565746</td>\n",
       "    </tr>\n",
       "    <tr>\n",
       "      <th>Gold</th>\n",
       "      <td>0.882725</td>\n",
       "      <td>0.580547</td>\n",
       "      <td>0.612273</td>\n",
       "      <td>1.000000</td>\n",
       "      <td>0.762223</td>\n",
       "    </tr>\n",
       "    <tr>\n",
       "      <th>Bitcoin</th>\n",
       "      <td>0.904527</td>\n",
       "      <td>0.527380</td>\n",
       "      <td>0.565746</td>\n",
       "      <td>0.762223</td>\n",
       "      <td>1.000000</td>\n",
       "    </tr>\n",
       "  </tbody>\n",
       "</table>\n",
       "</div>"
      ],
      "text/plain": [
       "            S&P500   BIST100  BIST ALL      Gold   Bitcoin\n",
       "S&P500    1.000000  0.655270  0.682664  0.882725  0.904527\n",
       "BIST100   0.655270  1.000000  0.998345  0.580547  0.527380\n",
       "BIST ALL  0.682664  0.998345  1.000000  0.612273  0.565746\n",
       "Gold      0.882725  0.580547  0.612273  1.000000  0.762223\n",
       "Bitcoin   0.904527  0.527380  0.565746  0.762223  1.000000"
      ]
     },
     "execution_count": 23,
     "metadata": {},
     "output_type": "execute_result"
    }
   ],
   "source": [
    "g.correlation"
   ]
  },
  {
   "cell_type": "code",
   "execution_count": 24,
   "metadata": {},
   "outputs": [],
   "source": [
    "corr = g.correlation"
   ]
  },
  {
   "cell_type": "code",
   "execution_count": 25,
   "metadata": {},
   "outputs": [
    {
     "data": {
      "text/html": [
       "<style type=\"text/css\">\n",
       "#T_4f027_row0_col0, #T_4f027_row1_col1, #T_4f027_row1_col2, #T_4f027_row2_col1, #T_4f027_row2_col2, #T_4f027_row3_col3, #T_4f027_row4_col4 {\n",
       "  background-color: #b40426;\n",
       "  color: #f1f1f1;\n",
       "}\n",
       "#T_4f027_row0_col1 {\n",
       "  background-color: #94b6ff;\n",
       "  color: #000000;\n",
       "}\n",
       "#T_4f027_row0_col2 {\n",
       "  background-color: #93b5fe;\n",
       "  color: #000000;\n",
       "}\n",
       "#T_4f027_row0_col3 {\n",
       "  background-color: #f6a586;\n",
       "  color: #000000;\n",
       "}\n",
       "#T_4f027_row0_col4 {\n",
       "  background-color: #ee8468;\n",
       "  color: #f1f1f1;\n",
       "}\n",
       "#T_4f027_row1_col0, #T_4f027_row1_col3, #T_4f027_row1_col4, #T_4f027_row4_col1, #T_4f027_row4_col2 {\n",
       "  background-color: #3b4cc0;\n",
       "  color: #f1f1f1;\n",
       "}\n",
       "#T_4f027_row2_col0, #T_4f027_row2_col4 {\n",
       "  background-color: #536edd;\n",
       "  color: #f1f1f1;\n",
       "}\n",
       "#T_4f027_row2_col3 {\n",
       "  background-color: #516ddb;\n",
       "  color: #f1f1f1;\n",
       "}\n",
       "#T_4f027_row3_col0 {\n",
       "  background-color: #f7ba9f;\n",
       "  color: #000000;\n",
       "}\n",
       "#T_4f027_row3_col1 {\n",
       "  background-color: #5d7ce6;\n",
       "  color: #f1f1f1;\n",
       "}\n",
       "#T_4f027_row3_col2 {\n",
       "  background-color: #5b7ae5;\n",
       "  color: #f1f1f1;\n",
       "}\n",
       "#T_4f027_row3_col4 {\n",
       "  background-color: #dcdddd;\n",
       "  color: #000000;\n",
       "}\n",
       "#T_4f027_row4_col0 {\n",
       "  background-color: #f6a385;\n",
       "  color: #000000;\n",
       "}\n",
       "#T_4f027_row4_col3 {\n",
       "  background-color: #cad8ef;\n",
       "  color: #000000;\n",
       "}\n",
       "</style>\n",
       "<table id=\"T_4f027\">\n",
       "  <thead>\n",
       "    <tr>\n",
       "      <th class=\"blank level0\" >&nbsp;</th>\n",
       "      <th id=\"T_4f027_level0_col0\" class=\"col_heading level0 col0\" >S&P500</th>\n",
       "      <th id=\"T_4f027_level0_col1\" class=\"col_heading level0 col1\" >BIST100</th>\n",
       "      <th id=\"T_4f027_level0_col2\" class=\"col_heading level0 col2\" >BIST ALL</th>\n",
       "      <th id=\"T_4f027_level0_col3\" class=\"col_heading level0 col3\" >Gold</th>\n",
       "      <th id=\"T_4f027_level0_col4\" class=\"col_heading level0 col4\" >Bitcoin</th>\n",
       "    </tr>\n",
       "  </thead>\n",
       "  <tbody>\n",
       "    <tr>\n",
       "      <th id=\"T_4f027_level0_row0\" class=\"row_heading level0 row0\" >S&P500</th>\n",
       "      <td id=\"T_4f027_row0_col0\" class=\"data row0 col0\" >1.000000</td>\n",
       "      <td id=\"T_4f027_row0_col1\" class=\"data row0 col1\" >0.655270</td>\n",
       "      <td id=\"T_4f027_row0_col2\" class=\"data row0 col2\" >0.682664</td>\n",
       "      <td id=\"T_4f027_row0_col3\" class=\"data row0 col3\" >0.882725</td>\n",
       "      <td id=\"T_4f027_row0_col4\" class=\"data row0 col4\" >0.904527</td>\n",
       "    </tr>\n",
       "    <tr>\n",
       "      <th id=\"T_4f027_level0_row1\" class=\"row_heading level0 row1\" >BIST100</th>\n",
       "      <td id=\"T_4f027_row1_col0\" class=\"data row1 col0\" >0.655270</td>\n",
       "      <td id=\"T_4f027_row1_col1\" class=\"data row1 col1\" >1.000000</td>\n",
       "      <td id=\"T_4f027_row1_col2\" class=\"data row1 col2\" >0.998345</td>\n",
       "      <td id=\"T_4f027_row1_col3\" class=\"data row1 col3\" >0.580547</td>\n",
       "      <td id=\"T_4f027_row1_col4\" class=\"data row1 col4\" >0.527380</td>\n",
       "    </tr>\n",
       "    <tr>\n",
       "      <th id=\"T_4f027_level0_row2\" class=\"row_heading level0 row2\" >BIST ALL</th>\n",
       "      <td id=\"T_4f027_row2_col0\" class=\"data row2 col0\" >0.682664</td>\n",
       "      <td id=\"T_4f027_row2_col1\" class=\"data row2 col1\" >0.998345</td>\n",
       "      <td id=\"T_4f027_row2_col2\" class=\"data row2 col2\" >1.000000</td>\n",
       "      <td id=\"T_4f027_row2_col3\" class=\"data row2 col3\" >0.612273</td>\n",
       "      <td id=\"T_4f027_row2_col4\" class=\"data row2 col4\" >0.565746</td>\n",
       "    </tr>\n",
       "    <tr>\n",
       "      <th id=\"T_4f027_level0_row3\" class=\"row_heading level0 row3\" >Gold</th>\n",
       "      <td id=\"T_4f027_row3_col0\" class=\"data row3 col0\" >0.882725</td>\n",
       "      <td id=\"T_4f027_row3_col1\" class=\"data row3 col1\" >0.580547</td>\n",
       "      <td id=\"T_4f027_row3_col2\" class=\"data row3 col2\" >0.612273</td>\n",
       "      <td id=\"T_4f027_row3_col3\" class=\"data row3 col3\" >1.000000</td>\n",
       "      <td id=\"T_4f027_row3_col4\" class=\"data row3 col4\" >0.762223</td>\n",
       "    </tr>\n",
       "    <tr>\n",
       "      <th id=\"T_4f027_level0_row4\" class=\"row_heading level0 row4\" >Bitcoin</th>\n",
       "      <td id=\"T_4f027_row4_col0\" class=\"data row4 col0\" >0.904527</td>\n",
       "      <td id=\"T_4f027_row4_col1\" class=\"data row4 col1\" >0.527380</td>\n",
       "      <td id=\"T_4f027_row4_col2\" class=\"data row4 col2\" >0.565746</td>\n",
       "      <td id=\"T_4f027_row4_col3\" class=\"data row4 col3\" >0.762223</td>\n",
       "      <td id=\"T_4f027_row4_col4\" class=\"data row4 col4\" >1.000000</td>\n",
       "    </tr>\n",
       "  </tbody>\n",
       "</table>\n"
      ],
      "text/plain": [
       "<pandas.io.formats.style.Styler at 0x29ad88130>"
      ]
     },
     "execution_count": 25,
     "metadata": {},
     "output_type": "execute_result"
    }
   ],
   "source": [
    "corr.style.background_gradient(cmap='coolwarm')"
   ]
  },
  {
   "cell_type": "code",
   "execution_count": 27,
   "metadata": {},
   "outputs": [
    {
     "data": {
      "text/plain": [
       "Text(0.5, 1.0, 'Correlation Matrix')"
      ]
     },
     "execution_count": 27,
     "metadata": {},
     "output_type": "execute_result"
    },
    {
     "data": {
      "image/png": "[encoded data removed]",
      "text/plain": [
       "<Figure size 480x480 with 1 Axes>"
      ]
     },
     "metadata": {},
     "output_type": "display_data"
    }
   ],
   "source": [
    "plt.matshow(corr)\n",
    "plt.title(\"Correlation Matrix\")"
   ]
  },
  {
   "cell_type": "code",
   "execution_count": 30,
   "metadata": {},
   "outputs": [
    {
     "data": {
      "text/plain": [
       "Index    2876.389799\n",
       "dtype: float64"
      ]
     },
     "execution_count": 30,
     "metadata": {},
     "output_type": "execute_result"
    }
   ],
   "source": [
    "csp.geometric_mean"
   ]
  },
  {
   "cell_type": "code",
   "execution_count": 31,
   "metadata": {},
   "outputs": [
    {
     "data": {
      "text/plain": [
       "Index    1141.14455\n",
       "dtype: float64"
      ]
     },
     "execution_count": 31,
     "metadata": {},
     "output_type": "execute_result"
    }
   ],
   "source": [
    "cb1.geometric_mean"
   ]
  },
  {
   "cell_type": "code",
   "execution_count": 32,
   "metadata": {},
   "outputs": [
    {
     "data": {
      "text/plain": [
       "Index    1196.126707\n",
       "dtype: float64"
      ]
     },
     "execution_count": 32,
     "metadata": {},
     "output_type": "execute_result"
    }
   ],
   "source": [
    "cba.geometric_mean"
   ]
  },
  {
   "cell_type": "code",
   "execution_count": 33,
   "metadata": {},
   "outputs": [
    {
     "data": {
      "text/plain": [
       "Price ($/t oz)    1441.021045\n",
       "dtype: float64"
      ]
     },
     "execution_count": 33,
     "metadata": {},
     "output_type": "execute_result"
    }
   ],
   "source": [
    "cg.geometric_mean"
   ]
  },
  {
   "cell_type": "code",
   "execution_count": 34,
   "metadata": {},
   "outputs": [
    {
     "data": {
      "text/plain": [
       "Bitcoin    4399.118256\n",
       "dtype: float64"
      ]
     },
     "execution_count": 34,
     "metadata": {},
     "output_type": "execute_result"
    }
   ],
   "source": [
    "cbtc.geometric_mean"
   ]
  }
 ],
 "metadata": {
  "kernelspec": {
   "display_name": "Python 3 (ipykernel)",
   "language": "python",
   "name": "python3"
  },
  "language_info": {
   "codemirror_mode": {
    "name": "ipython",
    "version": 3
   },
   "file_extension": ".py",
   "mimetype": "text/x-python",
   "name": "python",
   "nbconvert_exporter": "python",
   "pygments_lexer": "ipython3",
   "version": "3.10.9"
  }
 },
 "nbformat": 4,
 "nbformat_minor": 1
}
