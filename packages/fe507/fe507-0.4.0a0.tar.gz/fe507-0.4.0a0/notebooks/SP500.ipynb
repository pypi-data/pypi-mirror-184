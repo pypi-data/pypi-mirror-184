{
 "cells": [
  {
   "cell_type": "markdown",
   "source": [
    "## S&P 500 Data Analysis"
   ],
   "metadata": {
    "collapsed": false
   }
  },
  {
   "cell_type": "code",
   "execution_count": 1,
   "outputs": [],
   "source": [
    "from pathlib import Path\n",
    "\n",
    "import pandas as pd\n",
    "\n",
    "data_dir = Path(\"../data\")\n",
    "csv_sp500 = data_dir / 'SP500.csv'"
   ],
   "metadata": {
    "collapsed": false
   }
  },
  {
   "cell_type": "code",
   "execution_count": 2,
   "outputs": [],
   "source": [
    "df_sp500 = pd.read_csv(csv_sp500)"
   ],
   "metadata": {
    "collapsed": false
   }
  },
  {
   "cell_type": "code",
   "execution_count": 8,
   "outputs": [
    {
     "data": {
      "text/plain": "             Date  Index Market cap (m$)\n0      31.03.1964     79         357,907\n1       1.04.1964     79         357,907\n2       2.04.1964     80         357,907\n3       3.04.1964     80         357,907\n4       6.04.1964     80         357,907\n...           ...    ...             ...\n15314  12.12.2022  3,991      33,536,670\n15315  13.12.2022  4,020      33,781,200\n15316  14.12.2022  3,995      33,576,690\n15317  15.12.2022  3,896      32,739,940\n15318  16.12.2022  3,852      32,375,300\n\n[15319 rows x 3 columns]",
      "text/html": "<div>\n<style scoped>\n    .dataframe tbody tr th:only-of-type {\n        vertical-align: middle;\n    }\n\n    .dataframe tbody tr th {\n        vertical-align: top;\n    }\n\n    .dataframe thead th {\n        text-align: right;\n    }\n</style>\n<table border=\"1\" class=\"dataframe\">\n  <thead>\n    <tr style=\"text-align: right;\">\n      <th></th>\n      <th>Date</th>\n      <th>Index</th>\n      <th>Market cap (m$)</th>\n    </tr>\n  </thead>\n  <tbody>\n    <tr>\n      <th>0</th>\n      <td>31.03.1964</td>\n      <td>79</td>\n      <td>357,907</td>\n    </tr>\n    <tr>\n      <th>1</th>\n      <td>1.04.1964</td>\n      <td>79</td>\n      <td>357,907</td>\n    </tr>\n    <tr>\n      <th>2</th>\n      <td>2.04.1964</td>\n      <td>80</td>\n      <td>357,907</td>\n    </tr>\n    <tr>\n      <th>3</th>\n      <td>3.04.1964</td>\n      <td>80</td>\n      <td>357,907</td>\n    </tr>\n    <tr>\n      <th>4</th>\n      <td>6.04.1964</td>\n      <td>80</td>\n      <td>357,907</td>\n    </tr>\n    <tr>\n      <th>...</th>\n      <td>...</td>\n      <td>...</td>\n      <td>...</td>\n    </tr>\n    <tr>\n      <th>15314</th>\n      <td>12.12.2022</td>\n      <td>3,991</td>\n      <td>33,536,670</td>\n    </tr>\n    <tr>\n      <th>15315</th>\n      <td>13.12.2022</td>\n      <td>4,020</td>\n      <td>33,781,200</td>\n    </tr>\n    <tr>\n      <th>15316</th>\n      <td>14.12.2022</td>\n      <td>3,995</td>\n      <td>33,576,690</td>\n    </tr>\n    <tr>\n      <th>15317</th>\n      <td>15.12.2022</td>\n      <td>3,896</td>\n      <td>32,739,940</td>\n    </tr>\n    <tr>\n      <th>15318</th>\n      <td>16.12.2022</td>\n      <td>3,852</td>\n      <td>32,375,300</td>\n    </tr>\n  </tbody>\n</table>\n<p>15319 rows × 3 columns</p>\n</div>"
     },
     "execution_count": 8,
     "metadata": {},
     "output_type": "execute_result"
    }
   ],
   "source": [
    "df_sp500"
   ],
   "metadata": {
    "collapsed": false
   }
  },
  {
   "cell_type": "code",
   "execution_count": 9,
   "outputs": [],
   "source": [
    "df_sp500['date'] = pd.to_datetime(df_sp500.Date, dayfirst=True)"
   ],
   "metadata": {
    "collapsed": false
   }
  },
  {
   "cell_type": "code",
   "execution_count": 10,
   "outputs": [
    {
     "data": {
      "text/plain": "             Date  Index Market cap (m$)       date\n0      31.03.1964     79         357,907 1964-03-31\n1       1.04.1964     79         357,907 1964-04-01\n2       2.04.1964     80         357,907 1964-04-02\n3       3.04.1964     80         357,907 1964-04-03\n4       6.04.1964     80         357,907 1964-04-06\n...           ...    ...             ...        ...\n15314  12.12.2022  3,991      33,536,670 2022-12-12\n15315  13.12.2022  4,020      33,781,200 2022-12-13\n15316  14.12.2022  3,995      33,576,690 2022-12-14\n15317  15.12.2022  3,896      32,739,940 2022-12-15\n15318  16.12.2022  3,852      32,375,300 2022-12-16\n\n[15319 rows x 4 columns]",
      "text/html": "<div>\n<style scoped>\n    .dataframe tbody tr th:only-of-type {\n        vertical-align: middle;\n    }\n\n    .dataframe tbody tr th {\n        vertical-align: top;\n    }\n\n    .dataframe thead th {\n        text-align: right;\n    }\n</style>\n<table border=\"1\" class=\"dataframe\">\n  <thead>\n    <tr style=\"text-align: right;\">\n      <th></th>\n      <th>Date</th>\n      <th>Index</th>\n      <th>Market cap (m$)</th>\n      <th>date</th>\n    </tr>\n  </thead>\n  <tbody>\n    <tr>\n      <th>0</th>\n      <td>31.03.1964</td>\n      <td>79</td>\n      <td>357,907</td>\n      <td>1964-03-31</td>\n    </tr>\n    <tr>\n      <th>1</th>\n      <td>1.04.1964</td>\n      <td>79</td>\n      <td>357,907</td>\n      <td>1964-04-01</td>\n    </tr>\n    <tr>\n      <th>2</th>\n      <td>2.04.1964</td>\n      <td>80</td>\n      <td>357,907</td>\n      <td>1964-04-02</td>\n    </tr>\n    <tr>\n      <th>3</th>\n      <td>3.04.1964</td>\n      <td>80</td>\n      <td>357,907</td>\n      <td>1964-04-03</td>\n    </tr>\n    <tr>\n      <th>4</th>\n      <td>6.04.1964</td>\n      <td>80</td>\n      <td>357,907</td>\n      <td>1964-04-06</td>\n    </tr>\n    <tr>\n      <th>...</th>\n      <td>...</td>\n      <td>...</td>\n      <td>...</td>\n      <td>...</td>\n    </tr>\n    <tr>\n      <th>15314</th>\n      <td>12.12.2022</td>\n      <td>3,991</td>\n      <td>33,536,670</td>\n      <td>2022-12-12</td>\n    </tr>\n    <tr>\n      <th>15315</th>\n      <td>13.12.2022</td>\n      <td>4,020</td>\n      <td>33,781,200</td>\n      <td>2022-12-13</td>\n    </tr>\n    <tr>\n      <th>15316</th>\n      <td>14.12.2022</td>\n      <td>3,995</td>\n      <td>33,576,690</td>\n      <td>2022-12-14</td>\n    </tr>\n    <tr>\n      <th>15317</th>\n      <td>15.12.2022</td>\n      <td>3,896</td>\n      <td>32,739,940</td>\n      <td>2022-12-15</td>\n    </tr>\n    <tr>\n      <th>15318</th>\n      <td>16.12.2022</td>\n      <td>3,852</td>\n      <td>32,375,300</td>\n      <td>2022-12-16</td>\n    </tr>\n  </tbody>\n</table>\n<p>15319 rows × 4 columns</p>\n</div>"
     },
     "execution_count": 10,
     "metadata": {},
     "output_type": "execute_result"
    }
   ],
   "source": [
    "df_sp500"
   ],
   "metadata": {
    "collapsed": false
   }
  },
  {
   "cell_type": "code",
   "execution_count": 11,
   "outputs": [
    {
     "data": {
      "text/plain": "                  Date  Index Market cap (m$)       date\ndate                                                    \n1964-03-31  31.03.1964     79         357,907 1964-03-31\n1964-04-01   1.04.1964     79         357,907 1964-04-01\n1964-04-02   2.04.1964     80         357,907 1964-04-02\n1964-04-03   3.04.1964     80         357,907 1964-04-03\n1964-04-06   6.04.1964     80         357,907 1964-04-06\n...                ...    ...             ...        ...\n2022-12-12  12.12.2022  3,991      33,536,670 2022-12-12\n2022-12-13  13.12.2022  4,020      33,781,200 2022-12-13\n2022-12-14  14.12.2022  3,995      33,576,690 2022-12-14\n2022-12-15  15.12.2022  3,896      32,739,940 2022-12-15\n2022-12-16  16.12.2022  3,852      32,375,300 2022-12-16\n\n[15319 rows x 4 columns]",
      "text/html": "<div>\n<style scoped>\n    .dataframe tbody tr th:only-of-type {\n        vertical-align: middle;\n    }\n\n    .dataframe tbody tr th {\n        vertical-align: top;\n    }\n\n    .dataframe thead th {\n        text-align: right;\n    }\n</style>\n<table border=\"1\" class=\"dataframe\">\n  <thead>\n    <tr style=\"text-align: right;\">\n      <th></th>\n      <th>Date</th>\n      <th>Index</th>\n      <th>Market cap (m$)</th>\n      <th>date</th>\n    </tr>\n    <tr>\n      <th>date</th>\n      <th></th>\n      <th></th>\n      <th></th>\n      <th></th>\n    </tr>\n  </thead>\n  <tbody>\n    <tr>\n      <th>1964-03-31</th>\n      <td>31.03.1964</td>\n      <td>79</td>\n      <td>357,907</td>\n      <td>1964-03-31</td>\n    </tr>\n    <tr>\n      <th>1964-04-01</th>\n      <td>1.04.1964</td>\n      <td>79</td>\n      <td>357,907</td>\n      <td>1964-04-01</td>\n    </tr>\n    <tr>\n      <th>1964-04-02</th>\n      <td>2.04.1964</td>\n      <td>80</td>\n      <td>357,907</td>\n      <td>1964-04-02</td>\n    </tr>\n    <tr>\n      <th>1964-04-03</th>\n      <td>3.04.1964</td>\n      <td>80</td>\n      <td>357,907</td>\n      <td>1964-04-03</td>\n    </tr>\n    <tr>\n      <th>1964-04-06</th>\n      <td>6.04.1964</td>\n      <td>80</td>\n      <td>357,907</td>\n      <td>1964-04-06</td>\n    </tr>\n    <tr>\n      <th>...</th>\n      <td>...</td>\n      <td>...</td>\n      <td>...</td>\n      <td>...</td>\n    </tr>\n    <tr>\n      <th>2022-12-12</th>\n      <td>12.12.2022</td>\n      <td>3,991</td>\n      <td>33,536,670</td>\n      <td>2022-12-12</td>\n    </tr>\n    <tr>\n      <th>2022-12-13</th>\n      <td>13.12.2022</td>\n      <td>4,020</td>\n      <td>33,781,200</td>\n      <td>2022-12-13</td>\n    </tr>\n    <tr>\n      <th>2022-12-14</th>\n      <td>14.12.2022</td>\n      <td>3,995</td>\n      <td>33,576,690</td>\n      <td>2022-12-14</td>\n    </tr>\n    <tr>\n      <th>2022-12-15</th>\n      <td>15.12.2022</td>\n      <td>3,896</td>\n      <td>32,739,940</td>\n      <td>2022-12-15</td>\n    </tr>\n    <tr>\n      <th>2022-12-16</th>\n      <td>16.12.2022</td>\n      <td>3,852</td>\n      <td>32,375,300</td>\n      <td>2022-12-16</td>\n    </tr>\n  </tbody>\n</table>\n<p>15319 rows × 4 columns</p>\n</div>"
     },
     "execution_count": 11,
     "metadata": {},
     "output_type": "execute_result"
    }
   ],
   "source": [
    "df_sp500.set_index(df_sp500.date)"
   ],
   "metadata": {
    "collapsed": false
   }
  },
  {
   "cell_type": "code",
   "execution_count": 12,
   "outputs": [
    {
     "data": {
      "text/plain": "             Date  Index Market cap (m$)       date\n0      31.03.1964     79         357,907 1964-03-31\n1       1.04.1964     79         357,907 1964-04-01\n2       2.04.1964     80         357,907 1964-04-02\n3       3.04.1964     80         357,907 1964-04-03\n4       6.04.1964     80         357,907 1964-04-06\n...           ...    ...             ...        ...\n15314  12.12.2022  3,991      33,536,670 2022-12-12\n15315  13.12.2022  4,020      33,781,200 2022-12-13\n15316  14.12.2022  3,995      33,576,690 2022-12-14\n15317  15.12.2022  3,896      32,739,940 2022-12-15\n15318  16.12.2022  3,852      32,375,300 2022-12-16\n\n[15319 rows x 4 columns]",
      "text/html": "<div>\n<style scoped>\n    .dataframe tbody tr th:only-of-type {\n        vertical-align: middle;\n    }\n\n    .dataframe tbody tr th {\n        vertical-align: top;\n    }\n\n    .dataframe thead th {\n        text-align: right;\n    }\n</style>\n<table border=\"1\" class=\"dataframe\">\n  <thead>\n    <tr style=\"text-align: right;\">\n      <th></th>\n      <th>Date</th>\n      <th>Index</th>\n      <th>Market cap (m$)</th>\n      <th>date</th>\n    </tr>\n  </thead>\n  <tbody>\n    <tr>\n      <th>0</th>\n      <td>31.03.1964</td>\n      <td>79</td>\n      <td>357,907</td>\n      <td>1964-03-31</td>\n    </tr>\n    <tr>\n      <th>1</th>\n      <td>1.04.1964</td>\n      <td>79</td>\n      <td>357,907</td>\n      <td>1964-04-01</td>\n    </tr>\n    <tr>\n      <th>2</th>\n      <td>2.04.1964</td>\n      <td>80</td>\n      <td>357,907</td>\n      <td>1964-04-02</td>\n    </tr>\n    <tr>\n      <th>3</th>\n      <td>3.04.1964</td>\n      <td>80</td>\n      <td>357,907</td>\n      <td>1964-04-03</td>\n    </tr>\n    <tr>\n      <th>4</th>\n      <td>6.04.1964</td>\n      <td>80</td>\n      <td>357,907</td>\n      <td>1964-04-06</td>\n    </tr>\n    <tr>\n      <th>...</th>\n      <td>...</td>\n      <td>...</td>\n      <td>...</td>\n      <td>...</td>\n    </tr>\n    <tr>\n      <th>15314</th>\n      <td>12.12.2022</td>\n      <td>3,991</td>\n      <td>33,536,670</td>\n      <td>2022-12-12</td>\n    </tr>\n    <tr>\n      <th>15315</th>\n      <td>13.12.2022</td>\n      <td>4,020</td>\n      <td>33,781,200</td>\n      <td>2022-12-13</td>\n    </tr>\n    <tr>\n      <th>15316</th>\n      <td>14.12.2022</td>\n      <td>3,995</td>\n      <td>33,576,690</td>\n      <td>2022-12-14</td>\n    </tr>\n    <tr>\n      <th>15317</th>\n      <td>15.12.2022</td>\n      <td>3,896</td>\n      <td>32,739,940</td>\n      <td>2022-12-15</td>\n    </tr>\n    <tr>\n      <th>15318</th>\n      <td>16.12.2022</td>\n      <td>3,852</td>\n      <td>32,375,300</td>\n      <td>2022-12-16</td>\n    </tr>\n  </tbody>\n</table>\n<p>15319 rows × 4 columns</p>\n</div>"
     },
     "execution_count": 12,
     "metadata": {},
     "output_type": "execute_result"
    }
   ],
   "source": [
    "df_sp500.drop_duplicates()"
   ],
   "metadata": {
    "collapsed": false
   }
  },
  {
   "cell_type": "code",
   "execution_count": 13,
   "outputs": [
    {
     "ename": "TypeError",
     "evalue": "unsupported operand type(s) for /: 'str' and 'str'",
     "output_type": "error",
     "traceback": [
      "\u001B[0;31m---------------------------------------------------------------------------\u001B[0m",
      "\u001B[0;31mTypeError\u001B[0m                                 Traceback (most recent call last)",
      "File \u001B[0;32m~/Developer/SDKs/dataspell/lib/python3.10/site-packages/pandas/core/ops/array_ops.py:165\u001B[0m, in \u001B[0;36m_na_arithmetic_op\u001B[0;34m(left, right, op, is_cmp)\u001B[0m\n\u001B[1;32m    164\u001B[0m \u001B[38;5;28;01mtry\u001B[39;00m:\n\u001B[0;32m--> 165\u001B[0m     result \u001B[38;5;241m=\u001B[39m \u001B[43mfunc\u001B[49m\u001B[43m(\u001B[49m\u001B[43mleft\u001B[49m\u001B[43m,\u001B[49m\u001B[43m \u001B[49m\u001B[43mright\u001B[49m\u001B[43m)\u001B[49m\n\u001B[1;32m    166\u001B[0m \u001B[38;5;28;01mexcept\u001B[39;00m \u001B[38;5;167;01mTypeError\u001B[39;00m:\n",
      "File \u001B[0;32m~/Developer/SDKs/dataspell/lib/python3.10/site-packages/pandas/core/computation/expressions.py:241\u001B[0m, in \u001B[0;36mevaluate\u001B[0;34m(op, a, b, use_numexpr)\u001B[0m\n\u001B[1;32m    239\u001B[0m     \u001B[38;5;28;01mif\u001B[39;00m use_numexpr:\n\u001B[1;32m    240\u001B[0m         \u001B[38;5;66;03m# error: \"None\" not callable\u001B[39;00m\n\u001B[0;32m--> 241\u001B[0m         \u001B[38;5;28;01mreturn\u001B[39;00m \u001B[43m_evaluate\u001B[49m\u001B[43m(\u001B[49m\u001B[43mop\u001B[49m\u001B[43m,\u001B[49m\u001B[43m \u001B[49m\u001B[43mop_str\u001B[49m\u001B[43m,\u001B[49m\u001B[43m \u001B[49m\u001B[43ma\u001B[49m\u001B[43m,\u001B[49m\u001B[43m \u001B[49m\u001B[43mb\u001B[49m\u001B[43m)\u001B[49m  \u001B[38;5;66;03m# type: ignore[misc]\u001B[39;00m\n\u001B[1;32m    242\u001B[0m \u001B[38;5;28;01mreturn\u001B[39;00m _evaluate_standard(op, op_str, a, b)\n",
      "File \u001B[0;32m~/Developer/SDKs/dataspell/lib/python3.10/site-packages/pandas/core/computation/expressions.py:70\u001B[0m, in \u001B[0;36m_evaluate_standard\u001B[0;34m(op, op_str, a, b)\u001B[0m\n\u001B[1;32m     69\u001B[0m     _store_test_result(\u001B[38;5;28;01mFalse\u001B[39;00m)\n\u001B[0;32m---> 70\u001B[0m \u001B[38;5;28;01mreturn\u001B[39;00m \u001B[43mop\u001B[49m\u001B[43m(\u001B[49m\u001B[43ma\u001B[49m\u001B[43m,\u001B[49m\u001B[43m \u001B[49m\u001B[43mb\u001B[49m\u001B[43m)\u001B[49m\n",
      "\u001B[0;31mTypeError\u001B[0m: unsupported operand type(s) for /: 'str' and 'NoneType'",
      "\nDuring handling of the above exception, another exception occurred:\n",
      "\u001B[0;31mTypeError\u001B[0m                                 Traceback (most recent call last)",
      "Cell \u001B[0;32mIn[13], line 1\u001B[0m\n\u001B[0;32m----> 1\u001B[0m ror \u001B[38;5;241m=\u001B[39m \u001B[43mdf_sp500\u001B[49m\u001B[38;5;241;43m.\u001B[39;49m\u001B[43mpct_change\u001B[49m\u001B[43m(\u001B[49m\u001B[43m)\u001B[49m\n",
      "File \u001B[0;32m~/Developer/SDKs/dataspell/lib/python3.10/site-packages/pandas/core/generic.py:11081\u001B[0m, in \u001B[0;36mNDFrame.pct_change\u001B[0;34m(self, periods, fill_method, limit, freq, **kwargs)\u001B[0m\n\u001B[1;32m  11079\u001B[0m shifted \u001B[38;5;241m=\u001B[39m data\u001B[38;5;241m.\u001B[39mshift(periods\u001B[38;5;241m=\u001B[39mperiods, freq\u001B[38;5;241m=\u001B[39mfreq, axis\u001B[38;5;241m=\u001B[39maxis, \u001B[38;5;241m*\u001B[39m\u001B[38;5;241m*\u001B[39mkwargs)\n\u001B[1;32m  11080\u001B[0m \u001B[38;5;66;03m# Unsupported left operand type for / (\"NDFrameT\")\u001B[39;00m\n\u001B[0;32m> 11081\u001B[0m rs \u001B[38;5;241m=\u001B[39m \u001B[43mdata\u001B[49m\u001B[43m \u001B[49m\u001B[38;5;241;43m/\u001B[39;49m\u001B[43m \u001B[49m\u001B[43mshifted\u001B[49m \u001B[38;5;241m-\u001B[39m \u001B[38;5;241m1\u001B[39m  \u001B[38;5;66;03m# type: ignore[operator]\u001B[39;00m\n\u001B[1;32m  11082\u001B[0m \u001B[38;5;28;01mif\u001B[39;00m freq \u001B[38;5;129;01mis\u001B[39;00m \u001B[38;5;129;01mnot\u001B[39;00m \u001B[38;5;28;01mNone\u001B[39;00m:\n\u001B[1;32m  11083\u001B[0m     \u001B[38;5;66;03m# Shift method is implemented differently when freq is not None\u001B[39;00m\n\u001B[1;32m  11084\u001B[0m     \u001B[38;5;66;03m# We want to restore the original index\u001B[39;00m\n\u001B[1;32m  11085\u001B[0m     rs \u001B[38;5;241m=\u001B[39m rs\u001B[38;5;241m.\u001B[39mloc[\u001B[38;5;241m~\u001B[39mrs\u001B[38;5;241m.\u001B[39mindex\u001B[38;5;241m.\u001B[39mduplicated()]\n",
      "File \u001B[0;32m~/Developer/SDKs/dataspell/lib/python3.10/site-packages/pandas/core/ops/common.py:72\u001B[0m, in \u001B[0;36m_unpack_zerodim_and_defer.<locals>.new_method\u001B[0;34m(self, other)\u001B[0m\n\u001B[1;32m     68\u001B[0m             \u001B[38;5;28;01mreturn\u001B[39;00m \u001B[38;5;28mNotImplemented\u001B[39m\n\u001B[1;32m     70\u001B[0m other \u001B[38;5;241m=\u001B[39m item_from_zerodim(other)\n\u001B[0;32m---> 72\u001B[0m \u001B[38;5;28;01mreturn\u001B[39;00m \u001B[43mmethod\u001B[49m\u001B[43m(\u001B[49m\u001B[38;5;28;43mself\u001B[39;49m\u001B[43m,\u001B[49m\u001B[43m \u001B[49m\u001B[43mother\u001B[49m\u001B[43m)\u001B[49m\n",
      "File \u001B[0;32m~/Developer/SDKs/dataspell/lib/python3.10/site-packages/pandas/core/arraylike.py:126\u001B[0m, in \u001B[0;36mOpsMixin.__truediv__\u001B[0;34m(self, other)\u001B[0m\n\u001B[1;32m    124\u001B[0m \u001B[38;5;129m@unpack_zerodim_and_defer\u001B[39m(\u001B[38;5;124m\"\u001B[39m\u001B[38;5;124m__truediv__\u001B[39m\u001B[38;5;124m\"\u001B[39m)\n\u001B[1;32m    125\u001B[0m \u001B[38;5;28;01mdef\u001B[39;00m \u001B[38;5;21m__truediv__\u001B[39m(\u001B[38;5;28mself\u001B[39m, other):\n\u001B[0;32m--> 126\u001B[0m     \u001B[38;5;28;01mreturn\u001B[39;00m \u001B[38;5;28;43mself\u001B[39;49m\u001B[38;5;241;43m.\u001B[39;49m\u001B[43m_arith_method\u001B[49m\u001B[43m(\u001B[49m\u001B[43mother\u001B[49m\u001B[43m,\u001B[49m\u001B[43m \u001B[49m\u001B[43moperator\u001B[49m\u001B[38;5;241;43m.\u001B[39;49m\u001B[43mtruediv\u001B[49m\u001B[43m)\u001B[49m\n",
      "File \u001B[0;32m~/Developer/SDKs/dataspell/lib/python3.10/site-packages/pandas/core/frame.py:7591\u001B[0m, in \u001B[0;36mDataFrame._arith_method\u001B[0;34m(self, other, op)\u001B[0m\n\u001B[1;32m   7587\u001B[0m other \u001B[38;5;241m=\u001B[39m ops\u001B[38;5;241m.\u001B[39mmaybe_prepare_scalar_for_op(other, (\u001B[38;5;28mself\u001B[39m\u001B[38;5;241m.\u001B[39mshape[axis],))\n\u001B[1;32m   7589\u001B[0m \u001B[38;5;28mself\u001B[39m, other \u001B[38;5;241m=\u001B[39m ops\u001B[38;5;241m.\u001B[39malign_method_FRAME(\u001B[38;5;28mself\u001B[39m, other, axis, flex\u001B[38;5;241m=\u001B[39m\u001B[38;5;28;01mTrue\u001B[39;00m, level\u001B[38;5;241m=\u001B[39m\u001B[38;5;28;01mNone\u001B[39;00m)\n\u001B[0;32m-> 7591\u001B[0m new_data \u001B[38;5;241m=\u001B[39m \u001B[38;5;28;43mself\u001B[39;49m\u001B[38;5;241;43m.\u001B[39;49m\u001B[43m_dispatch_frame_op\u001B[49m\u001B[43m(\u001B[49m\u001B[43mother\u001B[49m\u001B[43m,\u001B[49m\u001B[43m \u001B[49m\u001B[43mop\u001B[49m\u001B[43m,\u001B[49m\u001B[43m \u001B[49m\u001B[43maxis\u001B[49m\u001B[38;5;241;43m=\u001B[39;49m\u001B[43maxis\u001B[49m\u001B[43m)\u001B[49m\n\u001B[1;32m   7592\u001B[0m \u001B[38;5;28;01mreturn\u001B[39;00m \u001B[38;5;28mself\u001B[39m\u001B[38;5;241m.\u001B[39m_construct_result(new_data)\n",
      "File \u001B[0;32m~/Developer/SDKs/dataspell/lib/python3.10/site-packages/pandas/core/frame.py:7630\u001B[0m, in \u001B[0;36mDataFrame._dispatch_frame_op\u001B[0;34m(self, right, func, axis)\u001B[0m\n\u001B[1;32m   7624\u001B[0m     \u001B[38;5;66;03m# TODO: The previous assertion `assert right._indexed_same(self)`\u001B[39;00m\n\u001B[1;32m   7625\u001B[0m     \u001B[38;5;66;03m#  fails in cases with empty columns reached via\u001B[39;00m\n\u001B[1;32m   7626\u001B[0m     \u001B[38;5;66;03m#  _frame_arith_method_with_reindex\u001B[39;00m\n\u001B[1;32m   7627\u001B[0m \n\u001B[1;32m   7628\u001B[0m     \u001B[38;5;66;03m# TODO operate_blockwise expects a manager of the same type\u001B[39;00m\n\u001B[1;32m   7629\u001B[0m     \u001B[38;5;28;01mwith\u001B[39;00m np\u001B[38;5;241m.\u001B[39merrstate(\u001B[38;5;28mall\u001B[39m\u001B[38;5;241m=\u001B[39m\u001B[38;5;124m\"\u001B[39m\u001B[38;5;124mignore\u001B[39m\u001B[38;5;124m\"\u001B[39m):\n\u001B[0;32m-> 7630\u001B[0m         bm \u001B[38;5;241m=\u001B[39m \u001B[38;5;28;43mself\u001B[39;49m\u001B[38;5;241;43m.\u001B[39;49m\u001B[43m_mgr\u001B[49m\u001B[38;5;241;43m.\u001B[39;49m\u001B[43moperate_blockwise\u001B[49m\u001B[43m(\u001B[49m\n\u001B[1;32m   7631\u001B[0m \u001B[43m            \u001B[49m\u001B[38;5;66;43;03m# error: Argument 1 to \"operate_blockwise\" of \"ArrayManager\" has\u001B[39;49;00m\n\u001B[1;32m   7632\u001B[0m \u001B[43m            \u001B[49m\u001B[38;5;66;43;03m# incompatible type \"Union[ArrayManager, BlockManager]\"; expected\u001B[39;49;00m\n\u001B[1;32m   7633\u001B[0m \u001B[43m            \u001B[49m\u001B[38;5;66;43;03m# \"ArrayManager\"\u001B[39;49;00m\n\u001B[1;32m   7634\u001B[0m \u001B[43m            \u001B[49m\u001B[38;5;66;43;03m# error: Argument 1 to \"operate_blockwise\" of \"BlockManager\" has\u001B[39;49;00m\n\u001B[1;32m   7635\u001B[0m \u001B[43m            \u001B[49m\u001B[38;5;66;43;03m# incompatible type \"Union[ArrayManager, BlockManager]\"; expected\u001B[39;49;00m\n\u001B[1;32m   7636\u001B[0m \u001B[43m            \u001B[49m\u001B[38;5;66;43;03m# \"BlockManager\"\u001B[39;49;00m\n\u001B[1;32m   7637\u001B[0m \u001B[43m            \u001B[49m\u001B[43mright\u001B[49m\u001B[38;5;241;43m.\u001B[39;49m\u001B[43m_mgr\u001B[49m\u001B[43m,\u001B[49m\u001B[43m  \u001B[49m\u001B[38;5;66;43;03m# type: ignore[arg-type]\u001B[39;49;00m\n\u001B[1;32m   7638\u001B[0m \u001B[43m            \u001B[49m\u001B[43marray_op\u001B[49m\u001B[43m,\u001B[49m\n\u001B[1;32m   7639\u001B[0m \u001B[43m        \u001B[49m\u001B[43m)\u001B[49m\n\u001B[1;32m   7640\u001B[0m     \u001B[38;5;28;01mreturn\u001B[39;00m \u001B[38;5;28mself\u001B[39m\u001B[38;5;241m.\u001B[39m_constructor(bm)\n\u001B[1;32m   7642\u001B[0m \u001B[38;5;28;01melif\u001B[39;00m \u001B[38;5;28misinstance\u001B[39m(right, Series) \u001B[38;5;129;01mand\u001B[39;00m axis \u001B[38;5;241m==\u001B[39m \u001B[38;5;241m1\u001B[39m:\n\u001B[1;32m   7643\u001B[0m     \u001B[38;5;66;03m# axis=1 means we want to operate row-by-row\u001B[39;00m\n",
      "File \u001B[0;32m~/Developer/SDKs/dataspell/lib/python3.10/site-packages/pandas/core/internals/managers.py:1586\u001B[0m, in \u001B[0;36mBlockManager.operate_blockwise\u001B[0;34m(self, other, array_op)\u001B[0m\n\u001B[1;32m   1582\u001B[0m \u001B[38;5;28;01mdef\u001B[39;00m \u001B[38;5;21moperate_blockwise\u001B[39m(\u001B[38;5;28mself\u001B[39m, other: BlockManager, array_op) \u001B[38;5;241m-\u001B[39m\u001B[38;5;241m>\u001B[39m BlockManager:\n\u001B[1;32m   1583\u001B[0m     \u001B[38;5;124;03m\"\"\"\u001B[39;00m\n\u001B[1;32m   1584\u001B[0m \u001B[38;5;124;03m    Apply array_op blockwise with another (aligned) BlockManager.\u001B[39;00m\n\u001B[1;32m   1585\u001B[0m \u001B[38;5;124;03m    \"\"\"\u001B[39;00m\n\u001B[0;32m-> 1586\u001B[0m     \u001B[38;5;28;01mreturn\u001B[39;00m \u001B[43moperate_blockwise\u001B[49m\u001B[43m(\u001B[49m\u001B[38;5;28;43mself\u001B[39;49m\u001B[43m,\u001B[49m\u001B[43m \u001B[49m\u001B[43mother\u001B[49m\u001B[43m,\u001B[49m\u001B[43m \u001B[49m\u001B[43marray_op\u001B[49m\u001B[43m)\u001B[49m\n",
      "File \u001B[0;32m~/Developer/SDKs/dataspell/lib/python3.10/site-packages/pandas/core/internals/ops.py:63\u001B[0m, in \u001B[0;36moperate_blockwise\u001B[0;34m(left, right, array_op)\u001B[0m\n\u001B[1;32m     61\u001B[0m res_blks: \u001B[38;5;28mlist\u001B[39m[Block] \u001B[38;5;241m=\u001B[39m []\n\u001B[1;32m     62\u001B[0m \u001B[38;5;28;01mfor\u001B[39;00m lvals, rvals, locs, left_ea, right_ea, rblk \u001B[38;5;129;01min\u001B[39;00m _iter_block_pairs(left, right):\n\u001B[0;32m---> 63\u001B[0m     res_values \u001B[38;5;241m=\u001B[39m \u001B[43marray_op\u001B[49m\u001B[43m(\u001B[49m\u001B[43mlvals\u001B[49m\u001B[43m,\u001B[49m\u001B[43m \u001B[49m\u001B[43mrvals\u001B[49m\u001B[43m)\u001B[49m\n\u001B[1;32m     64\u001B[0m     \u001B[38;5;28;01mif\u001B[39;00m left_ea \u001B[38;5;129;01mand\u001B[39;00m \u001B[38;5;129;01mnot\u001B[39;00m right_ea \u001B[38;5;129;01mand\u001B[39;00m \u001B[38;5;28mhasattr\u001B[39m(res_values, \u001B[38;5;124m\"\u001B[39m\u001B[38;5;124mreshape\u001B[39m\u001B[38;5;124m\"\u001B[39m):\n\u001B[1;32m     65\u001B[0m         res_values \u001B[38;5;241m=\u001B[39m res_values\u001B[38;5;241m.\u001B[39mreshape(\u001B[38;5;241m1\u001B[39m, \u001B[38;5;241m-\u001B[39m\u001B[38;5;241m1\u001B[39m)\n",
      "File \u001B[0;32m~/Developer/SDKs/dataspell/lib/python3.10/site-packages/pandas/core/ops/array_ops.py:226\u001B[0m, in \u001B[0;36marithmetic_op\u001B[0;34m(left, right, op)\u001B[0m\n\u001B[1;32m    222\u001B[0m     _bool_arith_check(op, left, right)\n\u001B[1;32m    224\u001B[0m     \u001B[38;5;66;03m# error: Argument 1 to \"_na_arithmetic_op\" has incompatible type\u001B[39;00m\n\u001B[1;32m    225\u001B[0m     \u001B[38;5;66;03m# \"Union[ExtensionArray, ndarray[Any, Any]]\"; expected \"ndarray[Any, Any]\"\u001B[39;00m\n\u001B[0;32m--> 226\u001B[0m     res_values \u001B[38;5;241m=\u001B[39m \u001B[43m_na_arithmetic_op\u001B[49m\u001B[43m(\u001B[49m\u001B[43mleft\u001B[49m\u001B[43m,\u001B[49m\u001B[43m \u001B[49m\u001B[43mright\u001B[49m\u001B[43m,\u001B[49m\u001B[43m \u001B[49m\u001B[43mop\u001B[49m\u001B[43m)\u001B[49m  \u001B[38;5;66;03m# type: ignore[arg-type]\u001B[39;00m\n\u001B[1;32m    228\u001B[0m \u001B[38;5;28;01mreturn\u001B[39;00m res_values\n",
      "File \u001B[0;32m~/Developer/SDKs/dataspell/lib/python3.10/site-packages/pandas/core/ops/array_ops.py:172\u001B[0m, in \u001B[0;36m_na_arithmetic_op\u001B[0;34m(left, right, op, is_cmp)\u001B[0m\n\u001B[1;32m    166\u001B[0m \u001B[38;5;28;01mexcept\u001B[39;00m \u001B[38;5;167;01mTypeError\u001B[39;00m:\n\u001B[1;32m    167\u001B[0m     \u001B[38;5;28;01mif\u001B[39;00m \u001B[38;5;129;01mnot\u001B[39;00m is_cmp \u001B[38;5;129;01mand\u001B[39;00m (is_object_dtype(left\u001B[38;5;241m.\u001B[39mdtype) \u001B[38;5;129;01mor\u001B[39;00m is_object_dtype(right)):\n\u001B[1;32m    168\u001B[0m         \u001B[38;5;66;03m# For object dtype, fallback to a masked operation (only operating\u001B[39;00m\n\u001B[1;32m    169\u001B[0m         \u001B[38;5;66;03m#  on the non-missing values)\u001B[39;00m\n\u001B[1;32m    170\u001B[0m         \u001B[38;5;66;03m# Don't do this for comparisons, as that will handle complex numbers\u001B[39;00m\n\u001B[1;32m    171\u001B[0m         \u001B[38;5;66;03m#  incorrectly, see GH#32047\u001B[39;00m\n\u001B[0;32m--> 172\u001B[0m         result \u001B[38;5;241m=\u001B[39m \u001B[43m_masked_arith_op\u001B[49m\u001B[43m(\u001B[49m\u001B[43mleft\u001B[49m\u001B[43m,\u001B[49m\u001B[43m \u001B[49m\u001B[43mright\u001B[49m\u001B[43m,\u001B[49m\u001B[43m \u001B[49m\u001B[43mop\u001B[49m\u001B[43m)\u001B[49m\n\u001B[1;32m    173\u001B[0m     \u001B[38;5;28;01melse\u001B[39;00m:\n\u001B[1;32m    174\u001B[0m         \u001B[38;5;28;01mraise\u001B[39;00m\n",
      "File \u001B[0;32m~/Developer/SDKs/dataspell/lib/python3.10/site-packages/pandas/core/ops/array_ops.py:110\u001B[0m, in \u001B[0;36m_masked_arith_op\u001B[0;34m(x, y, op)\u001B[0m\n\u001B[1;32m    108\u001B[0m     \u001B[38;5;66;03m# See GH#5284, GH#5035, GH#19448 for historical reference\u001B[39;00m\n\u001B[1;32m    109\u001B[0m     \u001B[38;5;28;01mif\u001B[39;00m mask\u001B[38;5;241m.\u001B[39many():\n\u001B[0;32m--> 110\u001B[0m         result[mask] \u001B[38;5;241m=\u001B[39m \u001B[43mop\u001B[49m\u001B[43m(\u001B[49m\u001B[43mxrav\u001B[49m\u001B[43m[\u001B[49m\u001B[43mmask\u001B[49m\u001B[43m]\u001B[49m\u001B[43m,\u001B[49m\u001B[43m \u001B[49m\u001B[43myrav\u001B[49m\u001B[43m[\u001B[49m\u001B[43mmask\u001B[49m\u001B[43m]\u001B[49m\u001B[43m)\u001B[49m\n\u001B[1;32m    112\u001B[0m \u001B[38;5;28;01melse\u001B[39;00m:\n\u001B[1;32m    113\u001B[0m     \u001B[38;5;28;01mif\u001B[39;00m \u001B[38;5;129;01mnot\u001B[39;00m is_scalar(y):\n",
      "\u001B[0;31mTypeError\u001B[0m: unsupported operand type(s) for /: 'str' and 'str'"
     ]
    }
   ],
   "source": [
    "ror = df_sp500.pct_change()"
   ],
   "metadata": {
    "collapsed": false
   }
  },
  {
   "cell_type": "code",
   "execution_count": null,
   "outputs": [],
   "source": [],
   "metadata": {
    "collapsed": false
   }
  }
 ],
 "metadata": {
  "kernelspec": {
   "display_name": "Python 3",
   "language": "python",
   "name": "python3"
  },
  "language_info": {
   "codemirror_mode": {
    "name": "ipython",
    "version": 2
   },
   "file_extension": ".py",
   "mimetype": "text/x-python",
   "name": "python",
   "nbconvert_exporter": "python",
   "pygments_lexer": "ipython2",
   "version": "2.7.6"
  }
 },
 "nbformat": 4,
 "nbformat_minor": 0
}
