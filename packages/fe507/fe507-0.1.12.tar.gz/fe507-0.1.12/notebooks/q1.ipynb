{
 "cells": [
  {
   "cell_type": "code",
   "execution_count": 1,
   "outputs": [],
   "source": [
    "from pathlib import Path"
   ],
   "metadata": {
    "collapsed": false
   }
  },
  {
   "cell_type": "code",
   "execution_count": 2,
   "metadata": {
    "collapsed": true
   },
   "outputs": [],
   "source": [
    "from fe507 import settings"
   ]
  },
  {
   "cell_type": "code",
   "execution_count": 7,
   "outputs": [],
   "source": [
    "settings.data_dir = './../data/'"
   ],
   "metadata": {
    "collapsed": false
   }
  },
  {
   "cell_type": "code",
   "execution_count": 10,
   "outputs": [],
   "source": [
    "from fe507 import Data, DataSource\n",
    "\n",
    "sp500 = Data(DataSource.SP500)"
   ],
   "metadata": {
    "collapsed": false
   }
  },
  {
   "cell_type": "code",
   "execution_count": 11,
   "outputs": [
    {
     "data": {
      "text/plain": "             Date   Index  Market cap (m$)       date quarter\n0      31.03.1964    79.0         357907.0 1964-03-31  1964Q1\n1       1.04.1964    79.0         357907.0 1964-04-01  1964Q2\n2       2.04.1964    80.0         357907.0 1964-04-02  1964Q2\n3       3.04.1964    80.0         357907.0 1964-04-03  1964Q2\n4       6.04.1964    80.0         357907.0 1964-04-06  1964Q2\n...           ...     ...              ...        ...     ...\n15314  12.12.2022  3991.0       33536670.0 2022-12-12  2022Q4\n15315  13.12.2022  4020.0       33781200.0 2022-12-13  2022Q4\n15316  14.12.2022  3995.0       33576690.0 2022-12-14  2022Q4\n15317  15.12.2022  3896.0       32739940.0 2022-12-15  2022Q4\n15318  16.12.2022  3852.0       32375300.0 2022-12-16  2022Q4\n\n[15319 rows x 5 columns]",
      "text/html": "<div>\n<style scoped>\n    .dataframe tbody tr th:only-of-type {\n        vertical-align: middle;\n    }\n\n    .dataframe tbody tr th {\n        vertical-align: top;\n    }\n\n    .dataframe thead th {\n        text-align: right;\n    }\n</style>\n<table border=\"1\" class=\"dataframe\">\n  <thead>\n    <tr style=\"text-align: right;\">\n      <th></th>\n      <th>Date</th>\n      <th>Index</th>\n      <th>Market cap (m$)</th>\n      <th>date</th>\n      <th>quarter</th>\n    </tr>\n  </thead>\n  <tbody>\n    <tr>\n      <th>0</th>\n      <td>31.03.1964</td>\n      <td>79.0</td>\n      <td>357907.0</td>\n      <td>1964-03-31</td>\n      <td>1964Q1</td>\n    </tr>\n    <tr>\n      <th>1</th>\n      <td>1.04.1964</td>\n      <td>79.0</td>\n      <td>357907.0</td>\n      <td>1964-04-01</td>\n      <td>1964Q2</td>\n    </tr>\n    <tr>\n      <th>2</th>\n      <td>2.04.1964</td>\n      <td>80.0</td>\n      <td>357907.0</td>\n      <td>1964-04-02</td>\n      <td>1964Q2</td>\n    </tr>\n    <tr>\n      <th>3</th>\n      <td>3.04.1964</td>\n      <td>80.0</td>\n      <td>357907.0</td>\n      <td>1964-04-03</td>\n      <td>1964Q2</td>\n    </tr>\n    <tr>\n      <th>4</th>\n      <td>6.04.1964</td>\n      <td>80.0</td>\n      <td>357907.0</td>\n      <td>1964-04-06</td>\n      <td>1964Q2</td>\n    </tr>\n    <tr>\n      <th>...</th>\n      <td>...</td>\n      <td>...</td>\n      <td>...</td>\n      <td>...</td>\n      <td>...</td>\n    </tr>\n    <tr>\n      <th>15314</th>\n      <td>12.12.2022</td>\n      <td>3991.0</td>\n      <td>33536670.0</td>\n      <td>2022-12-12</td>\n      <td>2022Q4</td>\n    </tr>\n    <tr>\n      <th>15315</th>\n      <td>13.12.2022</td>\n      <td>4020.0</td>\n      <td>33781200.0</td>\n      <td>2022-12-13</td>\n      <td>2022Q4</td>\n    </tr>\n    <tr>\n      <th>15316</th>\n      <td>14.12.2022</td>\n      <td>3995.0</td>\n      <td>33576690.0</td>\n      <td>2022-12-14</td>\n      <td>2022Q4</td>\n    </tr>\n    <tr>\n      <th>15317</th>\n      <td>15.12.2022</td>\n      <td>3896.0</td>\n      <td>32739940.0</td>\n      <td>2022-12-15</td>\n      <td>2022Q4</td>\n    </tr>\n    <tr>\n      <th>15318</th>\n      <td>16.12.2022</td>\n      <td>3852.0</td>\n      <td>32375300.0</td>\n      <td>2022-12-16</td>\n      <td>2022Q4</td>\n    </tr>\n  </tbody>\n</table>\n<p>15319 rows × 5 columns</p>\n</div>"
     },
     "execution_count": 11,
     "metadata": {},
     "output_type": "execute_result"
    }
   ],
   "source": [
    "sp500.data"
   ],
   "metadata": {
    "collapsed": false
   }
  },
  {
   "cell_type": "code",
   "execution_count": 12,
   "outputs": [
    {
     "data": {
      "text/plain": "               Index  Market cap (m$)\ndate                                 \n1964-03-31       NaN              NaN\n1964-04-01  0.000000         0.000000\n1964-04-02  0.012658         0.000000\n1964-04-03  0.000000         0.000000\n1964-04-06  0.000000         0.000000\n...              ...              ...\n2022-12-12  0.014489         0.014279\n2022-12-13  0.007266         0.007291\n2022-12-14 -0.006219        -0.006054\n2022-12-15 -0.024781        -0.024921\n2022-12-16 -0.011294        -0.011137\n\n[15319 rows x 2 columns]",
      "text/html": "<div>\n<style scoped>\n    .dataframe tbody tr th:only-of-type {\n        vertical-align: middle;\n    }\n\n    .dataframe tbody tr th {\n        vertical-align: top;\n    }\n\n    .dataframe thead th {\n        text-align: right;\n    }\n</style>\n<table border=\"1\" class=\"dataframe\">\n  <thead>\n    <tr style=\"text-align: right;\">\n      <th></th>\n      <th>Index</th>\n      <th>Market cap (m$)</th>\n    </tr>\n    <tr>\n      <th>date</th>\n      <th></th>\n      <th></th>\n    </tr>\n  </thead>\n  <tbody>\n    <tr>\n      <th>1964-03-31</th>\n      <td>NaN</td>\n      <td>NaN</td>\n    </tr>\n    <tr>\n      <th>1964-04-01</th>\n      <td>0.000000</td>\n      <td>0.000000</td>\n    </tr>\n    <tr>\n      <th>1964-04-02</th>\n      <td>0.012658</td>\n      <td>0.000000</td>\n    </tr>\n    <tr>\n      <th>1964-04-03</th>\n      <td>0.000000</td>\n      <td>0.000000</td>\n    </tr>\n    <tr>\n      <th>1964-04-06</th>\n      <td>0.000000</td>\n      <td>0.000000</td>\n    </tr>\n    <tr>\n      <th>...</th>\n      <td>...</td>\n      <td>...</td>\n    </tr>\n    <tr>\n      <th>2022-12-12</th>\n      <td>0.014489</td>\n      <td>0.014279</td>\n    </tr>\n    <tr>\n      <th>2022-12-13</th>\n      <td>0.007266</td>\n      <td>0.007291</td>\n    </tr>\n    <tr>\n      <th>2022-12-14</th>\n      <td>-0.006219</td>\n      <td>-0.006054</td>\n    </tr>\n    <tr>\n      <th>2022-12-15</th>\n      <td>-0.024781</td>\n      <td>-0.024921</td>\n    </tr>\n    <tr>\n      <th>2022-12-16</th>\n      <td>-0.011294</td>\n      <td>-0.011137</td>\n    </tr>\n  </tbody>\n</table>\n<p>15319 rows × 2 columns</p>\n</div>"
     },
     "execution_count": 12,
     "metadata": {},
     "output_type": "execute_result"
    }
   ],
   "source": [
    "sp500.rate_of_return()"
   ],
   "metadata": {
    "collapsed": false
   }
  },
  {
   "cell_type": "code",
   "execution_count": 14,
   "outputs": [],
   "source": [
    "sp500.filtered_df"
   ],
   "metadata": {
    "collapsed": false
   }
  },
  {
   "cell_type": "code",
   "execution_count": 15,
   "outputs": [
    {
     "data": {
      "text/plain": "<fe507.fe507.Data at 0x17c213130>"
     },
     "execution_count": 15,
     "metadata": {},
     "output_type": "execute_result"
    }
   ],
   "source": [
    "sp500"
   ],
   "metadata": {
    "collapsed": false
   }
  },
  {
   "cell_type": "code",
   "execution_count": null,
   "outputs": [],
   "source": [],
   "metadata": {
    "collapsed": false
   }
  }
 ],
 "metadata": {
  "kernelspec": {
   "display_name": "Python 3",
   "language": "python",
   "name": "python3"
  },
  "language_info": {
   "codemirror_mode": {
    "name": "ipython",
    "version": 2
   },
   "file_extension": ".py",
   "mimetype": "text/x-python",
   "name": "python",
   "nbconvert_exporter": "python",
   "pygments_lexer": "ipython2",
   "version": "2.7.6"
  }
 },
 "nbformat": 4,
 "nbformat_minor": 0
}
