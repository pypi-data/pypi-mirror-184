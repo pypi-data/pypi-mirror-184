{
 "cells": [
  {
   "cell_type": "markdown",
   "metadata": {},
   "source": [
    "# Parse bioinformatics pipeline inputs, outputs, and metadata"
   ]
  },
  {
   "cell_type": "markdown",
   "metadata": {},
   "source": [
    "`lnbfx` provides utils to identify pipeline inputs, outputs, and metadata for further downstream processing."
   ]
  },
  {
   "cell_type": "code",
   "execution_count": null,
   "metadata": {},
   "outputs": [],
   "source": [
    "from nbproject import header\n",
    "\n",
    "header()"
   ]
  },
  {
   "cell_type": "markdown",
   "metadata": {},
   "source": [
    "## Parsing individual pipeline files"
   ]
  },
  {
   "cell_type": "markdown",
   "metadata": {},
   "source": [
    "Pipeline files can be parsed by filename or by parent directory.\n",
    "\n",
    "Let's look at both scenarios by passing a path to `parse_bfx_file_type` and setting the `from_dir` parameter."
   ]
  },
  {
   "cell_type": "code",
   "execution_count": null,
   "metadata": {},
   "outputs": [],
   "source": [
    "from lnbfx import parse_bfx_file_type\n",
    "from lnbfx.datasets import file_fastq\n",
    "\n",
    "sample_fastq = file_fastq()\n",
    "bfx_file_type = parse_bfx_file_type(sample_fastq, from_dir=False)\n",
    "bfx_file_type"
   ]
  },
  {
   "cell_type": "markdown",
   "metadata": {},
   "source": [
    "Now let's parse a file that exists inside of a pipeline output folder."
   ]
  },
  {
   "cell_type": "code",
   "execution_count": null,
   "metadata": {},
   "outputs": [],
   "source": [
    "from lnbfx.datasets import scrnaseq_cellranger\n",
    "\n",
    "sample_scrnaseq_dir = scrnaseq_cellranger()\n",
    "sample_file = sample_scrnaseq_dir / \"filtered_feature_bc_matrix\" / \"matrix.mtx.gz\"\n",
    "bfx_file_type = parse_bfx_file_type(sample_file, from_dir=True)\n",
    "bfx_file_type"
   ]
  },
  {
   "cell_type": "markdown",
   "metadata": {},
   "source": [
    "## Parsing pipeline dirs"
   ]
  },
  {
   "cell_type": "markdown",
   "metadata": {},
   "source": [
    "Pipeline directories can be parsed with the use of the `get_bfx_files_from_dir` helper function."
   ]
  },
  {
   "cell_type": "code",
   "execution_count": null,
   "metadata": {},
   "outputs": [],
   "source": [
    "from lnbfx import get_bfx_files_from_dir\n",
    "\n",
    "files = get_bfx_files_from_dir(sample_scrnaseq_dir)\n",
    "bfx_file_types = [parse_bfx_file_type(file, from_dir=True) for file in files]\n",
    "set(bfx_file_types)"
   ]
  }
 ],
 "metadata": {
  "kernelspec": {
   "language": "python"
  },
  "language_info": {
   "codemirror_mode": {
    "name": "ipython",
    "version": 3
   },
   "file_extension": ".py",
   "mimetype": "text/x-python",
   "name": "python",
   "nbconvert_exporter": "python",
   "pygments_lexer": "ipython3",
   "version": "3.10.4"
  },
  "nbproject": {
   "id": "r9oEX5p9nAQ2",
   "parent": null,
   "pypackage": null,
   "time_init": "2022-08-18T12:17:33.857564+00:00",
   "version": "draft"
  },
  "vscode": {
   "interpreter": {
    "hash": "f91bc473e765ef9f4a87aaf3469a766975f91452b5cf71265740aab3b1d3988b"
   }
  }
 },
 "nbformat": 4,
 "nbformat_minor": 2
}
