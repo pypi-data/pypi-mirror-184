{
 "cells": [
  {
   "cell_type": "markdown",
   "metadata": {},
   "source": [
    "# Create and manage bioinformatics pipelines"
   ]
  },
  {
   "cell_type": "markdown",
   "metadata": {},
   "source": [
    "`lnbfx` provides pipeline management functionality through the `BfxRun` class."
   ]
  },
  {
   "cell_type": "markdown",
   "metadata": {},
   "source": [
    "The corresponding `bfx_run` instance is an entity that:\n",
    "- Maps one-to-one to a pipeline run.\n",
    "- Maps many-to-one to a pipeline.\n",
    "\n",
    "In LaminDB, a pipeline is a versioned pipeline script or workflow.\n",
    "\n",
    "A pipeline run is a run of that script or workflow. Examples for `lnbfx`:\n",
    "- pipeline: [nf-core/rna-seq, version 3.8.1](https://github.com/nf-core/rnaseq)\n",
    "- pipeline run (here, bfx run): an execution of nf-core/rna-seq, version 3.8.1"
   ]
  },
  {
   "cell_type": "markdown",
   "metadata": {},
   "source": [
    "## Create and set up a pipeline"
   ]
  },
  {
   "cell_type": "markdown",
   "metadata": {},
   "source": [
    "Let's start by creating a pipeline run instance.\n",
    "\n",
    "We initialized the run by passing predefined pipeline parameters in `lookup.pipeline`."
   ]
  },
  {
   "cell_type": "code",
   "execution_count": null,
   "metadata": {},
   "outputs": [],
   "source": [
    "from lnbfx import BfxRun, lookup, datasets\n",
    "\n",
    "run = BfxRun(\n",
    "    pipeline=lookup.pipeline.cell_ranger_v7_0_0,\n",
    "    fastq_bcl_path=datasets.file_fastq(),\n",
    "    outdir=datasets.scrnaseq_cellranger(),\n",
    ")"
   ]
  }
 ],
 "metadata": {
  "kernelspec": {
   "language": "python"
  },
  "language_info": {
   "codemirror_mode": {
    "name": "ipython",
    "version": 3
   },
   "file_extension": ".py",
   "mimetype": "text/x-python",
   "name": "python",
   "nbconvert_exporter": "python",
   "pygments_lexer": "ipython3",
   "version": "3.9.12"
  },
  "vscode": {
   "interpreter": {
    "hash": "822ec0ac785b1db3d02e7d7754e0de6d47a7bde0a8423738b8340fdea5c0abd9"
   }
  }
 },
 "nbformat": 4,
 "nbformat_minor": 4
}
