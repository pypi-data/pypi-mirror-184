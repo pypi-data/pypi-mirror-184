{
  "nbformat": 4,
  "nbformat_minor": 0,
  "metadata": {
    "colab": {
      "provenance": []
    },
    "kernelspec": {
      "name": "python3",
      "display_name": "Python 3"
    },
    "language_info": {
      "name": "python"
    }
  },
  "cells": [
    {
      "cell_type": "code",
      "source": [
        "pip install -q -U text2text"
      ],
      "metadata": {
        "id": "iDnrMr7muLYN",
        "colab": {
          "base_uri": "https://localhost:8080/"
        },
        "outputId": "54a01fad-e76d-4bcc-8915-fbb85518292a"
      },
      "execution_count": 7,
      "outputs": [
        {
          "output_type": "stream",
          "name": "stdout",
          "text": [
            "\u001b[?25l     \u001b[90m━━━━━━━━━━━━━━━━━━━━━━━━━━━━━━━━━━━━━━━━\u001b[0m \u001b[32m0.0/71.2 KB\u001b[0m \u001b[31m?\u001b[0m eta \u001b[36m-:--:--\u001b[0m\r\u001b[2K     \u001b[90m━━━━━━━━━━━━━━━━━━━━━━━━━━━━━━━━━━━━━━━━\u001b[0m \u001b[32m71.2/71.2 KB\u001b[0m \u001b[31m3.2 MB/s\u001b[0m eta \u001b[36m0:00:00\u001b[0m\n",
            "\u001b[?25h"
          ]
        }
      ]
    },
    {
      "cell_type": "code",
      "source": [
        "import requests\n",
        "\n",
        "def get_data(lang_code=\"en\"):\n",
        "  url = f\"https://raw.githubusercontent.com/deepmind/xquad/master/xquad.{lang_code}.json\"\n",
        "  r = requests.get(url)\n",
        "  d = r.json()\n",
        "  corpus = {}\n",
        "  i = 0\n",
        "  for a in d[\"data\"]:\n",
        "    for p in a[\"paragraphs\"]:\n",
        "      c = p[\"context\"]\n",
        "      for qa in p[\"qas\"]:\n",
        "        q = qa[\"question\"]\n",
        "        corpus[i] = f\"{q} {c}\".lower()\n",
        "        i += 1\n",
        "  return corpus"
      ],
      "metadata": {
        "id": "MnyW5sdNFTgD"
      },
      "execution_count": 8,
      "outputs": []
    },
    {
      "cell_type": "code",
      "source": [
        "import text2text as t2t\n",
        "#lang_codes = [\"en\",\"es\",\"de\",\"el\",\"ru\",\"tr\",\"ar\",\"vi\",\"th\",\"zh\",\"hi\",\"ro\"]\n",
        "corpus = get_data(lang_code=\"en\")\n",
        "index = t2t.Handler(list(corpus.values())).index(ids=list(corpus.keys()))"
      ],
      "metadata": {
        "colab": {
          "base_uri": "https://localhost:8080/"
        },
        "id": "Duu5XqIIq3cm",
        "outputId": "3ba57337-6fe1-4cca-d836-79a432fd677b"
      },
      "execution_count": 9,
      "outputs": [
        {
          "output_type": "stream",
          "name": "stdout",
          "text": [
            "Creating index with 128104 dimensions.\n"
          ]
        }
      ]
    },
    {
      "cell_type": "code",
      "source": [
        "query = \"who did tesla partner with?\"\n",
        "dist, pred_ids = index.search([query.lower()], k=1)\n",
        "corpus[pred_ids[0][0]]"
      ],
      "metadata": {
        "colab": {
          "base_uri": "https://localhost:8080/",
          "height": 88
        },
        "id": "eRk3TpLj4cos",
        "outputId": "7ff9fcf8-a67c-4f90-c4e1-4c331c522801"
      },
      "execution_count": 10,
      "outputs": [
        {
          "output_type": "execute_result",
          "data": {
            "text/plain": [
              "\"who did tesla partner with in 1886? after leaving edison's company tesla partnered with two businessmen in 1886, robert lane and benjamin vail, who agreed to finance an electric lighting company in tesla's name, tesla electric light & manufacturing. the company installed electrical arc light based illumination systems designed by tesla and also had designs for dynamo electric machine commutators, the first patents issued to tesla in the us.\""
            ],
            "application/vnd.google.colaboratory.intrinsic+json": {
              "type": "string"
            }
          },
          "metadata": {},
          "execution_count": 10
        }
      ]
    },
    {
      "cell_type": "code",
      "source": [
        "t2t.Handler([\"[CONTEXT] who did tesla partner with?\"]).respond()"
      ],
      "metadata": {
        "id": "HjXp0eDbBz8C",
        "colab": {
          "base_uri": "https://localhost:8080/"
        },
        "outputId": "b33c60b0-257c-4533-c34e-fcd619645a47"
      },
      "execution_count": 11,
      "outputs": [
        {
          "output_type": "execute_result",
          "data": {
            "text/plain": [
              "[\"Google - it has partnered with them a few times - I've heard that they really love Google for their mobile apps as well\"]"
            ]
          },
          "metadata": {},
          "execution_count": 11
        }
      ]
    },
    {
      "cell_type": "code",
      "source": [
        "t2t.Handler([\"[CONTEXT] who did tesla partner with?\"]).respond(knowledge_base=(corpus,index))"
      ],
      "metadata": {
        "id": "duuTC7hDB1nG",
        "colab": {
          "base_uri": "https://localhost:8080/"
        },
        "outputId": "1031a306-c6a8-4dac-ac88-87f3fdd45e9a"
      },
      "execution_count": 12,
      "outputs": [
        {
          "output_type": "execute_result",
          "data": {
            "text/plain": [
              "['Robert Lane and Benjamin Vail.']"
            ]
          },
          "metadata": {},
          "execution_count": 12
        }
      ]
    }
  ]
}